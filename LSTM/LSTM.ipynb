{
 "cells": [
  {
   "cell_type": "code",
   "execution_count": 4,
   "metadata": {},
   "outputs": [
    {
     "name": "stderr",
     "output_type": "stream",
     "text": [
      "\u001b[32m[I 2023-03-13 15:20:47,269]\u001b[0m A new study created in memory with name: no-name-785313bf-3bb1-4922-9f80-088ca38cf948\u001b[0m\n",
      "WARNING:absl:`lr` is deprecated, please use `learning_rate` instead, or use the legacy optimizer, e.g.,tf.keras.optimizers.legacy.Adam.\n"
     ]
    },
    {
     "name": "stdout",
     "output_type": "stream",
     "text": [
      "14/14 [==============================] - 0s 13ms/step - loss: 2.2331e-05\n"
     ]
    },
    {
     "name": "stderr",
     "output_type": "stream",
     "text": [
      "\u001b[32m[I 2023-03-13 15:21:26,553]\u001b[0m Trial 0 finished with value: 2.2330874344334006e-05 and parameters: {'units': 128, 'learning_rate': 0.00017976200115191646, 'activation_function': 'tanh', 'regularization': True, 'regularization_value': 2.7519709216254224e-06}. Best is trial 0 with value: 2.2330874344334006e-05.\u001b[0m\n",
      "WARNING:absl:`lr` is deprecated, please use `learning_rate` instead, or use the legacy optimizer, e.g.,tf.keras.optimizers.legacy.Adam.\n"
     ]
    },
    {
     "name": "stdout",
     "output_type": "stream",
     "text": [
      "14/14 [==============================] - 0s 5ms/step - loss: 2.1106e-06\n"
     ]
    },
    {
     "name": "stderr",
     "output_type": "stream",
     "text": [
      "\u001b[32m[I 2023-03-13 15:21:46,440]\u001b[0m Trial 1 finished with value: 2.1105872747284593e-06 and parameters: {'units': 32, 'learning_rate': 0.0661050839636368, 'activation_function': 'tanh', 'regularization': False}. Best is trial 1 with value: 2.1105872747284593e-06.\u001b[0m\n",
      "WARNING:absl:`lr` is deprecated, please use `learning_rate` instead, or use the legacy optimizer, e.g.,tf.keras.optimizers.legacy.Adam.\n"
     ]
    },
    {
     "name": "stdout",
     "output_type": "stream",
     "text": [
      "14/14 [==============================] - 0s 7ms/step - loss: 6.0360e-05\n"
     ]
    },
    {
     "name": "stderr",
     "output_type": "stream",
     "text": [
      "\u001b[32m[I 2023-03-13 15:22:10,215]\u001b[0m Trial 2 finished with value: 6.0359900089679286e-05 and parameters: {'units': 64, 'learning_rate': 0.00010834736642156416, 'activation_function': 'tanh', 'regularization': True, 'regularization_value': 3.792436401447981e-05}. Best is trial 1 with value: 2.1105872747284593e-06.\u001b[0m\n",
      "WARNING:absl:`lr` is deprecated, please use `learning_rate` instead, or use the legacy optimizer, e.g.,tf.keras.optimizers.legacy.Adam.\n"
     ]
    },
    {
     "name": "stdout",
     "output_type": "stream",
     "text": [
      "14/14 [==============================] - 0s 7ms/step - loss: 3.8407e-05\n"
     ]
    },
    {
     "name": "stderr",
     "output_type": "stream",
     "text": [
      "\u001b[32m[I 2023-03-13 15:22:34,652]\u001b[0m Trial 3 finished with value: 3.840701901935972e-05 and parameters: {'units': 64, 'learning_rate': 0.0005315827639914021, 'activation_function': 'sigmoid', 'regularization': False}. Best is trial 1 with value: 2.1105872747284593e-06.\u001b[0m\n",
      "WARNING:absl:`lr` is deprecated, please use `learning_rate` instead, or use the legacy optimizer, e.g.,tf.keras.optimizers.legacy.Adam.\n"
     ]
    },
    {
     "name": "stdout",
     "output_type": "stream",
     "text": [
      "14/14 [==============================] - 0s 5ms/step - loss: 6.0181e-05\n"
     ]
    },
    {
     "name": "stderr",
     "output_type": "stream",
     "text": [
      "\u001b[32m[I 2023-03-13 15:22:52,794]\u001b[0m Trial 4 finished with value: 6.018135172780603e-05 and parameters: {'units': 32, 'learning_rate': 0.003151203786694862, 'activation_function': 'relu', 'regularization': False}. Best is trial 1 with value: 2.1105872747284593e-06.\u001b[0m\n",
      "WARNING:absl:`lr` is deprecated, please use `learning_rate` instead, or use the legacy optimizer, e.g.,tf.keras.optimizers.legacy.Adam.\n"
     ]
    },
    {
     "name": "stdout",
     "output_type": "stream",
     "text": [
      "14/14 [==============================] - 0s 10ms/step - loss: 6.5208e-07\n"
     ]
    },
    {
     "name": "stderr",
     "output_type": "stream",
     "text": [
      "\u001b[32m[I 2023-03-13 15:23:34,272]\u001b[0m Trial 5 finished with value: 6.520823490063776e-07 and parameters: {'units': 128, 'learning_rate': 0.0011852442575562424, 'activation_function': 'tanh', 'regularization': False}. Best is trial 5 with value: 6.520823490063776e-07.\u001b[0m\n",
      "WARNING:absl:`lr` is deprecated, please use `learning_rate` instead, or use the legacy optimizer, e.g.,tf.keras.optimizers.legacy.Adam.\n"
     ]
    },
    {
     "name": "stdout",
     "output_type": "stream",
     "text": [
      "14/14 [==============================] - 0s 6ms/step - loss: 4.6041e-05\n"
     ]
    },
    {
     "name": "stderr",
     "output_type": "stream",
     "text": [
      "\u001b[32m[I 2023-03-13 15:23:56,821]\u001b[0m Trial 6 finished with value: 4.6041037421673536e-05 and parameters: {'units': 64, 'learning_rate': 0.001550551664138744, 'activation_function': 'sigmoid', 'regularization': False}. Best is trial 5 with value: 6.520823490063776e-07.\u001b[0m\n",
      "WARNING:absl:`lr` is deprecated, please use `learning_rate` instead, or use the legacy optimizer, e.g.,tf.keras.optimizers.legacy.Adam.\n"
     ]
    },
    {
     "name": "stdout",
     "output_type": "stream",
     "text": [
      "14/14 [==============================] - 0s 4ms/step - loss: 3.7855e-05\n"
     ]
    },
    {
     "name": "stderr",
     "output_type": "stream",
     "text": [
      "\u001b[32m[I 2023-03-13 15:24:14,495]\u001b[0m Trial 7 finished with value: 3.7854657421121374e-05 and parameters: {'units': 32, 'learning_rate': 1.0218057165515261e-05, 'activation_function': 'relu', 'regularization': False}. Best is trial 5 with value: 6.520823490063776e-07.\u001b[0m\n",
      "WARNING:absl:`lr` is deprecated, please use `learning_rate` instead, or use the legacy optimizer, e.g.,tf.keras.optimizers.legacy.Adam.\n"
     ]
    },
    {
     "name": "stdout",
     "output_type": "stream",
     "text": [
      "14/14 [==============================] - 0s 5ms/step - loss: 1.1987e-05\n"
     ]
    },
    {
     "name": "stderr",
     "output_type": "stream",
     "text": [
      "\u001b[32m[I 2023-03-13 15:24:34,033]\u001b[0m Trial 8 finished with value: 1.1986607205471955e-05 and parameters: {'units': 32, 'learning_rate': 0.04963936619901295, 'activation_function': 'tanh', 'regularization': False}. Best is trial 5 with value: 6.520823490063776e-07.\u001b[0m\n",
      "WARNING:absl:`lr` is deprecated, please use `learning_rate` instead, or use the legacy optimizer, e.g.,tf.keras.optimizers.legacy.Adam.\n"
     ]
    },
    {
     "name": "stdout",
     "output_type": "stream",
     "text": [
      "14/14 [==============================] - 0s 4ms/step - loss: 2.7600e-05\n"
     ]
    },
    {
     "name": "stderr",
     "output_type": "stream",
     "text": [
      "\u001b[32m[I 2023-03-13 15:24:52,666]\u001b[0m Trial 9 finished with value: 2.760002280410845e-05 and parameters: {'units': 32, 'learning_rate': 0.04911325119708592, 'activation_function': 'relu', 'regularization': True, 'regularization_value': 1.3315498829081511e-05}. Best is trial 5 with value: 6.520823490063776e-07.\u001b[0m\n",
      "WARNING:absl:`lr` is deprecated, please use `learning_rate` instead, or use the legacy optimizer, e.g.,tf.keras.optimizers.legacy.Adam.\n"
     ]
    },
    {
     "name": "stdout",
     "output_type": "stream",
     "text": [
      "14/14 [==============================] - 0s 12ms/step - loss: 1.7405e-05\n"
     ]
    },
    {
     "name": "stderr",
     "output_type": "stream",
     "text": [
      "\u001b[32m[I 2023-03-13 15:25:31,919]\u001b[0m Trial 10 finished with value: 1.740454536047764e-05 and parameters: {'units': 128, 'learning_rate': 0.008307486151337657, 'activation_function': 'tanh', 'regularization': False}. Best is trial 5 with value: 6.520823490063776e-07.\u001b[0m\n",
      "WARNING:absl:`lr` is deprecated, please use `learning_rate` instead, or use the legacy optimizer, e.g.,tf.keras.optimizers.legacy.Adam.\n"
     ]
    },
    {
     "name": "stdout",
     "output_type": "stream",
     "text": [
      "14/14 [==============================] - 0s 10ms/step - loss: 7.3456e-05\n"
     ]
    },
    {
     "name": "stderr",
     "output_type": "stream",
     "text": [
      "\u001b[32m[I 2023-03-13 15:26:12,722]\u001b[0m Trial 11 finished with value: 7.345576887018979e-05 and parameters: {'units': 128, 'learning_rate': 0.09335769283893822, 'activation_function': 'tanh', 'regularization': False}. Best is trial 5 with value: 6.520823490063776e-07.\u001b[0m\n",
      "WARNING:absl:`lr` is deprecated, please use `learning_rate` instead, or use the legacy optimizer, e.g.,tf.keras.optimizers.legacy.Adam.\n"
     ]
    },
    {
     "name": "stdout",
     "output_type": "stream",
     "text": [
      "14/14 [==============================] - 0s 12ms/step - loss: 7.3892e-05\n"
     ]
    },
    {
     "name": "stderr",
     "output_type": "stream",
     "text": [
      "\u001b[32m[I 2023-03-13 15:26:54,673]\u001b[0m Trial 12 finished with value: 7.389210077235475e-05 and parameters: {'units': 128, 'learning_rate': 0.012079387527607073, 'activation_function': 'tanh', 'regularization': False}. Best is trial 5 with value: 6.520823490063776e-07.\u001b[0m\n",
      "WARNING:absl:`lr` is deprecated, please use `learning_rate` instead, or use the legacy optimizer, e.g.,tf.keras.optimizers.legacy.Adam.\n"
     ]
    },
    {
     "name": "stdout",
     "output_type": "stream",
     "text": [
      "14/14 [==============================] - 0s 17ms/step - loss: 4.6119e-05\n"
     ]
    },
    {
     "name": "stderr",
     "output_type": "stream",
     "text": [
      "\u001b[32m[I 2023-03-13 15:27:36,655]\u001b[0m Trial 13 finished with value: 4.6118970203679055e-05 and parameters: {'units': 128, 'learning_rate': 0.007281154510513668, 'activation_function': 'tanh', 'regularization': False}. Best is trial 5 with value: 6.520823490063776e-07.\u001b[0m\n",
      "WARNING:absl:`lr` is deprecated, please use `learning_rate` instead, or use the legacy optimizer, e.g.,tf.keras.optimizers.legacy.Adam.\n"
     ]
    },
    {
     "name": "stdout",
     "output_type": "stream",
     "text": [
      "14/14 [==============================] - 0s 5ms/step - loss: 2.3845e-06\n"
     ]
    },
    {
     "name": "stderr",
     "output_type": "stream",
     "text": [
      "\u001b[32m[I 2023-03-13 15:27:57,541]\u001b[0m Trial 14 finished with value: 2.3844913812354207e-06 and parameters: {'units': 32, 'learning_rate': 0.021924048818100266, 'activation_function': 'tanh', 'regularization': False}. Best is trial 5 with value: 6.520823490063776e-07.\u001b[0m\n",
      "WARNING:absl:`lr` is deprecated, please use `learning_rate` instead, or use the legacy optimizer, e.g.,tf.keras.optimizers.legacy.Adam.\n"
     ]
    },
    {
     "name": "stdout",
     "output_type": "stream",
     "text": [
      "14/14 [==============================] - 0s 6ms/step - loss: 0.0017\n"
     ]
    },
    {
     "name": "stderr",
     "output_type": "stream",
     "text": [
      "\u001b[32m[I 2023-03-13 15:28:15,896]\u001b[0m Trial 15 finished with value: 0.0016706406604498625 and parameters: {'units': 32, 'learning_rate': 0.0022550830976685943, 'activation_function': 'sigmoid', 'regularization': True, 'regularization_value': 0.0009239723409344466}. Best is trial 5 with value: 6.520823490063776e-07.\u001b[0m\n",
      "WARNING:absl:`lr` is deprecated, please use `learning_rate` instead, or use the legacy optimizer, e.g.,tf.keras.optimizers.legacy.Adam.\n"
     ]
    },
    {
     "name": "stdout",
     "output_type": "stream",
     "text": [
      "14/14 [==============================] - 0s 22ms/step - loss: 8.5203e-07\n"
     ]
    },
    {
     "name": "stderr",
     "output_type": "stream",
     "text": [
      "\u001b[32m[I 2023-03-13 15:28:57,632]\u001b[0m Trial 16 finished with value: 8.520346455043182e-07 and parameters: {'units': 128, 'learning_rate': 0.021051257739831908, 'activation_function': 'tanh', 'regularization': False}. Best is trial 5 with value: 6.520823490063776e-07.\u001b[0m\n",
      "WARNING:absl:`lr` is deprecated, please use `learning_rate` instead, or use the legacy optimizer, e.g.,tf.keras.optimizers.legacy.Adam.\n"
     ]
    },
    {
     "name": "stdout",
     "output_type": "stream",
     "text": [
      "14/14 [==============================] - 0s 15ms/step - loss: 9.6554e-07\n"
     ]
    },
    {
     "name": "stderr",
     "output_type": "stream",
     "text": [
      "\u001b[32m[I 2023-03-13 15:29:40,104]\u001b[0m Trial 17 finished with value: 9.655387884777156e-07 and parameters: {'units': 128, 'learning_rate': 0.0049790803283377896, 'activation_function': 'tanh', 'regularization': False}. Best is trial 5 with value: 6.520823490063776e-07.\u001b[0m\n",
      "WARNING:absl:`lr` is deprecated, please use `learning_rate` instead, or use the legacy optimizer, e.g.,tf.keras.optimizers.legacy.Adam.\n"
     ]
    },
    {
     "name": "stdout",
     "output_type": "stream",
     "text": [
      "14/14 [==============================] - 0s 14ms/step - loss: 1.3887e-05\n"
     ]
    },
    {
     "name": "stderr",
     "output_type": "stream",
     "text": [
      "\u001b[32m[I 2023-03-13 15:30:20,952]\u001b[0m Trial 18 finished with value: 1.3887281966162845e-05 and parameters: {'units': 128, 'learning_rate': 0.022014080823007525, 'activation_function': 'relu', 'regularization': True, 'regularization_value': 1.028527175492296e-06}. Best is trial 5 with value: 6.520823490063776e-07.\u001b[0m\n",
      "WARNING:absl:`lr` is deprecated, please use `learning_rate` instead, or use the legacy optimizer, e.g.,tf.keras.optimizers.legacy.Adam.\n"
     ]
    },
    {
     "name": "stdout",
     "output_type": "stream",
     "text": [
      "14/14 [==============================] - 0s 15ms/step - loss: 2.5159e-04\n"
     ]
    },
    {
     "name": "stderr",
     "output_type": "stream",
     "text": [
      "\u001b[32m[I 2023-03-13 15:31:00,594]\u001b[0m Trial 19 finished with value: 0.0002515905362088233 and parameters: {'units': 128, 'learning_rate': 0.0009815615330511325, 'activation_function': 'sigmoid', 'regularization': False}. Best is trial 5 with value: 6.520823490063776e-07.\u001b[0m\n",
      "WARNING:absl:`lr` is deprecated, please use `learning_rate` instead, or use the legacy optimizer, e.g.,tf.keras.optimizers.legacy.Adam.\n"
     ]
    },
    {
     "name": "stdout",
     "output_type": "stream",
     "text": [
      "14/14 [==============================] - 0s 11ms/step - loss: 1.4697e-05\n"
     ]
    },
    {
     "name": "stderr",
     "output_type": "stream",
     "text": [
      "\u001b[32m[I 2023-03-13 15:31:41,844]\u001b[0m Trial 20 finished with value: 1.4696873222419526e-05 and parameters: {'units': 128, 'learning_rate': 0.003610285514150674, 'activation_function': 'tanh', 'regularization': False}. Best is trial 5 with value: 6.520823490063776e-07.\u001b[0m\n",
      "WARNING:absl:`lr` is deprecated, please use `learning_rate` instead, or use the legacy optimizer, e.g.,tf.keras.optimizers.legacy.Adam.\n"
     ]
    },
    {
     "name": "stdout",
     "output_type": "stream",
     "text": [
      "14/14 [==============================] - 0s 13ms/step - loss: 1.3593e-04\n"
     ]
    },
    {
     "name": "stderr",
     "output_type": "stream",
     "text": [
      "\u001b[32m[I 2023-03-13 15:32:22,173]\u001b[0m Trial 21 finished with value: 0.00013593163748737425 and parameters: {'units': 128, 'learning_rate': 0.005403689785735908, 'activation_function': 'tanh', 'regularization': False}. Best is trial 5 with value: 6.520823490063776e-07.\u001b[0m\n",
      "WARNING:absl:`lr` is deprecated, please use `learning_rate` instead, or use the legacy optimizer, e.g.,tf.keras.optimizers.legacy.Adam.\n"
     ]
    },
    {
     "name": "stdout",
     "output_type": "stream",
     "text": [
      "14/14 [==============================] - 0s 15ms/step - loss: 1.0384e-05\n"
     ]
    },
    {
     "name": "stderr",
     "output_type": "stream",
     "text": [
      "\u001b[32m[I 2023-03-13 15:33:05,319]\u001b[0m Trial 22 finished with value: 1.038447499013273e-05 and parameters: {'units': 128, 'learning_rate': 0.01715055711634563, 'activation_function': 'tanh', 'regularization': False}. Best is trial 5 with value: 6.520823490063776e-07.\u001b[0m\n",
      "WARNING:absl:`lr` is deprecated, please use `learning_rate` instead, or use the legacy optimizer, e.g.,tf.keras.optimizers.legacy.Adam.\n"
     ]
    },
    {
     "name": "stdout",
     "output_type": "stream",
     "text": [
      "14/14 [==============================] - 0s 14ms/step - loss: 7.7899e-06\n"
     ]
    },
    {
     "name": "stderr",
     "output_type": "stream",
     "text": [
      "\u001b[32m[I 2023-03-13 15:33:47,315]\u001b[0m Trial 23 finished with value: 7.789875780872535e-06 and parameters: {'units': 128, 'learning_rate': 0.005641205649251785, 'activation_function': 'tanh', 'regularization': False}. Best is trial 5 with value: 6.520823490063776e-07.\u001b[0m\n",
      "WARNING:absl:`lr` is deprecated, please use `learning_rate` instead, or use the legacy optimizer, e.g.,tf.keras.optimizers.legacy.Adam.\n"
     ]
    },
    {
     "name": "stdout",
     "output_type": "stream",
     "text": [
      "14/14 [==============================] - 0s 13ms/step - loss: 2.6813e-05\n"
     ]
    },
    {
     "name": "stderr",
     "output_type": "stream",
     "text": [
      "\u001b[32m[I 2023-03-13 15:34:27,730]\u001b[0m Trial 24 finished with value: 2.6812944270204753e-05 and parameters: {'units': 128, 'learning_rate': 0.02947353563193012, 'activation_function': 'tanh', 'regularization': False}. Best is trial 5 with value: 6.520823490063776e-07.\u001b[0m\n",
      "WARNING:absl:`lr` is deprecated, please use `learning_rate` instead, or use the legacy optimizer, e.g.,tf.keras.optimizers.legacy.Adam.\n"
     ]
    },
    {
     "name": "stdout",
     "output_type": "stream",
     "text": [
      "14/14 [==============================] - 0s 14ms/step - loss: 1.3756e-05\n"
     ]
    },
    {
     "name": "stderr",
     "output_type": "stream",
     "text": [
      "\u001b[32m[I 2023-03-13 15:35:08,809]\u001b[0m Trial 25 finished with value: 1.3755885447608307e-05 and parameters: {'units': 128, 'learning_rate': 0.010862875404578148, 'activation_function': 'tanh', 'regularization': False}. Best is trial 5 with value: 6.520823490063776e-07.\u001b[0m\n",
      "WARNING:absl:`lr` is deprecated, please use `learning_rate` instead, or use the legacy optimizer, e.g.,tf.keras.optimizers.legacy.Adam.\n"
     ]
    },
    {
     "name": "stdout",
     "output_type": "stream",
     "text": [
      "14/14 [==============================] - 0s 6ms/step - loss: 6.9868e-07\n"
     ]
    },
    {
     "name": "stderr",
     "output_type": "stream",
     "text": [
      "\u001b[32m[I 2023-03-13 15:35:32,645]\u001b[0m Trial 26 finished with value: 6.98684630151547e-07 and parameters: {'units': 64, 'learning_rate': 0.0013595845573524197, 'activation_function': 'tanh', 'regularization': False}. Best is trial 5 with value: 6.520823490063776e-07.\u001b[0m\n",
      "WARNING:absl:`lr` is deprecated, please use `learning_rate` instead, or use the legacy optimizer, e.g.,tf.keras.optimizers.legacy.Adam.\n"
     ]
    },
    {
     "name": "stdout",
     "output_type": "stream",
     "text": [
      "14/14 [==============================] - 0s 7ms/step - loss: 3.4072e-04\n"
     ]
    },
    {
     "name": "stderr",
     "output_type": "stream",
     "text": [
      "\u001b[32m[I 2023-03-13 15:35:57,575]\u001b[0m Trial 27 finished with value: 0.0003407204640097916 and parameters: {'units': 64, 'learning_rate': 0.0009338155534925878, 'activation_function': 'tanh', 'regularization': True, 'regularization_value': 0.0007800128426768944}. Best is trial 5 with value: 6.520823490063776e-07.\u001b[0m\n",
      "WARNING:absl:`lr` is deprecated, please use `learning_rate` instead, or use the legacy optimizer, e.g.,tf.keras.optimizers.legacy.Adam.\n"
     ]
    },
    {
     "name": "stdout",
     "output_type": "stream",
     "text": [
      "14/14 [==============================] - 0s 7ms/step - loss: 3.5256e-04\n"
     ]
    },
    {
     "name": "stderr",
     "output_type": "stream",
     "text": [
      "\u001b[32m[I 2023-03-13 15:36:21,436]\u001b[0m Trial 28 finished with value: 0.00035255716647952795 and parameters: {'units': 64, 'learning_rate': 0.002418457509769043, 'activation_function': 'sigmoid', 'regularization': False}. Best is trial 5 with value: 6.520823490063776e-07.\u001b[0m\n",
      "WARNING:absl:`lr` is deprecated, please use `learning_rate` instead, or use the legacy optimizer, e.g.,tf.keras.optimizers.legacy.Adam.\n"
     ]
    },
    {
     "name": "stdout",
     "output_type": "stream",
     "text": [
      "14/14 [==============================] - 0s 9ms/step - loss: 1.0085e-04\n"
     ]
    },
    {
     "name": "stderr",
     "output_type": "stream",
     "text": [
      "\u001b[32m[I 2023-03-13 15:36:44,954]\u001b[0m Trial 29 finished with value: 0.00010085368558065966 and parameters: {'units': 64, 'learning_rate': 0.00048689150304010435, 'activation_function': 'relu', 'regularization': True, 'regularization_value': 9.006976035840129e-05}. Best is trial 5 with value: 6.520823490063776e-07.\u001b[0m\n",
      "WARNING:absl:`lr` is deprecated, please use `learning_rate` instead, or use the legacy optimizer, e.g.,tf.keras.optimizers.legacy.Adam.\n"
     ]
    },
    {
     "name": "stdout",
     "output_type": "stream",
     "text": [
      "14/14 [==============================] - 0s 6ms/step - loss: 9.2281e-07\n"
     ]
    },
    {
     "name": "stderr",
     "output_type": "stream",
     "text": [
      "\u001b[32m[I 2023-03-13 15:37:09,116]\u001b[0m Trial 30 finished with value: 9.228127737515024e-07 and parameters: {'units': 64, 'learning_rate': 0.00021490487658970434, 'activation_function': 'tanh', 'regularization': False}. Best is trial 5 with value: 6.520823490063776e-07.\u001b[0m\n",
      "WARNING:absl:`lr` is deprecated, please use `learning_rate` instead, or use the legacy optimizer, e.g.,tf.keras.optimizers.legacy.Adam.\n"
     ]
    },
    {
     "name": "stdout",
     "output_type": "stream",
     "text": [
      "14/14 [==============================] - 0s 7ms/step - loss: 2.7437e-06\n"
     ]
    },
    {
     "name": "stderr",
     "output_type": "stream",
     "text": [
      "\u001b[32m[I 2023-03-13 15:37:33,068]\u001b[0m Trial 31 finished with value: 2.743715867836727e-06 and parameters: {'units': 64, 'learning_rate': 0.00037345362570785336, 'activation_function': 'tanh', 'regularization': False}. Best is trial 5 with value: 6.520823490063776e-07.\u001b[0m\n",
      "WARNING:absl:`lr` is deprecated, please use `learning_rate` instead, or use the legacy optimizer, e.g.,tf.keras.optimizers.legacy.Adam.\n"
     ]
    },
    {
     "name": "stdout",
     "output_type": "stream",
     "text": [
      "14/14 [==============================] - 0s 7ms/step - loss: 1.1049e-04\n"
     ]
    },
    {
     "name": "stderr",
     "output_type": "stream",
     "text": [
      "\u001b[32m[I 2023-03-13 15:37:57,252]\u001b[0m Trial 32 finished with value: 0.00011049188469769433 and parameters: {'units': 64, 'learning_rate': 0.00013796248833023995, 'activation_function': 'tanh', 'regularization': False}. Best is trial 5 with value: 6.520823490063776e-07.\u001b[0m\n",
      "WARNING:absl:`lr` is deprecated, please use `learning_rate` instead, or use the legacy optimizer, e.g.,tf.keras.optimizers.legacy.Adam.\n"
     ]
    },
    {
     "name": "stdout",
     "output_type": "stream",
     "text": [
      "14/14 [==============================] - 0s 7ms/step - loss: 6.5297e-06\n"
     ]
    },
    {
     "name": "stderr",
     "output_type": "stream",
     "text": [
      "\u001b[32m[I 2023-03-13 15:38:22,462]\u001b[0m Trial 33 finished with value: 6.529734491778072e-06 and parameters: {'units': 64, 'learning_rate': 0.0002840340750138106, 'activation_function': 'tanh', 'regularization': False}. Best is trial 5 with value: 6.520823490063776e-07.\u001b[0m\n",
      "WARNING:absl:`lr` is deprecated, please use `learning_rate` instead, or use the legacy optimizer, e.g.,tf.keras.optimizers.legacy.Adam.\n"
     ]
    },
    {
     "name": "stdout",
     "output_type": "stream",
     "text": [
      "14/14 [==============================] - 0s 8ms/step - loss: 4.8610e-06\n"
     ]
    },
    {
     "name": "stderr",
     "output_type": "stream",
     "text": [
      "\u001b[32m[I 2023-03-13 15:38:46,972]\u001b[0m Trial 34 finished with value: 4.861045908910455e-06 and parameters: {'units': 64, 'learning_rate': 0.00021161745331585395, 'activation_function': 'tanh', 'regularization': False}. Best is trial 5 with value: 6.520823490063776e-07.\u001b[0m\n",
      "WARNING:absl:`lr` is deprecated, please use `learning_rate` instead, or use the legacy optimizer, e.g.,tf.keras.optimizers.legacy.Adam.\n"
     ]
    },
    {
     "name": "stdout",
     "output_type": "stream",
     "text": [
      "14/14 [==============================] - 0s 6ms/step - loss: 8.2305e-06\n"
     ]
    },
    {
     "name": "stderr",
     "output_type": "stream",
     "text": [
      "\u001b[32m[I 2023-03-13 15:39:12,403]\u001b[0m Trial 35 finished with value: 8.23051141196629e-06 and parameters: {'units': 64, 'learning_rate': 0.0006886118237722544, 'activation_function': 'tanh', 'regularization': False}. Best is trial 5 with value: 6.520823490063776e-07.\u001b[0m\n",
      "WARNING:absl:`lr` is deprecated, please use `learning_rate` instead, or use the legacy optimizer, e.g.,tf.keras.optimizers.legacy.Adam.\n"
     ]
    },
    {
     "name": "stdout",
     "output_type": "stream",
     "text": [
      "14/14 [==============================] - 0s 7ms/step - loss: 2.5827e-06\n"
     ]
    },
    {
     "name": "stderr",
     "output_type": "stream",
     "text": [
      "\u001b[32m[I 2023-03-13 15:39:36,566]\u001b[0m Trial 36 finished with value: 2.582729848654708e-06 and parameters: {'units': 64, 'learning_rate': 0.00215131853467444, 'activation_function': 'tanh', 'regularization': False}. Best is trial 5 with value: 6.520823490063776e-07.\u001b[0m\n",
      "WARNING:absl:`lr` is deprecated, please use `learning_rate` instead, or use the legacy optimizer, e.g.,tf.keras.optimizers.legacy.Adam.\n"
     ]
    },
    {
     "name": "stdout",
     "output_type": "stream",
     "text": [
      "14/14 [==============================] - 0s 7ms/step - loss: 9.6847e-04\n"
     ]
    },
    {
     "name": "stderr",
     "output_type": "stream",
     "text": [
      "\u001b[32m[I 2023-03-13 15:40:00,165]\u001b[0m Trial 37 finished with value: 0.0009684665710665286 and parameters: {'units': 64, 'learning_rate': 0.0013567822279199398, 'activation_function': 'sigmoid', 'regularization': True, 'regularization_value': 0.0001551698288192737}. Best is trial 5 with value: 6.520823490063776e-07.\u001b[0m\n",
      "WARNING:absl:`lr` is deprecated, please use `learning_rate` instead, or use the legacy optimizer, e.g.,tf.keras.optimizers.legacy.Adam.\n"
     ]
    },
    {
     "name": "stdout",
     "output_type": "stream",
     "text": [
      "14/14 [==============================] - 0s 6ms/step - loss: 8.1101e-07\n"
     ]
    },
    {
     "name": "stderr",
     "output_type": "stream",
     "text": [
      "\u001b[32m[I 2023-03-13 15:40:25,019]\u001b[0m Trial 38 finished with value: 8.110130238492275e-07 and parameters: {'units': 64, 'learning_rate': 7.138861637727446e-05, 'activation_function': 'tanh', 'regularization': False}. Best is trial 5 with value: 6.520823490063776e-07.\u001b[0m\n",
      "WARNING:absl:`lr` is deprecated, please use `learning_rate` instead, or use the legacy optimizer, e.g.,tf.keras.optimizers.legacy.Adam.\n"
     ]
    },
    {
     "name": "stdout",
     "output_type": "stream",
     "text": [
      "14/14 [==============================] - 0s 7ms/step - loss: 1.7350e-05\n"
     ]
    },
    {
     "name": "stderr",
     "output_type": "stream",
     "text": [
      "\u001b[32m[I 2023-03-13 15:40:48,530]\u001b[0m Trial 39 finished with value: 1.7349922927678563e-05 and parameters: {'units': 64, 'learning_rate': 7.912047503636547e-05, 'activation_function': 'relu', 'regularization': False}. Best is trial 5 with value: 6.520823490063776e-07.\u001b[0m\n",
      "WARNING:absl:`lr` is deprecated, please use `learning_rate` instead, or use the legacy optimizer, e.g.,tf.keras.optimizers.legacy.Adam.\n"
     ]
    },
    {
     "name": "stdout",
     "output_type": "stream",
     "text": [
      "14/14 [==============================] - 0s 12ms/step - loss: 9.6894e-07\n"
     ]
    },
    {
     "name": "stderr",
     "output_type": "stream",
     "text": [
      "\u001b[32m[I 2023-03-13 15:41:28,929]\u001b[0m Trial 40 finished with value: 9.689366606835392e-07 and parameters: {'units': 128, 'learning_rate': 0.0006424152444339578, 'activation_function': 'tanh', 'regularization': False}. Best is trial 5 with value: 6.520823490063776e-07.\u001b[0m\n",
      "WARNING:absl:`lr` is deprecated, please use `learning_rate` instead, or use the legacy optimizer, e.g.,tf.keras.optimizers.legacy.Adam.\n"
     ]
    },
    {
     "name": "stdout",
     "output_type": "stream",
     "text": [
      "14/14 [==============================] - 0s 7ms/step - loss: 1.0519e-05\n"
     ]
    },
    {
     "name": "stderr",
     "output_type": "stream",
     "text": [
      "\u001b[32m[I 2023-03-13 15:41:54,156]\u001b[0m Trial 41 finished with value: 1.0519080205995124e-05 and parameters: {'units': 64, 'learning_rate': 7.863666059510443e-05, 'activation_function': 'tanh', 'regularization': False}. Best is trial 5 with value: 6.520823490063776e-07.\u001b[0m\n",
      "WARNING:absl:`lr` is deprecated, please use `learning_rate` instead, or use the legacy optimizer, e.g.,tf.keras.optimizers.legacy.Adam.\n"
     ]
    },
    {
     "name": "stdout",
     "output_type": "stream",
     "text": [
      "14/14 [==============================] - 0s 6ms/step - loss: 7.7803e-07\n"
     ]
    },
    {
     "name": "stderr",
     "output_type": "stream",
     "text": [
      "\u001b[32m[I 2023-03-13 15:42:19,470]\u001b[0m Trial 42 finished with value: 7.780288342473796e-07 and parameters: {'units': 64, 'learning_rate': 4.5190515251049014e-05, 'activation_function': 'tanh', 'regularization': False}. Best is trial 5 with value: 6.520823490063776e-07.\u001b[0m\n",
      "WARNING:absl:`lr` is deprecated, please use `learning_rate` instead, or use the legacy optimizer, e.g.,tf.keras.optimizers.legacy.Adam.\n"
     ]
    },
    {
     "name": "stdout",
     "output_type": "stream",
     "text": [
      "14/14 [==============================] - 0s 7ms/step - loss: 6.8835e-06\n"
     ]
    },
    {
     "name": "stderr",
     "output_type": "stream",
     "text": [
      "\u001b[32m[I 2023-03-13 15:42:43,572]\u001b[0m Trial 43 finished with value: 6.883483365527354e-06 and parameters: {'units': 64, 'learning_rate': 3.130114643279515e-05, 'activation_function': 'tanh', 'regularization': False}. Best is trial 5 with value: 6.520823490063776e-07.\u001b[0m\n",
      "WARNING:absl:`lr` is deprecated, please use `learning_rate` instead, or use the legacy optimizer, e.g.,tf.keras.optimizers.legacy.Adam.\n"
     ]
    },
    {
     "name": "stdout",
     "output_type": "stream",
     "text": [
      "14/14 [==============================] - 0s 8ms/step - loss: 1.6120e-05\n"
     ]
    },
    {
     "name": "stderr",
     "output_type": "stream",
     "text": [
      "\u001b[32m[I 2023-03-13 15:43:08,037]\u001b[0m Trial 44 finished with value: 1.612046435184311e-05 and parameters: {'units': 64, 'learning_rate': 0.0013524665799283279, 'activation_function': 'tanh', 'regularization': False}. Best is trial 5 with value: 6.520823490063776e-07.\u001b[0m\n",
      "WARNING:absl:`lr` is deprecated, please use `learning_rate` instead, or use the legacy optimizer, e.g.,tf.keras.optimizers.legacy.Adam.\n"
     ]
    },
    {
     "name": "stdout",
     "output_type": "stream",
     "text": [
      "14/14 [==============================] - 0s 6ms/step - loss: 1.2719e-06\n"
     ]
    },
    {
     "name": "stderr",
     "output_type": "stream",
     "text": [
      "\u001b[32m[I 2023-03-13 15:43:27,922]\u001b[0m Trial 45 finished with value: 1.2718946891254745e-06 and parameters: {'units': 32, 'learning_rate': 3.601212338306089e-05, 'activation_function': 'tanh', 'regularization': False}. Best is trial 5 with value: 6.520823490063776e-07.\u001b[0m\n",
      "WARNING:absl:`lr` is deprecated, please use `learning_rate` instead, or use the legacy optimizer, e.g.,tf.keras.optimizers.legacy.Adam.\n"
     ]
    },
    {
     "name": "stdout",
     "output_type": "stream",
     "text": [
      "14/14 [==============================] - 0s 6ms/step - loss: 1.4418e-05\n"
     ]
    },
    {
     "name": "stderr",
     "output_type": "stream",
     "text": [
      "\u001b[32m[I 2023-03-13 15:43:53,605]\u001b[0m Trial 46 finished with value: 1.4418042155739386e-05 and parameters: {'units': 64, 'learning_rate': 0.00042833373172791186, 'activation_function': 'tanh', 'regularization': False}. Best is trial 5 with value: 6.520823490063776e-07.\u001b[0m\n",
      "WARNING:absl:`lr` is deprecated, please use `learning_rate` instead, or use the legacy optimizer, e.g.,tf.keras.optimizers.legacy.Adam.\n"
     ]
    },
    {
     "name": "stdout",
     "output_type": "stream",
     "text": [
      "14/14 [==============================] - 0s 6ms/step - loss: 3.5527e-06\n"
     ]
    },
    {
     "name": "stderr",
     "output_type": "stream",
     "text": [
      "\u001b[32m[I 2023-03-13 15:44:17,742]\u001b[0m Trial 47 finished with value: 3.552743010004633e-06 and parameters: {'units': 64, 'learning_rate': 0.0003093867693546902, 'activation_function': 'relu', 'regularization': False}. Best is trial 5 with value: 6.520823490063776e-07.\u001b[0m\n",
      "WARNING:absl:`lr` is deprecated, please use `learning_rate` instead, or use the legacy optimizer, e.g.,tf.keras.optimizers.legacy.Adam.\n"
     ]
    },
    {
     "name": "stdout",
     "output_type": "stream",
     "text": [
      "14/14 [==============================] - 0s 5ms/step - loss: 5.2442e-05\n"
     ]
    },
    {
     "name": "stderr",
     "output_type": "stream",
     "text": [
      "\u001b[32m[I 2023-03-13 15:44:38,229]\u001b[0m Trial 48 finished with value: 5.2441955631366e-05 and parameters: {'units': 32, 'learning_rate': 0.003701522580879015, 'activation_function': 'tanh', 'regularization': True, 'regularization_value': 6.671002053610379e-06}. Best is trial 5 with value: 6.520823490063776e-07.\u001b[0m\n",
      "WARNING:absl:`lr` is deprecated, please use `learning_rate` instead, or use the legacy optimizer, e.g.,tf.keras.optimizers.legacy.Adam.\n"
     ]
    },
    {
     "name": "stdout",
     "output_type": "stream",
     "text": [
      "14/14 [==============================] - 0s 13ms/step - loss: 0.0022\n"
     ]
    },
    {
     "name": "stderr",
     "output_type": "stream",
     "text": [
      "\u001b[32m[I 2023-03-13 15:45:18,442]\u001b[0m Trial 49 finished with value: 0.0021856233943253756 and parameters: {'units': 128, 'learning_rate': 0.0016832487948059782, 'activation_function': 'sigmoid', 'regularization': False}. Best is trial 5 with value: 6.520823490063776e-07.\u001b[0m\n",
      "WARNING:absl:`lr` is deprecated, please use `learning_rate` instead, or use the legacy optimizer, e.g.,tf.keras.optimizers.legacy.Adam.\n"
     ]
    },
    {
     "name": "stdout",
     "output_type": "stream",
     "text": [
      "14/14 [==============================] - 0s 14ms/step - loss: 1.0575e-05\n"
     ]
    },
    {
     "name": "stderr",
     "output_type": "stream",
     "text": [
      "\u001b[32m[I 2023-03-13 15:46:01,063]\u001b[0m Trial 50 finished with value: 1.057457848219201e-05 and parameters: {'units': 128, 'learning_rate': 0.00086576612079809, 'activation_function': 'tanh', 'regularization': False}. Best is trial 5 with value: 6.520823490063776e-07.\u001b[0m\n",
      "WARNING:absl:`lr` is deprecated, please use `learning_rate` instead, or use the legacy optimizer, e.g.,tf.keras.optimizers.legacy.Adam.\n"
     ]
    },
    {
     "name": "stdout",
     "output_type": "stream",
     "text": [
      "14/14 [==============================] - 0s 8ms/step - loss: 1.0061e-06\n"
     ]
    },
    {
     "name": "stderr",
     "output_type": "stream",
     "text": [
      "\u001b[32m[I 2023-03-13 15:46:26,294]\u001b[0m Trial 51 finished with value: 1.0061033890451654e-06 and parameters: {'units': 64, 'learning_rate': 0.00020315480159773235, 'activation_function': 'tanh', 'regularization': False}. Best is trial 5 with value: 6.520823490063776e-07.\u001b[0m\n",
      "WARNING:absl:`lr` is deprecated, please use `learning_rate` instead, or use the legacy optimizer, e.g.,tf.keras.optimizers.legacy.Adam.\n"
     ]
    },
    {
     "name": "stdout",
     "output_type": "stream",
     "text": [
      "14/14 [==============================] - 0s 6ms/step - loss: 2.0171e-06\n"
     ]
    },
    {
     "name": "stderr",
     "output_type": "stream",
     "text": [
      "\u001b[32m[I 2023-03-13 15:46:50,343]\u001b[0m Trial 52 finished with value: 2.0171175947325537e-06 and parameters: {'units': 64, 'learning_rate': 0.00011728206760049685, 'activation_function': 'tanh', 'regularization': False}. Best is trial 5 with value: 6.520823490063776e-07.\u001b[0m\n",
      "WARNING:absl:`lr` is deprecated, please use `learning_rate` instead, or use the legacy optimizer, e.g.,tf.keras.optimizers.legacy.Adam.\n"
     ]
    },
    {
     "name": "stdout",
     "output_type": "stream",
     "text": [
      "14/14 [==============================] - 0s 8ms/step - loss: 4.4290e-06\n"
     ]
    },
    {
     "name": "stderr",
     "output_type": "stream",
     "text": [
      "\u001b[32m[I 2023-03-13 15:47:14,476]\u001b[0m Trial 53 finished with value: 4.4290068217378575e-06 and parameters: {'units': 64, 'learning_rate': 0.00026286772006552225, 'activation_function': 'tanh', 'regularization': False}. Best is trial 5 with value: 6.520823490063776e-07.\u001b[0m\n",
      "WARNING:absl:`lr` is deprecated, please use `learning_rate` instead, or use the legacy optimizer, e.g.,tf.keras.optimizers.legacy.Adam.\n"
     ]
    },
    {
     "name": "stdout",
     "output_type": "stream",
     "text": [
      "14/14 [==============================] - 0s 7ms/step - loss: 5.4872e-06\n"
     ]
    },
    {
     "name": "stderr",
     "output_type": "stream",
     "text": [
      "\u001b[32m[I 2023-03-13 15:47:39,540]\u001b[0m Trial 54 finished with value: 5.4872079999768175e-06 and parameters: {'units': 64, 'learning_rate': 0.0005750860355227458, 'activation_function': 'tanh', 'regularization': False}. Best is trial 5 with value: 6.520823490063776e-07.\u001b[0m\n",
      "WARNING:absl:`lr` is deprecated, please use `learning_rate` instead, or use the legacy optimizer, e.g.,tf.keras.optimizers.legacy.Adam.\n"
     ]
    },
    {
     "name": "stdout",
     "output_type": "stream",
     "text": [
      "14/14 [==============================] - 0s 13ms/step - loss: 1.1107e-05\n"
     ]
    },
    {
     "name": "stderr",
     "output_type": "stream",
     "text": [
      "\u001b[32m[I 2023-03-13 15:48:20,053]\u001b[0m Trial 55 finished with value: 1.1106531019322574e-05 and parameters: {'units': 128, 'learning_rate': 0.07804266755752635, 'activation_function': 'tanh', 'regularization': False}. Best is trial 5 with value: 6.520823490063776e-07.\u001b[0m\n",
      "WARNING:absl:`lr` is deprecated, please use `learning_rate` instead, or use the legacy optimizer, e.g.,tf.keras.optimizers.legacy.Adam.\n"
     ]
    },
    {
     "name": "stdout",
     "output_type": "stream",
     "text": [
      "14/14 [==============================] - 0s 7ms/step - loss: 1.5494e-05\n"
     ]
    },
    {
     "name": "stderr",
     "output_type": "stream",
     "text": [
      "\u001b[32m[I 2023-03-13 15:48:44,260]\u001b[0m Trial 56 finished with value: 1.5493873434024863e-05 and parameters: {'units': 64, 'learning_rate': 0.05835797143307755, 'activation_function': 'tanh', 'regularization': False}. Best is trial 5 with value: 6.520823490063776e-07.\u001b[0m\n",
      "WARNING:absl:`lr` is deprecated, please use `learning_rate` instead, or use the legacy optimizer, e.g.,tf.keras.optimizers.legacy.Adam.\n"
     ]
    },
    {
     "name": "stdout",
     "output_type": "stream",
     "text": [
      "14/14 [==============================] - 0s 5ms/step - loss: 1.1351e-05\n"
     ]
    },
    {
     "name": "stderr",
     "output_type": "stream",
     "text": [
      "\u001b[32m[I 2023-03-13 15:49:02,904]\u001b[0m Trial 57 finished with value: 1.1351406101312023e-05 and parameters: {'units': 32, 'learning_rate': 0.009335901648419874, 'activation_function': 'relu', 'regularization': False}. Best is trial 5 with value: 6.520823490063776e-07.\u001b[0m\n",
      "WARNING:absl:`lr` is deprecated, please use `learning_rate` instead, or use the legacy optimizer, e.g.,tf.keras.optimizers.legacy.Adam.\n"
     ]
    },
    {
     "name": "stdout",
     "output_type": "stream",
     "text": [
      "14/14 [==============================] - 0s 15ms/step - loss: 6.6067e-05\n"
     ]
    },
    {
     "name": "stderr",
     "output_type": "stream",
     "text": [
      "\u001b[32m[I 2023-03-13 15:49:46,484]\u001b[0m Trial 58 finished with value: 6.60672812955454e-05 and parameters: {'units': 128, 'learning_rate': 0.00014995581762361615, 'activation_function': 'tanh', 'regularization': True, 'regularization_value': 1.3253167510034193e-05}. Best is trial 5 with value: 6.520823490063776e-07.\u001b[0m\n",
      "WARNING:absl:`lr` is deprecated, please use `learning_rate` instead, or use the legacy optimizer, e.g.,tf.keras.optimizers.legacy.Adam.\n"
     ]
    },
    {
     "name": "stdout",
     "output_type": "stream",
     "text": [
      "14/14 [==============================] - 0s 6ms/step - loss: 2.8916e-04\n"
     ]
    },
    {
     "name": "stderr",
     "output_type": "stream",
     "text": [
      "\u001b[32m[I 2023-03-13 15:50:09,274]\u001b[0m Trial 59 finished with value: 0.00028915819711983204 and parameters: {'units': 64, 'learning_rate': 0.015033020837332605, 'activation_function': 'sigmoid', 'regularization': False}. Best is trial 5 with value: 6.520823490063776e-07.\u001b[0m\n",
      "WARNING:absl:`lr` is deprecated, please use `learning_rate` instead, or use the legacy optimizer, e.g.,tf.keras.optimizers.legacy.Adam.\n"
     ]
    },
    {
     "name": "stdout",
     "output_type": "stream",
     "text": [
      "14/14 [==============================] - 0s 14ms/step - loss: 1.0435e-05\n"
     ]
    },
    {
     "name": "stderr",
     "output_type": "stream",
     "text": [
      "\u001b[32m[I 2023-03-13 15:50:50,686]\u001b[0m Trial 60 finished with value: 1.0435191143187694e-05 and parameters: {'units': 128, 'learning_rate': 0.0030660890676793653, 'activation_function': 'tanh', 'regularization': False}. Best is trial 5 with value: 6.520823490063776e-07.\u001b[0m\n",
      "WARNING:absl:`lr` is deprecated, please use `learning_rate` instead, or use the legacy optimizer, e.g.,tf.keras.optimizers.legacy.Adam.\n"
     ]
    },
    {
     "name": "stdout",
     "output_type": "stream",
     "text": [
      "14/14 [==============================] - 0s 12ms/step - loss: 7.5054e-05\n"
     ]
    },
    {
     "name": "stderr",
     "output_type": "stream",
     "text": [
      "\u001b[32m[I 2023-03-13 15:51:32,516]\u001b[0m Trial 61 finished with value: 7.505439862143248e-05 and parameters: {'units': 128, 'learning_rate': 0.006999919622776149, 'activation_function': 'tanh', 'regularization': False}. Best is trial 5 with value: 6.520823490063776e-07.\u001b[0m\n",
      "WARNING:absl:`lr` is deprecated, please use `learning_rate` instead, or use the legacy optimizer, e.g.,tf.keras.optimizers.legacy.Adam.\n"
     ]
    },
    {
     "name": "stdout",
     "output_type": "stream",
     "text": [
      "14/14 [==============================] - 0s 15ms/step - loss: 2.2412e-05\n"
     ]
    },
    {
     "name": "stderr",
     "output_type": "stream",
     "text": [
      "\u001b[32m[I 2023-03-13 15:52:14,470]\u001b[0m Trial 62 finished with value: 2.2412239559344016e-05 and parameters: {'units': 128, 'learning_rate': 0.03823344956831344, 'activation_function': 'tanh', 'regularization': False}. Best is trial 5 with value: 6.520823490063776e-07.\u001b[0m\n",
      "WARNING:absl:`lr` is deprecated, please use `learning_rate` instead, or use the legacy optimizer, e.g.,tf.keras.optimizers.legacy.Adam.\n"
     ]
    },
    {
     "name": "stdout",
     "output_type": "stream",
     "text": [
      "14/14 [==============================] - 0s 14ms/step - loss: 1.1802e-04\n"
     ]
    },
    {
     "name": "stderr",
     "output_type": "stream",
     "text": [
      "\u001b[32m[I 2023-03-13 15:52:57,008]\u001b[0m Trial 63 finished with value: 0.00011802183144027367 and parameters: {'units': 128, 'learning_rate': 0.004585913622960857, 'activation_function': 'tanh', 'regularization': False}. Best is trial 5 with value: 6.520823490063776e-07.\u001b[0m\n",
      "WARNING:absl:`lr` is deprecated, please use `learning_rate` instead, or use the legacy optimizer, e.g.,tf.keras.optimizers.legacy.Adam.\n"
     ]
    },
    {
     "name": "stdout",
     "output_type": "stream",
     "text": [
      "14/14 [==============================] - 0s 13ms/step - loss: 3.4186e-06\n"
     ]
    },
    {
     "name": "stderr",
     "output_type": "stream",
     "text": [
      "\u001b[32m[I 2023-03-13 15:53:38,762]\u001b[0m Trial 64 finished with value: 3.4185602544312133e-06 and parameters: {'units': 128, 'learning_rate': 0.0015939493705131344, 'activation_function': 'tanh', 'regularization': False}. Best is trial 5 with value: 6.520823490063776e-07.\u001b[0m\n",
      "WARNING:absl:`lr` is deprecated, please use `learning_rate` instead, or use the legacy optimizer, e.g.,tf.keras.optimizers.legacy.Adam.\n"
     ]
    },
    {
     "name": "stdout",
     "output_type": "stream",
     "text": [
      "14/14 [==============================] - 0s 13ms/step - loss: 1.6523e-06\n"
     ]
    },
    {
     "name": "stderr",
     "output_type": "stream",
     "text": [
      "\u001b[32m[I 2023-03-13 15:54:19,710]\u001b[0m Trial 65 finished with value: 1.6523067642992828e-06 and parameters: {'units': 128, 'learning_rate': 0.006676541518344503, 'activation_function': 'tanh', 'regularization': False}. Best is trial 5 with value: 6.520823490063776e-07.\u001b[0m\n",
      "WARNING:absl:`lr` is deprecated, please use `learning_rate` instead, or use the legacy optimizer, e.g.,tf.keras.optimizers.legacy.Adam.\n"
     ]
    },
    {
     "name": "stdout",
     "output_type": "stream",
     "text": [
      "14/14 [==============================] - 0s 6ms/step - loss: 4.5265e-05\n"
     ]
    },
    {
     "name": "stderr",
     "output_type": "stream",
     "text": [
      "\u001b[32m[I 2023-03-13 15:54:44,234]\u001b[0m Trial 66 finished with value: 4.526518387137912e-05 and parameters: {'units': 64, 'learning_rate': 0.0011249060176909687, 'activation_function': 'tanh', 'regularization': False}. Best is trial 5 with value: 6.520823490063776e-07.\u001b[0m\n",
      "WARNING:absl:`lr` is deprecated, please use `learning_rate` instead, or use the legacy optimizer, e.g.,tf.keras.optimizers.legacy.Adam.\n"
     ]
    },
    {
     "name": "stdout",
     "output_type": "stream",
     "text": [
      "14/14 [==============================] - 0s 13ms/step - loss: 3.0303e-05\n"
     ]
    },
    {
     "name": "stderr",
     "output_type": "stream",
     "text": [
      "\u001b[32m[I 2023-03-13 15:55:25,852]\u001b[0m Trial 67 finished with value: 3.0302970117190853e-05 and parameters: {'units': 128, 'learning_rate': 0.010443618692693295, 'activation_function': 'tanh', 'regularization': False}. Best is trial 5 with value: 6.520823490063776e-07.\u001b[0m\n",
      "WARNING:absl:`lr` is deprecated, please use `learning_rate` instead, or use the legacy optimizer, e.g.,tf.keras.optimizers.legacy.Adam.\n"
     ]
    },
    {
     "name": "stdout",
     "output_type": "stream",
     "text": [
      "14/14 [==============================] - 0s 7ms/step - loss: 1.1925e-05\n"
     ]
    },
    {
     "name": "stderr",
     "output_type": "stream",
     "text": [
      "\u001b[32m[I 2023-03-13 15:55:50,262]\u001b[0m Trial 68 finished with value: 1.1924879800062627e-05 and parameters: {'units': 64, 'learning_rate': 0.0007407088610665086, 'activation_function': 'tanh', 'regularization': True, 'regularization_value': 1.3866143435145389e-06}. Best is trial 5 with value: 6.520823490063776e-07.\u001b[0m\n",
      "WARNING:absl:`lr` is deprecated, please use `learning_rate` instead, or use the legacy optimizer, e.g.,tf.keras.optimizers.legacy.Adam.\n"
     ]
    },
    {
     "name": "stdout",
     "output_type": "stream",
     "text": [
      "14/14 [==============================] - 0s 6ms/step - loss: 1.6591e-05\n"
     ]
    },
    {
     "name": "stderr",
     "output_type": "stream",
     "text": [
      "\u001b[32m[I 2023-03-13 15:56:08,320]\u001b[0m Trial 69 finished with value: 1.6591309758950956e-05 and parameters: {'units': 32, 'learning_rate': 0.002083397366033972, 'activation_function': 'relu', 'regularization': False}. Best is trial 5 with value: 6.520823490063776e-07.\u001b[0m\n",
      "WARNING:absl:`lr` is deprecated, please use `learning_rate` instead, or use the legacy optimizer, e.g.,tf.keras.optimizers.legacy.Adam.\n"
     ]
    },
    {
     "name": "stdout",
     "output_type": "stream",
     "text": [
      "14/14 [==============================] - 0s 13ms/step - loss: 1.2793e-04\n"
     ]
    },
    {
     "name": "stderr",
     "output_type": "stream",
     "text": [
      "\u001b[32m[I 2023-03-13 15:56:49,396]\u001b[0m Trial 70 finished with value: 0.00012793365749530494 and parameters: {'units': 128, 'learning_rate': 0.0005242339306023069, 'activation_function': 'sigmoid', 'regularization': False}. Best is trial 5 with value: 6.520823490063776e-07.\u001b[0m\n",
      "WARNING:absl:`lr` is deprecated, please use `learning_rate` instead, or use the legacy optimizer, e.g.,tf.keras.optimizers.legacy.Adam.\n"
     ]
    },
    {
     "name": "stdout",
     "output_type": "stream",
     "text": [
      "14/14 [==============================] - 0s 13ms/step - loss: 4.7531e-05\n"
     ]
    },
    {
     "name": "stderr",
     "output_type": "stream",
     "text": [
      "\u001b[32m[I 2023-03-13 15:57:30,325]\u001b[0m Trial 71 finished with value: 4.753085522679612e-05 and parameters: {'units': 128, 'learning_rate': 0.0006847953752069426, 'activation_function': 'tanh', 'regularization': False}. Best is trial 5 with value: 6.520823490063776e-07.\u001b[0m\n",
      "WARNING:absl:`lr` is deprecated, please use `learning_rate` instead, or use the legacy optimizer, e.g.,tf.keras.optimizers.legacy.Adam.\n"
     ]
    },
    {
     "name": "stdout",
     "output_type": "stream",
     "text": [
      "14/14 [==============================] - 0s 15ms/step - loss: 1.1033e-05\n"
     ]
    },
    {
     "name": "stderr",
     "output_type": "stream",
     "text": [
      "\u001b[32m[I 2023-03-13 15:58:11,178]\u001b[0m Trial 72 finished with value: 1.1033197552023921e-05 and parameters: {'units': 128, 'learning_rate': 0.0010685367282963353, 'activation_function': 'tanh', 'regularization': False}. Best is trial 5 with value: 6.520823490063776e-07.\u001b[0m\n",
      "WARNING:absl:`lr` is deprecated, please use `learning_rate` instead, or use the legacy optimizer, e.g.,tf.keras.optimizers.legacy.Adam.\n"
     ]
    },
    {
     "name": "stdout",
     "output_type": "stream",
     "text": [
      "14/14 [==============================] - 0s 16ms/step - loss: 1.1390e-04\n"
     ]
    },
    {
     "name": "stderr",
     "output_type": "stream",
     "text": [
      "\u001b[32m[I 2023-03-13 15:58:52,567]\u001b[0m Trial 73 finished with value: 0.00011389952851459384 and parameters: {'units': 128, 'learning_rate': 0.00039736162663128044, 'activation_function': 'tanh', 'regularization': False}. Best is trial 5 with value: 6.520823490063776e-07.\u001b[0m\n",
      "WARNING:absl:`lr` is deprecated, please use `learning_rate` instead, or use the legacy optimizer, e.g.,tf.keras.optimizers.legacy.Adam.\n"
     ]
    },
    {
     "name": "stdout",
     "output_type": "stream",
     "text": [
      "14/14 [==============================] - 0s 13ms/step - loss: 5.1639e-05\n"
     ]
    },
    {
     "name": "stderr",
     "output_type": "stream",
     "text": [
      "\u001b[32m[I 2023-03-13 15:59:33,842]\u001b[0m Trial 74 finished with value: 5.163854802958667e-05 and parameters: {'units': 128, 'learning_rate': 0.002941056281901944, 'activation_function': 'tanh', 'regularization': False}. Best is trial 5 with value: 6.520823490063776e-07.\u001b[0m\n",
      "WARNING:absl:`lr` is deprecated, please use `learning_rate` instead, or use the legacy optimizer, e.g.,tf.keras.optimizers.legacy.Adam.\n"
     ]
    },
    {
     "name": "stdout",
     "output_type": "stream",
     "text": [
      "14/14 [==============================] - 0s 10ms/step - loss: 3.2953e-06\n"
     ]
    },
    {
     "name": "stderr",
     "output_type": "stream",
     "text": [
      "\u001b[32m[I 2023-03-13 15:59:59,616]\u001b[0m Trial 75 finished with value: 3.295334863651078e-06 and parameters: {'units': 64, 'learning_rate': 0.0018661709477715014, 'activation_function': 'tanh', 'regularization': False}. Best is trial 5 with value: 6.520823490063776e-07.\u001b[0m\n",
      "WARNING:absl:`lr` is deprecated, please use `learning_rate` instead, or use the legacy optimizer, e.g.,tf.keras.optimizers.legacy.Adam.\n"
     ]
    },
    {
     "name": "stdout",
     "output_type": "stream",
     "text": [
      "14/14 [==============================] - 0s 13ms/step - loss: 3.6412e-05\n"
     ]
    },
    {
     "name": "stderr",
     "output_type": "stream",
     "text": [
      "\u001b[32m[I 2023-03-13 16:00:41,720]\u001b[0m Trial 76 finished with value: 3.641230068751611e-05 and parameters: {'units': 128, 'learning_rate': 0.0012522623971018458, 'activation_function': 'tanh', 'regularization': False}. Best is trial 5 with value: 6.520823490063776e-07.\u001b[0m\n",
      "WARNING:absl:`lr` is deprecated, please use `learning_rate` instead, or use the legacy optimizer, e.g.,tf.keras.optimizers.legacy.Adam.\n"
     ]
    },
    {
     "name": "stdout",
     "output_type": "stream",
     "text": [
      "14/14 [==============================] - 0s 8ms/step - loss: 2.6605e-06\n"
     ]
    },
    {
     "name": "stderr",
     "output_type": "stream",
     "text": [
      "\u001b[32m[I 2023-03-13 16:01:05,920]\u001b[0m Trial 77 finished with value: 2.660492100403644e-06 and parameters: {'units': 64, 'learning_rate': 0.0008627507870037704, 'activation_function': 'tanh', 'regularization': False}. Best is trial 5 with value: 6.520823490063776e-07.\u001b[0m\n",
      "WARNING:absl:`lr` is deprecated, please use `learning_rate` instead, or use the legacy optimizer, e.g.,tf.keras.optimizers.legacy.Adam.\n"
     ]
    },
    {
     "name": "stdout",
     "output_type": "stream",
     "text": [
      "14/14 [==============================] - 0s 20ms/step - loss: 7.3478e-07\n"
     ]
    },
    {
     "name": "stderr",
     "output_type": "stream",
     "text": [
      "\u001b[32m[I 2023-03-13 16:01:46,866]\u001b[0m Trial 78 finished with value: 7.3478270223859e-07 and parameters: {'units': 128, 'learning_rate': 0.004864527054177142, 'activation_function': 'tanh', 'regularization': False}. Best is trial 5 with value: 6.520823490063776e-07.\u001b[0m\n",
      "WARNING:absl:`lr` is deprecated, please use `learning_rate` instead, or use the legacy optimizer, e.g.,tf.keras.optimizers.legacy.Adam.\n"
     ]
    },
    {
     "name": "stdout",
     "output_type": "stream",
     "text": [
      "14/14 [==============================] - 0s 7ms/step - loss: 2.0054e-04\n"
     ]
    },
    {
     "name": "stderr",
     "output_type": "stream",
     "text": [
      "\u001b[32m[I 2023-03-13 16:02:10,729]\u001b[0m Trial 79 finished with value: 0.00020053511252626777 and parameters: {'units': 64, 'learning_rate': 0.002534587158565727, 'activation_function': 'tanh', 'regularization': True, 'regularization_value': 0.0003039087581642057}. Best is trial 5 with value: 6.520823490063776e-07.\u001b[0m\n",
      "WARNING:absl:`lr` is deprecated, please use `learning_rate` instead, or use the legacy optimizer, e.g.,tf.keras.optimizers.legacy.Adam.\n"
     ]
    },
    {
     "name": "stdout",
     "output_type": "stream",
     "text": [
      "14/14 [==============================] - 0s 18ms/step - loss: 1.9019e-06\n"
     ]
    },
    {
     "name": "stderr",
     "output_type": "stream",
     "text": [
      "\u001b[32m[I 2023-03-13 16:02:52,222]\u001b[0m Trial 80 finished with value: 1.9019067849512794e-06 and parameters: {'units': 128, 'learning_rate': 0.0041983887746685645, 'activation_function': 'tanh', 'regularization': False}. Best is trial 5 with value: 6.520823490063776e-07.\u001b[0m\n",
      "WARNING:absl:`lr` is deprecated, please use `learning_rate` instead, or use the legacy optimizer, e.g.,tf.keras.optimizers.legacy.Adam.\n"
     ]
    },
    {
     "name": "stdout",
     "output_type": "stream",
     "text": [
      "14/14 [==============================] - 0s 14ms/step - loss: 6.1572e-06\n"
     ]
    },
    {
     "name": "stderr",
     "output_type": "stream",
     "text": [
      "\u001b[32m[I 2023-03-13 16:03:33,007]\u001b[0m Trial 81 finished with value: 6.157206826173933e-06 and parameters: {'units': 128, 'learning_rate': 0.005245924033324531, 'activation_function': 'tanh', 'regularization': False}. Best is trial 5 with value: 6.520823490063776e-07.\u001b[0m\n",
      "WARNING:absl:`lr` is deprecated, please use `learning_rate` instead, or use the legacy optimizer, e.g.,tf.keras.optimizers.legacy.Adam.\n"
     ]
    },
    {
     "name": "stdout",
     "output_type": "stream",
     "text": [
      "14/14 [==============================] - 0s 14ms/step - loss: 6.7293e-06\n"
     ]
    },
    {
     "name": "stderr",
     "output_type": "stream",
     "text": [
      "\u001b[32m[I 2023-03-13 16:04:13,460]\u001b[0m Trial 82 finished with value: 6.7292771745997015e-06 and parameters: {'units': 128, 'learning_rate': 0.0014490050237475753, 'activation_function': 'tanh', 'regularization': False}. Best is trial 5 with value: 6.520823490063776e-07.\u001b[0m\n",
      "WARNING:absl:`lr` is deprecated, please use `learning_rate` instead, or use the legacy optimizer, e.g.,tf.keras.optimizers.legacy.Adam.\n"
     ]
    },
    {
     "name": "stdout",
     "output_type": "stream",
     "text": [
      "14/14 [==============================] - 0s 14ms/step - loss: 2.5296e-06\n"
     ]
    },
    {
     "name": "stderr",
     "output_type": "stream",
     "text": [
      "\u001b[32m[I 2023-03-13 16:04:54,128]\u001b[0m Trial 83 finished with value: 2.529648327254108e-06 and parameters: {'units': 128, 'learning_rate': 0.013592625549743552, 'activation_function': 'tanh', 'regularization': False}. Best is trial 5 with value: 6.520823490063776e-07.\u001b[0m\n",
      "WARNING:absl:`lr` is deprecated, please use `learning_rate` instead, or use the legacy optimizer, e.g.,tf.keras.optimizers.legacy.Adam.\n"
     ]
    },
    {
     "name": "stdout",
     "output_type": "stream",
     "text": [
      "14/14 [==============================] - 0s 14ms/step - loss: 1.2789e-06\n"
     ]
    },
    {
     "name": "stderr",
     "output_type": "stream",
     "text": [
      "\u001b[32m[I 2023-03-13 16:05:34,650]\u001b[0m Trial 84 finished with value: 1.2789394077117322e-06 and parameters: {'units': 128, 'learning_rate': 0.00936576207044139, 'activation_function': 'tanh', 'regularization': False}. Best is trial 5 with value: 6.520823490063776e-07.\u001b[0m\n",
      "WARNING:absl:`lr` is deprecated, please use `learning_rate` instead, or use the legacy optimizer, e.g.,tf.keras.optimizers.legacy.Adam.\n"
     ]
    },
    {
     "name": "stdout",
     "output_type": "stream",
     "text": [
      "14/14 [==============================] - 0s 7ms/step - loss: 1.0323e-05\n"
     ]
    },
    {
     "name": "stderr",
     "output_type": "stream",
     "text": [
      "\u001b[32m[I 2023-03-13 16:06:00,120]\u001b[0m Trial 85 finished with value: 1.0323487913410645e-05 and parameters: {'units': 64, 'learning_rate': 0.0025440868484564155, 'activation_function': 'tanh', 'regularization': False}. Best is trial 5 with value: 6.520823490063776e-07.\u001b[0m\n",
      "WARNING:absl:`lr` is deprecated, please use `learning_rate` instead, or use the legacy optimizer, e.g.,tf.keras.optimizers.legacy.Adam.\n"
     ]
    },
    {
     "name": "stdout",
     "output_type": "stream",
     "text": [
      "14/14 [==============================] - 0s 15ms/step - loss: 2.6654e-05\n"
     ]
    },
    {
     "name": "stderr",
     "output_type": "stream",
     "text": [
      "\u001b[32m[I 2023-03-13 16:06:43,114]\u001b[0m Trial 86 finished with value: 2.6653893655748107e-05 and parameters: {'units': 128, 'learning_rate': 0.003338310340301516, 'activation_function': 'tanh', 'regularization': False}. Best is trial 5 with value: 6.520823490063776e-07.\u001b[0m\n",
      "WARNING:absl:`lr` is deprecated, please use `learning_rate` instead, or use the legacy optimizer, e.g.,tf.keras.optimizers.legacy.Adam.\n"
     ]
    },
    {
     "name": "stdout",
     "output_type": "stream",
     "text": [
      "14/14 [==============================] - 0s 7ms/step - loss: 1.2521e-04\n"
     ]
    },
    {
     "name": "stderr",
     "output_type": "stream",
     "text": [
      "\u001b[32m[I 2023-03-13 16:07:06,942]\u001b[0m Trial 87 finished with value: 0.00012520511518232524 and parameters: {'units': 64, 'learning_rate': 0.0017843769729758065, 'activation_function': 'relu', 'regularization': False}. Best is trial 5 with value: 6.520823490063776e-07.\u001b[0m\n",
      "WARNING:absl:`lr` is deprecated, please use `learning_rate` instead, or use the legacy optimizer, e.g.,tf.keras.optimizers.legacy.Adam.\n"
     ]
    },
    {
     "name": "stdout",
     "output_type": "stream",
     "text": [
      "14/14 [==============================] - 0s 5ms/step - loss: 1.1179e-04\n"
     ]
    },
    {
     "name": "stderr",
     "output_type": "stream",
     "text": [
      "\u001b[32m[I 2023-03-13 16:07:25,321]\u001b[0m Trial 88 finished with value: 0.00011179099237779155 and parameters: {'units': 32, 'learning_rate': 0.01852333275271896, 'activation_function': 'sigmoid', 'regularization': False}. Best is trial 5 with value: 6.520823490063776e-07.\u001b[0m\n",
      "WARNING:absl:`lr` is deprecated, please use `learning_rate` instead, or use the legacy optimizer, e.g.,tf.keras.optimizers.legacy.Adam.\n"
     ]
    },
    {
     "name": "stdout",
     "output_type": "stream",
     "text": [
      "14/14 [==============================] - 0s 6ms/step - loss: 1.8041e-05\n"
     ]
    },
    {
     "name": "stderr",
     "output_type": "stream",
     "text": [
      "\u001b[32m[I 2023-03-13 16:07:49,666]\u001b[0m Trial 89 finished with value: 1.8041218936559744e-05 and parameters: {'units': 64, 'learning_rate': 0.005974622708323168, 'activation_function': 'tanh', 'regularization': False}. Best is trial 5 with value: 6.520823490063776e-07.\u001b[0m\n",
      "WARNING:absl:`lr` is deprecated, please use `learning_rate` instead, or use the legacy optimizer, e.g.,tf.keras.optimizers.legacy.Adam.\n"
     ]
    },
    {
     "name": "stdout",
     "output_type": "stream",
     "text": [
      "14/14 [==============================] - 0s 13ms/step - loss: 6.7845e-05\n"
     ]
    },
    {
     "name": "stderr",
     "output_type": "stream",
     "text": [
      "\u001b[32m[I 2023-03-13 16:08:31,752]\u001b[0m Trial 90 finished with value: 6.784504512324929e-05 and parameters: {'units': 128, 'learning_rate': 0.025533274365216158, 'activation_function': 'tanh', 'regularization': False}. Best is trial 5 with value: 6.520823490063776e-07.\u001b[0m\n",
      "WARNING:absl:`lr` is deprecated, please use `learning_rate` instead, or use the legacy optimizer, e.g.,tf.keras.optimizers.legacy.Adam.\n"
     ]
    },
    {
     "name": "stdout",
     "output_type": "stream",
     "text": [
      "14/14 [==============================] - 0s 7ms/step - loss: 1.9105e-05\n"
     ]
    },
    {
     "name": "stderr",
     "output_type": "stream",
     "text": [
      "\u001b[32m[I 2023-03-13 16:08:56,150]\u001b[0m Trial 91 finished with value: 1.910460923681967e-05 and parameters: {'units': 64, 'learning_rate': 0.0002091034404476464, 'activation_function': 'tanh', 'regularization': False}. Best is trial 5 with value: 6.520823490063776e-07.\u001b[0m\n",
      "WARNING:absl:`lr` is deprecated, please use `learning_rate` instead, or use the legacy optimizer, e.g.,tf.keras.optimizers.legacy.Adam.\n"
     ]
    },
    {
     "name": "stdout",
     "output_type": "stream",
     "text": [
      "14/14 [==============================] - 0s 9ms/step - loss: 1.0874e-04\n"
     ]
    },
    {
     "name": "stderr",
     "output_type": "stream",
     "text": [
      "\u001b[32m[I 2023-03-13 16:09:20,437]\u001b[0m Trial 92 finished with value: 0.00010874311556108296 and parameters: {'units': 64, 'learning_rate': 0.00033863284653316107, 'activation_function': 'tanh', 'regularization': False}. Best is trial 5 with value: 6.520823490063776e-07.\u001b[0m\n",
      "WARNING:absl:`lr` is deprecated, please use `learning_rate` instead, or use the legacy optimizer, e.g.,tf.keras.optimizers.legacy.Adam.\n"
     ]
    },
    {
     "name": "stdout",
     "output_type": "stream",
     "text": [
      "14/14 [==============================] - 0s 10ms/step - loss: 8.2620e-06\n"
     ]
    },
    {
     "name": "stderr",
     "output_type": "stream",
     "text": [
      "\u001b[32m[I 2023-03-13 16:09:45,113]\u001b[0m Trial 93 finished with value: 8.26203449832974e-06 and parameters: {'units': 64, 'learning_rate': 0.0004594731745520612, 'activation_function': 'tanh', 'regularization': False}. Best is trial 5 with value: 6.520823490063776e-07.\u001b[0m\n",
      "WARNING:absl:`lr` is deprecated, please use `learning_rate` instead, or use the legacy optimizer, e.g.,tf.keras.optimizers.legacy.Adam.\n"
     ]
    },
    {
     "name": "stdout",
     "output_type": "stream",
     "text": [
      "14/14 [==============================] - 0s 7ms/step - loss: 7.5988e-07\n"
     ]
    },
    {
     "name": "stderr",
     "output_type": "stream",
     "text": [
      "\u001b[32m[I 2023-03-13 16:10:09,470]\u001b[0m Trial 94 finished with value: 7.598757179039239e-07 and parameters: {'units': 64, 'learning_rate': 0.00024788683140874573, 'activation_function': 'tanh', 'regularization': False}. Best is trial 5 with value: 6.520823490063776e-07.\u001b[0m\n",
      "WARNING:absl:`lr` is deprecated, please use `learning_rate` instead, or use the legacy optimizer, e.g.,tf.keras.optimizers.legacy.Adam.\n"
     ]
    },
    {
     "name": "stdout",
     "output_type": "stream",
     "text": [
      "14/14 [==============================] - 0s 7ms/step - loss: 6.3223e-05\n"
     ]
    },
    {
     "name": "stderr",
     "output_type": "stream",
     "text": [
      "\u001b[32m[I 2023-03-13 16:10:35,350]\u001b[0m Trial 95 finished with value: 6.322348053799942e-05 and parameters: {'units': 64, 'learning_rate': 0.0006478449276176228, 'activation_function': 'tanh', 'regularization': False}. Best is trial 5 with value: 6.520823490063776e-07.\u001b[0m\n",
      "WARNING:absl:`lr` is deprecated, please use `learning_rate` instead, or use the legacy optimizer, e.g.,tf.keras.optimizers.legacy.Adam.\n"
     ]
    },
    {
     "name": "stdout",
     "output_type": "stream",
     "text": [
      "14/14 [==============================] - 0s 7ms/step - loss: 8.4833e-05\n"
     ]
    },
    {
     "name": "stderr",
     "output_type": "stream",
     "text": [
      "\u001b[32m[I 2023-03-13 16:11:00,336]\u001b[0m Trial 96 finished with value: 8.48334893817082e-05 and parameters: {'units': 64, 'learning_rate': 0.0002653062395112642, 'activation_function': 'tanh', 'regularization': False}. Best is trial 5 with value: 6.520823490063776e-07.\u001b[0m\n",
      "WARNING:absl:`lr` is deprecated, please use `learning_rate` instead, or use the legacy optimizer, e.g.,tf.keras.optimizers.legacy.Adam.\n"
     ]
    },
    {
     "name": "stdout",
     "output_type": "stream",
     "text": [
      "14/14 [==============================] - 0s 15ms/step - loss: 1.9423e-04\n"
     ]
    },
    {
     "name": "stderr",
     "output_type": "stream",
     "text": [
      "\u001b[32m[I 2023-03-13 16:11:43,144]\u001b[0m Trial 97 finished with value: 0.00019422768673393875 and parameters: {'units': 128, 'learning_rate': 0.000534844203443413, 'activation_function': 'tanh', 'regularization': True, 'regularization_value': 6.207907348265303e-05}. Best is trial 5 with value: 6.520823490063776e-07.\u001b[0m\n",
      "WARNING:absl:`lr` is deprecated, please use `learning_rate` instead, or use the legacy optimizer, e.g.,tf.keras.optimizers.legacy.Adam.\n"
     ]
    },
    {
     "name": "stdout",
     "output_type": "stream",
     "text": [
      "14/14 [==============================] - 0s 7ms/step - loss: 4.7020e-05\n"
     ]
    },
    {
     "name": "stderr",
     "output_type": "stream",
     "text": [
      "\u001b[32m[I 2023-03-13 16:12:07,907]\u001b[0m Trial 98 finished with value: 4.701971192844212e-05 and parameters: {'units': 64, 'learning_rate': 0.00808141273842341, 'activation_function': 'tanh', 'regularization': False}. Best is trial 5 with value: 6.520823490063776e-07.\u001b[0m\n",
      "WARNING:absl:`lr` is deprecated, please use `learning_rate` instead, or use the legacy optimizer, e.g.,tf.keras.optimizers.legacy.Adam.\n"
     ]
    },
    {
     "name": "stdout",
     "output_type": "stream",
     "text": [
      "14/14 [==============================] - 0s 13ms/step - loss: 6.5044e-05\n"
     ]
    },
    {
     "name": "stderr",
     "output_type": "stream",
     "text": [
      "\u001b[32m[I 2023-03-13 16:12:48,297]\u001b[0m Trial 99 finished with value: 6.504441989818588e-05 and parameters: {'units': 128, 'learning_rate': 0.0008252590475550379, 'activation_function': 'tanh', 'regularization': False}. Best is trial 5 with value: 6.520823490063776e-07.\u001b[0m\n"
     ]
    },
    {
     "name": "stdout",
     "output_type": "stream",
     "text": [
      "Best trial - Loss: 6.520823490063776e-07, Params: {'units': 128, 'learning_rate': 0.0011852442575562424, 'activation_function': 'tanh', 'regularization': False}\n"
     ]
    }
   ],
   "source": [
    "import pandas as pd\n",
    "import numpy as np\n",
    "import tensorflow as tf\n",
    "from tensorflow import keras\n",
    "from sklearn.preprocessing import MinMaxScaler\n",
    "import optuna\n",
    "from optuna.visualization import plot_param_importances\n",
    "from optuna.visualization import plot_optimization_history\n",
    "import warnings\n",
    "warnings.filterwarnings('ignore')\n",
    "# Load the data from the CSV file\n",
    "btc = pd.read_csv('btc.csv')\n",
    "data = btc['Close'].values.reshape(-1, 1)\n",
    "# Normalize the data using MinMaxScaler\n",
    "scaler = MinMaxScaler()\n",
    "data = scaler.fit_transform(data)\n",
    "\n",
    "# Split the data into training and testing sets\n",
    "train_data = data[:800]\n",
    "test_data = data[800:]\n",
    "\n",
    "# Define the window size for the LSTM model\n",
    "window_size = 50\n",
    "\n",
    "# Define the function to create input and output sequences\n",
    "def create_sequences(data, window_size):\n",
    "    X = []\n",
    "    y = []\n",
    "    for i in range(window_size, len(data)):\n",
    "        X.append(data[i-window_size:i])\n",
    "        y.append(data[i])\n",
    "    X = np.array(X)\n",
    "    y = np.array(y)\n",
    "    return X, y\n",
    "\n",
    "# Create the input and output sequences for the training and testing data\n",
    "X_train, y_train = create_sequences(train_data, window_size)\n",
    "X_test, y_test = create_sequences(test_data, window_size)\n",
    "\n",
    "# Define the LSTM model architecture\n",
    "def create_lstm_model(trial):\n",
    "    units = trial.suggest_categorical('units', [32, 64, 128])\n",
    "    learning_rate = trial.suggest_loguniform('learning_rate', 1e-5, 1e-1)\n",
    "    activation_function = trial.suggest_categorical('activation_function', ['tanh', 'sigmoid', 'relu'])\n",
    "    regularization = None\n",
    "    if trial.suggest_categorical('regularization', [False, True]):\n",
    "        regularization = trial.suggest_loguniform('regularization_value', 1e-6, 1e-3)\n",
    "        regularization = keras.regularizers.l2(regularization)\n",
    "    model = keras.Sequential([\n",
    "        keras.layers.LSTM(units=units, input_shape=(window_size, 1), activation=activation_function, kernel_regularizer=regularization),\n",
    "        keras.layers.Dense(units=1)\n",
    "    ])\n",
    "    optimizer = keras.optimizers.Adam(lr=learning_rate)\n",
    "    model.compile(optimizer=optimizer, loss='mse')\n",
    "    return model\n",
    "\n",
    "# Define the objective function for Optuna\n",
    "def objective(trial):\n",
    "    model = create_lstm_model(trial)\n",
    "    model.fit(X_train, y_train, epochs=50, batch_size=32, validation_split=0.1, verbose=0)\n",
    "    loss = model.evaluate(X_test, y_test)\n",
    "    return loss\n",
    "\n",
    "# Define the Optuna study\n",
    "study = optuna.create_study(direction='minimize')\n",
    "\n",
    "# Start the optimization process\n",
    "study.optimize(objective, n_trials=100)\n",
    "\n",
    "# Print the best hyperparameters and validation loss\n",
    "best_trial = study.best_trial\n",
    "print(f'Best trial - Loss: {best_trial.value}, Params: {best_trial.params}')"
   ]
  },
  {
   "cell_type": "code",
   "execution_count": 5,
   "metadata": {},
   "outputs": [
    {
     "data": {
      "application/vnd.plotly.v1+json": {
       "config": {
        "plotlyServerURL": "https://plot.ly"
       },
       "data": [
        {
         "mode": "markers",
         "name": "Objective Value",
         "type": "scatter",
         "x": [
          0,
          1,
          2,
          3,
          4,
          5,
          6,
          7,
          8,
          9,
          10,
          11,
          12,
          13,
          14,
          15,
          16,
          17,
          18,
          19,
          20,
          21,
          22,
          23,
          24,
          25,
          26,
          27,
          28,
          29,
          30,
          31,
          32,
          33,
          34,
          35,
          36,
          37,
          38,
          39,
          40,
          41,
          42,
          43,
          44,
          45,
          46,
          47,
          48,
          49,
          50,
          51,
          52,
          53,
          54,
          55,
          56,
          57,
          58,
          59,
          60,
          61,
          62,
          63,
          64,
          65,
          66,
          67,
          68,
          69,
          70,
          71,
          72,
          73,
          74,
          75,
          76,
          77,
          78,
          79,
          80,
          81,
          82,
          83,
          84,
          85,
          86,
          87,
          88,
          89,
          90,
          91,
          92,
          93,
          94,
          95,
          96,
          97,
          98,
          99
         ],
         "y": [
          0.000022330874344334006,
          0.0000021105872747284593,
          0.000060359900089679286,
          0.00003840701901935972,
          0.00006018135172780603,
          6.520823490063776e-7,
          0.000046041037421673536,
          0.000037854657421121374,
          0.000011986607205471955,
          0.00002760002280410845,
          0.00001740454536047764,
          0.00007345576887018979,
          0.00007389210077235475,
          0.000046118970203679055,
          0.0000023844913812354207,
          0.0016706406604498625,
          8.520346455043182e-7,
          9.655387884777156e-7,
          0.000013887281966162845,
          0.0002515905362088233,
          0.000014696873222419526,
          0.00013593163748737425,
          0.00001038447499013273,
          0.000007789875780872535,
          0.000026812944270204753,
          0.000013755885447608307,
          6.98684630151547e-7,
          0.0003407204640097916,
          0.00035255716647952795,
          0.00010085368558065966,
          9.228127737515024e-7,
          0.000002743715867836727,
          0.00011049188469769433,
          0.000006529734491778072,
          0.000004861045908910455,
          0.00000823051141196629,
          0.000002582729848654708,
          0.0009684665710665286,
          8.110130238492275e-7,
          0.000017349922927678563,
          9.689366606835392e-7,
          0.000010519080205995124,
          7.780288342473796e-7,
          0.000006883483365527354,
          0.00001612046435184311,
          0.0000012718946891254745,
          0.000014418042155739386,
          0.000003552743010004633,
          0.000052441955631366,
          0.0021856233943253756,
          0.00001057457848219201,
          0.0000010061033890451654,
          0.0000020171175947325537,
          0.0000044290068217378575,
          0.0000054872079999768175,
          0.000011106531019322574,
          0.000015493873434024863,
          0.000011351406101312023,
          0.0000660672812955454,
          0.00028915819711983204,
          0.000010435191143187694,
          0.00007505439862143248,
          0.000022412239559344016,
          0.00011802183144027367,
          0.0000034185602544312133,
          0.0000016523067642992828,
          0.00004526518387137912,
          0.000030302970117190853,
          0.000011924879800062627,
          0.000016591309758950956,
          0.00012793365749530494,
          0.00004753085522679612,
          0.000011033197552023921,
          0.00011389952851459384,
          0.00005163854802958667,
          0.000003295334863651078,
          0.00003641230068751611,
          0.000002660492100403644,
          7.3478270223859e-7,
          0.00020053511252626777,
          0.0000019019067849512794,
          0.000006157206826173933,
          0.0000067292771745997015,
          0.000002529648327254108,
          0.0000012789394077117322,
          0.000010323487913410645,
          0.000026653893655748107,
          0.00012520511518232524,
          0.00011179099237779155,
          0.000018041218936559744,
          0.00006784504512324929,
          0.00001910460923681967,
          0.00010874311556108296,
          0.00000826203449832974,
          7.598757179039239e-7,
          0.00006322348053799942,
          0.0000848334893817082,
          0.00019422768673393875,
          0.00004701971192844212,
          0.00006504441989818588
         ]
        },
        {
         "name": "Best Value",
         "type": "scatter",
         "x": [
          0,
          1,
          2,
          3,
          4,
          5,
          6,
          7,
          8,
          9,
          10,
          11,
          12,
          13,
          14,
          15,
          16,
          17,
          18,
          19,
          20,
          21,
          22,
          23,
          24,
          25,
          26,
          27,
          28,
          29,
          30,
          31,
          32,
          33,
          34,
          35,
          36,
          37,
          38,
          39,
          40,
          41,
          42,
          43,
          44,
          45,
          46,
          47,
          48,
          49,
          50,
          51,
          52,
          53,
          54,
          55,
          56,
          57,
          58,
          59,
          60,
          61,
          62,
          63,
          64,
          65,
          66,
          67,
          68,
          69,
          70,
          71,
          72,
          73,
          74,
          75,
          76,
          77,
          78,
          79,
          80,
          81,
          82,
          83,
          84,
          85,
          86,
          87,
          88,
          89,
          90,
          91,
          92,
          93,
          94,
          95,
          96,
          97,
          98,
          99
         ],
         "y": [
          0.000022330874344334006,
          0.0000021105872747284593,
          0.0000021105872747284593,
          0.0000021105872747284593,
          0.0000021105872747284593,
          6.520823490063776e-7,
          6.520823490063776e-7,
          6.520823490063776e-7,
          6.520823490063776e-7,
          6.520823490063776e-7,
          6.520823490063776e-7,
          6.520823490063776e-7,
          6.520823490063776e-7,
          6.520823490063776e-7,
          6.520823490063776e-7,
          6.520823490063776e-7,
          6.520823490063776e-7,
          6.520823490063776e-7,
          6.520823490063776e-7,
          6.520823490063776e-7,
          6.520823490063776e-7,
          6.520823490063776e-7,
          6.520823490063776e-7,
          6.520823490063776e-7,
          6.520823490063776e-7,
          6.520823490063776e-7,
          6.520823490063776e-7,
          6.520823490063776e-7,
          6.520823490063776e-7,
          6.520823490063776e-7,
          6.520823490063776e-7,
          6.520823490063776e-7,
          6.520823490063776e-7,
          6.520823490063776e-7,
          6.520823490063776e-7,
          6.520823490063776e-7,
          6.520823490063776e-7,
          6.520823490063776e-7,
          6.520823490063776e-7,
          6.520823490063776e-7,
          6.520823490063776e-7,
          6.520823490063776e-7,
          6.520823490063776e-7,
          6.520823490063776e-7,
          6.520823490063776e-7,
          6.520823490063776e-7,
          6.520823490063776e-7,
          6.520823490063776e-7,
          6.520823490063776e-7,
          6.520823490063776e-7,
          6.520823490063776e-7,
          6.520823490063776e-7,
          6.520823490063776e-7,
          6.520823490063776e-7,
          6.520823490063776e-7,
          6.520823490063776e-7,
          6.520823490063776e-7,
          6.520823490063776e-7,
          6.520823490063776e-7,
          6.520823490063776e-7,
          6.520823490063776e-7,
          6.520823490063776e-7,
          6.520823490063776e-7,
          6.520823490063776e-7,
          6.520823490063776e-7,
          6.520823490063776e-7,
          6.520823490063776e-7,
          6.520823490063776e-7,
          6.520823490063776e-7,
          6.520823490063776e-7,
          6.520823490063776e-7,
          6.520823490063776e-7,
          6.520823490063776e-7,
          6.520823490063776e-7,
          6.520823490063776e-7,
          6.520823490063776e-7,
          6.520823490063776e-7,
          6.520823490063776e-7,
          6.520823490063776e-7,
          6.520823490063776e-7,
          6.520823490063776e-7,
          6.520823490063776e-7,
          6.520823490063776e-7,
          6.520823490063776e-7,
          6.520823490063776e-7,
          6.520823490063776e-7,
          6.520823490063776e-7,
          6.520823490063776e-7,
          6.520823490063776e-7,
          6.520823490063776e-7,
          6.520823490063776e-7,
          6.520823490063776e-7,
          6.520823490063776e-7,
          6.520823490063776e-7,
          6.520823490063776e-7,
          6.520823490063776e-7,
          6.520823490063776e-7,
          6.520823490063776e-7,
          6.520823490063776e-7,
          6.520823490063776e-7
         ]
        }
       ],
       "layout": {
        "template": {
         "data": {
          "bar": [
           {
            "error_x": {
             "color": "#2a3f5f"
            },
            "error_y": {
             "color": "#2a3f5f"
            },
            "marker": {
             "line": {
              "color": "#E5ECF6",
              "width": 0.5
             },
             "pattern": {
              "fillmode": "overlay",
              "size": 10,
              "solidity": 0.2
             }
            },
            "type": "bar"
           }
          ],
          "barpolar": [
           {
            "marker": {
             "line": {
              "color": "#E5ECF6",
              "width": 0.5
             },
             "pattern": {
              "fillmode": "overlay",
              "size": 10,
              "solidity": 0.2
             }
            },
            "type": "barpolar"
           }
          ],
          "carpet": [
           {
            "aaxis": {
             "endlinecolor": "#2a3f5f",
             "gridcolor": "white",
             "linecolor": "white",
             "minorgridcolor": "white",
             "startlinecolor": "#2a3f5f"
            },
            "baxis": {
             "endlinecolor": "#2a3f5f",
             "gridcolor": "white",
             "linecolor": "white",
             "minorgridcolor": "white",
             "startlinecolor": "#2a3f5f"
            },
            "type": "carpet"
           }
          ],
          "choropleth": [
           {
            "colorbar": {
             "outlinewidth": 0,
             "ticks": ""
            },
            "type": "choropleth"
           }
          ],
          "contour": [
           {
            "colorbar": {
             "outlinewidth": 0,
             "ticks": ""
            },
            "colorscale": [
             [
              0,
              "#0d0887"
             ],
             [
              0.1111111111111111,
              "#46039f"
             ],
             [
              0.2222222222222222,
              "#7201a8"
             ],
             [
              0.3333333333333333,
              "#9c179e"
             ],
             [
              0.4444444444444444,
              "#bd3786"
             ],
             [
              0.5555555555555556,
              "#d8576b"
             ],
             [
              0.6666666666666666,
              "#ed7953"
             ],
             [
              0.7777777777777778,
              "#fb9f3a"
             ],
             [
              0.8888888888888888,
              "#fdca26"
             ],
             [
              1,
              "#f0f921"
             ]
            ],
            "type": "contour"
           }
          ],
          "contourcarpet": [
           {
            "colorbar": {
             "outlinewidth": 0,
             "ticks": ""
            },
            "type": "contourcarpet"
           }
          ],
          "heatmap": [
           {
            "colorbar": {
             "outlinewidth": 0,
             "ticks": ""
            },
            "colorscale": [
             [
              0,
              "#0d0887"
             ],
             [
              0.1111111111111111,
              "#46039f"
             ],
             [
              0.2222222222222222,
              "#7201a8"
             ],
             [
              0.3333333333333333,
              "#9c179e"
             ],
             [
              0.4444444444444444,
              "#bd3786"
             ],
             [
              0.5555555555555556,
              "#d8576b"
             ],
             [
              0.6666666666666666,
              "#ed7953"
             ],
             [
              0.7777777777777778,
              "#fb9f3a"
             ],
             [
              0.8888888888888888,
              "#fdca26"
             ],
             [
              1,
              "#f0f921"
             ]
            ],
            "type": "heatmap"
           }
          ],
          "heatmapgl": [
           {
            "colorbar": {
             "outlinewidth": 0,
             "ticks": ""
            },
            "colorscale": [
             [
              0,
              "#0d0887"
             ],
             [
              0.1111111111111111,
              "#46039f"
             ],
             [
              0.2222222222222222,
              "#7201a8"
             ],
             [
              0.3333333333333333,
              "#9c179e"
             ],
             [
              0.4444444444444444,
              "#bd3786"
             ],
             [
              0.5555555555555556,
              "#d8576b"
             ],
             [
              0.6666666666666666,
              "#ed7953"
             ],
             [
              0.7777777777777778,
              "#fb9f3a"
             ],
             [
              0.8888888888888888,
              "#fdca26"
             ],
             [
              1,
              "#f0f921"
             ]
            ],
            "type": "heatmapgl"
           }
          ],
          "histogram": [
           {
            "marker": {
             "pattern": {
              "fillmode": "overlay",
              "size": 10,
              "solidity": 0.2
             }
            },
            "type": "histogram"
           }
          ],
          "histogram2d": [
           {
            "colorbar": {
             "outlinewidth": 0,
             "ticks": ""
            },
            "colorscale": [
             [
              0,
              "#0d0887"
             ],
             [
              0.1111111111111111,
              "#46039f"
             ],
             [
              0.2222222222222222,
              "#7201a8"
             ],
             [
              0.3333333333333333,
              "#9c179e"
             ],
             [
              0.4444444444444444,
              "#bd3786"
             ],
             [
              0.5555555555555556,
              "#d8576b"
             ],
             [
              0.6666666666666666,
              "#ed7953"
             ],
             [
              0.7777777777777778,
              "#fb9f3a"
             ],
             [
              0.8888888888888888,
              "#fdca26"
             ],
             [
              1,
              "#f0f921"
             ]
            ],
            "type": "histogram2d"
           }
          ],
          "histogram2dcontour": [
           {
            "colorbar": {
             "outlinewidth": 0,
             "ticks": ""
            },
            "colorscale": [
             [
              0,
              "#0d0887"
             ],
             [
              0.1111111111111111,
              "#46039f"
             ],
             [
              0.2222222222222222,
              "#7201a8"
             ],
             [
              0.3333333333333333,
              "#9c179e"
             ],
             [
              0.4444444444444444,
              "#bd3786"
             ],
             [
              0.5555555555555556,
              "#d8576b"
             ],
             [
              0.6666666666666666,
              "#ed7953"
             ],
             [
              0.7777777777777778,
              "#fb9f3a"
             ],
             [
              0.8888888888888888,
              "#fdca26"
             ],
             [
              1,
              "#f0f921"
             ]
            ],
            "type": "histogram2dcontour"
           }
          ],
          "mesh3d": [
           {
            "colorbar": {
             "outlinewidth": 0,
             "ticks": ""
            },
            "type": "mesh3d"
           }
          ],
          "parcoords": [
           {
            "line": {
             "colorbar": {
              "outlinewidth": 0,
              "ticks": ""
             }
            },
            "type": "parcoords"
           }
          ],
          "pie": [
           {
            "automargin": true,
            "type": "pie"
           }
          ],
          "scatter": [
           {
            "fillpattern": {
             "fillmode": "overlay",
             "size": 10,
             "solidity": 0.2
            },
            "type": "scatter"
           }
          ],
          "scatter3d": [
           {
            "line": {
             "colorbar": {
              "outlinewidth": 0,
              "ticks": ""
             }
            },
            "marker": {
             "colorbar": {
              "outlinewidth": 0,
              "ticks": ""
             }
            },
            "type": "scatter3d"
           }
          ],
          "scattercarpet": [
           {
            "marker": {
             "colorbar": {
              "outlinewidth": 0,
              "ticks": ""
             }
            },
            "type": "scattercarpet"
           }
          ],
          "scattergeo": [
           {
            "marker": {
             "colorbar": {
              "outlinewidth": 0,
              "ticks": ""
             }
            },
            "type": "scattergeo"
           }
          ],
          "scattergl": [
           {
            "marker": {
             "colorbar": {
              "outlinewidth": 0,
              "ticks": ""
             }
            },
            "type": "scattergl"
           }
          ],
          "scattermapbox": [
           {
            "marker": {
             "colorbar": {
              "outlinewidth": 0,
              "ticks": ""
             }
            },
            "type": "scattermapbox"
           }
          ],
          "scatterpolar": [
           {
            "marker": {
             "colorbar": {
              "outlinewidth": 0,
              "ticks": ""
             }
            },
            "type": "scatterpolar"
           }
          ],
          "scatterpolargl": [
           {
            "marker": {
             "colorbar": {
              "outlinewidth": 0,
              "ticks": ""
             }
            },
            "type": "scatterpolargl"
           }
          ],
          "scatterternary": [
           {
            "marker": {
             "colorbar": {
              "outlinewidth": 0,
              "ticks": ""
             }
            },
            "type": "scatterternary"
           }
          ],
          "surface": [
           {
            "colorbar": {
             "outlinewidth": 0,
             "ticks": ""
            },
            "colorscale": [
             [
              0,
              "#0d0887"
             ],
             [
              0.1111111111111111,
              "#46039f"
             ],
             [
              0.2222222222222222,
              "#7201a8"
             ],
             [
              0.3333333333333333,
              "#9c179e"
             ],
             [
              0.4444444444444444,
              "#bd3786"
             ],
             [
              0.5555555555555556,
              "#d8576b"
             ],
             [
              0.6666666666666666,
              "#ed7953"
             ],
             [
              0.7777777777777778,
              "#fb9f3a"
             ],
             [
              0.8888888888888888,
              "#fdca26"
             ],
             [
              1,
              "#f0f921"
             ]
            ],
            "type": "surface"
           }
          ],
          "table": [
           {
            "cells": {
             "fill": {
              "color": "#EBF0F8"
             },
             "line": {
              "color": "white"
             }
            },
            "header": {
             "fill": {
              "color": "#C8D4E3"
             },
             "line": {
              "color": "white"
             }
            },
            "type": "table"
           }
          ]
         },
         "layout": {
          "annotationdefaults": {
           "arrowcolor": "#2a3f5f",
           "arrowhead": 0,
           "arrowwidth": 1
          },
          "autotypenumbers": "strict",
          "coloraxis": {
           "colorbar": {
            "outlinewidth": 0,
            "ticks": ""
           }
          },
          "colorscale": {
           "diverging": [
            [
             0,
             "#8e0152"
            ],
            [
             0.1,
             "#c51b7d"
            ],
            [
             0.2,
             "#de77ae"
            ],
            [
             0.3,
             "#f1b6da"
            ],
            [
             0.4,
             "#fde0ef"
            ],
            [
             0.5,
             "#f7f7f7"
            ],
            [
             0.6,
             "#e6f5d0"
            ],
            [
             0.7,
             "#b8e186"
            ],
            [
             0.8,
             "#7fbc41"
            ],
            [
             0.9,
             "#4d9221"
            ],
            [
             1,
             "#276419"
            ]
           ],
           "sequential": [
            [
             0,
             "#0d0887"
            ],
            [
             0.1111111111111111,
             "#46039f"
            ],
            [
             0.2222222222222222,
             "#7201a8"
            ],
            [
             0.3333333333333333,
             "#9c179e"
            ],
            [
             0.4444444444444444,
             "#bd3786"
            ],
            [
             0.5555555555555556,
             "#d8576b"
            ],
            [
             0.6666666666666666,
             "#ed7953"
            ],
            [
             0.7777777777777778,
             "#fb9f3a"
            ],
            [
             0.8888888888888888,
             "#fdca26"
            ],
            [
             1,
             "#f0f921"
            ]
           ],
           "sequentialminus": [
            [
             0,
             "#0d0887"
            ],
            [
             0.1111111111111111,
             "#46039f"
            ],
            [
             0.2222222222222222,
             "#7201a8"
            ],
            [
             0.3333333333333333,
             "#9c179e"
            ],
            [
             0.4444444444444444,
             "#bd3786"
            ],
            [
             0.5555555555555556,
             "#d8576b"
            ],
            [
             0.6666666666666666,
             "#ed7953"
            ],
            [
             0.7777777777777778,
             "#fb9f3a"
            ],
            [
             0.8888888888888888,
             "#fdca26"
            ],
            [
             1,
             "#f0f921"
            ]
           ]
          },
          "colorway": [
           "#636efa",
           "#EF553B",
           "#00cc96",
           "#ab63fa",
           "#FFA15A",
           "#19d3f3",
           "#FF6692",
           "#B6E880",
           "#FF97FF",
           "#FECB52"
          ],
          "font": {
           "color": "#2a3f5f"
          },
          "geo": {
           "bgcolor": "white",
           "lakecolor": "white",
           "landcolor": "#E5ECF6",
           "showlakes": true,
           "showland": true,
           "subunitcolor": "white"
          },
          "hoverlabel": {
           "align": "left"
          },
          "hovermode": "closest",
          "mapbox": {
           "style": "light"
          },
          "paper_bgcolor": "white",
          "plot_bgcolor": "#E5ECF6",
          "polar": {
           "angularaxis": {
            "gridcolor": "white",
            "linecolor": "white",
            "ticks": ""
           },
           "bgcolor": "#E5ECF6",
           "radialaxis": {
            "gridcolor": "white",
            "linecolor": "white",
            "ticks": ""
           }
          },
          "scene": {
           "xaxis": {
            "backgroundcolor": "#E5ECF6",
            "gridcolor": "white",
            "gridwidth": 2,
            "linecolor": "white",
            "showbackground": true,
            "ticks": "",
            "zerolinecolor": "white"
           },
           "yaxis": {
            "backgroundcolor": "#E5ECF6",
            "gridcolor": "white",
            "gridwidth": 2,
            "linecolor": "white",
            "showbackground": true,
            "ticks": "",
            "zerolinecolor": "white"
           },
           "zaxis": {
            "backgroundcolor": "#E5ECF6",
            "gridcolor": "white",
            "gridwidth": 2,
            "linecolor": "white",
            "showbackground": true,
            "ticks": "",
            "zerolinecolor": "white"
           }
          },
          "shapedefaults": {
           "line": {
            "color": "#2a3f5f"
           }
          },
          "ternary": {
           "aaxis": {
            "gridcolor": "white",
            "linecolor": "white",
            "ticks": ""
           },
           "baxis": {
            "gridcolor": "white",
            "linecolor": "white",
            "ticks": ""
           },
           "bgcolor": "#E5ECF6",
           "caxis": {
            "gridcolor": "white",
            "linecolor": "white",
            "ticks": ""
           }
          },
          "title": {
           "x": 0.05
          },
          "xaxis": {
           "automargin": true,
           "gridcolor": "white",
           "linecolor": "white",
           "ticks": "",
           "title": {
            "standoff": 15
           },
           "zerolinecolor": "white",
           "zerolinewidth": 2
          },
          "yaxis": {
           "automargin": true,
           "gridcolor": "white",
           "linecolor": "white",
           "ticks": "",
           "title": {
            "standoff": 15
           },
           "zerolinecolor": "white",
           "zerolinewidth": 2
          }
         }
        },
        "title": {
         "text": "Optimization History Plot"
        },
        "xaxis": {
         "title": {
          "text": "Trial"
         }
        },
        "yaxis": {
         "title": {
          "text": "Objective Value"
         }
        }
       }
      }
     },
     "metadata": {},
     "output_type": "display_data"
    }
   ],
   "source": [
    "plot_optimization_history(study)"
   ]
  },
  {
   "cell_type": "code",
   "execution_count": 6,
   "metadata": {},
   "outputs": [
    {
     "data": {
      "application/vnd.plotly.v1+json": {
       "config": {
        "plotlyServerURL": "https://plot.ly"
       },
       "data": [
        {
         "mode": "markers",
         "name": "Objective Value",
         "type": "scatter",
         "x": [
          0,
          1,
          2,
          3,
          4,
          5,
          6,
          7,
          8,
          9,
          10,
          11,
          12,
          13,
          14,
          15,
          16,
          17,
          18,
          19,
          20,
          21,
          22,
          23,
          24,
          25,
          26,
          27,
          28,
          29,
          30,
          31,
          32,
          33,
          34,
          35,
          36,
          37,
          38,
          39,
          40,
          41,
          42,
          43,
          44,
          45,
          46,
          47,
          48,
          49,
          50,
          51,
          52,
          53,
          54,
          55,
          56,
          57,
          58,
          59,
          60,
          61,
          62,
          63,
          64,
          65,
          66,
          67,
          68,
          69,
          70,
          71,
          72,
          73,
          74,
          75,
          76,
          77,
          78,
          79,
          80,
          81,
          82,
          83,
          84,
          85,
          86,
          87,
          88,
          89,
          90,
          91,
          92,
          93,
          94,
          95,
          96,
          97,
          98,
          99
         ],
         "y": [
          0.000022330874344334006,
          0.0000021105872747284593,
          0.000060359900089679286,
          0.00003840701901935972,
          0.00006018135172780603,
          6.520823490063776e-7,
          0.000046041037421673536,
          0.000037854657421121374,
          0.000011986607205471955,
          0.00002760002280410845,
          0.00001740454536047764,
          0.00007345576887018979,
          0.00007389210077235475,
          0.000046118970203679055,
          0.0000023844913812354207,
          0.0016706406604498625,
          8.520346455043182e-7,
          9.655387884777156e-7,
          0.000013887281966162845,
          0.0002515905362088233,
          0.000014696873222419526,
          0.00013593163748737425,
          0.00001038447499013273,
          0.000007789875780872535,
          0.000026812944270204753,
          0.000013755885447608307,
          6.98684630151547e-7,
          0.0003407204640097916,
          0.00035255716647952795,
          0.00010085368558065966,
          9.228127737515024e-7,
          0.000002743715867836727,
          0.00011049188469769433,
          0.000006529734491778072,
          0.000004861045908910455,
          0.00000823051141196629,
          0.000002582729848654708,
          0.0009684665710665286,
          8.110130238492275e-7,
          0.000017349922927678563,
          9.689366606835392e-7,
          0.000010519080205995124,
          7.780288342473796e-7,
          0.000006883483365527354,
          0.00001612046435184311,
          0.0000012718946891254745,
          0.000014418042155739386,
          0.000003552743010004633,
          0.000052441955631366,
          0.0021856233943253756,
          0.00001057457848219201,
          0.0000010061033890451654,
          0.0000020171175947325537,
          0.0000044290068217378575,
          0.0000054872079999768175,
          0.000011106531019322574,
          0.000015493873434024863,
          0.000011351406101312023,
          0.0000660672812955454,
          0.00028915819711983204,
          0.000010435191143187694,
          0.00007505439862143248,
          0.000022412239559344016,
          0.00011802183144027367,
          0.0000034185602544312133,
          0.0000016523067642992828,
          0.00004526518387137912,
          0.000030302970117190853,
          0.000011924879800062627,
          0.000016591309758950956,
          0.00012793365749530494,
          0.00004753085522679612,
          0.000011033197552023921,
          0.00011389952851459384,
          0.00005163854802958667,
          0.000003295334863651078,
          0.00003641230068751611,
          0.000002660492100403644,
          7.3478270223859e-7,
          0.00020053511252626777,
          0.0000019019067849512794,
          0.000006157206826173933,
          0.0000067292771745997015,
          0.000002529648327254108,
          0.0000012789394077117322,
          0.000010323487913410645,
          0.000026653893655748107,
          0.00012520511518232524,
          0.00011179099237779155,
          0.000018041218936559744,
          0.00006784504512324929,
          0.00001910460923681967,
          0.00010874311556108296,
          0.00000826203449832974,
          7.598757179039239e-7,
          0.00006322348053799942,
          0.0000848334893817082,
          0.00019422768673393875,
          0.00004701971192844212,
          0.00006504441989818588
         ]
        },
        {
         "name": "Best Value",
         "type": "scatter",
         "x": [
          0,
          1,
          2,
          3,
          4,
          5,
          6,
          7,
          8,
          9,
          10,
          11,
          12,
          13,
          14,
          15,
          16,
          17,
          18,
          19,
          20,
          21,
          22,
          23,
          24,
          25,
          26,
          27,
          28,
          29,
          30,
          31,
          32,
          33,
          34,
          35,
          36,
          37,
          38,
          39,
          40,
          41,
          42,
          43,
          44,
          45,
          46,
          47,
          48,
          49,
          50,
          51,
          52,
          53,
          54,
          55,
          56,
          57,
          58,
          59,
          60,
          61,
          62,
          63,
          64,
          65,
          66,
          67,
          68,
          69,
          70,
          71,
          72,
          73,
          74,
          75,
          76,
          77,
          78,
          79,
          80,
          81,
          82,
          83,
          84,
          85,
          86,
          87,
          88,
          89,
          90,
          91,
          92,
          93,
          94,
          95,
          96,
          97,
          98,
          99
         ],
         "y": [
          0.000022330874344334006,
          0.0000021105872747284593,
          0.0000021105872747284593,
          0.0000021105872747284593,
          0.0000021105872747284593,
          6.520823490063776e-7,
          6.520823490063776e-7,
          6.520823490063776e-7,
          6.520823490063776e-7,
          6.520823490063776e-7,
          6.520823490063776e-7,
          6.520823490063776e-7,
          6.520823490063776e-7,
          6.520823490063776e-7,
          6.520823490063776e-7,
          6.520823490063776e-7,
          6.520823490063776e-7,
          6.520823490063776e-7,
          6.520823490063776e-7,
          6.520823490063776e-7,
          6.520823490063776e-7,
          6.520823490063776e-7,
          6.520823490063776e-7,
          6.520823490063776e-7,
          6.520823490063776e-7,
          6.520823490063776e-7,
          6.520823490063776e-7,
          6.520823490063776e-7,
          6.520823490063776e-7,
          6.520823490063776e-7,
          6.520823490063776e-7,
          6.520823490063776e-7,
          6.520823490063776e-7,
          6.520823490063776e-7,
          6.520823490063776e-7,
          6.520823490063776e-7,
          6.520823490063776e-7,
          6.520823490063776e-7,
          6.520823490063776e-7,
          6.520823490063776e-7,
          6.520823490063776e-7,
          6.520823490063776e-7,
          6.520823490063776e-7,
          6.520823490063776e-7,
          6.520823490063776e-7,
          6.520823490063776e-7,
          6.520823490063776e-7,
          6.520823490063776e-7,
          6.520823490063776e-7,
          6.520823490063776e-7,
          6.520823490063776e-7,
          6.520823490063776e-7,
          6.520823490063776e-7,
          6.520823490063776e-7,
          6.520823490063776e-7,
          6.520823490063776e-7,
          6.520823490063776e-7,
          6.520823490063776e-7,
          6.520823490063776e-7,
          6.520823490063776e-7,
          6.520823490063776e-7,
          6.520823490063776e-7,
          6.520823490063776e-7,
          6.520823490063776e-7,
          6.520823490063776e-7,
          6.520823490063776e-7,
          6.520823490063776e-7,
          6.520823490063776e-7,
          6.520823490063776e-7,
          6.520823490063776e-7,
          6.520823490063776e-7,
          6.520823490063776e-7,
          6.520823490063776e-7,
          6.520823490063776e-7,
          6.520823490063776e-7,
          6.520823490063776e-7,
          6.520823490063776e-7,
          6.520823490063776e-7,
          6.520823490063776e-7,
          6.520823490063776e-7,
          6.520823490063776e-7,
          6.520823490063776e-7,
          6.520823490063776e-7,
          6.520823490063776e-7,
          6.520823490063776e-7,
          6.520823490063776e-7,
          6.520823490063776e-7,
          6.520823490063776e-7,
          6.520823490063776e-7,
          6.520823490063776e-7,
          6.520823490063776e-7,
          6.520823490063776e-7,
          6.520823490063776e-7,
          6.520823490063776e-7,
          6.520823490063776e-7,
          6.520823490063776e-7,
          6.520823490063776e-7,
          6.520823490063776e-7,
          6.520823490063776e-7,
          6.520823490063776e-7
         ]
        }
       ],
       "layout": {
        "template": {
         "data": {
          "bar": [
           {
            "error_x": {
             "color": "#2a3f5f"
            },
            "error_y": {
             "color": "#2a3f5f"
            },
            "marker": {
             "line": {
              "color": "#E5ECF6",
              "width": 0.5
             },
             "pattern": {
              "fillmode": "overlay",
              "size": 10,
              "solidity": 0.2
             }
            },
            "type": "bar"
           }
          ],
          "barpolar": [
           {
            "marker": {
             "line": {
              "color": "#E5ECF6",
              "width": 0.5
             },
             "pattern": {
              "fillmode": "overlay",
              "size": 10,
              "solidity": 0.2
             }
            },
            "type": "barpolar"
           }
          ],
          "carpet": [
           {
            "aaxis": {
             "endlinecolor": "#2a3f5f",
             "gridcolor": "white",
             "linecolor": "white",
             "minorgridcolor": "white",
             "startlinecolor": "#2a3f5f"
            },
            "baxis": {
             "endlinecolor": "#2a3f5f",
             "gridcolor": "white",
             "linecolor": "white",
             "minorgridcolor": "white",
             "startlinecolor": "#2a3f5f"
            },
            "type": "carpet"
           }
          ],
          "choropleth": [
           {
            "colorbar": {
             "outlinewidth": 0,
             "ticks": ""
            },
            "type": "choropleth"
           }
          ],
          "contour": [
           {
            "colorbar": {
             "outlinewidth": 0,
             "ticks": ""
            },
            "colorscale": [
             [
              0,
              "#0d0887"
             ],
             [
              0.1111111111111111,
              "#46039f"
             ],
             [
              0.2222222222222222,
              "#7201a8"
             ],
             [
              0.3333333333333333,
              "#9c179e"
             ],
             [
              0.4444444444444444,
              "#bd3786"
             ],
             [
              0.5555555555555556,
              "#d8576b"
             ],
             [
              0.6666666666666666,
              "#ed7953"
             ],
             [
              0.7777777777777778,
              "#fb9f3a"
             ],
             [
              0.8888888888888888,
              "#fdca26"
             ],
             [
              1,
              "#f0f921"
             ]
            ],
            "type": "contour"
           }
          ],
          "contourcarpet": [
           {
            "colorbar": {
             "outlinewidth": 0,
             "ticks": ""
            },
            "type": "contourcarpet"
           }
          ],
          "heatmap": [
           {
            "colorbar": {
             "outlinewidth": 0,
             "ticks": ""
            },
            "colorscale": [
             [
              0,
              "#0d0887"
             ],
             [
              0.1111111111111111,
              "#46039f"
             ],
             [
              0.2222222222222222,
              "#7201a8"
             ],
             [
              0.3333333333333333,
              "#9c179e"
             ],
             [
              0.4444444444444444,
              "#bd3786"
             ],
             [
              0.5555555555555556,
              "#d8576b"
             ],
             [
              0.6666666666666666,
              "#ed7953"
             ],
             [
              0.7777777777777778,
              "#fb9f3a"
             ],
             [
              0.8888888888888888,
              "#fdca26"
             ],
             [
              1,
              "#f0f921"
             ]
            ],
            "type": "heatmap"
           }
          ],
          "heatmapgl": [
           {
            "colorbar": {
             "outlinewidth": 0,
             "ticks": ""
            },
            "colorscale": [
             [
              0,
              "#0d0887"
             ],
             [
              0.1111111111111111,
              "#46039f"
             ],
             [
              0.2222222222222222,
              "#7201a8"
             ],
             [
              0.3333333333333333,
              "#9c179e"
             ],
             [
              0.4444444444444444,
              "#bd3786"
             ],
             [
              0.5555555555555556,
              "#d8576b"
             ],
             [
              0.6666666666666666,
              "#ed7953"
             ],
             [
              0.7777777777777778,
              "#fb9f3a"
             ],
             [
              0.8888888888888888,
              "#fdca26"
             ],
             [
              1,
              "#f0f921"
             ]
            ],
            "type": "heatmapgl"
           }
          ],
          "histogram": [
           {
            "marker": {
             "pattern": {
              "fillmode": "overlay",
              "size": 10,
              "solidity": 0.2
             }
            },
            "type": "histogram"
           }
          ],
          "histogram2d": [
           {
            "colorbar": {
             "outlinewidth": 0,
             "ticks": ""
            },
            "colorscale": [
             [
              0,
              "#0d0887"
             ],
             [
              0.1111111111111111,
              "#46039f"
             ],
             [
              0.2222222222222222,
              "#7201a8"
             ],
             [
              0.3333333333333333,
              "#9c179e"
             ],
             [
              0.4444444444444444,
              "#bd3786"
             ],
             [
              0.5555555555555556,
              "#d8576b"
             ],
             [
              0.6666666666666666,
              "#ed7953"
             ],
             [
              0.7777777777777778,
              "#fb9f3a"
             ],
             [
              0.8888888888888888,
              "#fdca26"
             ],
             [
              1,
              "#f0f921"
             ]
            ],
            "type": "histogram2d"
           }
          ],
          "histogram2dcontour": [
           {
            "colorbar": {
             "outlinewidth": 0,
             "ticks": ""
            },
            "colorscale": [
             [
              0,
              "#0d0887"
             ],
             [
              0.1111111111111111,
              "#46039f"
             ],
             [
              0.2222222222222222,
              "#7201a8"
             ],
             [
              0.3333333333333333,
              "#9c179e"
             ],
             [
              0.4444444444444444,
              "#bd3786"
             ],
             [
              0.5555555555555556,
              "#d8576b"
             ],
             [
              0.6666666666666666,
              "#ed7953"
             ],
             [
              0.7777777777777778,
              "#fb9f3a"
             ],
             [
              0.8888888888888888,
              "#fdca26"
             ],
             [
              1,
              "#f0f921"
             ]
            ],
            "type": "histogram2dcontour"
           }
          ],
          "mesh3d": [
           {
            "colorbar": {
             "outlinewidth": 0,
             "ticks": ""
            },
            "type": "mesh3d"
           }
          ],
          "parcoords": [
           {
            "line": {
             "colorbar": {
              "outlinewidth": 0,
              "ticks": ""
             }
            },
            "type": "parcoords"
           }
          ],
          "pie": [
           {
            "automargin": true,
            "type": "pie"
           }
          ],
          "scatter": [
           {
            "fillpattern": {
             "fillmode": "overlay",
             "size": 10,
             "solidity": 0.2
            },
            "type": "scatter"
           }
          ],
          "scatter3d": [
           {
            "line": {
             "colorbar": {
              "outlinewidth": 0,
              "ticks": ""
             }
            },
            "marker": {
             "colorbar": {
              "outlinewidth": 0,
              "ticks": ""
             }
            },
            "type": "scatter3d"
           }
          ],
          "scattercarpet": [
           {
            "marker": {
             "colorbar": {
              "outlinewidth": 0,
              "ticks": ""
             }
            },
            "type": "scattercarpet"
           }
          ],
          "scattergeo": [
           {
            "marker": {
             "colorbar": {
              "outlinewidth": 0,
              "ticks": ""
             }
            },
            "type": "scattergeo"
           }
          ],
          "scattergl": [
           {
            "marker": {
             "colorbar": {
              "outlinewidth": 0,
              "ticks": ""
             }
            },
            "type": "scattergl"
           }
          ],
          "scattermapbox": [
           {
            "marker": {
             "colorbar": {
              "outlinewidth": 0,
              "ticks": ""
             }
            },
            "type": "scattermapbox"
           }
          ],
          "scatterpolar": [
           {
            "marker": {
             "colorbar": {
              "outlinewidth": 0,
              "ticks": ""
             }
            },
            "type": "scatterpolar"
           }
          ],
          "scatterpolargl": [
           {
            "marker": {
             "colorbar": {
              "outlinewidth": 0,
              "ticks": ""
             }
            },
            "type": "scatterpolargl"
           }
          ],
          "scatterternary": [
           {
            "marker": {
             "colorbar": {
              "outlinewidth": 0,
              "ticks": ""
             }
            },
            "type": "scatterternary"
           }
          ],
          "surface": [
           {
            "colorbar": {
             "outlinewidth": 0,
             "ticks": ""
            },
            "colorscale": [
             [
              0,
              "#0d0887"
             ],
             [
              0.1111111111111111,
              "#46039f"
             ],
             [
              0.2222222222222222,
              "#7201a8"
             ],
             [
              0.3333333333333333,
              "#9c179e"
             ],
             [
              0.4444444444444444,
              "#bd3786"
             ],
             [
              0.5555555555555556,
              "#d8576b"
             ],
             [
              0.6666666666666666,
              "#ed7953"
             ],
             [
              0.7777777777777778,
              "#fb9f3a"
             ],
             [
              0.8888888888888888,
              "#fdca26"
             ],
             [
              1,
              "#f0f921"
             ]
            ],
            "type": "surface"
           }
          ],
          "table": [
           {
            "cells": {
             "fill": {
              "color": "#EBF0F8"
             },
             "line": {
              "color": "white"
             }
            },
            "header": {
             "fill": {
              "color": "#C8D4E3"
             },
             "line": {
              "color": "white"
             }
            },
            "type": "table"
           }
          ]
         },
         "layout": {
          "annotationdefaults": {
           "arrowcolor": "#2a3f5f",
           "arrowhead": 0,
           "arrowwidth": 1
          },
          "autotypenumbers": "strict",
          "coloraxis": {
           "colorbar": {
            "outlinewidth": 0,
            "ticks": ""
           }
          },
          "colorscale": {
           "diverging": [
            [
             0,
             "#8e0152"
            ],
            [
             0.1,
             "#c51b7d"
            ],
            [
             0.2,
             "#de77ae"
            ],
            [
             0.3,
             "#f1b6da"
            ],
            [
             0.4,
             "#fde0ef"
            ],
            [
             0.5,
             "#f7f7f7"
            ],
            [
             0.6,
             "#e6f5d0"
            ],
            [
             0.7,
             "#b8e186"
            ],
            [
             0.8,
             "#7fbc41"
            ],
            [
             0.9,
             "#4d9221"
            ],
            [
             1,
             "#276419"
            ]
           ],
           "sequential": [
            [
             0,
             "#0d0887"
            ],
            [
             0.1111111111111111,
             "#46039f"
            ],
            [
             0.2222222222222222,
             "#7201a8"
            ],
            [
             0.3333333333333333,
             "#9c179e"
            ],
            [
             0.4444444444444444,
             "#bd3786"
            ],
            [
             0.5555555555555556,
             "#d8576b"
            ],
            [
             0.6666666666666666,
             "#ed7953"
            ],
            [
             0.7777777777777778,
             "#fb9f3a"
            ],
            [
             0.8888888888888888,
             "#fdca26"
            ],
            [
             1,
             "#f0f921"
            ]
           ],
           "sequentialminus": [
            [
             0,
             "#0d0887"
            ],
            [
             0.1111111111111111,
             "#46039f"
            ],
            [
             0.2222222222222222,
             "#7201a8"
            ],
            [
             0.3333333333333333,
             "#9c179e"
            ],
            [
             0.4444444444444444,
             "#bd3786"
            ],
            [
             0.5555555555555556,
             "#d8576b"
            ],
            [
             0.6666666666666666,
             "#ed7953"
            ],
            [
             0.7777777777777778,
             "#fb9f3a"
            ],
            [
             0.8888888888888888,
             "#fdca26"
            ],
            [
             1,
             "#f0f921"
            ]
           ]
          },
          "colorway": [
           "#636efa",
           "#EF553B",
           "#00cc96",
           "#ab63fa",
           "#FFA15A",
           "#19d3f3",
           "#FF6692",
           "#B6E880",
           "#FF97FF",
           "#FECB52"
          ],
          "font": {
           "color": "#2a3f5f"
          },
          "geo": {
           "bgcolor": "white",
           "lakecolor": "white",
           "landcolor": "#E5ECF6",
           "showlakes": true,
           "showland": true,
           "subunitcolor": "white"
          },
          "hoverlabel": {
           "align": "left"
          },
          "hovermode": "closest",
          "mapbox": {
           "style": "light"
          },
          "paper_bgcolor": "white",
          "plot_bgcolor": "#E5ECF6",
          "polar": {
           "angularaxis": {
            "gridcolor": "white",
            "linecolor": "white",
            "ticks": ""
           },
           "bgcolor": "#E5ECF6",
           "radialaxis": {
            "gridcolor": "white",
            "linecolor": "white",
            "ticks": ""
           }
          },
          "scene": {
           "xaxis": {
            "backgroundcolor": "#E5ECF6",
            "gridcolor": "white",
            "gridwidth": 2,
            "linecolor": "white",
            "showbackground": true,
            "ticks": "",
            "zerolinecolor": "white"
           },
           "yaxis": {
            "backgroundcolor": "#E5ECF6",
            "gridcolor": "white",
            "gridwidth": 2,
            "linecolor": "white",
            "showbackground": true,
            "ticks": "",
            "zerolinecolor": "white"
           },
           "zaxis": {
            "backgroundcolor": "#E5ECF6",
            "gridcolor": "white",
            "gridwidth": 2,
            "linecolor": "white",
            "showbackground": true,
            "ticks": "",
            "zerolinecolor": "white"
           }
          },
          "shapedefaults": {
           "line": {
            "color": "#2a3f5f"
           }
          },
          "ternary": {
           "aaxis": {
            "gridcolor": "white",
            "linecolor": "white",
            "ticks": ""
           },
           "baxis": {
            "gridcolor": "white",
            "linecolor": "white",
            "ticks": ""
           },
           "bgcolor": "#E5ECF6",
           "caxis": {
            "gridcolor": "white",
            "linecolor": "white",
            "ticks": ""
           }
          },
          "title": {
           "x": 0.05
          },
          "xaxis": {
           "automargin": true,
           "gridcolor": "white",
           "linecolor": "white",
           "ticks": "",
           "title": {
            "standoff": 15
           },
           "zerolinecolor": "white",
           "zerolinewidth": 2
          },
          "yaxis": {
           "automargin": true,
           "gridcolor": "white",
           "linecolor": "white",
           "ticks": "",
           "title": {
            "standoff": 15
           },
           "zerolinecolor": "white",
           "zerolinewidth": 2
          }
         }
        },
        "title": {
         "text": "Optimization History Plot"
        },
        "xaxis": {
         "title": {
          "text": "Trial"
         }
        },
        "yaxis": {
         "title": {
          "text": "Objective Value"
         }
        }
       }
      }
     },
     "metadata": {},
     "output_type": "display_data"
    }
   ],
   "source": [
    "\n",
    "# Plot the parameter importances\n",
    "\n",
    "plot_optimization_history(study)"
   ]
  },
  {
   "cell_type": "code",
   "execution_count": 7,
   "metadata": {},
   "outputs": [
    {
     "data": {
      "application/vnd.plotly.v1+json": {
       "config": {
        "plotlyServerURL": "https://plot.ly"
       },
       "data": [
        {
         "cliponaxis": false,
         "hovertemplate": [
          "units (CategoricalDistribution): 0.11224172399787571<extra></extra>",
          "learning_rate (FloatDistribution): 0.1127454296808653<extra></extra>",
          "regularization (CategoricalDistribution): 0.16401007865360553<extra></extra>",
          "activation_function (CategoricalDistribution): 0.6110027676676535<extra></extra>"
         ],
         "marker": {
          "color": "rgb(66,146,198)"
         },
         "orientation": "h",
         "text": [
          "0.11",
          "0.11",
          "0.16",
          "0.61"
         ],
         "textposition": "outside",
         "type": "bar",
         "x": [
          0.11224172399787571,
          0.1127454296808653,
          0.16401007865360553,
          0.6110027676676535
         ],
         "y": [
          "units",
          "learning_rate",
          "regularization",
          "activation_function"
         ]
        }
       ],
       "layout": {
        "showlegend": false,
        "template": {
         "data": {
          "bar": [
           {
            "error_x": {
             "color": "#2a3f5f"
            },
            "error_y": {
             "color": "#2a3f5f"
            },
            "marker": {
             "line": {
              "color": "#E5ECF6",
              "width": 0.5
             },
             "pattern": {
              "fillmode": "overlay",
              "size": 10,
              "solidity": 0.2
             }
            },
            "type": "bar"
           }
          ],
          "barpolar": [
           {
            "marker": {
             "line": {
              "color": "#E5ECF6",
              "width": 0.5
             },
             "pattern": {
              "fillmode": "overlay",
              "size": 10,
              "solidity": 0.2
             }
            },
            "type": "barpolar"
           }
          ],
          "carpet": [
           {
            "aaxis": {
             "endlinecolor": "#2a3f5f",
             "gridcolor": "white",
             "linecolor": "white",
             "minorgridcolor": "white",
             "startlinecolor": "#2a3f5f"
            },
            "baxis": {
             "endlinecolor": "#2a3f5f",
             "gridcolor": "white",
             "linecolor": "white",
             "minorgridcolor": "white",
             "startlinecolor": "#2a3f5f"
            },
            "type": "carpet"
           }
          ],
          "choropleth": [
           {
            "colorbar": {
             "outlinewidth": 0,
             "ticks": ""
            },
            "type": "choropleth"
           }
          ],
          "contour": [
           {
            "colorbar": {
             "outlinewidth": 0,
             "ticks": ""
            },
            "colorscale": [
             [
              0,
              "#0d0887"
             ],
             [
              0.1111111111111111,
              "#46039f"
             ],
             [
              0.2222222222222222,
              "#7201a8"
             ],
             [
              0.3333333333333333,
              "#9c179e"
             ],
             [
              0.4444444444444444,
              "#bd3786"
             ],
             [
              0.5555555555555556,
              "#d8576b"
             ],
             [
              0.6666666666666666,
              "#ed7953"
             ],
             [
              0.7777777777777778,
              "#fb9f3a"
             ],
             [
              0.8888888888888888,
              "#fdca26"
             ],
             [
              1,
              "#f0f921"
             ]
            ],
            "type": "contour"
           }
          ],
          "contourcarpet": [
           {
            "colorbar": {
             "outlinewidth": 0,
             "ticks": ""
            },
            "type": "contourcarpet"
           }
          ],
          "heatmap": [
           {
            "colorbar": {
             "outlinewidth": 0,
             "ticks": ""
            },
            "colorscale": [
             [
              0,
              "#0d0887"
             ],
             [
              0.1111111111111111,
              "#46039f"
             ],
             [
              0.2222222222222222,
              "#7201a8"
             ],
             [
              0.3333333333333333,
              "#9c179e"
             ],
             [
              0.4444444444444444,
              "#bd3786"
             ],
             [
              0.5555555555555556,
              "#d8576b"
             ],
             [
              0.6666666666666666,
              "#ed7953"
             ],
             [
              0.7777777777777778,
              "#fb9f3a"
             ],
             [
              0.8888888888888888,
              "#fdca26"
             ],
             [
              1,
              "#f0f921"
             ]
            ],
            "type": "heatmap"
           }
          ],
          "heatmapgl": [
           {
            "colorbar": {
             "outlinewidth": 0,
             "ticks": ""
            },
            "colorscale": [
             [
              0,
              "#0d0887"
             ],
             [
              0.1111111111111111,
              "#46039f"
             ],
             [
              0.2222222222222222,
              "#7201a8"
             ],
             [
              0.3333333333333333,
              "#9c179e"
             ],
             [
              0.4444444444444444,
              "#bd3786"
             ],
             [
              0.5555555555555556,
              "#d8576b"
             ],
             [
              0.6666666666666666,
              "#ed7953"
             ],
             [
              0.7777777777777778,
              "#fb9f3a"
             ],
             [
              0.8888888888888888,
              "#fdca26"
             ],
             [
              1,
              "#f0f921"
             ]
            ],
            "type": "heatmapgl"
           }
          ],
          "histogram": [
           {
            "marker": {
             "pattern": {
              "fillmode": "overlay",
              "size": 10,
              "solidity": 0.2
             }
            },
            "type": "histogram"
           }
          ],
          "histogram2d": [
           {
            "colorbar": {
             "outlinewidth": 0,
             "ticks": ""
            },
            "colorscale": [
             [
              0,
              "#0d0887"
             ],
             [
              0.1111111111111111,
              "#46039f"
             ],
             [
              0.2222222222222222,
              "#7201a8"
             ],
             [
              0.3333333333333333,
              "#9c179e"
             ],
             [
              0.4444444444444444,
              "#bd3786"
             ],
             [
              0.5555555555555556,
              "#d8576b"
             ],
             [
              0.6666666666666666,
              "#ed7953"
             ],
             [
              0.7777777777777778,
              "#fb9f3a"
             ],
             [
              0.8888888888888888,
              "#fdca26"
             ],
             [
              1,
              "#f0f921"
             ]
            ],
            "type": "histogram2d"
           }
          ],
          "histogram2dcontour": [
           {
            "colorbar": {
             "outlinewidth": 0,
             "ticks": ""
            },
            "colorscale": [
             [
              0,
              "#0d0887"
             ],
             [
              0.1111111111111111,
              "#46039f"
             ],
             [
              0.2222222222222222,
              "#7201a8"
             ],
             [
              0.3333333333333333,
              "#9c179e"
             ],
             [
              0.4444444444444444,
              "#bd3786"
             ],
             [
              0.5555555555555556,
              "#d8576b"
             ],
             [
              0.6666666666666666,
              "#ed7953"
             ],
             [
              0.7777777777777778,
              "#fb9f3a"
             ],
             [
              0.8888888888888888,
              "#fdca26"
             ],
             [
              1,
              "#f0f921"
             ]
            ],
            "type": "histogram2dcontour"
           }
          ],
          "mesh3d": [
           {
            "colorbar": {
             "outlinewidth": 0,
             "ticks": ""
            },
            "type": "mesh3d"
           }
          ],
          "parcoords": [
           {
            "line": {
             "colorbar": {
              "outlinewidth": 0,
              "ticks": ""
             }
            },
            "type": "parcoords"
           }
          ],
          "pie": [
           {
            "automargin": true,
            "type": "pie"
           }
          ],
          "scatter": [
           {
            "fillpattern": {
             "fillmode": "overlay",
             "size": 10,
             "solidity": 0.2
            },
            "type": "scatter"
           }
          ],
          "scatter3d": [
           {
            "line": {
             "colorbar": {
              "outlinewidth": 0,
              "ticks": ""
             }
            },
            "marker": {
             "colorbar": {
              "outlinewidth": 0,
              "ticks": ""
             }
            },
            "type": "scatter3d"
           }
          ],
          "scattercarpet": [
           {
            "marker": {
             "colorbar": {
              "outlinewidth": 0,
              "ticks": ""
             }
            },
            "type": "scattercarpet"
           }
          ],
          "scattergeo": [
           {
            "marker": {
             "colorbar": {
              "outlinewidth": 0,
              "ticks": ""
             }
            },
            "type": "scattergeo"
           }
          ],
          "scattergl": [
           {
            "marker": {
             "colorbar": {
              "outlinewidth": 0,
              "ticks": ""
             }
            },
            "type": "scattergl"
           }
          ],
          "scattermapbox": [
           {
            "marker": {
             "colorbar": {
              "outlinewidth": 0,
              "ticks": ""
             }
            },
            "type": "scattermapbox"
           }
          ],
          "scatterpolar": [
           {
            "marker": {
             "colorbar": {
              "outlinewidth": 0,
              "ticks": ""
             }
            },
            "type": "scatterpolar"
           }
          ],
          "scatterpolargl": [
           {
            "marker": {
             "colorbar": {
              "outlinewidth": 0,
              "ticks": ""
             }
            },
            "type": "scatterpolargl"
           }
          ],
          "scatterternary": [
           {
            "marker": {
             "colorbar": {
              "outlinewidth": 0,
              "ticks": ""
             }
            },
            "type": "scatterternary"
           }
          ],
          "surface": [
           {
            "colorbar": {
             "outlinewidth": 0,
             "ticks": ""
            },
            "colorscale": [
             [
              0,
              "#0d0887"
             ],
             [
              0.1111111111111111,
              "#46039f"
             ],
             [
              0.2222222222222222,
              "#7201a8"
             ],
             [
              0.3333333333333333,
              "#9c179e"
             ],
             [
              0.4444444444444444,
              "#bd3786"
             ],
             [
              0.5555555555555556,
              "#d8576b"
             ],
             [
              0.6666666666666666,
              "#ed7953"
             ],
             [
              0.7777777777777778,
              "#fb9f3a"
             ],
             [
              0.8888888888888888,
              "#fdca26"
             ],
             [
              1,
              "#f0f921"
             ]
            ],
            "type": "surface"
           }
          ],
          "table": [
           {
            "cells": {
             "fill": {
              "color": "#EBF0F8"
             },
             "line": {
              "color": "white"
             }
            },
            "header": {
             "fill": {
              "color": "#C8D4E3"
             },
             "line": {
              "color": "white"
             }
            },
            "type": "table"
           }
          ]
         },
         "layout": {
          "annotationdefaults": {
           "arrowcolor": "#2a3f5f",
           "arrowhead": 0,
           "arrowwidth": 1
          },
          "autotypenumbers": "strict",
          "coloraxis": {
           "colorbar": {
            "outlinewidth": 0,
            "ticks": ""
           }
          },
          "colorscale": {
           "diverging": [
            [
             0,
             "#8e0152"
            ],
            [
             0.1,
             "#c51b7d"
            ],
            [
             0.2,
             "#de77ae"
            ],
            [
             0.3,
             "#f1b6da"
            ],
            [
             0.4,
             "#fde0ef"
            ],
            [
             0.5,
             "#f7f7f7"
            ],
            [
             0.6,
             "#e6f5d0"
            ],
            [
             0.7,
             "#b8e186"
            ],
            [
             0.8,
             "#7fbc41"
            ],
            [
             0.9,
             "#4d9221"
            ],
            [
             1,
             "#276419"
            ]
           ],
           "sequential": [
            [
             0,
             "#0d0887"
            ],
            [
             0.1111111111111111,
             "#46039f"
            ],
            [
             0.2222222222222222,
             "#7201a8"
            ],
            [
             0.3333333333333333,
             "#9c179e"
            ],
            [
             0.4444444444444444,
             "#bd3786"
            ],
            [
             0.5555555555555556,
             "#d8576b"
            ],
            [
             0.6666666666666666,
             "#ed7953"
            ],
            [
             0.7777777777777778,
             "#fb9f3a"
            ],
            [
             0.8888888888888888,
             "#fdca26"
            ],
            [
             1,
             "#f0f921"
            ]
           ],
           "sequentialminus": [
            [
             0,
             "#0d0887"
            ],
            [
             0.1111111111111111,
             "#46039f"
            ],
            [
             0.2222222222222222,
             "#7201a8"
            ],
            [
             0.3333333333333333,
             "#9c179e"
            ],
            [
             0.4444444444444444,
             "#bd3786"
            ],
            [
             0.5555555555555556,
             "#d8576b"
            ],
            [
             0.6666666666666666,
             "#ed7953"
            ],
            [
             0.7777777777777778,
             "#fb9f3a"
            ],
            [
             0.8888888888888888,
             "#fdca26"
            ],
            [
             1,
             "#f0f921"
            ]
           ]
          },
          "colorway": [
           "#636efa",
           "#EF553B",
           "#00cc96",
           "#ab63fa",
           "#FFA15A",
           "#19d3f3",
           "#FF6692",
           "#B6E880",
           "#FF97FF",
           "#FECB52"
          ],
          "font": {
           "color": "#2a3f5f"
          },
          "geo": {
           "bgcolor": "white",
           "lakecolor": "white",
           "landcolor": "#E5ECF6",
           "showlakes": true,
           "showland": true,
           "subunitcolor": "white"
          },
          "hoverlabel": {
           "align": "left"
          },
          "hovermode": "closest",
          "mapbox": {
           "style": "light"
          },
          "paper_bgcolor": "white",
          "plot_bgcolor": "#E5ECF6",
          "polar": {
           "angularaxis": {
            "gridcolor": "white",
            "linecolor": "white",
            "ticks": ""
           },
           "bgcolor": "#E5ECF6",
           "radialaxis": {
            "gridcolor": "white",
            "linecolor": "white",
            "ticks": ""
           }
          },
          "scene": {
           "xaxis": {
            "backgroundcolor": "#E5ECF6",
            "gridcolor": "white",
            "gridwidth": 2,
            "linecolor": "white",
            "showbackground": true,
            "ticks": "",
            "zerolinecolor": "white"
           },
           "yaxis": {
            "backgroundcolor": "#E5ECF6",
            "gridcolor": "white",
            "gridwidth": 2,
            "linecolor": "white",
            "showbackground": true,
            "ticks": "",
            "zerolinecolor": "white"
           },
           "zaxis": {
            "backgroundcolor": "#E5ECF6",
            "gridcolor": "white",
            "gridwidth": 2,
            "linecolor": "white",
            "showbackground": true,
            "ticks": "",
            "zerolinecolor": "white"
           }
          },
          "shapedefaults": {
           "line": {
            "color": "#2a3f5f"
           }
          },
          "ternary": {
           "aaxis": {
            "gridcolor": "white",
            "linecolor": "white",
            "ticks": ""
           },
           "baxis": {
            "gridcolor": "white",
            "linecolor": "white",
            "ticks": ""
           },
           "bgcolor": "#E5ECF6",
           "caxis": {
            "gridcolor": "white",
            "linecolor": "white",
            "ticks": ""
           }
          },
          "title": {
           "x": 0.05
          },
          "xaxis": {
           "automargin": true,
           "gridcolor": "white",
           "linecolor": "white",
           "ticks": "",
           "title": {
            "standoff": 15
           },
           "zerolinecolor": "white",
           "zerolinewidth": 2
          },
          "yaxis": {
           "automargin": true,
           "gridcolor": "white",
           "linecolor": "white",
           "ticks": "",
           "title": {
            "standoff": 15
           },
           "zerolinecolor": "white",
           "zerolinewidth": 2
          }
         }
        },
        "title": {
         "text": "Hyperparameter Importances"
        },
        "xaxis": {
         "title": {
          "text": "Importance for Objective Value"
         }
        },
        "yaxis": {
         "title": {
          "text": "Hyperparameter"
         }
        }
       }
      }
     },
     "metadata": {},
     "output_type": "display_data"
    }
   ],
   "source": [
    "plot_param_importances(study)"
   ]
  }
 ],
 "metadata": {
  "kernelspec": {
   "display_name": "Python 3 (ipykernel)",
   "language": "python",
   "name": "python3"
  },
  "language_info": {
   "codemirror_mode": {
    "name": "ipython",
    "version": 3
   },
   "file_extension": ".py",
   "mimetype": "text/x-python",
   "name": "python",
   "nbconvert_exporter": "python",
   "pygments_lexer": "ipython3",
   "version": "3.8.10"
  }
 },
 "nbformat": 4,
 "nbformat_minor": 2
}
