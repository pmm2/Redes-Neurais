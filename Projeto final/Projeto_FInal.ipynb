{
  "cells": [
    {
      "cell_type": "markdown",
      "metadata": {
        "id": "xYHc0St5G1A-"
      },
      "source": [
        "O seguinte Projeto tem como objetivo praticar os conceitos e teorias aprendidas na disciplina de Redes Neurais a respeito"
      ]
    },
    {
      "attachments": {},
      "cell_type": "markdown",
      "metadata": {},
      "source": [
        "TODO\n",
        "1. Melhorar comentarios para que projeto sirva de entrega\n",
        "2. Implementar early stopping no svc\n",
        "3. Rodar projeto com numero alto de trials e interacoes, esta primeira rodada eh so para testar se nada quebra"
      ]
    },
    {
      "cell_type": "markdown",
      "metadata": {
        "id": "g8A22cU9ytOD"
      },
      "source": [
        "#Organização e separação dos dados"
      ]
    },
    {
      "cell_type": "markdown",
      "metadata": {
        "id": "Q1jW3YsW6MRp"
      },
      "source": [
        "Nesse passo do projeto, fizemos a coleta do dataset e logo após os dividimos em 3 conjuntos distintos, dataset para treinamento, validação e testes"
      ]
    },
    {
      "cell_type": "code",
      "execution_count": 1,
      "metadata": {
        "id": "E8wBwn4XUnvd"
      },
      "outputs": [],
      "source": [
        "\n",
        "import numpy as np\n",
        "import pandas as pd\n",
        "\n",
        "import os\n",
        "import optuna"
      ]
    },
    {
      "cell_type": "code",
      "execution_count": 2,
      "metadata": {
        "colab": {
          "base_uri": "https://localhost:8080/",
          "height": 0
        },
        "id": "Ea6fanOoY2Mo",
        "outputId": "07a9765d-ec9e-4bde-815c-24d50dec3327"
      },
      "outputs": [],
      "source": [
        "\n",
        "dataset = pd.read_csv('TRNcod.xls', delimiter = \"\\t\")"
      ]
    },
    {
      "cell_type": "code",
      "execution_count": 3,
      "metadata": {
        "colab": {
          "base_uri": "https://localhost:8080/",
          "height": 488
        },
        "id": "NvIEGqgrogOe",
        "outputId": "87c2b3c2-af44-4a22-aac3-ee9bed556813"
      },
      "outputs": [
        {
          "data": {
            "text/html": [
              "<div>\n",
              "<style scoped>\n",
              "    .dataframe tbody tr th:only-of-type {\n",
              "        vertical-align: middle;\n",
              "    }\n",
              "\n",
              "    .dataframe tbody tr th {\n",
              "        vertical-align: top;\n",
              "    }\n",
              "\n",
              "    .dataframe thead th {\n",
              "        text-align: right;\n",
              "    }\n",
              "</style>\n",
              "<table border=\"1\" class=\"dataframe\">\n",
              "  <thead>\n",
              "    <tr style=\"text-align: right;\">\n",
              "      <th></th>\n",
              "      <th>INDEX</th>\n",
              "      <th>UF_1</th>\n",
              "      <th>UF_2</th>\n",
              "      <th>UF_3</th>\n",
              "      <th>UF_4</th>\n",
              "      <th>UF_5</th>\n",
              "      <th>UF_6</th>\n",
              "      <th>UF_7</th>\n",
              "      <th>IDADE</th>\n",
              "      <th>SEXO_1</th>\n",
              "      <th>...</th>\n",
              "      <th>CEP4_7</th>\n",
              "      <th>CEP4_8</th>\n",
              "      <th>CEP4_9</th>\n",
              "      <th>CEP4_10</th>\n",
              "      <th>CEP4_11</th>\n",
              "      <th>CEP4_12</th>\n",
              "      <th>CEP4_13</th>\n",
              "      <th>CEP4_14</th>\n",
              "      <th>IND_BOM_1_1</th>\n",
              "      <th>IND_BOM_1_2</th>\n",
              "    </tr>\n",
              "  </thead>\n",
              "  <tbody>\n",
              "    <tr>\n",
              "      <th>0</th>\n",
              "      <td>0</td>\n",
              "      <td>1</td>\n",
              "      <td>1</td>\n",
              "      <td>1</td>\n",
              "      <td>0</td>\n",
              "      <td>0</td>\n",
              "      <td>0</td>\n",
              "      <td>0</td>\n",
              "      <td>0.135098</td>\n",
              "      <td>1</td>\n",
              "      <td>...</td>\n",
              "      <td>0</td>\n",
              "      <td>0</td>\n",
              "      <td>1</td>\n",
              "      <td>1</td>\n",
              "      <td>0</td>\n",
              "      <td>1</td>\n",
              "      <td>1</td>\n",
              "      <td>1</td>\n",
              "      <td>0</td>\n",
              "      <td>1</td>\n",
              "    </tr>\n",
              "    <tr>\n",
              "      <th>1</th>\n",
              "      <td>1</td>\n",
              "      <td>1</td>\n",
              "      <td>0</td>\n",
              "      <td>1</td>\n",
              "      <td>0</td>\n",
              "      <td>0</td>\n",
              "      <td>1</td>\n",
              "      <td>0</td>\n",
              "      <td>0.273504</td>\n",
              "      <td>1</td>\n",
              "      <td>...</td>\n",
              "      <td>0</td>\n",
              "      <td>1</td>\n",
              "      <td>0</td>\n",
              "      <td>1</td>\n",
              "      <td>1</td>\n",
              "      <td>0</td>\n",
              "      <td>0</td>\n",
              "      <td>0</td>\n",
              "      <td>1</td>\n",
              "      <td>0</td>\n",
              "    </tr>\n",
              "    <tr>\n",
              "      <th>2</th>\n",
              "      <td>2</td>\n",
              "      <td>1</td>\n",
              "      <td>0</td>\n",
              "      <td>1</td>\n",
              "      <td>0</td>\n",
              "      <td>0</td>\n",
              "      <td>1</td>\n",
              "      <td>0</td>\n",
              "      <td>0.281910</td>\n",
              "      <td>0</td>\n",
              "      <td>...</td>\n",
              "      <td>1</td>\n",
              "      <td>1</td>\n",
              "      <td>0</td>\n",
              "      <td>0</td>\n",
              "      <td>0</td>\n",
              "      <td>0</td>\n",
              "      <td>1</td>\n",
              "      <td>0</td>\n",
              "      <td>1</td>\n",
              "      <td>0</td>\n",
              "    </tr>\n",
              "    <tr>\n",
              "      <th>3</th>\n",
              "      <td>3</td>\n",
              "      <td>1</td>\n",
              "      <td>1</td>\n",
              "      <td>1</td>\n",
              "      <td>0</td>\n",
              "      <td>0</td>\n",
              "      <td>0</td>\n",
              "      <td>0</td>\n",
              "      <td>0.225741</td>\n",
              "      <td>0</td>\n",
              "      <td>...</td>\n",
              "      <td>1</td>\n",
              "      <td>1</td>\n",
              "      <td>0</td>\n",
              "      <td>1</td>\n",
              "      <td>1</td>\n",
              "      <td>0</td>\n",
              "      <td>1</td>\n",
              "      <td>0</td>\n",
              "      <td>1</td>\n",
              "      <td>0</td>\n",
              "    </tr>\n",
              "    <tr>\n",
              "      <th>4</th>\n",
              "      <td>4</td>\n",
              "      <td>1</td>\n",
              "      <td>1</td>\n",
              "      <td>0</td>\n",
              "      <td>0</td>\n",
              "      <td>0</td>\n",
              "      <td>1</td>\n",
              "      <td>0</td>\n",
              "      <td>0.480403</td>\n",
              "      <td>0</td>\n",
              "      <td>...</td>\n",
              "      <td>1</td>\n",
              "      <td>1</td>\n",
              "      <td>1</td>\n",
              "      <td>0</td>\n",
              "      <td>0</td>\n",
              "      <td>1</td>\n",
              "      <td>0</td>\n",
              "      <td>1</td>\n",
              "      <td>1</td>\n",
              "      <td>0</td>\n",
              "    </tr>\n",
              "    <tr>\n",
              "      <th>...</th>\n",
              "      <td>...</td>\n",
              "      <td>...</td>\n",
              "      <td>...</td>\n",
              "      <td>...</td>\n",
              "      <td>...</td>\n",
              "      <td>...</td>\n",
              "      <td>...</td>\n",
              "      <td>...</td>\n",
              "      <td>...</td>\n",
              "      <td>...</td>\n",
              "      <td>...</td>\n",
              "      <td>...</td>\n",
              "      <td>...</td>\n",
              "      <td>...</td>\n",
              "      <td>...</td>\n",
              "      <td>...</td>\n",
              "      <td>...</td>\n",
              "      <td>...</td>\n",
              "      <td>...</td>\n",
              "      <td>...</td>\n",
              "      <td>...</td>\n",
              "    </tr>\n",
              "    <tr>\n",
              "      <th>389191</th>\n",
              "      <td>389191</td>\n",
              "      <td>1</td>\n",
              "      <td>1</td>\n",
              "      <td>0</td>\n",
              "      <td>0</td>\n",
              "      <td>0</td>\n",
              "      <td>0</td>\n",
              "      <td>1</td>\n",
              "      <td>0.787827</td>\n",
              "      <td>1</td>\n",
              "      <td>...</td>\n",
              "      <td>0</td>\n",
              "      <td>1</td>\n",
              "      <td>1</td>\n",
              "      <td>1</td>\n",
              "      <td>1</td>\n",
              "      <td>1</td>\n",
              "      <td>0</td>\n",
              "      <td>1</td>\n",
              "      <td>0</td>\n",
              "      <td>1</td>\n",
              "    </tr>\n",
              "    <tr>\n",
              "      <th>389192</th>\n",
              "      <td>389192</td>\n",
              "      <td>1</td>\n",
              "      <td>0</td>\n",
              "      <td>1</td>\n",
              "      <td>0</td>\n",
              "      <td>0</td>\n",
              "      <td>0</td>\n",
              "      <td>1</td>\n",
              "      <td>0.470010</td>\n",
              "      <td>1</td>\n",
              "      <td>...</td>\n",
              "      <td>1</td>\n",
              "      <td>0</td>\n",
              "      <td>1</td>\n",
              "      <td>0</td>\n",
              "      <td>1</td>\n",
              "      <td>0</td>\n",
              "      <td>1</td>\n",
              "      <td>1</td>\n",
              "      <td>1</td>\n",
              "      <td>0</td>\n",
              "    </tr>\n",
              "    <tr>\n",
              "      <th>389193</th>\n",
              "      <td>389193</td>\n",
              "      <td>0</td>\n",
              "      <td>1</td>\n",
              "      <td>0</td>\n",
              "      <td>1</td>\n",
              "      <td>0</td>\n",
              "      <td>0</td>\n",
              "      <td>1</td>\n",
              "      <td>0.436048</td>\n",
              "      <td>0</td>\n",
              "      <td>...</td>\n",
              "      <td>1</td>\n",
              "      <td>0</td>\n",
              "      <td>0</td>\n",
              "      <td>1</td>\n",
              "      <td>0</td>\n",
              "      <td>1</td>\n",
              "      <td>1</td>\n",
              "      <td>0</td>\n",
              "      <td>0</td>\n",
              "      <td>1</td>\n",
              "    </tr>\n",
              "    <tr>\n",
              "      <th>389194</th>\n",
              "      <td>389194</td>\n",
              "      <td>1</td>\n",
              "      <td>0</td>\n",
              "      <td>1</td>\n",
              "      <td>0</td>\n",
              "      <td>1</td>\n",
              "      <td>0</td>\n",
              "      <td>0</td>\n",
              "      <td>0.677875</td>\n",
              "      <td>0</td>\n",
              "      <td>...</td>\n",
              "      <td>0</td>\n",
              "      <td>1</td>\n",
              "      <td>0</td>\n",
              "      <td>0</td>\n",
              "      <td>0</td>\n",
              "      <td>1</td>\n",
              "      <td>1</td>\n",
              "      <td>1</td>\n",
              "      <td>1</td>\n",
              "      <td>0</td>\n",
              "    </tr>\n",
              "    <tr>\n",
              "      <th>389195</th>\n",
              "      <td>389195</td>\n",
              "      <td>1</td>\n",
              "      <td>1</td>\n",
              "      <td>0</td>\n",
              "      <td>0</td>\n",
              "      <td>1</td>\n",
              "      <td>0</td>\n",
              "      <td>0</td>\n",
              "      <td>0.690540</td>\n",
              "      <td>0</td>\n",
              "      <td>...</td>\n",
              "      <td>1</td>\n",
              "      <td>1</td>\n",
              "      <td>0</td>\n",
              "      <td>0</td>\n",
              "      <td>0</td>\n",
              "      <td>1</td>\n",
              "      <td>1</td>\n",
              "      <td>0</td>\n",
              "      <td>1</td>\n",
              "      <td>0</td>\n",
              "    </tr>\n",
              "  </tbody>\n",
              "</table>\n",
              "<p>389196 rows × 246 columns</p>\n",
              "</div>"
            ],
            "text/plain": [
              "         INDEX  UF_1  UF_2  UF_3  UF_4  UF_5  UF_6  UF_7     IDADE  SEXO_1   \n",
              "0            0     1     1     1     0     0     0     0  0.135098       1  \\\n",
              "1            1     1     0     1     0     0     1     0  0.273504       1   \n",
              "2            2     1     0     1     0     0     1     0  0.281910       0   \n",
              "3            3     1     1     1     0     0     0     0  0.225741       0   \n",
              "4            4     1     1     0     0     0     1     0  0.480403       0   \n",
              "...        ...   ...   ...   ...   ...   ...   ...   ...       ...     ...   \n",
              "389191  389191     1     1     0     0     0     0     1  0.787827       1   \n",
              "389192  389192     1     0     1     0     0     0     1  0.470010       1   \n",
              "389193  389193     0     1     0     1     0     0     1  0.436048       0   \n",
              "389194  389194     1     0     1     0     1     0     0  0.677875       0   \n",
              "389195  389195     1     1     0     0     1     0     0  0.690540       0   \n",
              "\n",
              "        ...  CEP4_7  CEP4_8  CEP4_9  CEP4_10  CEP4_11  CEP4_12  CEP4_13   \n",
              "0       ...       0       0       1        1        0        1        1  \\\n",
              "1       ...       0       1       0        1        1        0        0   \n",
              "2       ...       1       1       0        0        0        0        1   \n",
              "3       ...       1       1       0        1        1        0        1   \n",
              "4       ...       1       1       1        0        0        1        0   \n",
              "...     ...     ...     ...     ...      ...      ...      ...      ...   \n",
              "389191  ...       0       1       1        1        1        1        0   \n",
              "389192  ...       1       0       1        0        1        0        1   \n",
              "389193  ...       1       0       0        1        0        1        1   \n",
              "389194  ...       0       1       0        0        0        1        1   \n",
              "389195  ...       1       1       0        0        0        1        1   \n",
              "\n",
              "        CEP4_14  IND_BOM_1_1  IND_BOM_1_2  \n",
              "0             1            0            1  \n",
              "1             0            1            0  \n",
              "2             0            1            0  \n",
              "3             0            1            0  \n",
              "4             1            1            0  \n",
              "...         ...          ...          ...  \n",
              "389191        1            0            1  \n",
              "389192        1            1            0  \n",
              "389193        0            0            1  \n",
              "389194        1            1            0  \n",
              "389195        0            1            0  \n",
              "\n",
              "[389196 rows x 246 columns]"
            ]
          },
          "execution_count": 3,
          "metadata": {},
          "output_type": "execute_result"
        }
      ],
      "source": [
        "dataset "
      ]
    },
    {
      "cell_type": "code",
      "execution_count": 4,
      "metadata": {
        "colab": {
          "base_uri": "https://localhost:8080/",
          "height": 143
        },
        "id": "KhZVeahOolQI",
        "outputId": "2d02bca4-1758-4362-aec3-a52d05f9b5ad"
      },
      "outputs": [
        {
          "data": {
            "text/html": [
              "<div>\n",
              "<style scoped>\n",
              "    .dataframe tbody tr th:only-of-type {\n",
              "        vertical-align: middle;\n",
              "    }\n",
              "\n",
              "    .dataframe tbody tr th {\n",
              "        vertical-align: top;\n",
              "    }\n",
              "\n",
              "    .dataframe thead th {\n",
              "        text-align: right;\n",
              "    }\n",
              "</style>\n",
              "<table border=\"1\" class=\"dataframe\">\n",
              "  <thead>\n",
              "    <tr style=\"text-align: right;\">\n",
              "      <th></th>\n",
              "      <th>INDEX</th>\n",
              "      <th>UF_1</th>\n",
              "      <th>UF_2</th>\n",
              "      <th>UF_3</th>\n",
              "      <th>UF_4</th>\n",
              "      <th>UF_5</th>\n",
              "      <th>UF_6</th>\n",
              "      <th>UF_7</th>\n",
              "      <th>IDADE</th>\n",
              "      <th>SEXO_1</th>\n",
              "      <th>...</th>\n",
              "      <th>CEP4_7</th>\n",
              "      <th>CEP4_8</th>\n",
              "      <th>CEP4_9</th>\n",
              "      <th>CEP4_10</th>\n",
              "      <th>CEP4_11</th>\n",
              "      <th>CEP4_12</th>\n",
              "      <th>CEP4_13</th>\n",
              "      <th>CEP4_14</th>\n",
              "      <th>IND_BOM_1_1</th>\n",
              "      <th>IND_BOM_1_2</th>\n",
              "    </tr>\n",
              "  </thead>\n",
              "  <tbody>\n",
              "  </tbody>\n",
              "</table>\n",
              "<p>0 rows × 246 columns</p>\n",
              "</div>"
            ],
            "text/plain": [
              "Empty DataFrame\n",
              "Columns: [INDEX, UF_1, UF_2, UF_3, UF_4, UF_5, UF_6, UF_7, IDADE, SEXO_1, NIVEL_RELACIONAMENTO_CREDITO01, NIVEL_RELACIONAMENTO_CREDITO02, BANCO_REST_IRPF_ULTIMA_1, BANCO_REST_IRPF_ULTIMA_2, BANCO_REST_IRPF_ULTIMA_3, BANCO_REST_IRPF_ULTIMA_4, BANCO_REST_IRPF_ULTIMA_5, BANCO_REST_IRPF_ULTIMA_6, BANCO_REST_IRPF_ULTIMA_7, ATIVIDADE_EMAIL, EXPOSICAO_ENDERECO, EXPOSICAO_EMAIL, EXPOSICAO_TELEFONE, ATIVIDADE_ENDERECO, ATUALIZACAO_ENDERECO, ATUALIZACAO_EMAIL, EXPOSICAO_CONSUMIDOR_EMAILS, EXPOSICAO_CONSUMIDOR_TELEFONES, ATIVIDADE_TELEFONE, VALOR_PARCELA_BOLSA_FAMILIA, FLAG_BOLSA_FAMILIA_1, SIGLA_PARTIDO_FILIADO_1, SIGLA_PARTIDO_FILIADO_2, SIGLA_PARTIDO_FILIADO_3, SIGLA_PARTIDO_FILIADO_4, SIGLA_PARTIDO_FILIADO_5, SIGLA_PARTIDO_FILIADO_6, SIGLA_PARTIDO_FILIADO_7, FLAG_FILIADO_PARTIDO_POLITICO_1, FLAG_PROUNI_1, RENDA_VIZINHANCA_1, RENDA_VIZINHANCA_2, RENDA_VIZINHANCA_3, RENDA_VIZINHANCA_4, QUANTIDADE_VIZINHANCA, COMPARATIVO_RENDA_CEP_1, COMPARATIVO_RENDA_CEP_2, COMPARATIVO_RENDA_CEP_3, COMPARATIVO_RENDA_CEP_4, COMPARATIVO_RENDA_CEP_5, CLASSE_SOCIAL_CONSUMIDOR_1, CLASSE_SOCIAL_CONSUMIDOR_2, CLASSE_SOCIAL_CONSUMIDOR_3, CLASSE_SOCIAL_CONSUMIDOR_4, ATIVIDADE_CONSUMIDOR_MERCADO_FINANCEIRO, ATUALIZACAO_CONSUMIDOR_MERCADO_FINANCEIRO, FLAG_PROGRAMAS_SOCIAIS_1, CAD_DEMOGRAFICO_VAR_0, CAD_DEMOGRAFICO_VAR_1, CAD_DEMOGRAFICO_VAR_2, CAD_DEMOGRAFICO_VAR_3, CAD_DEMOGRAFICO_VAR_4, CAD_DEMOGRAFICO_VAR_5, CAD_DEMOGRAFICO_VAR_6, CAD_DEMOGRAFICO_VAR_7, CAD_DEMOGRAFICO_VAR_8, CAD_DEMOGRAFICO_VAR_10, CAD_DEMOGRAFICO_VAR_11, CAD_DEMOGRAFICO_VAR_13, CAD_DEMOGRAFICO_VAR_14, CAD_DEMOGRAFICO_VAR_15, CAD_DEMOGRAFICO_VAR_16, CAD_DEMOGRAFICO_VAR_17, CAD_DEMOGRAFICO_VAR_19, CAD_DEMOGRAFICO_VAR_21, CAD_DEMOGRAFICO_VAR_22, CAD_DEMOGRAFICO_VAR_23, CAD_DEMOGRAFICO_VAR_24, CAD_DEMOGRAFICO_VAR_25, CAD_DEMOGRAFICO_VAR_26, CAD_DEMOGRAFICO_VAR_27, CAD_DEMOGRAFICO_VAR_28, CAD_DEMOGRAFICO_VAR_30, CAD_DEMOGRAFICO_VAR_31, CAD_DEMOGRAFICO_VAR_33, CAD_DEMOGRAFICO_VAR_34, CAD_DEMOGRAFICO_VAR_35, CAD_DEMOGRAFICO_VAR_36, CAD_DEMOGRAFICO_VAR_37, CAD_DEMOGRAFICO_VAR_38, CAD_DEMOGRAFICO_VAR_39, CAD_DEMOGRAFICO_VAR_40, CAD_DEMOGRAFICO_VAR_41, CAD_DEMOGRAFICO_VAR_42, CAD_DEMOGRAFICO_VAR_43, CAD_DEMOGRAFICO_VAR_44, CAD_DEMOGRAFICO_VAR_45, CAD_DEMOGRAFICO_VAR_46, CAD_DEMOGRAFICO_VAR_47, CAD_DEMOGRAFICO_VAR_50, ...]\n",
              "Index: []\n",
              "\n",
              "[0 rows x 246 columns]"
            ]
          },
          "execution_count": 4,
          "metadata": {},
          "output_type": "execute_result"
        }
      ],
      "source": [
        "dataset[(dataset['IND_BOM_1_1']==1) & (dataset['IND_BOM_1_2']==1)]"
      ]
    },
    {
      "cell_type": "code",
      "execution_count": 5,
      "metadata": {
        "colab": {
          "base_uri": "https://localhost:8080/",
          "height": 205
        },
        "id": "IBE7LXVtomBm",
        "outputId": "d5accaea-c756-431a-ad8e-fc67865c1a3b"
      },
      "outputs": [
        {
          "data": {
            "text/html": [
              "<div>\n",
              "<style scoped>\n",
              "    .dataframe tbody tr th:only-of-type {\n",
              "        vertical-align: middle;\n",
              "    }\n",
              "\n",
              "    .dataframe tbody tr th {\n",
              "        vertical-align: top;\n",
              "    }\n",
              "\n",
              "    .dataframe thead th {\n",
              "        text-align: right;\n",
              "    }\n",
              "</style>\n",
              "<table border=\"1\" class=\"dataframe\">\n",
              "  <thead>\n",
              "    <tr style=\"text-align: right;\">\n",
              "      <th></th>\n",
              "      <th>INDEX</th>\n",
              "      <th>UF_1</th>\n",
              "      <th>UF_2</th>\n",
              "      <th>UF_3</th>\n",
              "      <th>UF_4</th>\n",
              "      <th>UF_5</th>\n",
              "      <th>UF_6</th>\n",
              "      <th>UF_7</th>\n",
              "      <th>IDADE</th>\n",
              "      <th>SEXO_1</th>\n",
              "      <th>...</th>\n",
              "      <th>CEP4_6</th>\n",
              "      <th>CEP4_7</th>\n",
              "      <th>CEP4_8</th>\n",
              "      <th>CEP4_9</th>\n",
              "      <th>CEP4_10</th>\n",
              "      <th>CEP4_11</th>\n",
              "      <th>CEP4_12</th>\n",
              "      <th>CEP4_13</th>\n",
              "      <th>CEP4_14</th>\n",
              "      <th>IND_BOM_1_1</th>\n",
              "    </tr>\n",
              "    <tr>\n",
              "      <th>IND_BOM_1_2</th>\n",
              "      <th></th>\n",
              "      <th></th>\n",
              "      <th></th>\n",
              "      <th></th>\n",
              "      <th></th>\n",
              "      <th></th>\n",
              "      <th></th>\n",
              "      <th></th>\n",
              "      <th></th>\n",
              "      <th></th>\n",
              "      <th></th>\n",
              "      <th></th>\n",
              "      <th></th>\n",
              "      <th></th>\n",
              "      <th></th>\n",
              "      <th></th>\n",
              "      <th></th>\n",
              "      <th></th>\n",
              "      <th></th>\n",
              "      <th></th>\n",
              "      <th></th>\n",
              "    </tr>\n",
              "  </thead>\n",
              "  <tbody>\n",
              "    <tr>\n",
              "      <th>0</th>\n",
              "      <td>255098</td>\n",
              "      <td>255098</td>\n",
              "      <td>255098</td>\n",
              "      <td>255098</td>\n",
              "      <td>255098</td>\n",
              "      <td>255098</td>\n",
              "      <td>255098</td>\n",
              "      <td>255098</td>\n",
              "      <td>255098</td>\n",
              "      <td>255098</td>\n",
              "      <td>...</td>\n",
              "      <td>255098</td>\n",
              "      <td>255098</td>\n",
              "      <td>255098</td>\n",
              "      <td>255098</td>\n",
              "      <td>255098</td>\n",
              "      <td>255098</td>\n",
              "      <td>255098</td>\n",
              "      <td>255098</td>\n",
              "      <td>255098</td>\n",
              "      <td>255098</td>\n",
              "    </tr>\n",
              "  </tbody>\n",
              "</table>\n",
              "<p>1 rows × 245 columns</p>\n",
              "</div>"
            ],
            "text/plain": [
              "              INDEX    UF_1    UF_2    UF_3    UF_4    UF_5    UF_6    UF_7   \n",
              "IND_BOM_1_2                                                                   \n",
              "0            255098  255098  255098  255098  255098  255098  255098  255098  \\\n",
              "\n",
              "              IDADE  SEXO_1  ...  CEP4_6  CEP4_7  CEP4_8  CEP4_9  CEP4_10   \n",
              "IND_BOM_1_2                  ...                                            \n",
              "0            255098  255098  ...  255098  255098  255098  255098   255098  \\\n",
              "\n",
              "             CEP4_11  CEP4_12  CEP4_13  CEP4_14  IND_BOM_1_1  \n",
              "IND_BOM_1_2                                                   \n",
              "0             255098   255098   255098   255098       255098  \n",
              "\n",
              "[1 rows x 245 columns]"
            ]
          },
          "execution_count": 5,
          "metadata": {},
          "output_type": "execute_result"
        }
      ],
      "source": [
        "dataset[dataset['IND_BOM_1_1']==1].groupby(\"IND_BOM_1_2\").count()"
      ]
    },
    {
      "cell_type": "code",
      "execution_count": 6,
      "metadata": {
        "colab": {
          "base_uri": "https://localhost:8080/",
          "height": 205
        },
        "id": "emNRwG5XpKwn",
        "outputId": "c7fa5779-179f-4a35-f7e4-23983d160f7b"
      },
      "outputs": [
        {
          "data": {
            "text/html": [
              "<div>\n",
              "<style scoped>\n",
              "    .dataframe tbody tr th:only-of-type {\n",
              "        vertical-align: middle;\n",
              "    }\n",
              "\n",
              "    .dataframe tbody tr th {\n",
              "        vertical-align: top;\n",
              "    }\n",
              "\n",
              "    .dataframe thead th {\n",
              "        text-align: right;\n",
              "    }\n",
              "</style>\n",
              "<table border=\"1\" class=\"dataframe\">\n",
              "  <thead>\n",
              "    <tr style=\"text-align: right;\">\n",
              "      <th></th>\n",
              "      <th>INDEX</th>\n",
              "      <th>UF_1</th>\n",
              "      <th>UF_2</th>\n",
              "      <th>UF_3</th>\n",
              "      <th>UF_4</th>\n",
              "      <th>UF_5</th>\n",
              "      <th>UF_6</th>\n",
              "      <th>UF_7</th>\n",
              "      <th>IDADE</th>\n",
              "      <th>SEXO_1</th>\n",
              "      <th>...</th>\n",
              "      <th>CEP4_6</th>\n",
              "      <th>CEP4_7</th>\n",
              "      <th>CEP4_8</th>\n",
              "      <th>CEP4_9</th>\n",
              "      <th>CEP4_10</th>\n",
              "      <th>CEP4_11</th>\n",
              "      <th>CEP4_12</th>\n",
              "      <th>CEP4_13</th>\n",
              "      <th>CEP4_14</th>\n",
              "      <th>IND_BOM_1_2</th>\n",
              "    </tr>\n",
              "    <tr>\n",
              "      <th>IND_BOM_1_1</th>\n",
              "      <th></th>\n",
              "      <th></th>\n",
              "      <th></th>\n",
              "      <th></th>\n",
              "      <th></th>\n",
              "      <th></th>\n",
              "      <th></th>\n",
              "      <th></th>\n",
              "      <th></th>\n",
              "      <th></th>\n",
              "      <th></th>\n",
              "      <th></th>\n",
              "      <th></th>\n",
              "      <th></th>\n",
              "      <th></th>\n",
              "      <th></th>\n",
              "      <th></th>\n",
              "      <th></th>\n",
              "      <th></th>\n",
              "      <th></th>\n",
              "      <th></th>\n",
              "    </tr>\n",
              "  </thead>\n",
              "  <tbody>\n",
              "    <tr>\n",
              "      <th>0</th>\n",
              "      <td>134098</td>\n",
              "      <td>134098</td>\n",
              "      <td>134098</td>\n",
              "      <td>134098</td>\n",
              "      <td>134098</td>\n",
              "      <td>134098</td>\n",
              "      <td>134098</td>\n",
              "      <td>134098</td>\n",
              "      <td>134098</td>\n",
              "      <td>134098</td>\n",
              "      <td>...</td>\n",
              "      <td>134098</td>\n",
              "      <td>134098</td>\n",
              "      <td>134098</td>\n",
              "      <td>134098</td>\n",
              "      <td>134098</td>\n",
              "      <td>134098</td>\n",
              "      <td>134098</td>\n",
              "      <td>134098</td>\n",
              "      <td>134098</td>\n",
              "      <td>134098</td>\n",
              "    </tr>\n",
              "  </tbody>\n",
              "</table>\n",
              "<p>1 rows × 245 columns</p>\n",
              "</div>"
            ],
            "text/plain": [
              "              INDEX    UF_1    UF_2    UF_3    UF_4    UF_5    UF_6    UF_7   \n",
              "IND_BOM_1_1                                                                   \n",
              "0            134098  134098  134098  134098  134098  134098  134098  134098  \\\n",
              "\n",
              "              IDADE  SEXO_1  ...  CEP4_6  CEP4_7  CEP4_8  CEP4_9  CEP4_10   \n",
              "IND_BOM_1_1                  ...                                            \n",
              "0            134098  134098  ...  134098  134098  134098  134098   134098  \\\n",
              "\n",
              "             CEP4_11  CEP4_12  CEP4_13  CEP4_14  IND_BOM_1_2  \n",
              "IND_BOM_1_1                                                   \n",
              "0             134098   134098   134098   134098       134098  \n",
              "\n",
              "[1 rows x 245 columns]"
            ]
          },
          "execution_count": 6,
          "metadata": {},
          "output_type": "execute_result"
        }
      ],
      "source": [
        "dataset[dataset['IND_BOM_1_2']==1].groupby(\"IND_BOM_1_1\").count()"
      ]
    },
    {
      "cell_type": "code",
      "execution_count": 7,
      "metadata": {
        "id": "LmM84dAJW_cZ"
      },
      "outputs": [],
      "source": [
        "dataset.drop(columns=['INDEX'], inplace=True)"
      ]
    },
    {
      "cell_type": "code",
      "execution_count": 8,
      "metadata": {
        "colab": {
          "base_uri": "https://localhost:8080/",
          "height": 394
        },
        "id": "HkiGu-AExOoZ",
        "outputId": "6d2d7049-c5f7-41cb-9c60-c2eec089fe84"
      },
      "outputs": [
        {
          "data": {
            "text/html": [
              "<div>\n",
              "<style scoped>\n",
              "    .dataframe tbody tr th:only-of-type {\n",
              "        vertical-align: middle;\n",
              "    }\n",
              "\n",
              "    .dataframe tbody tr th {\n",
              "        vertical-align: top;\n",
              "    }\n",
              "\n",
              "    .dataframe thead th {\n",
              "        text-align: right;\n",
              "    }\n",
              "</style>\n",
              "<table border=\"1\" class=\"dataframe\">\n",
              "  <thead>\n",
              "    <tr style=\"text-align: right;\">\n",
              "      <th></th>\n",
              "      <th>UF_1</th>\n",
              "      <th>UF_2</th>\n",
              "      <th>UF_3</th>\n",
              "      <th>UF_4</th>\n",
              "      <th>UF_5</th>\n",
              "      <th>UF_6</th>\n",
              "      <th>UF_7</th>\n",
              "      <th>IDADE</th>\n",
              "      <th>SEXO_1</th>\n",
              "      <th>NIVEL_RELACIONAMENTO_CREDITO01</th>\n",
              "      <th>...</th>\n",
              "      <th>CEP4_7</th>\n",
              "      <th>CEP4_8</th>\n",
              "      <th>CEP4_9</th>\n",
              "      <th>CEP4_10</th>\n",
              "      <th>CEP4_11</th>\n",
              "      <th>CEP4_12</th>\n",
              "      <th>CEP4_13</th>\n",
              "      <th>CEP4_14</th>\n",
              "      <th>IND_BOM_1_1</th>\n",
              "      <th>IND_BOM_1_2</th>\n",
              "    </tr>\n",
              "  </thead>\n",
              "  <tbody>\n",
              "    <tr>\n",
              "      <th>count</th>\n",
              "      <td>389196.000000</td>\n",
              "      <td>389196.000000</td>\n",
              "      <td>389196.000000</td>\n",
              "      <td>389196.000000</td>\n",
              "      <td>389196.000000</td>\n",
              "      <td>389196.000000</td>\n",
              "      <td>389196.000000</td>\n",
              "      <td>3.891960e+05</td>\n",
              "      <td>389196.000000</td>\n",
              "      <td>389196.000000</td>\n",
              "      <td>...</td>\n",
              "      <td>389196.000000</td>\n",
              "      <td>389196.000000</td>\n",
              "      <td>389196.000000</td>\n",
              "      <td>389196.000000</td>\n",
              "      <td>389196.000000</td>\n",
              "      <td>389196.000000</td>\n",
              "      <td>389196.000000</td>\n",
              "      <td>389196.000000</td>\n",
              "      <td>389196.000000</td>\n",
              "      <td>389196.000000</td>\n",
              "    </tr>\n",
              "    <tr>\n",
              "      <th>mean</th>\n",
              "      <td>0.889274</td>\n",
              "      <td>0.691952</td>\n",
              "      <td>0.476552</td>\n",
              "      <td>0.296195</td>\n",
              "      <td>0.241179</td>\n",
              "      <td>0.218011</td>\n",
              "      <td>0.186836</td>\n",
              "      <td>4.552049e-01</td>\n",
              "      <td>0.521514</td>\n",
              "      <td>0.134915</td>\n",
              "      <td>...</td>\n",
              "      <td>0.423378</td>\n",
              "      <td>0.417540</td>\n",
              "      <td>0.425708</td>\n",
              "      <td>0.459820</td>\n",
              "      <td>0.440842</td>\n",
              "      <td>0.436896</td>\n",
              "      <td>0.433709</td>\n",
              "      <td>0.440339</td>\n",
              "      <td>0.655449</td>\n",
              "      <td>0.344551</td>\n",
              "    </tr>\n",
              "    <tr>\n",
              "      <th>std</th>\n",
              "      <td>0.313793</td>\n",
              "      <td>0.461687</td>\n",
              "      <td>0.499451</td>\n",
              "      <td>0.456579</td>\n",
              "      <td>0.427799</td>\n",
              "      <td>0.412895</td>\n",
              "      <td>0.389781</td>\n",
              "      <td>2.537459e-01</td>\n",
              "      <td>0.499538</td>\n",
              "      <td>0.133136</td>\n",
              "      <td>...</td>\n",
              "      <td>0.494095</td>\n",
              "      <td>0.493154</td>\n",
              "      <td>0.494451</td>\n",
              "      <td>0.498384</td>\n",
              "      <td>0.496489</td>\n",
              "      <td>0.496002</td>\n",
              "      <td>0.495587</td>\n",
              "      <td>0.496428</td>\n",
              "      <td>0.475222</td>\n",
              "      <td>0.475222</td>\n",
              "    </tr>\n",
              "    <tr>\n",
              "      <th>min</th>\n",
              "      <td>0.000000</td>\n",
              "      <td>0.000000</td>\n",
              "      <td>0.000000</td>\n",
              "      <td>0.000000</td>\n",
              "      <td>0.000000</td>\n",
              "      <td>0.000000</td>\n",
              "      <td>0.000000</td>\n",
              "      <td>5.506237e-16</td>\n",
              "      <td>0.000000</td>\n",
              "      <td>0.000000</td>\n",
              "      <td>...</td>\n",
              "      <td>0.000000</td>\n",
              "      <td>0.000000</td>\n",
              "      <td>0.000000</td>\n",
              "      <td>0.000000</td>\n",
              "      <td>0.000000</td>\n",
              "      <td>0.000000</td>\n",
              "      <td>0.000000</td>\n",
              "      <td>0.000000</td>\n",
              "      <td>0.000000</td>\n",
              "      <td>0.000000</td>\n",
              "    </tr>\n",
              "    <tr>\n",
              "      <th>25%</th>\n",
              "      <td>1.000000</td>\n",
              "      <td>0.000000</td>\n",
              "      <td>0.000000</td>\n",
              "      <td>0.000000</td>\n",
              "      <td>0.000000</td>\n",
              "      <td>0.000000</td>\n",
              "      <td>0.000000</td>\n",
              "      <td>2.507866e-01</td>\n",
              "      <td>0.000000</td>\n",
              "      <td>0.111111</td>\n",
              "      <td>...</td>\n",
              "      <td>0.000000</td>\n",
              "      <td>0.000000</td>\n",
              "      <td>0.000000</td>\n",
              "      <td>0.000000</td>\n",
              "      <td>0.000000</td>\n",
              "      <td>0.000000</td>\n",
              "      <td>0.000000</td>\n",
              "      <td>0.000000</td>\n",
              "      <td>0.000000</td>\n",
              "      <td>0.000000</td>\n",
              "    </tr>\n",
              "    <tr>\n",
              "      <th>50%</th>\n",
              "      <td>1.000000</td>\n",
              "      <td>1.000000</td>\n",
              "      <td>0.000000</td>\n",
              "      <td>0.000000</td>\n",
              "      <td>0.000000</td>\n",
              "      <td>0.000000</td>\n",
              "      <td>0.000000</td>\n",
              "      <td>4.375241e-01</td>\n",
              "      <td>1.000000</td>\n",
              "      <td>0.111111</td>\n",
              "      <td>...</td>\n",
              "      <td>0.000000</td>\n",
              "      <td>0.000000</td>\n",
              "      <td>0.000000</td>\n",
              "      <td>0.000000</td>\n",
              "      <td>0.000000</td>\n",
              "      <td>0.000000</td>\n",
              "      <td>0.000000</td>\n",
              "      <td>0.000000</td>\n",
              "      <td>1.000000</td>\n",
              "      <td>0.000000</td>\n",
              "    </tr>\n",
              "    <tr>\n",
              "      <th>75%</th>\n",
              "      <td>1.000000</td>\n",
              "      <td>1.000000</td>\n",
              "      <td>1.000000</td>\n",
              "      <td>1.000000</td>\n",
              "      <td>0.000000</td>\n",
              "      <td>0.000000</td>\n",
              "      <td>0.000000</td>\n",
              "      <td>6.578835e-01</td>\n",
              "      <td>1.000000</td>\n",
              "      <td>0.111111</td>\n",
              "      <td>...</td>\n",
              "      <td>1.000000</td>\n",
              "      <td>1.000000</td>\n",
              "      <td>1.000000</td>\n",
              "      <td>1.000000</td>\n",
              "      <td>1.000000</td>\n",
              "      <td>1.000000</td>\n",
              "      <td>1.000000</td>\n",
              "      <td>1.000000</td>\n",
              "      <td>1.000000</td>\n",
              "      <td>1.000000</td>\n",
              "    </tr>\n",
              "    <tr>\n",
              "      <th>max</th>\n",
              "      <td>1.000000</td>\n",
              "      <td>1.000000</td>\n",
              "      <td>1.000000</td>\n",
              "      <td>1.000000</td>\n",
              "      <td>1.000000</td>\n",
              "      <td>1.000000</td>\n",
              "      <td>1.000000</td>\n",
              "      <td>1.000000e+00</td>\n",
              "      <td>1.000000</td>\n",
              "      <td>1.000000</td>\n",
              "      <td>...</td>\n",
              "      <td>1.000000</td>\n",
              "      <td>1.000000</td>\n",
              "      <td>1.000000</td>\n",
              "      <td>1.000000</td>\n",
              "      <td>1.000000</td>\n",
              "      <td>1.000000</td>\n",
              "      <td>1.000000</td>\n",
              "      <td>1.000000</td>\n",
              "      <td>1.000000</td>\n",
              "      <td>1.000000</td>\n",
              "    </tr>\n",
              "  </tbody>\n",
              "</table>\n",
              "<p>8 rows × 245 columns</p>\n",
              "</div>"
            ],
            "text/plain": [
              "                UF_1           UF_2           UF_3           UF_4   \n",
              "count  389196.000000  389196.000000  389196.000000  389196.000000  \\\n",
              "mean        0.889274       0.691952       0.476552       0.296195   \n",
              "std         0.313793       0.461687       0.499451       0.456579   \n",
              "min         0.000000       0.000000       0.000000       0.000000   \n",
              "25%         1.000000       0.000000       0.000000       0.000000   \n",
              "50%         1.000000       1.000000       0.000000       0.000000   \n",
              "75%         1.000000       1.000000       1.000000       1.000000   \n",
              "max         1.000000       1.000000       1.000000       1.000000   \n",
              "\n",
              "                UF_5           UF_6           UF_7         IDADE   \n",
              "count  389196.000000  389196.000000  389196.000000  3.891960e+05  \\\n",
              "mean        0.241179       0.218011       0.186836  4.552049e-01   \n",
              "std         0.427799       0.412895       0.389781  2.537459e-01   \n",
              "min         0.000000       0.000000       0.000000  5.506237e-16   \n",
              "25%         0.000000       0.000000       0.000000  2.507866e-01   \n",
              "50%         0.000000       0.000000       0.000000  4.375241e-01   \n",
              "75%         0.000000       0.000000       0.000000  6.578835e-01   \n",
              "max         1.000000       1.000000       1.000000  1.000000e+00   \n",
              "\n",
              "              SEXO_1  NIVEL_RELACIONAMENTO_CREDITO01  ...         CEP4_7   \n",
              "count  389196.000000                   389196.000000  ...  389196.000000  \\\n",
              "mean        0.521514                        0.134915  ...       0.423378   \n",
              "std         0.499538                        0.133136  ...       0.494095   \n",
              "min         0.000000                        0.000000  ...       0.000000   \n",
              "25%         0.000000                        0.111111  ...       0.000000   \n",
              "50%         1.000000                        0.111111  ...       0.000000   \n",
              "75%         1.000000                        0.111111  ...       1.000000   \n",
              "max         1.000000                        1.000000  ...       1.000000   \n",
              "\n",
              "              CEP4_8         CEP4_9        CEP4_10        CEP4_11   \n",
              "count  389196.000000  389196.000000  389196.000000  389196.000000  \\\n",
              "mean        0.417540       0.425708       0.459820       0.440842   \n",
              "std         0.493154       0.494451       0.498384       0.496489   \n",
              "min         0.000000       0.000000       0.000000       0.000000   \n",
              "25%         0.000000       0.000000       0.000000       0.000000   \n",
              "50%         0.000000       0.000000       0.000000       0.000000   \n",
              "75%         1.000000       1.000000       1.000000       1.000000   \n",
              "max         1.000000       1.000000       1.000000       1.000000   \n",
              "\n",
              "             CEP4_12        CEP4_13        CEP4_14    IND_BOM_1_1   \n",
              "count  389196.000000  389196.000000  389196.000000  389196.000000  \\\n",
              "mean        0.436896       0.433709       0.440339       0.655449   \n",
              "std         0.496002       0.495587       0.496428       0.475222   \n",
              "min         0.000000       0.000000       0.000000       0.000000   \n",
              "25%         0.000000       0.000000       0.000000       0.000000   \n",
              "50%         0.000000       0.000000       0.000000       1.000000   \n",
              "75%         1.000000       1.000000       1.000000       1.000000   \n",
              "max         1.000000       1.000000       1.000000       1.000000   \n",
              "\n",
              "         IND_BOM_1_2  \n",
              "count  389196.000000  \n",
              "mean        0.344551  \n",
              "std         0.475222  \n",
              "min         0.000000  \n",
              "25%         0.000000  \n",
              "50%         0.000000  \n",
              "75%         1.000000  \n",
              "max         1.000000  \n",
              "\n",
              "[8 rows x 245 columns]"
            ]
          },
          "execution_count": 8,
          "metadata": {},
          "output_type": "execute_result"
        }
      ],
      "source": [
        "dataset.describe()"
      ]
    },
    {
      "cell_type": "code",
      "execution_count": 9,
      "metadata": {
        "colab": {
          "base_uri": "https://localhost:8080/",
          "height": 0
        },
        "id": "zeIPTBgocmXM",
        "outputId": "62404708-ed6b-4428-a39b-d368b3239a7b"
      },
      "outputs": [
        {
          "name": "stdout",
          "output_type": "stream",
          "text": [
            "Separando classes...\n"
          ]
        }
      ],
      "source": [
        "print(\"Separando classes...\")\n",
        "class_1 = dataset[dataset['IND_BOM_1_1']==1]\n",
        "class_2 = dataset[dataset['IND_BOM_1_2']==1]\n",
        "class_1 = class_1.sample(frac=1)\n",
        "class_2 = class_2.sample(frac=1)"
      ]
    },
    {
      "cell_type": "code",
      "execution_count": 10,
      "metadata": {
        "colab": {
          "base_uri": "https://localhost:8080/",
          "height": 0
        },
        "id": "hScVTZx_is-u",
        "outputId": "e5b2cb20-a78c-428c-887d-7791972b46e1"
      },
      "outputs": [
        {
          "name": "stdout",
          "output_type": "stream",
          "text": [
            "Dividindo dados em treinamento, validação e teste\n"
          ]
        }
      ],
      "source": [
        "print(\"Dividindo dados em treinamento, validação e teste\")\n",
        "class_1_train, class_1_validate, class_1_test = np.split(class_1,[int(0.5*len(class_1)),int(0.75*len(class_1))])\n",
        "class_2_train, class_2_validate, class_2_test = np.split(class_2,[int(0.5*len(class_2)),int(0.75*len(class_2))])  "
      ]
    },
    {
      "cell_type": "code",
      "execution_count": 11,
      "metadata": {
        "colab": {
          "base_uri": "https://localhost:8080/",
          "height": 0
        },
        "id": "cY-n25H0ivRd",
        "outputId": "83f0e7d8-9a0d-4b0c-fb7e-70396da5ed44"
      },
      "outputs": [
        {
          "name": "stdout",
          "output_type": "stream",
          "text": [
            "Classe 1 -  Treino: 127549 Validação: 63774 Teste: 63775\n",
            "Classe 2 -  Treino: 67049 Validação: 33524 Teste: 33525\n"
          ]
        }
      ],
      "source": [
        "print(\"Classe 1 - \",\"Treino:\",len(class_1_train),\"Validação:\",len(class_1_validate),\"Teste:\",len(class_1_test))\n",
        "print(\"Classe 2 - \",\"Treino:\",len(class_2_train),\"Validação:\",len(class_2_validate),\"Teste:\",len(class_2_test))"
      ]
    },
    {
      "cell_type": "code",
      "execution_count": 12,
      "metadata": {
        "colab": {
          "base_uri": "https://localhost:8080/",
          "height": 0
        },
        "id": "AmE6bdJyixb0",
        "outputId": "6a8556f8-9506-4f59-e32d-3dd08fc3637f"
      },
      "outputs": [
        {
          "name": "stdout",
          "output_type": "stream",
          "text": [
            "Repetindo dados de treino e validação da classe 2\n"
          ]
        }
      ],
      "source": [
        "print(\"Repetindo dados de treino e validação da classe 2\")\n",
        "while len(class_2_train) < len(class_1_train):\n",
        "  count = (len(class_1_train)-len(class_2_train)) % len(class_2_train)\n",
        "  class_2_train = pd.concat([class_2_train[:count],class_2_train])\n",
        "while len(class_2_validate) < len(class_1_validate):\n",
        "  count = (len(class_1_validate)-len(class_2_validate)) % len(class_2_validate)\n",
        "  class_2_validate = pd.concat([class_2_validate[:count],class_2_validate])\n"
      ]
    },
    {
      "cell_type": "code",
      "execution_count": 13,
      "metadata": {
        "colab": {
          "base_uri": "https://localhost:8080/",
          "height": 0
        },
        "id": "7iq7ePOoi2Ab",
        "outputId": "d921f7fa-c04a-484e-d04b-87138828412e"
      },
      "outputs": [
        {
          "name": "stdout",
          "output_type": "stream",
          "text": [
            "Classe 1 -  Treino: 127549 Validação: 63774 Teste: 63775\n",
            "Classe 2 -  Treino: 127549 Validação: 63774 Teste: 33525\n"
          ]
        }
      ],
      "source": [
        "print(\"Classe 1 - \",\"Treino:\",len(class_1_train),\"Validação:\",len(class_1_validate),\"Teste:\",len(class_1_test))\n",
        "print(\"Classe 2 - \",\"Treino:\",len(class_2_train),\"Validação:\",len(class_2_validate),\"Teste:\",len(class_2_test))"
      ]
    },
    {
      "cell_type": "code",
      "execution_count": 14,
      "metadata": {
        "colab": {
          "base_uri": "https://localhost:8080/",
          "height": 0
        },
        "id": "1v9YdXozi53b",
        "outputId": "9f188259-6308-4cc9-f81f-7ea068df8b05"
      },
      "outputs": [
        {
          "name": "stdout",
          "output_type": "stream",
          "text": [
            "Juntandos dados das classes de acordo com o tipo de separação\n"
          ]
        }
      ],
      "source": [
        "print(\"Juntandos dados das classes de acordo com o tipo de separação\")\n",
        "data_train = pd.concat([class_1_train,class_2_train])\n",
        "data_train = data_train.sample(frac=1)\n",
        "data_validate = pd.concat([class_1_validate,class_2_validate])\n",
        "data_validate = data_validate.sample(frac=1)\n",
        "data_test = pd.concat([class_1_test,class_2_test])\n",
        "data_test = data_test.sample(frac=1)"
      ]
    },
    {
      "cell_type": "code",
      "execution_count": 15,
      "metadata": {
        "colab": {
          "base_uri": "https://localhost:8080/",
          "height": 0
        },
        "id": "tUYmo3cqi8Fs",
        "outputId": "a916aae9-2877-4faf-afcd-72566fc7e8d5"
      },
      "outputs": [
        {
          "name": "stdout",
          "output_type": "stream",
          "text": [
            "Treinamento: 255098 Validação: 127548 Teste: 97300\n"
          ]
        }
      ],
      "source": [
        "print(\"Treinamento:\",len(data_train),\"Validação:\",len(data_validate),\"Teste:\",len(data_test))"
      ]
    },
    {
      "cell_type": "code",
      "execution_count": 16,
      "metadata": {
        "colab": {
          "base_uri": "https://localhost:8080/",
          "height": 0
        },
        "id": "AHNrho7w50tb",
        "outputId": "056167e8-dc77-4503-d8da-505e8907c4b7"
      },
      "outputs": [
        {
          "name": "stdout",
          "output_type": "stream",
          "text": [
            "UF_1           1.0\n",
            "UF_2           0.0\n",
            "UF_3           0.0\n",
            "UF_4           1.0\n",
            "UF_5           1.0\n",
            "              ... \n",
            "CEP4_12        0.0\n",
            "CEP4_13        1.0\n",
            "CEP4_14        0.0\n",
            "IND_BOM_1_1    1.0\n",
            "IND_BOM_1_2    0.0\n",
            "Name: 196914, Length: 245, dtype: float64\n"
          ]
        }
      ],
      "source": [
        "print(data_train.iloc[0])"
      ]
    },
    {
      "cell_type": "code",
      "execution_count": 17,
      "metadata": {
        "id": "gXHPfj0DaKWS"
      },
      "outputs": [],
      "source": [
        "x_train = data_train.iloc[:,:-2]\n",
        "y_train = data_train.iloc[:,-2:]\n",
        "x_validate = data_validate.iloc[:,:-2]\n",
        "y_validate = data_validate.iloc[:,-2:]\n",
        "x_test = data_test.iloc[:,:-2]\n",
        "y_test = data_test.iloc[:,-2:]"
      ]
    },
    {
      "cell_type": "code",
      "execution_count": 18,
      "metadata": {
        "colab": {
          "base_uri": "https://localhost:8080/",
          "height": 49
        },
        "id": "AJ7cf7_NroBE",
        "outputId": "525391a7-4041-42c2-8e21-5b1b526593a2"
      },
      "outputs": [
        {
          "data": {
            "text/html": [
              "<div>\n",
              "<style scoped>\n",
              "    .dataframe tbody tr th:only-of-type {\n",
              "        vertical-align: middle;\n",
              "    }\n",
              "\n",
              "    .dataframe tbody tr th {\n",
              "        vertical-align: top;\n",
              "    }\n",
              "\n",
              "    .dataframe thead th {\n",
              "        text-align: right;\n",
              "    }\n",
              "</style>\n",
              "<table border=\"1\" class=\"dataframe\">\n",
              "  <thead>\n",
              "    <tr style=\"text-align: right;\">\n",
              "      <th></th>\n",
              "      <th>IND_BOM_1_1</th>\n",
              "      <th>IND_BOM_1_2</th>\n",
              "    </tr>\n",
              "  </thead>\n",
              "  <tbody>\n",
              "  </tbody>\n",
              "</table>\n",
              "</div>"
            ],
            "text/plain": [
              "Empty DataFrame\n",
              "Columns: [IND_BOM_1_1, IND_BOM_1_2]\n",
              "Index: []"
            ]
          },
          "execution_count": 18,
          "metadata": {},
          "output_type": "execute_result"
        }
      ],
      "source": [
        "y_train[(y_train['IND_BOM_1_1']==1) & (y_train['IND_BOM_1_2']==1)]"
      ]
    },
    {
      "cell_type": "code",
      "execution_count": 19,
      "metadata": {
        "colab": {
          "base_uri": "https://localhost:8080/",
          "height": 49
        },
        "id": "QGjP8c1hrvWQ",
        "outputId": "c0a2b449-b04e-4adf-f705-a9ef2fff00a6"
      },
      "outputs": [
        {
          "data": {
            "text/html": [
              "<div>\n",
              "<style scoped>\n",
              "    .dataframe tbody tr th:only-of-type {\n",
              "        vertical-align: middle;\n",
              "    }\n",
              "\n",
              "    .dataframe tbody tr th {\n",
              "        vertical-align: top;\n",
              "    }\n",
              "\n",
              "    .dataframe thead th {\n",
              "        text-align: right;\n",
              "    }\n",
              "</style>\n",
              "<table border=\"1\" class=\"dataframe\">\n",
              "  <thead>\n",
              "    <tr style=\"text-align: right;\">\n",
              "      <th></th>\n",
              "      <th>IND_BOM_1_1</th>\n",
              "      <th>IND_BOM_1_2</th>\n",
              "    </tr>\n",
              "  </thead>\n",
              "  <tbody>\n",
              "  </tbody>\n",
              "</table>\n",
              "</div>"
            ],
            "text/plain": [
              "Empty DataFrame\n",
              "Columns: [IND_BOM_1_1, IND_BOM_1_2]\n",
              "Index: []"
            ]
          },
          "execution_count": 19,
          "metadata": {},
          "output_type": "execute_result"
        }
      ],
      "source": [
        "y_validate[(y_validate['IND_BOM_1_1']==1) & (y_validate['IND_BOM_1_2']==1)]"
      ]
    },
    {
      "cell_type": "code",
      "execution_count": 20,
      "metadata": {
        "colab": {
          "base_uri": "https://localhost:8080/",
          "height": 49
        },
        "id": "zbyeH3EErz2N",
        "outputId": "748bb40b-7d94-4cc2-d09f-d6bc4df7159c"
      },
      "outputs": [
        {
          "data": {
            "text/html": [
              "<div>\n",
              "<style scoped>\n",
              "    .dataframe tbody tr th:only-of-type {\n",
              "        vertical-align: middle;\n",
              "    }\n",
              "\n",
              "    .dataframe tbody tr th {\n",
              "        vertical-align: top;\n",
              "    }\n",
              "\n",
              "    .dataframe thead th {\n",
              "        text-align: right;\n",
              "    }\n",
              "</style>\n",
              "<table border=\"1\" class=\"dataframe\">\n",
              "  <thead>\n",
              "    <tr style=\"text-align: right;\">\n",
              "      <th></th>\n",
              "      <th>IND_BOM_1_1</th>\n",
              "      <th>IND_BOM_1_2</th>\n",
              "    </tr>\n",
              "  </thead>\n",
              "  <tbody>\n",
              "  </tbody>\n",
              "</table>\n",
              "</div>"
            ],
            "text/plain": [
              "Empty DataFrame\n",
              "Columns: [IND_BOM_1_1, IND_BOM_1_2]\n",
              "Index: []"
            ]
          },
          "execution_count": 20,
          "metadata": {},
          "output_type": "execute_result"
        }
      ],
      "source": [
        "y_test[(y_test['IND_BOM_1_1']==1) & (y_test['IND_BOM_1_2']==1)]"
      ]
    },
    {
      "cell_type": "code",
      "execution_count": 21,
      "metadata": {
        "id": "vN5LMYoPu3E6"
      },
      "outputs": [],
      "source": [
        "y_train2 = y_train.drop(columns=['IND_BOM_1_2'])\n",
        "y_validate2 = y_validate.drop(columns=['IND_BOM_1_2'])\n",
        "y_test2 = y_test.drop(columns=['IND_BOM_1_2'])"
      ]
    },
    {
      "cell_type": "code",
      "execution_count": 22,
      "metadata": {
        "colab": {
          "base_uri": "https://localhost:8080/",
          "height": 0
        },
        "id": "Dgv45zuPwPUI",
        "outputId": "89d01d6d-defe-41e9-a32f-b248b66e5908"
      },
      "outputs": [
        {
          "data": {
            "text/plain": [
              "IND_BOM_1_1    127549\n",
              "dtype: int64"
            ]
          },
          "execution_count": 22,
          "metadata": {},
          "output_type": "execute_result"
        }
      ],
      "source": [
        "y_train2[y_train2['IND_BOM_1_1']==1].count()"
      ]
    },
    {
      "cell_type": "code",
      "execution_count": 23,
      "metadata": {
        "colab": {
          "base_uri": "https://localhost:8080/",
          "height": 0
        },
        "id": "qTiqA8NTwUwi",
        "outputId": "ba105205-af84-4c9e-a958-79d54caabd19"
      },
      "outputs": [
        {
          "data": {
            "text/plain": [
              "IND_BOM_1_1    127549\n",
              "dtype: int64"
            ]
          },
          "execution_count": 23,
          "metadata": {},
          "output_type": "execute_result"
        }
      ],
      "source": [
        "y_train2[y_train2['IND_BOM_1_1']==0].count()"
      ]
    },
    {
      "cell_type": "code",
      "execution_count": 24,
      "metadata": {
        "colab": {
          "base_uri": "https://localhost:8080/",
          "height": 0
        },
        "id": "Nymad3iqvWka",
        "outputId": "ceba912b-a036-4419-c059-76158a8f9603"
      },
      "outputs": [
        {
          "data": {
            "text/plain": [
              "IND_BOM_1_1    63774\n",
              "dtype: int64"
            ]
          },
          "execution_count": 24,
          "metadata": {},
          "output_type": "execute_result"
        }
      ],
      "source": [
        "y_validate2[y_validate2['IND_BOM_1_1']==1].count()"
      ]
    },
    {
      "cell_type": "code",
      "execution_count": 25,
      "metadata": {
        "colab": {
          "base_uri": "https://localhost:8080/",
          "height": 0
        },
        "id": "UiIYIUhjwLpi",
        "outputId": "d87d4d00-8ec6-4330-a3f1-5255ea4da55e"
      },
      "outputs": [
        {
          "data": {
            "text/plain": [
              "IND_BOM_1_1    63774\n",
              "dtype: int64"
            ]
          },
          "execution_count": 25,
          "metadata": {},
          "output_type": "execute_result"
        }
      ],
      "source": [
        "y_validate2[y_validate2['IND_BOM_1_1']==0].count()"
      ]
    },
    {
      "cell_type": "code",
      "execution_count": 26,
      "metadata": {
        "colab": {
          "base_uri": "https://localhost:8080/",
          "height": 0
        },
        "id": "rNiwGyTJwcRE",
        "outputId": "cf47af3a-0a63-4774-9246-0d9c229504f7"
      },
      "outputs": [
        {
          "data": {
            "text/plain": [
              "IND_BOM_1_1    63775\n",
              "dtype: int64"
            ]
          },
          "execution_count": 26,
          "metadata": {},
          "output_type": "execute_result"
        }
      ],
      "source": [
        "y_test2[y_test2['IND_BOM_1_1']==1].count()"
      ]
    },
    {
      "cell_type": "code",
      "execution_count": 27,
      "metadata": {
        "colab": {
          "base_uri": "https://localhost:8080/",
          "height": 0
        },
        "id": "tXy4xM-QwgUJ",
        "outputId": "3cf58bd8-623f-4bb7-a709-938ee3841a6f"
      },
      "outputs": [
        {
          "data": {
            "text/plain": [
              "IND_BOM_1_1    33525\n",
              "dtype: int64"
            ]
          },
          "execution_count": 27,
          "metadata": {},
          "output_type": "execute_result"
        }
      ],
      "source": [
        "y_test2[y_test2['IND_BOM_1_1']==0].count()"
      ]
    },
    {
      "cell_type": "markdown",
      "metadata": {
        "id": "d16YrAWT6U1K"
      },
      "source": [
        "Com os processamentos realizados acima, obtemos os datasets mencionados e estamos prontos para iniciar as nossas análises com os classificadores."
      ]
    },
    {
      "cell_type": "markdown",
      "metadata": {
        "id": "Jh3FxY_8y1NP"
      },
      "source": [
        "#Classificadores"
      ]
    },
    {
      "cell_type": "code",
      "execution_count": 28,
      "metadata": {
        "id": "MjmzKEv3N9Pd"
      },
      "outputs": [
        {
          "name": "stderr",
          "output_type": "stream",
          "text": [
            "2023-04-09 19:50:06.925043: I tensorflow/core/util/port.cc:110] oneDNN custom operations are on. You may see slightly different numerical results due to floating-point round-off errors from different computation orders. To turn them off, set the environment variable `TF_ENABLE_ONEDNN_OPTS=0`.\n",
            "2023-04-09 19:50:06.926495: I tensorflow/tsl/cuda/cudart_stub.cc:28] Could not find cuda drivers on your machine, GPU will not be used.\n",
            "2023-04-09 19:50:06.950418: I tensorflow/tsl/cuda/cudart_stub.cc:28] Could not find cuda drivers on your machine, GPU will not be used.\n",
            "2023-04-09 19:50:06.950949: I tensorflow/core/platform/cpu_feature_guard.cc:182] This TensorFlow binary is optimized to use available CPU instructions in performance-critical operations.\n",
            "To enable the following instructions: AVX2 AVX_VNNI FMA, in other operations, rebuild TensorFlow with the appropriate compiler flags.\n",
            "2023-04-09 19:50:07.385391: W tensorflow/compiler/tf2tensorrt/utils/py_utils.cc:38] TF-TRT Warning: Could not find TensorRT\n"
          ]
        }
      ],
      "source": [
        "\n",
        "from sklearn.metrics import confusion_matrix, classification_report, mean_squared_error, roc_curve, roc_auc_score, average_precision_score, ConfusionMatrixDisplay, auc\n",
        "from sklearn.metrics import accuracy_score\n",
        "import scikitplot as skplt\n",
        "import matplotlib.pyplot as plt\n",
        "import tensorflow as tf"
      ]
    },
    {
      "cell_type": "markdown",
      "metadata": {
        "id": "BDIsiKKG6ddX"
      },
      "source": [
        "A função abaixo será usada para geração da F1-Score, matriz de confusão, MSE (mean squared error), AUROC e precisão média"
      ]
    },
    {
      "cell_type": "code",
      "execution_count": 29,
      "metadata": {
        "id": "XqqbcUeYd_tP"
      },
      "outputs": [],
      "source": [
        "def my_metrics(y_true,y_pred):\n",
        "  y_true = y_true['IND_BOM_1_1']\n",
        "  y_pred = y_pred['IND_BOM_1_1']\n",
        "  ConfusionMatrixDisplay.from_predictions(y_true, y_pred, normalize='true')\n",
        "  print(classification_report(y_true,y_pred))\n",
        "  print(\"Erro quadrático médio: \",mean_squared_error(y_true,y_pred))\n",
        "  print(\"Auroc:\", roc_auc_score(y_true,y_pred))\n",
        "  print(\"Precisão média: \", average_precision_score(y_true, y_pred))\n",
        "  print()\n",
        "  "
      ]
    },
    {
      "cell_type": "code",
      "execution_count": 30,
      "metadata": {
        "id": "6KGZttirt0eP"
      },
      "outputs": [],
      "source": [
        "def pred_name_columns(arr):\n",
        "    result = pd.DataFrame(arr, columns = ['IND_BOM_1_1'])\n",
        "    return result"
      ]
    },
    {
      "cell_type": "code",
      "execution_count": 31,
      "metadata": {
        "id": "EIeExIjVwiWP"
      },
      "outputs": [],
      "source": [
        "def pred_scores_transf(arr):\n",
        "  pred_score = []\n",
        "  for a,b in arr:\n",
        "    if a > b:\n",
        "      pred_score.append([1,0])\n",
        "    else:\n",
        "      pred_score.append([0,1])\n",
        "  \n",
        "  return pred_name_columns(pred_score)"
      ]
    },
    {
      "cell_type": "code",
      "execution_count": 32,
      "metadata": {
        "id": "rIMEaTE3jeH0"
      },
      "outputs": [],
      "source": [
        "@tf.function\n",
        "def ks(y_true,y_pred):\n",
        "    y_true = tf.reshape(y_true,(-1,))\n",
        "    y_pred = tf.reshape(y_pred,(-1,))\n",
        "    length = tf.shape(y_true)[0]\n",
        "    t = tf.math.top_k(y_pred,k = length,sorted =False)\n",
        "    y_pred_sorted = tf.gather(y_pred,t.indices)\n",
        "    y_true_sorted = tf.gather(y_true,t.indices)\n",
        "    cum_positive_ratio = tf.truediv(\n",
        "        tf.cumsum(y_true_sorted),tf.reduce_sum(y_true_sorted))\n",
        "    cum_negative_ratio = tf.truediv(\n",
        "        tf.cumsum(1- y_true_sorted),tf.reduce_sum(1- y_true_sorted))\n",
        "    ks_value = tf.reduce_max(tf.abs(cum_positive_ratio - cum_negative_ratio))\n",
        "    return ks_value"
      ]
    },
    {
      "cell_type": "markdown",
      "metadata": {
        "id": "uM0lMORWy8lv"
      },
      "source": [
        "##MLP"
      ]
    },
    {
      "cell_type": "code",
      "execution_count": 33,
      "metadata": {
        "id": "URQiIPJRy-Vo"
      },
      "outputs": [],
      "source": [
        "from keras.models import Sequential\n",
        "from keras.layers import Dense\n",
        "from keras.callbacks import EarlyStopping\n",
        "from tensorflow.keras import layers, optimizers, losses\n",
        "from sklearn.neural_network import MLPClassifier\n",
        "from scipy import stats"
      ]
    },
    {
      "cell_type": "code",
      "execution_count": 34,
      "metadata": {
        "id": "WGB-OAOTllAB"
      },
      "outputs": [],
      "source": [
        "input_dim = x_train.shape[1]"
      ]
    },
    {
      "cell_type": "markdown",
      "metadata": {
        "id": "Vg9X8soL78wi"
      },
      "source": [
        "No passo abaixo utilizamos o optuna para tentar fazer a busca pelos melhores parâmetros da MLP"
      ]
    },
    {
      "cell_type": "code",
      "execution_count": 35,
      "metadata": {
        "colab": {
          "base_uri": "https://localhost:8080/"
        },
        "id": "qSsVXAvjyitQ",
        "outputId": "9e460235-89f0-4514-ca90-c5a5f3e5f3c2"
      },
      "outputs": [
        {
          "name": "stderr",
          "output_type": "stream",
          "text": [
            "\u001b[32m[I 2023-04-09 19:50:08,253]\u001b[0m A new study created in memory with name: no-name-a0398cdf-a5cd-40dc-969f-1271e845baea\u001b[0m\n",
            "\u001b[32m[I 2023-04-09 20:00:17,655]\u001b[0m Trial 0 finished with value: 0.6275539568345324 and parameters: {'layers': 1, 'solver': 'lbfgs', 'neurons': 19, 'activation': 'relu', 'learning rate': 'adaptive', 'initial learning rate': 0.04284463588458224}. Best is trial 0 with value: 0.6275539568345324.\u001b[0m\n"
          ]
        }
      ],
      "source": [
        "def mlp(trial):\n",
        "    layers              = trial.suggest_int('layers', 1, 2)\n",
        "    solver              = trial.suggest_categorical('solver', ['lbfgs', 'sgd', 'adam'])\n",
        "    neurons             = trial.suggest_int('neurons', 2, 32)\n",
        "    activation          = trial.suggest_categorical('activation', ['identity', 'logistic', 'tanh', 'relu'])\n",
        "    learning_rate       = trial.suggest_categorical('learning rate', ['constant', 'adaptive'])\n",
        "    learning_rate_init  = trial.suggest_float('initial learning rate', 0.001, 0.1)\n",
        "    mlp = MLPClassifier(random_state=1, \n",
        "                    max_iter=10000,\n",
        "                    solver=solver,\n",
        "                    activation=activation,\n",
        "                    learning_rate=learning_rate,\n",
        "                    hidden_layer_sizes=(neurons,) if layers==1 else (neurons, neurons),\n",
        "                    learning_rate_init=learning_rate_init, \n",
        "                    early_stopping=True).fit(x_train.to_numpy(), y_train2.to_numpy().ravel())\n",
        "\n",
        "    mlp_pred_class_test = mlp.predict(x_test.to_numpy())\n",
        "\n",
        "    y_pred_mlp_test = pred_name_columns(mlp_pred_class_test)\n",
        "\n",
        "    acc = accuracy_score(y_test2,y_pred_mlp_test)\n",
        "    return acc\n",
        "\n",
        "study_0 = optuna.create_study(direction=\"maximize\")\n",
        "study_0.optimize(mlp, n_trials=1)"
      ]
    },
    {
      "cell_type": "code",
      "execution_count": 36,
      "metadata": {
        "colab": {
          "base_uri": "https://localhost:8080/"
        },
        "id": "EdVu9x-TMjig",
        "outputId": "521a13ed-f88d-4f8c-f199-d8c1e625dafa"
      },
      "outputs": [
        {
          "data": {
            "text/plain": [
              "{'layers': 1,\n",
              " 'solver': 'lbfgs',\n",
              " 'neurons': 19,\n",
              " 'activation': 'relu',\n",
              " 'learning rate': 'adaptive',\n",
              " 'initial learning rate': 0.04284463588458224}"
            ]
          },
          "execution_count": 36,
          "metadata": {},
          "output_type": "execute_result"
        }
      ],
      "source": [
        "study_0.best_params"
      ]
    },
    {
      "cell_type": "code",
      "execution_count": 37,
      "metadata": {
        "id": "ls_P4xzeSlVa"
      },
      "outputs": [],
      "source": [
        "mlp_opt = MLPClassifier(random_state=1, \n",
        "                    max_iter=10000,\n",
        "                    solver='lbfgs',\n",
        "                    activation='identity',\n",
        "                    learning_rate= 'adaptive',\n",
        "                    learning_rate_init=0.047,\n",
        "                    hidden_layer_sizes=(11,2),\n",
        "                    early_stopping=True).fit(x_train.to_numpy(), y_train2.to_numpy().ravel())"
      ]
    },
    {
      "cell_type": "code",
      "execution_count": 38,
      "metadata": {
        "colab": {
          "base_uri": "https://localhost:8080/",
          "height": 852
        },
        "id": "PHCI6Rj6S_X8",
        "outputId": "28fe6000-9cab-4d40-9019-ac2ec1dcaed1"
      },
      "outputs": [
        {
          "name": "stderr",
          "output_type": "stream",
          "text": [
            "/home/pedro-milet/.local/lib/python3.8/site-packages/sklearn/base.py:432: UserWarning: X has feature names, but MLPClassifier was fitted without feature names\n",
            "  warnings.warn(\n"
          ]
        },
        {
          "name": "stdout",
          "output_type": "stream",
          "text": [
            "              precision    recall  f1-score   support\n",
            "\n",
            "           0       0.47      0.66      0.55     33525\n",
            "           1       0.77      0.61      0.68     63775\n",
            "\n",
            "    accuracy                           0.62     97300\n",
            "   macro avg       0.62      0.63      0.61     97300\n",
            "weighted avg       0.67      0.62      0.63     97300\n",
            "\n",
            "Erro quadrático médio:  0.37691675231243577\n",
            "Auroc: 0.6311346137599824\n",
            "Precisão média:  0.7250724571381408\n",
            "\n"
          ]
        },
        {
          "data": {
            "image/png": "[encoded data removed]",
            "text/plain": [
              "<Figure size 640x480 with 2 Axes>"
            ]
          },
          "metadata": {},
          "output_type": "display_data"
        },
        {
          "data": {
            "image/png": "[encoded data removed]",
            "text/plain": [
              "<Figure size 640x480 with 1 Axes>"
            ]
          },
          "metadata": {},
          "output_type": "display_data"
        }
      ],
      "source": [
        "mlp_pred_class_test = mlp_opt.predict(x_test.to_numpy())\n",
        "mlp_prb_test = mlp_opt.predict_proba(x_test)\n",
        "y_pred_mlp_test = pred_name_columns(mlp_pred_class_test)\n",
        "my_metrics(y_test2,y_pred_mlp_test)\n",
        "skplt.metrics.plot_ks_statistic(y_test2.to_numpy().ravel(), mlp_prb_test)\n",
        "plt.show()"
      ]
    },
    {
      "cell_type": "markdown",
      "metadata": {
        "id": "JK-xEAR37x5F"
      },
      "source": [
        "Após finalização de todos os testes com os modelos apresentados, nossa melhor MLP foi a versão 3 com:\n",
        "\n",
        "100 Hidden layers,\n",
        "Adam,\n",
        "relu,\n",
        "learning rate de 0.01,\n",
        "10000 iterações,\n",
        "early stopping com patience = 20\n",
        "\n",
        "Que gerou resultados de 64% de acurácia,\n",
        "\n",
        "Erro quadrático médio:  0.36216855087358685,\n",
        "\n",
        "Auroc: 0.638621639800859,\n",
        "\n",
        "Precisão média:  0.729123139498147,\n",
        "\n",
        "E KS = 0.283"
      ]
    },
    {
      "cell_type": "markdown",
      "metadata": {
        "id": "0_vJ1ReU2IkL"
      },
      "source": [
        "##Random Forest"
      ]
    },
    {
      "cell_type": "markdown",
      "metadata": {
        "id": "z8TO64ZZ8iuo"
      },
      "source": [
        "Para o random forest primeiro fizemos uma busca manual para o melhor modelo, apresentação do melhor classificador, após isso utilizamos o optuna para determinar os melhores hiper-parâmetros"
      ]
    },
    {
      "cell_type": "code",
      "execution_count": 39,
      "metadata": {
        "id": "XH-7EWLZ2McW"
      },
      "outputs": [],
      "source": [
        "from sklearn.ensemble import RandomForestClassifier"
      ]
    },
    {
      "cell_type": "code",
      "execution_count": 40,
      "metadata": {
        "id": "mAJa1cLZGBJ8"
      },
      "outputs": [],
      "source": [
        "estimators = [50,100,128]\n",
        "maxDeep = [2,5,8]\n",
        "maxFeatures = [None, 'sqrt']"
      ]
    },
    {
      "cell_type": "markdown",
      "metadata": {
        "id": "cg-lM2ptZP3W"
      },
      "source": [
        "A partir dos resultados estimados no passo acima, o melhor classificador do random forest escolhido foi o que possui n_estimators = 100, max_depth = 9 e features = 'sqrt'"
      ]
    },
    {
      "cell_type": "code",
      "execution_count": 41,
      "metadata": {
        "colab": {
          "base_uri": "https://localhost:8080/"
        },
        "id": "_I0x3N7FZqJ7",
        "outputId": "d0465b18-33fb-4451-8231-fa8352c79331"
      },
      "outputs": [
        {
          "name": "stderr",
          "output_type": "stream",
          "text": [
            "\u001b[32m[I 2023-04-09 20:00:57,115]\u001b[0m A new study created in memory with name: no-name-b37b95f8-0782-45cd-bf39-8f5d587cafbb\u001b[0m\n",
            "\u001b[32m[I 2023-04-09 20:01:05,113]\u001b[0m Trial 0 finished with value: 0.5950359712230215 and parameters: {'max_depth': 4, 'criterion': 'entropy', 'n_estimators': 20, 'min_samples_leaf': 8, 'min_samples_split': 2}. Best is trial 0 with value: 0.5950359712230215.\u001b[0m\n",
            "\u001b[32m[I 2023-04-09 20:01:25,976]\u001b[0m Trial 1 finished with value: 0.6134326824254882 and parameters: {'max_depth': 9, 'criterion': 'entropy', 'n_estimators': 25, 'min_samples_leaf': 6, 'min_samples_split': 7}. Best is trial 1 with value: 0.6134326824254882.\u001b[0m\n"
          ]
        }
      ],
      "source": [
        "def rf(trial):\n",
        "    max_depth           = trial.suggest_int(\"max_depth\", 2, 16)\n",
        "    criterion           = trial.suggest_categorical(\"criterion\", [\"gini\", \"entropy\"])\n",
        "    n_estimators        = trial.suggest_int(\"n_estimators\", 8, 32)\n",
        "    min_samples_leaf    = trial.suggest_int(\"min_samples_leaf\", 2, 8)\n",
        "    min_samples_split   = trial.suggest_int(\"min_samples_split\", 2, 8)\n",
        "    random_forest = RandomForestClassifier(n_estimators=n_estimators, \n",
        "                                        max_depth=max_depth, \n",
        "                                        criterion=criterion, \n",
        "                                        bootstrap=True, \n",
        "                                        min_samples_leaf=min_samples_leaf, \n",
        "                                        min_samples_split=min_samples_split).fit(x_train.to_numpy(), y_train2.to_numpy().ravel())\n",
        "\n",
        "    rf_pred_class_test = random_forest.predict(x_test.to_numpy())\n",
        "    y_pred_rf_test = pred_name_columns(rf_pred_class_test)\n",
        "\n",
        "    acc = accuracy_score(y_test2,y_pred_rf_test)\n",
        "    return acc\n",
        "\n",
        "    # rf_pred_class  = random_forest.predict(df_validacao)\n",
        "    # rf_pred_scores = random_forest.predict_proba(df_validacao)\n",
        "\n",
        "study_1 = optuna.create_study(direction=\"maximize\")\n",
        "study_1.optimize(rf, n_trials=2)"
      ]
    },
    {
      "cell_type": "code",
      "execution_count": 42,
      "metadata": {
        "colab": {
          "base_uri": "https://localhost:8080/",
          "height": 542
        },
        "id": "UdeTGqQ_u_wj",
        "outputId": "5c3d1952-9024-47a7-e19f-860ad6160163"
      },
      "outputs": [
        {
          "data": {
            "application/vnd.plotly.v1+json": {
              "config": {
                "plotlyServerURL": "https://plot.ly"
              },
              "data": [
                {
                  "mode": "markers",
                  "name": "Objective Value",
                  "type": "scatter",
                  "x": [
                    0,
                    1
                  ],
                  "y": [
                    0.5950359712230215,
                    0.6134326824254882
                  ]
                },
                {
                  "name": "Best Value",
                  "type": "scatter",
                  "x": [
                    0,
                    1
                  ],
                  "y": [
                    0.5950359712230215,
                    0.6134326824254882
                  ]
                }
              ],
              "layout": {
                "template": {
                  "data": {
                    "bar": [
                      {
                        "error_x": {
                          "color": "#2a3f5f"
                        },
                        "error_y": {
                          "color": "#2a3f5f"
                        },
                        "marker": {
                          "line": {
                            "color": "#E5ECF6",
                            "width": 0.5
                          },
                          "pattern": {
                            "fillmode": "overlay",
                            "size": 10,
                            "solidity": 0.2
                          }
                        },
                        "type": "bar"
                      }
                    ],
                    "barpolar": [
                      {
                        "marker": {
                          "line": {
                            "color": "#E5ECF6",
                            "width": 0.5
                          },
                          "pattern": {
                            "fillmode": "overlay",
                            "size": 10,
                            "solidity": 0.2
                          }
                        },
                        "type": "barpolar"
                      }
                    ],
                    "carpet": [
                      {
                        "aaxis": {
                          "endlinecolor": "#2a3f5f",
                          "gridcolor": "white",
                          "linecolor": "white",
                          "minorgridcolor": "white",
                          "startlinecolor": "#2a3f5f"
                        },
                        "baxis": {
                          "endlinecolor": "#2a3f5f",
                          "gridcolor": "white",
                          "linecolor": "white",
                          "minorgridcolor": "white",
                          "startlinecolor": "#2a3f5f"
                        },
                        "type": "carpet"
                      }
                    ],
                    "choropleth": [
                      {
                        "colorbar": {
                          "outlinewidth": 0,
                          "ticks": ""
                        },
                        "type": "choropleth"
                      }
                    ],
                    "contour": [
                      {
                        "colorbar": {
                          "outlinewidth": 0,
                          "ticks": ""
                        },
                        "colorscale": [
                          [
                            0,
                            "#0d0887"
                          ],
                          [
                            0.1111111111111111,
                            "#46039f"
                          ],
                          [
                            0.2222222222222222,
                            "#7201a8"
                          ],
                          [
                            0.3333333333333333,
                            "#9c179e"
                          ],
                          [
                            0.4444444444444444,
                            "#bd3786"
                          ],
                          [
                            0.5555555555555556,
                            "#d8576b"
                          ],
                          [
                            0.6666666666666666,
                            "#ed7953"
                          ],
                          [
                            0.7777777777777778,
                            "#fb9f3a"
                          ],
                          [
                            0.8888888888888888,
                            "#fdca26"
                          ],
                          [
                            1,
                            "#f0f921"
                          ]
                        ],
                        "type": "contour"
                      }
                    ],
                    "contourcarpet": [
                      {
                        "colorbar": {
                          "outlinewidth": 0,
                          "ticks": ""
                        },
                        "type": "contourcarpet"
                      }
                    ],
                    "heatmap": [
                      {
                        "colorbar": {
                          "outlinewidth": 0,
                          "ticks": ""
                        },
                        "colorscale": [
                          [
                            0,
                            "#0d0887"
                          ],
                          [
                            0.1111111111111111,
                            "#46039f"
                          ],
                          [
                            0.2222222222222222,
                            "#7201a8"
                          ],
                          [
                            0.3333333333333333,
                            "#9c179e"
                          ],
                          [
                            0.4444444444444444,
                            "#bd3786"
                          ],
                          [
                            0.5555555555555556,
                            "#d8576b"
                          ],
                          [
                            0.6666666666666666,
                            "#ed7953"
                          ],
                          [
                            0.7777777777777778,
                            "#fb9f3a"
                          ],
                          [
                            0.8888888888888888,
                            "#fdca26"
                          ],
                          [
                            1,
                            "#f0f921"
                          ]
                        ],
                        "type": "heatmap"
                      }
                    ],
                    "heatmapgl": [
                      {
                        "colorbar": {
                          "outlinewidth": 0,
                          "ticks": ""
                        },
                        "colorscale": [
                          [
                            0,
                            "#0d0887"
                          ],
                          [
                            0.1111111111111111,
                            "#46039f"
                          ],
                          [
                            0.2222222222222222,
                            "#7201a8"
                          ],
                          [
                            0.3333333333333333,
                            "#9c179e"
                          ],
                          [
                            0.4444444444444444,
                            "#bd3786"
                          ],
                          [
                            0.5555555555555556,
                            "#d8576b"
                          ],
                          [
                            0.6666666666666666,
                            "#ed7953"
                          ],
                          [
                            0.7777777777777778,
                            "#fb9f3a"
                          ],
                          [
                            0.8888888888888888,
                            "#fdca26"
                          ],
                          [
                            1,
                            "#f0f921"
                          ]
                        ],
                        "type": "heatmapgl"
                      }
                    ],
                    "histogram": [
                      {
                        "marker": {
                          "pattern": {
                            "fillmode": "overlay",
                            "size": 10,
                            "solidity": 0.2
                          }
                        },
                        "type": "histogram"
                      }
                    ],
                    "histogram2d": [
                      {
                        "colorbar": {
                          "outlinewidth": 0,
                          "ticks": ""
                        },
                        "colorscale": [
                          [
                            0,
                            "#0d0887"
                          ],
                          [
                            0.1111111111111111,
                            "#46039f"
                          ],
                          [
                            0.2222222222222222,
                            "#7201a8"
                          ],
                          [
                            0.3333333333333333,
                            "#9c179e"
                          ],
                          [
                            0.4444444444444444,
                            "#bd3786"
                          ],
                          [
                            0.5555555555555556,
                            "#d8576b"
                          ],
                          [
                            0.6666666666666666,
                            "#ed7953"
                          ],
                          [
                            0.7777777777777778,
                            "#fb9f3a"
                          ],
                          [
                            0.8888888888888888,
                            "#fdca26"
                          ],
                          [
                            1,
                            "#f0f921"
                          ]
                        ],
                        "type": "histogram2d"
                      }
                    ],
                    "histogram2dcontour": [
                      {
                        "colorbar": {
                          "outlinewidth": 0,
                          "ticks": ""
                        },
                        "colorscale": [
                          [
                            0,
                            "#0d0887"
                          ],
                          [
                            0.1111111111111111,
                            "#46039f"
                          ],
                          [
                            0.2222222222222222,
                            "#7201a8"
                          ],
                          [
                            0.3333333333333333,
                            "#9c179e"
                          ],
                          [
                            0.4444444444444444,
                            "#bd3786"
                          ],
                          [
                            0.5555555555555556,
                            "#d8576b"
                          ],
                          [
                            0.6666666666666666,
                            "#ed7953"
                          ],
                          [
                            0.7777777777777778,
                            "#fb9f3a"
                          ],
                          [
                            0.8888888888888888,
                            "#fdca26"
                          ],
                          [
                            1,
                            "#f0f921"
                          ]
                        ],
                        "type": "histogram2dcontour"
                      }
                    ],
                    "mesh3d": [
                      {
                        "colorbar": {
                          "outlinewidth": 0,
                          "ticks": ""
                        },
                        "type": "mesh3d"
                      }
                    ],
                    "parcoords": [
                      {
                        "line": {
                          "colorbar": {
                            "outlinewidth": 0,
                            "ticks": ""
                          }
                        },
                        "type": "parcoords"
                      }
                    ],
                    "pie": [
                      {
                        "automargin": true,
                        "type": "pie"
                      }
                    ],
                    "scatter": [
                      {
                        "fillpattern": {
                          "fillmode": "overlay",
                          "size": 10,
                          "solidity": 0.2
                        },
                        "type": "scatter"
                      }
                    ],
                    "scatter3d": [
                      {
                        "line": {
                          "colorbar": {
                            "outlinewidth": 0,
                            "ticks": ""
                          }
                        },
                        "marker": {
                          "colorbar": {
                            "outlinewidth": 0,
                            "ticks": ""
                          }
                        },
                        "type": "scatter3d"
                      }
                    ],
                    "scattercarpet": [
                      {
                        "marker": {
                          "colorbar": {
                            "outlinewidth": 0,
                            "ticks": ""
                          }
                        },
                        "type": "scattercarpet"
                      }
                    ],
                    "scattergeo": [
                      {
                        "marker": {
                          "colorbar": {
                            "outlinewidth": 0,
                            "ticks": ""
                          }
                        },
                        "type": "scattergeo"
                      }
                    ],
                    "scattergl": [
                      {
                        "marker": {
                          "colorbar": {
                            "outlinewidth": 0,
                            "ticks": ""
                          }
                        },
                        "type": "scattergl"
                      }
                    ],
                    "scattermapbox": [
                      {
                        "marker": {
                          "colorbar": {
                            "outlinewidth": 0,
                            "ticks": ""
                          }
                        },
                        "type": "scattermapbox"
                      }
                    ],
                    "scatterpolar": [
                      {
                        "marker": {
                          "colorbar": {
                            "outlinewidth": 0,
                            "ticks": ""
                          }
                        },
                        "type": "scatterpolar"
                      }
                    ],
                    "scatterpolargl": [
                      {
                        "marker": {
                          "colorbar": {
                            "outlinewidth": 0,
                            "ticks": ""
                          }
                        },
                        "type": "scatterpolargl"
                      }
                    ],
                    "scatterternary": [
                      {
                        "marker": {
                          "colorbar": {
                            "outlinewidth": 0,
                            "ticks": ""
                          }
                        },
                        "type": "scatterternary"
                      }
                    ],
                    "surface": [
                      {
                        "colorbar": {
                          "outlinewidth": 0,
                          "ticks": ""
                        },
                        "colorscale": [
                          [
                            0,
                            "#0d0887"
                          ],
                          [
                            0.1111111111111111,
                            "#46039f"
                          ],
                          [
                            0.2222222222222222,
                            "#7201a8"
                          ],
                          [
                            0.3333333333333333,
                            "#9c179e"
                          ],
                          [
                            0.4444444444444444,
                            "#bd3786"
                          ],
                          [
                            0.5555555555555556,
                            "#d8576b"
                          ],
                          [
                            0.6666666666666666,
                            "#ed7953"
                          ],
                          [
                            0.7777777777777778,
                            "#fb9f3a"
                          ],
                          [
                            0.8888888888888888,
                            "#fdca26"
                          ],
                          [
                            1,
                            "#f0f921"
                          ]
                        ],
                        "type": "surface"
                      }
                    ],
                    "table": [
                      {
                        "cells": {
                          "fill": {
                            "color": "#EBF0F8"
                          },
                          "line": {
                            "color": "white"
                          }
                        },
                        "header": {
                          "fill": {
                            "color": "#C8D4E3"
                          },
                          "line": {
                            "color": "white"
                          }
                        },
                        "type": "table"
                      }
                    ]
                  },
                  "layout": {
                    "annotationdefaults": {
                      "arrowcolor": "#2a3f5f",
                      "arrowhead": 0,
                      "arrowwidth": 1
                    },
                    "autotypenumbers": "strict",
                    "coloraxis": {
                      "colorbar": {
                        "outlinewidth": 0,
                        "ticks": ""
                      }
                    },
                    "colorscale": {
                      "diverging": [
                        [
                          0,
                          "#8e0152"
                        ],
                        [
                          0.1,
                          "#c51b7d"
                        ],
                        [
                          0.2,
                          "#de77ae"
                        ],
                        [
                          0.3,
                          "#f1b6da"
                        ],
                        [
                          0.4,
                          "#fde0ef"
                        ],
                        [
                          0.5,
                          "#f7f7f7"
                        ],
                        [
                          0.6,
                          "#e6f5d0"
                        ],
                        [
                          0.7,
                          "#b8e186"
                        ],
                        [
                          0.8,
                          "#7fbc41"
                        ],
                        [
                          0.9,
                          "#4d9221"
                        ],
                        [
                          1,
                          "#276419"
                        ]
                      ],
                      "sequential": [
                        [
                          0,
                          "#0d0887"
                        ],
                        [
                          0.1111111111111111,
                          "#46039f"
                        ],
                        [
                          0.2222222222222222,
                          "#7201a8"
                        ],
                        [
                          0.3333333333333333,
                          "#9c179e"
                        ],
                        [
                          0.4444444444444444,
                          "#bd3786"
                        ],
                        [
                          0.5555555555555556,
                          "#d8576b"
                        ],
                        [
                          0.6666666666666666,
                          "#ed7953"
                        ],
                        [
                          0.7777777777777778,
                          "#fb9f3a"
                        ],
                        [
                          0.8888888888888888,
                          "#fdca26"
                        ],
                        [
                          1,
                          "#f0f921"
                        ]
                      ],
                      "sequentialminus": [
                        [
                          0,
                          "#0d0887"
                        ],
                        [
                          0.1111111111111111,
                          "#46039f"
                        ],
                        [
                          0.2222222222222222,
                          "#7201a8"
                        ],
                        [
                          0.3333333333333333,
                          "#9c179e"
                        ],
                        [
                          0.4444444444444444,
                          "#bd3786"
                        ],
                        [
                          0.5555555555555556,
                          "#d8576b"
                        ],
                        [
                          0.6666666666666666,
                          "#ed7953"
                        ],
                        [
                          0.7777777777777778,
                          "#fb9f3a"
                        ],
                        [
                          0.8888888888888888,
                          "#fdca26"
                        ],
                        [
                          1,
                          "#f0f921"
                        ]
                      ]
                    },
                    "colorway": [
                      "#636efa",
                      "#EF553B",
                      "#00cc96",
                      "#ab63fa",
                      "#FFA15A",
                      "#19d3f3",
                      "#FF6692",
                      "#B6E880",
                      "#FF97FF",
                      "#FECB52"
                    ],
                    "font": {
                      "color": "#2a3f5f"
                    },
                    "geo": {
                      "bgcolor": "white",
                      "lakecolor": "white",
                      "landcolor": "#E5ECF6",
                      "showlakes": true,
                      "showland": true,
                      "subunitcolor": "white"
                    },
                    "hoverlabel": {
                      "align": "left"
                    },
                    "hovermode": "closest",
                    "mapbox": {
                      "style": "light"
                    },
                    "paper_bgcolor": "white",
                    "plot_bgcolor": "#E5ECF6",
                    "polar": {
                      "angularaxis": {
                        "gridcolor": "white",
                        "linecolor": "white",
                        "ticks": ""
                      },
                      "bgcolor": "#E5ECF6",
                      "radialaxis": {
                        "gridcolor": "white",
                        "linecolor": "white",
                        "ticks": ""
                      }
                    },
                    "scene": {
                      "xaxis": {
                        "backgroundcolor": "#E5ECF6",
                        "gridcolor": "white",
                        "gridwidth": 2,
                        "linecolor": "white",
                        "showbackground": true,
                        "ticks": "",
                        "zerolinecolor": "white"
                      },
                      "yaxis": {
                        "backgroundcolor": "#E5ECF6",
                        "gridcolor": "white",
                        "gridwidth": 2,
                        "linecolor": "white",
                        "showbackground": true,
                        "ticks": "",
                        "zerolinecolor": "white"
                      },
                      "zaxis": {
                        "backgroundcolor": "#E5ECF6",
                        "gridcolor": "white",
                        "gridwidth": 2,
                        "linecolor": "white",
                        "showbackground": true,
                        "ticks": "",
                        "zerolinecolor": "white"
                      }
                    },
                    "shapedefaults": {
                      "line": {
                        "color": "#2a3f5f"
                      }
                    },
                    "ternary": {
                      "aaxis": {
                        "gridcolor": "white",
                        "linecolor": "white",
                        "ticks": ""
                      },
                      "baxis": {
                        "gridcolor": "white",
                        "linecolor": "white",
                        "ticks": ""
                      },
                      "bgcolor": "#E5ECF6",
                      "caxis": {
                        "gridcolor": "white",
                        "linecolor": "white",
                        "ticks": ""
                      }
                    },
                    "title": {
                      "x": 0.05
                    },
                    "xaxis": {
                      "automargin": true,
                      "gridcolor": "white",
                      "linecolor": "white",
                      "ticks": "",
                      "title": {
                        "standoff": 15
                      },
                      "zerolinecolor": "white",
                      "zerolinewidth": 2
                    },
                    "yaxis": {
                      "automargin": true,
                      "gridcolor": "white",
                      "linecolor": "white",
                      "ticks": "",
                      "title": {
                        "standoff": 15
                      },
                      "zerolinecolor": "white",
                      "zerolinewidth": 2
                    }
                  }
                },
                "title": {
                  "text": "Optimization History Plot"
                },
                "xaxis": {
                  "title": {
                    "text": "Trial"
                  }
                },
                "yaxis": {
                  "title": {
                    "text": "Objective Value"
                  }
                }
              }
            }
          },
          "metadata": {},
          "output_type": "display_data"
        }
      ],
      "source": [
        "optuna.visualization.plot_optimization_history(study_1)"
      ]
    },
    {
      "cell_type": "code",
      "execution_count": 43,
      "metadata": {},
      "outputs": [],
      "source": [
        "import plotly"
      ]
    },
    {
      "cell_type": "code",
      "execution_count": 44,
      "metadata": {
        "colab": {
          "base_uri": "https://localhost:8080/",
          "height": 542
        },
        "id": "rAXxLFt5v6L3",
        "outputId": "e927ce1a-c454-4ddd-8a5b-c4c0c5b2dacf"
      },
      "outputs": [
        {
          "data": {
            "application/vnd.plotly.v1+json": {
              "config": {
                "plotlyServerURL": "https://plot.ly"
              },
              "data": [
                {
                  "marker": {
                    "color": [
                      0,
                      1
                    ],
                    "colorbar": {
                      "title": {
                        "text": "Trial"
                      },
                      "x": 1,
                      "xpad": 40
                    },
                    "colorscale": [
                      [
                        0,
                        "rgb(247,251,255)"
                      ],
                      [
                        0.125,
                        "rgb(222,235,247)"
                      ],
                      [
                        0.25,
                        "rgb(198,219,239)"
                      ],
                      [
                        0.375,
                        "rgb(158,202,225)"
                      ],
                      [
                        0.5,
                        "rgb(107,174,214)"
                      ],
                      [
                        0.625,
                        "rgb(66,146,198)"
                      ],
                      [
                        0.75,
                        "rgb(33,113,181)"
                      ],
                      [
                        0.875,
                        "rgb(8,81,156)"
                      ],
                      [
                        1,
                        "rgb(8,48,107)"
                      ]
                    ],
                    "line": {
                      "color": "Grey",
                      "width": 0.5
                    },
                    "showscale": true
                  },
                  "mode": "markers",
                  "showlegend": false,
                  "type": "scatter",
                  "x": [
                    "entropy",
                    "entropy"
                  ],
                  "xaxis": "x",
                  "y": [
                    0.5950359712230215,
                    0.6134326824254882
                  ],
                  "yaxis": "y"
                },
                {
                  "marker": {
                    "color": [
                      0,
                      1
                    ],
                    "colorbar": {
                      "title": {
                        "text": "Trial"
                      },
                      "x": 1,
                      "xpad": 40
                    },
                    "colorscale": [
                      [
                        0,
                        "rgb(247,251,255)"
                      ],
                      [
                        0.125,
                        "rgb(222,235,247)"
                      ],
                      [
                        0.25,
                        "rgb(198,219,239)"
                      ],
                      [
                        0.375,
                        "rgb(158,202,225)"
                      ],
                      [
                        0.5,
                        "rgb(107,174,214)"
                      ],
                      [
                        0.625,
                        "rgb(66,146,198)"
                      ],
                      [
                        0.75,
                        "rgb(33,113,181)"
                      ],
                      [
                        0.875,
                        "rgb(8,81,156)"
                      ],
                      [
                        1,
                        "rgb(8,48,107)"
                      ]
                    ],
                    "line": {
                      "color": "Grey",
                      "width": 0.5
                    },
                    "showscale": false
                  },
                  "mode": "markers",
                  "showlegend": false,
                  "type": "scatter",
                  "x": [
                    4,
                    9
                  ],
                  "xaxis": "x2",
                  "y": [
                    0.5950359712230215,
                    0.6134326824254882
                  ],
                  "yaxis": "y2"
                },
                {
                  "marker": {
                    "color": [
                      0,
                      1
                    ],
                    "colorbar": {
                      "title": {
                        "text": "Trial"
                      },
                      "x": 1,
                      "xpad": 40
                    },
                    "colorscale": [
                      [
                        0,
                        "rgb(247,251,255)"
                      ],
                      [
                        0.125,
                        "rgb(222,235,247)"
                      ],
                      [
                        0.25,
                        "rgb(198,219,239)"
                      ],
                      [
                        0.375,
                        "rgb(158,202,225)"
                      ],
                      [
                        0.5,
                        "rgb(107,174,214)"
                      ],
                      [
                        0.625,
                        "rgb(66,146,198)"
                      ],
                      [
                        0.75,
                        "rgb(33,113,181)"
                      ],
                      [
                        0.875,
                        "rgb(8,81,156)"
                      ],
                      [
                        1,
                        "rgb(8,48,107)"
                      ]
                    ],
                    "line": {
                      "color": "Grey",
                      "width": 0.5
                    },
                    "showscale": false
                  },
                  "mode": "markers",
                  "showlegend": false,
                  "type": "scatter",
                  "x": [
                    8,
                    6
                  ],
                  "xaxis": "x3",
                  "y": [
                    0.5950359712230215,
                    0.6134326824254882
                  ],
                  "yaxis": "y3"
                },
                {
                  "marker": {
                    "color": [
                      0,
                      1
                    ],
                    "colorbar": {
                      "title": {
                        "text": "Trial"
                      },
                      "x": 1,
                      "xpad": 40
                    },
                    "colorscale": [
                      [
                        0,
                        "rgb(247,251,255)"
                      ],
                      [
                        0.125,
                        "rgb(222,235,247)"
                      ],
                      [
                        0.25,
                        "rgb(198,219,239)"
                      ],
                      [
                        0.375,
                        "rgb(158,202,225)"
                      ],
                      [
                        0.5,
                        "rgb(107,174,214)"
                      ],
                      [
                        0.625,
                        "rgb(66,146,198)"
                      ],
                      [
                        0.75,
                        "rgb(33,113,181)"
                      ],
                      [
                        0.875,
                        "rgb(8,81,156)"
                      ],
                      [
                        1,
                        "rgb(8,48,107)"
                      ]
                    ],
                    "line": {
                      "color": "Grey",
                      "width": 0.5
                    },
                    "showscale": false
                  },
                  "mode": "markers",
                  "showlegend": false,
                  "type": "scatter",
                  "x": [
                    2,
                    7
                  ],
                  "xaxis": "x4",
                  "y": [
                    0.5950359712230215,
                    0.6134326824254882
                  ],
                  "yaxis": "y4"
                },
                {
                  "marker": {
                    "color": [
                      0,
                      1
                    ],
                    "colorbar": {
                      "title": {
                        "text": "Trial"
                      },
                      "x": 1,
                      "xpad": 40
                    },
                    "colorscale": [
                      [
                        0,
                        "rgb(247,251,255)"
                      ],
                      [
                        0.125,
                        "rgb(222,235,247)"
                      ],
                      [
                        0.25,
                        "rgb(198,219,239)"
                      ],
                      [
                        0.375,
                        "rgb(158,202,225)"
                      ],
                      [
                        0.5,
                        "rgb(107,174,214)"
                      ],
                      [
                        0.625,
                        "rgb(66,146,198)"
                      ],
                      [
                        0.75,
                        "rgb(33,113,181)"
                      ],
                      [
                        0.875,
                        "rgb(8,81,156)"
                      ],
                      [
                        1,
                        "rgb(8,48,107)"
                      ]
                    ],
                    "line": {
                      "color": "Grey",
                      "width": 0.5
                    },
                    "showscale": false
                  },
                  "mode": "markers",
                  "showlegend": false,
                  "type": "scatter",
                  "x": [
                    20,
                    25
                  ],
                  "xaxis": "x5",
                  "y": [
                    0.5950359712230215,
                    0.6134326824254882
                  ],
                  "yaxis": "y5"
                }
              ],
              "layout": {
                "template": {
                  "data": {
                    "bar": [
                      {
                        "error_x": {
                          "color": "#2a3f5f"
                        },
                        "error_y": {
                          "color": "#2a3f5f"
                        },
                        "marker": {
                          "line": {
                            "color": "#E5ECF6",
                            "width": 0.5
                          },
                          "pattern": {
                            "fillmode": "overlay",
                            "size": 10,
                            "solidity": 0.2
                          }
                        },
                        "type": "bar"
                      }
                    ],
                    "barpolar": [
                      {
                        "marker": {
                          "line": {
                            "color": "#E5ECF6",
                            "width": 0.5
                          },
                          "pattern": {
                            "fillmode": "overlay",
                            "size": 10,
                            "solidity": 0.2
                          }
                        },
                        "type": "barpolar"
                      }
                    ],
                    "carpet": [
                      {
                        "aaxis": {
                          "endlinecolor": "#2a3f5f",
                          "gridcolor": "white",
                          "linecolor": "white",
                          "minorgridcolor": "white",
                          "startlinecolor": "#2a3f5f"
                        },
                        "baxis": {
                          "endlinecolor": "#2a3f5f",
                          "gridcolor": "white",
                          "linecolor": "white",
                          "minorgridcolor": "white",
                          "startlinecolor": "#2a3f5f"
                        },
                        "type": "carpet"
                      }
                    ],
                    "choropleth": [
                      {
                        "colorbar": {
                          "outlinewidth": 0,
                          "ticks": ""
                        },
                        "type": "choropleth"
                      }
                    ],
                    "contour": [
                      {
                        "colorbar": {
                          "outlinewidth": 0,
                          "ticks": ""
                        },
                        "colorscale": [
                          [
                            0,
                            "#0d0887"
                          ],
                          [
                            0.1111111111111111,
                            "#46039f"
                          ],
                          [
                            0.2222222222222222,
                            "#7201a8"
                          ],
                          [
                            0.3333333333333333,
                            "#9c179e"
                          ],
                          [
                            0.4444444444444444,
                            "#bd3786"
                          ],
                          [
                            0.5555555555555556,
                            "#d8576b"
                          ],
                          [
                            0.6666666666666666,
                            "#ed7953"
                          ],
                          [
                            0.7777777777777778,
                            "#fb9f3a"
                          ],
                          [
                            0.8888888888888888,
                            "#fdca26"
                          ],
                          [
                            1,
                            "#f0f921"
                          ]
                        ],
                        "type": "contour"
                      }
                    ],
                    "contourcarpet": [
                      {
                        "colorbar": {
                          "outlinewidth": 0,
                          "ticks": ""
                        },
                        "type": "contourcarpet"
                      }
                    ],
                    "heatmap": [
                      {
                        "colorbar": {
                          "outlinewidth": 0,
                          "ticks": ""
                        },
                        "colorscale": [
                          [
                            0,
                            "#0d0887"
                          ],
                          [
                            0.1111111111111111,
                            "#46039f"
                          ],
                          [
                            0.2222222222222222,
                            "#7201a8"
                          ],
                          [
                            0.3333333333333333,
                            "#9c179e"
                          ],
                          [
                            0.4444444444444444,
                            "#bd3786"
                          ],
                          [
                            0.5555555555555556,
                            "#d8576b"
                          ],
                          [
                            0.6666666666666666,
                            "#ed7953"
                          ],
                          [
                            0.7777777777777778,
                            "#fb9f3a"
                          ],
                          [
                            0.8888888888888888,
                            "#fdca26"
                          ],
                          [
                            1,
                            "#f0f921"
                          ]
                        ],
                        "type": "heatmap"
                      }
                    ],
                    "heatmapgl": [
                      {
                        "colorbar": {
                          "outlinewidth": 0,
                          "ticks": ""
                        },
                        "colorscale": [
                          [
                            0,
                            "#0d0887"
                          ],
                          [
                            0.1111111111111111,
                            "#46039f"
                          ],
                          [
                            0.2222222222222222,
                            "#7201a8"
                          ],
                          [
                            0.3333333333333333,
                            "#9c179e"
                          ],
                          [
                            0.4444444444444444,
                            "#bd3786"
                          ],
                          [
                            0.5555555555555556,
                            "#d8576b"
                          ],
                          [
                            0.6666666666666666,
                            "#ed7953"
                          ],
                          [
                            0.7777777777777778,
                            "#fb9f3a"
                          ],
                          [
                            0.8888888888888888,
                            "#fdca26"
                          ],
                          [
                            1,
                            "#f0f921"
                          ]
                        ],
                        "type": "heatmapgl"
                      }
                    ],
                    "histogram": [
                      {
                        "marker": {
                          "pattern": {
                            "fillmode": "overlay",
                            "size": 10,
                            "solidity": 0.2
                          }
                        },
                        "type": "histogram"
                      }
                    ],
                    "histogram2d": [
                      {
                        "colorbar": {
                          "outlinewidth": 0,
                          "ticks": ""
                        },
                        "colorscale": [
                          [
                            0,
                            "#0d0887"
                          ],
                          [
                            0.1111111111111111,
                            "#46039f"
                          ],
                          [
                            0.2222222222222222,
                            "#7201a8"
                          ],
                          [
                            0.3333333333333333,
                            "#9c179e"
                          ],
                          [
                            0.4444444444444444,
                            "#bd3786"
                          ],
                          [
                            0.5555555555555556,
                            "#d8576b"
                          ],
                          [
                            0.6666666666666666,
                            "#ed7953"
                          ],
                          [
                            0.7777777777777778,
                            "#fb9f3a"
                          ],
                          [
                            0.8888888888888888,
                            "#fdca26"
                          ],
                          [
                            1,
                            "#f0f921"
                          ]
                        ],
                        "type": "histogram2d"
                      }
                    ],
                    "histogram2dcontour": [
                      {
                        "colorbar": {
                          "outlinewidth": 0,
                          "ticks": ""
                        },
                        "colorscale": [
                          [
                            0,
                            "#0d0887"
                          ],
                          [
                            0.1111111111111111,
                            "#46039f"
                          ],
                          [
                            0.2222222222222222,
                            "#7201a8"
                          ],
                          [
                            0.3333333333333333,
                            "#9c179e"
                          ],
                          [
                            0.4444444444444444,
                            "#bd3786"
                          ],
                          [
                            0.5555555555555556,
                            "#d8576b"
                          ],
                          [
                            0.6666666666666666,
                            "#ed7953"
                          ],
                          [
                            0.7777777777777778,
                            "#fb9f3a"
                          ],
                          [
                            0.8888888888888888,
                            "#fdca26"
                          ],
                          [
                            1,
                            "#f0f921"
                          ]
                        ],
                        "type": "histogram2dcontour"
                      }
                    ],
                    "mesh3d": [
                      {
                        "colorbar": {
                          "outlinewidth": 0,
                          "ticks": ""
                        },
                        "type": "mesh3d"
                      }
                    ],
                    "parcoords": [
                      {
                        "line": {
                          "colorbar": {
                            "outlinewidth": 0,
                            "ticks": ""
                          }
                        },
                        "type": "parcoords"
                      }
                    ],
                    "pie": [
                      {
                        "automargin": true,
                        "type": "pie"
                      }
                    ],
                    "scatter": [
                      {
                        "fillpattern": {
                          "fillmode": "overlay",
                          "size": 10,
                          "solidity": 0.2
                        },
                        "type": "scatter"
                      }
                    ],
                    "scatter3d": [
                      {
                        "line": {
                          "colorbar": {
                            "outlinewidth": 0,
                            "ticks": ""
                          }
                        },
                        "marker": {
                          "colorbar": {
                            "outlinewidth": 0,
                            "ticks": ""
                          }
                        },
                        "type": "scatter3d"
                      }
                    ],
                    "scattercarpet": [
                      {
                        "marker": {
                          "colorbar": {
                            "outlinewidth": 0,
                            "ticks": ""
                          }
                        },
                        "type": "scattercarpet"
                      }
                    ],
                    "scattergeo": [
                      {
                        "marker": {
                          "colorbar": {
                            "outlinewidth": 0,
                            "ticks": ""
                          }
                        },
                        "type": "scattergeo"
                      }
                    ],
                    "scattergl": [
                      {
                        "marker": {
                          "colorbar": {
                            "outlinewidth": 0,
                            "ticks": ""
                          }
                        },
                        "type": "scattergl"
                      }
                    ],
                    "scattermapbox": [
                      {
                        "marker": {
                          "colorbar": {
                            "outlinewidth": 0,
                            "ticks": ""
                          }
                        },
                        "type": "scattermapbox"
                      }
                    ],
                    "scatterpolar": [
                      {
                        "marker": {
                          "colorbar": {
                            "outlinewidth": 0,
                            "ticks": ""
                          }
                        },
                        "type": "scatterpolar"
                      }
                    ],
                    "scatterpolargl": [
                      {
                        "marker": {
                          "colorbar": {
                            "outlinewidth": 0,
                            "ticks": ""
                          }
                        },
                        "type": "scatterpolargl"
                      }
                    ],
                    "scatterternary": [
                      {
                        "marker": {
                          "colorbar": {
                            "outlinewidth": 0,
                            "ticks": ""
                          }
                        },
                        "type": "scatterternary"
                      }
                    ],
                    "surface": [
                      {
                        "colorbar": {
                          "outlinewidth": 0,
                          "ticks": ""
                        },
                        "colorscale": [
                          [
                            0,
                            "#0d0887"
                          ],
                          [
                            0.1111111111111111,
                            "#46039f"
                          ],
                          [
                            0.2222222222222222,
                            "#7201a8"
                          ],
                          [
                            0.3333333333333333,
                            "#9c179e"
                          ],
                          [
                            0.4444444444444444,
                            "#bd3786"
                          ],
                          [
                            0.5555555555555556,
                            "#d8576b"
                          ],
                          [
                            0.6666666666666666,
                            "#ed7953"
                          ],
                          [
                            0.7777777777777778,
                            "#fb9f3a"
                          ],
                          [
                            0.8888888888888888,
                            "#fdca26"
                          ],
                          [
                            1,
                            "#f0f921"
                          ]
                        ],
                        "type": "surface"
                      }
                    ],
                    "table": [
                      {
                        "cells": {
                          "fill": {
                            "color": "#EBF0F8"
                          },
                          "line": {
                            "color": "white"
                          }
                        },
                        "header": {
                          "fill": {
                            "color": "#C8D4E3"
                          },
                          "line": {
                            "color": "white"
                          }
                        },
                        "type": "table"
                      }
                    ]
                  },
                  "layout": {
                    "annotationdefaults": {
                      "arrowcolor": "#2a3f5f",
                      "arrowhead": 0,
                      "arrowwidth": 1
                    },
                    "autotypenumbers": "strict",
                    "coloraxis": {
                      "colorbar": {
                        "outlinewidth": 0,
                        "ticks": ""
                      }
                    },
                    "colorscale": {
                      "diverging": [
                        [
                          0,
                          "#8e0152"
                        ],
                        [
                          0.1,
                          "#c51b7d"
                        ],
                        [
                          0.2,
                          "#de77ae"
                        ],
                        [
                          0.3,
                          "#f1b6da"
                        ],
                        [
                          0.4,
                          "#fde0ef"
                        ],
                        [
                          0.5,
                          "#f7f7f7"
                        ],
                        [
                          0.6,
                          "#e6f5d0"
                        ],
                        [
                          0.7,
                          "#b8e186"
                        ],
                        [
                          0.8,
                          "#7fbc41"
                        ],
                        [
                          0.9,
                          "#4d9221"
                        ],
                        [
                          1,
                          "#276419"
                        ]
                      ],
                      "sequential": [
                        [
                          0,
                          "#0d0887"
                        ],
                        [
                          0.1111111111111111,
                          "#46039f"
                        ],
                        [
                          0.2222222222222222,
                          "#7201a8"
                        ],
                        [
                          0.3333333333333333,
                          "#9c179e"
                        ],
                        [
                          0.4444444444444444,
                          "#bd3786"
                        ],
                        [
                          0.5555555555555556,
                          "#d8576b"
                        ],
                        [
                          0.6666666666666666,
                          "#ed7953"
                        ],
                        [
                          0.7777777777777778,
                          "#fb9f3a"
                        ],
                        [
                          0.8888888888888888,
                          "#fdca26"
                        ],
                        [
                          1,
                          "#f0f921"
                        ]
                      ],
                      "sequentialminus": [
                        [
                          0,
                          "#0d0887"
                        ],
                        [
                          0.1111111111111111,
                          "#46039f"
                        ],
                        [
                          0.2222222222222222,
                          "#7201a8"
                        ],
                        [
                          0.3333333333333333,
                          "#9c179e"
                        ],
                        [
                          0.4444444444444444,
                          "#bd3786"
                        ],
                        [
                          0.5555555555555556,
                          "#d8576b"
                        ],
                        [
                          0.6666666666666666,
                          "#ed7953"
                        ],
                        [
                          0.7777777777777778,
                          "#fb9f3a"
                        ],
                        [
                          0.8888888888888888,
                          "#fdca26"
                        ],
                        [
                          1,
                          "#f0f921"
                        ]
                      ]
                    },
                    "colorway": [
                      "#636efa",
                      "#EF553B",
                      "#00cc96",
                      "#ab63fa",
                      "#FFA15A",
                      "#19d3f3",
                      "#FF6692",
                      "#B6E880",
                      "#FF97FF",
                      "#FECB52"
                    ],
                    "font": {
                      "color": "#2a3f5f"
                    },
                    "geo": {
                      "bgcolor": "white",
                      "lakecolor": "white",
                      "landcolor": "#E5ECF6",
                      "showlakes": true,
                      "showland": true,
                      "subunitcolor": "white"
                    },
                    "hoverlabel": {
                      "align": "left"
                    },
                    "hovermode": "closest",
                    "mapbox": {
                      "style": "light"
                    },
                    "paper_bgcolor": "white",
                    "plot_bgcolor": "#E5ECF6",
                    "polar": {
                      "angularaxis": {
                        "gridcolor": "white",
                        "linecolor": "white",
                        "ticks": ""
                      },
                      "bgcolor": "#E5ECF6",
                      "radialaxis": {
                        "gridcolor": "white",
                        "linecolor": "white",
                        "ticks": ""
                      }
                    },
                    "scene": {
                      "xaxis": {
                        "backgroundcolor": "#E5ECF6",
                        "gridcolor": "white",
                        "gridwidth": 2,
                        "linecolor": "white",
                        "showbackground": true,
                        "ticks": "",
                        "zerolinecolor": "white"
                      },
                      "yaxis": {
                        "backgroundcolor": "#E5ECF6",
                        "gridcolor": "white",
                        "gridwidth": 2,
                        "linecolor": "white",
                        "showbackground": true,
                        "ticks": "",
                        "zerolinecolor": "white"
                      },
                      "zaxis": {
                        "backgroundcolor": "#E5ECF6",
                        "gridcolor": "white",
                        "gridwidth": 2,
                        "linecolor": "white",
                        "showbackground": true,
                        "ticks": "",
                        "zerolinecolor": "white"
                      }
                    },
                    "shapedefaults": {
                      "line": {
                        "color": "#2a3f5f"
                      }
                    },
                    "ternary": {
                      "aaxis": {
                        "gridcolor": "white",
                        "linecolor": "white",
                        "ticks": ""
                      },
                      "baxis": {
                        "gridcolor": "white",
                        "linecolor": "white",
                        "ticks": ""
                      },
                      "bgcolor": "#E5ECF6",
                      "caxis": {
                        "gridcolor": "white",
                        "linecolor": "white",
                        "ticks": ""
                      }
                    },
                    "title": {
                      "x": 0.05
                    },
                    "xaxis": {
                      "automargin": true,
                      "gridcolor": "white",
                      "linecolor": "white",
                      "ticks": "",
                      "title": {
                        "standoff": 15
                      },
                      "zerolinecolor": "white",
                      "zerolinewidth": 2
                    },
                    "yaxis": {
                      "automargin": true,
                      "gridcolor": "white",
                      "linecolor": "white",
                      "ticks": "",
                      "title": {
                        "standoff": 15
                      },
                      "zerolinecolor": "white",
                      "zerolinewidth": 2
                    }
                  }
                },
                "title": {
                  "text": "Slice Plot"
                },
                "width": 1500,
                "xaxis": {
                  "anchor": "y",
                  "domain": [
                    0,
                    0.16799999999999998
                  ],
                  "title": {
                    "text": "criterion"
                  }
                },
                "xaxis2": {
                  "anchor": "y2",
                  "domain": [
                    0.208,
                    0.376
                  ],
                  "title": {
                    "text": "max_depth"
                  }
                },
                "xaxis3": {
                  "anchor": "y3",
                  "domain": [
                    0.416,
                    0.584
                  ],
                  "title": {
                    "text": "min_samples_leaf"
                  }
                },
                "xaxis4": {
                  "anchor": "y4",
                  "domain": [
                    0.624,
                    0.792
                  ],
                  "title": {
                    "text": "min_samples_split"
                  }
                },
                "xaxis5": {
                  "anchor": "y5",
                  "domain": [
                    0.832,
                    1
                  ],
                  "title": {
                    "text": "n_estimators"
                  }
                },
                "yaxis": {
                  "anchor": "x",
                  "domain": [
                    0,
                    1
                  ],
                  "title": {
                    "text": "Objective Value"
                  }
                },
                "yaxis2": {
                  "anchor": "x2",
                  "domain": [
                    0,
                    1
                  ],
                  "matches": "y",
                  "showticklabels": false
                },
                "yaxis3": {
                  "anchor": "x3",
                  "domain": [
                    0,
                    1
                  ],
                  "matches": "y",
                  "showticklabels": false
                },
                "yaxis4": {
                  "anchor": "x4",
                  "domain": [
                    0,
                    1
                  ],
                  "matches": "y",
                  "showticklabels": false
                },
                "yaxis5": {
                  "anchor": "x5",
                  "domain": [
                    0,
                    1
                  ],
                  "matches": "y",
                  "showticklabels": false
                }
              }
            }
          },
          "metadata": {},
          "output_type": "display_data"
        }
      ],
      "source": [
        "optuna.visualization.plot_slice(study_1)"
      ]
    },
    {
      "cell_type": "code",
      "execution_count": 45,
      "metadata": {
        "colab": {
          "base_uri": "https://localhost:8080/",
          "height": 542
        },
        "id": "5oNSAEGWv8dT",
        "outputId": "a938f345-866e-495c-d6db-e901973838d2"
      },
      "outputs": [
        {
          "data": {
            "application/vnd.plotly.v1+json": {
              "config": {
                "plotlyServerURL": "https://plot.ly"
              },
              "data": [
                {
                  "cliponaxis": false,
                  "hovertemplate": [
                    "criterion (CategoricalDistribution): 0.0<extra></extra>",
                    "max_depth (IntDistribution): 0.1935483870967742<extra></extra>",
                    "min_samples_leaf (IntDistribution): 0.1935483870967742<extra></extra>",
                    "n_estimators (IntDistribution): 0.25806451612903225<extra></extra>",
                    "min_samples_split (IntDistribution): 0.3548387096774194<extra></extra>"
                  ],
                  "marker": {
                    "color": "rgb(66,146,198)"
                  },
                  "orientation": "h",
                  "text": [
                    "<0.01",
                    "0.19",
                    "0.19",
                    "0.26",
                    "0.35"
                  ],
                  "textposition": "outside",
                  "type": "bar",
                  "x": [
                    0,
                    0.1935483870967742,
                    0.1935483870967742,
                    0.25806451612903225,
                    0.3548387096774194
                  ],
                  "y": [
                    "criterion",
                    "max_depth",
                    "min_samples_leaf",
                    "n_estimators",
                    "min_samples_split"
                  ]
                }
              ],
              "layout": {
                "showlegend": false,
                "template": {
                  "data": {
                    "bar": [
                      {
                        "error_x": {
                          "color": "#2a3f5f"
                        },
                        "error_y": {
                          "color": "#2a3f5f"
                        },
                        "marker": {
                          "line": {
                            "color": "#E5ECF6",
                            "width": 0.5
                          },
                          "pattern": {
                            "fillmode": "overlay",
                            "size": 10,
                            "solidity": 0.2
                          }
                        },
                        "type": "bar"
                      }
                    ],
                    "barpolar": [
                      {
                        "marker": {
                          "line": {
                            "color": "#E5ECF6",
                            "width": 0.5
                          },
                          "pattern": {
                            "fillmode": "overlay",
                            "size": 10,
                            "solidity": 0.2
                          }
                        },
                        "type": "barpolar"
                      }
                    ],
                    "carpet": [
                      {
                        "aaxis": {
                          "endlinecolor": "#2a3f5f",
                          "gridcolor": "white",
                          "linecolor": "white",
                          "minorgridcolor": "white",
                          "startlinecolor": "#2a3f5f"
                        },
                        "baxis": {
                          "endlinecolor": "#2a3f5f",
                          "gridcolor": "white",
                          "linecolor": "white",
                          "minorgridcolor": "white",
                          "startlinecolor": "#2a3f5f"
                        },
                        "type": "carpet"
                      }
                    ],
                    "choropleth": [
                      {
                        "colorbar": {
                          "outlinewidth": 0,
                          "ticks": ""
                        },
                        "type": "choropleth"
                      }
                    ],
                    "contour": [
                      {
                        "colorbar": {
                          "outlinewidth": 0,
                          "ticks": ""
                        },
                        "colorscale": [
                          [
                            0,
                            "#0d0887"
                          ],
                          [
                            0.1111111111111111,
                            "#46039f"
                          ],
                          [
                            0.2222222222222222,
                            "#7201a8"
                          ],
                          [
                            0.3333333333333333,
                            "#9c179e"
                          ],
                          [
                            0.4444444444444444,
                            "#bd3786"
                          ],
                          [
                            0.5555555555555556,
                            "#d8576b"
                          ],
                          [
                            0.6666666666666666,
                            "#ed7953"
                          ],
                          [
                            0.7777777777777778,
                            "#fb9f3a"
                          ],
                          [
                            0.8888888888888888,
                            "#fdca26"
                          ],
                          [
                            1,
                            "#f0f921"
                          ]
                        ],
                        "type": "contour"
                      }
                    ],
                    "contourcarpet": [
                      {
                        "colorbar": {
                          "outlinewidth": 0,
                          "ticks": ""
                        },
                        "type": "contourcarpet"
                      }
                    ],
                    "heatmap": [
                      {
                        "colorbar": {
                          "outlinewidth": 0,
                          "ticks": ""
                        },
                        "colorscale": [
                          [
                            0,
                            "#0d0887"
                          ],
                          [
                            0.1111111111111111,
                            "#46039f"
                          ],
                          [
                            0.2222222222222222,
                            "#7201a8"
                          ],
                          [
                            0.3333333333333333,
                            "#9c179e"
                          ],
                          [
                            0.4444444444444444,
                            "#bd3786"
                          ],
                          [
                            0.5555555555555556,
                            "#d8576b"
                          ],
                          [
                            0.6666666666666666,
                            "#ed7953"
                          ],
                          [
                            0.7777777777777778,
                            "#fb9f3a"
                          ],
                          [
                            0.8888888888888888,
                            "#fdca26"
                          ],
                          [
                            1,
                            "#f0f921"
                          ]
                        ],
                        "type": "heatmap"
                      }
                    ],
                    "heatmapgl": [
                      {
                        "colorbar": {
                          "outlinewidth": 0,
                          "ticks": ""
                        },
                        "colorscale": [
                          [
                            0,
                            "#0d0887"
                          ],
                          [
                            0.1111111111111111,
                            "#46039f"
                          ],
                          [
                            0.2222222222222222,
                            "#7201a8"
                          ],
                          [
                            0.3333333333333333,
                            "#9c179e"
                          ],
                          [
                            0.4444444444444444,
                            "#bd3786"
                          ],
                          [
                            0.5555555555555556,
                            "#d8576b"
                          ],
                          [
                            0.6666666666666666,
                            "#ed7953"
                          ],
                          [
                            0.7777777777777778,
                            "#fb9f3a"
                          ],
                          [
                            0.8888888888888888,
                            "#fdca26"
                          ],
                          [
                            1,
                            "#f0f921"
                          ]
                        ],
                        "type": "heatmapgl"
                      }
                    ],
                    "histogram": [
                      {
                        "marker": {
                          "pattern": {
                            "fillmode": "overlay",
                            "size": 10,
                            "solidity": 0.2
                          }
                        },
                        "type": "histogram"
                      }
                    ],
                    "histogram2d": [
                      {
                        "colorbar": {
                          "outlinewidth": 0,
                          "ticks": ""
                        },
                        "colorscale": [
                          [
                            0,
                            "#0d0887"
                          ],
                          [
                            0.1111111111111111,
                            "#46039f"
                          ],
                          [
                            0.2222222222222222,
                            "#7201a8"
                          ],
                          [
                            0.3333333333333333,
                            "#9c179e"
                          ],
                          [
                            0.4444444444444444,
                            "#bd3786"
                          ],
                          [
                            0.5555555555555556,
                            "#d8576b"
                          ],
                          [
                            0.6666666666666666,
                            "#ed7953"
                          ],
                          [
                            0.7777777777777778,
                            "#fb9f3a"
                          ],
                          [
                            0.8888888888888888,
                            "#fdca26"
                          ],
                          [
                            1,
                            "#f0f921"
                          ]
                        ],
                        "type": "histogram2d"
                      }
                    ],
                    "histogram2dcontour": [
                      {
                        "colorbar": {
                          "outlinewidth": 0,
                          "ticks": ""
                        },
                        "colorscale": [
                          [
                            0,
                            "#0d0887"
                          ],
                          [
                            0.1111111111111111,
                            "#46039f"
                          ],
                          [
                            0.2222222222222222,
                            "#7201a8"
                          ],
                          [
                            0.3333333333333333,
                            "#9c179e"
                          ],
                          [
                            0.4444444444444444,
                            "#bd3786"
                          ],
                          [
                            0.5555555555555556,
                            "#d8576b"
                          ],
                          [
                            0.6666666666666666,
                            "#ed7953"
                          ],
                          [
                            0.7777777777777778,
                            "#fb9f3a"
                          ],
                          [
                            0.8888888888888888,
                            "#fdca26"
                          ],
                          [
                            1,
                            "#f0f921"
                          ]
                        ],
                        "type": "histogram2dcontour"
                      }
                    ],
                    "mesh3d": [
                      {
                        "colorbar": {
                          "outlinewidth": 0,
                          "ticks": ""
                        },
                        "type": "mesh3d"
                      }
                    ],
                    "parcoords": [
                      {
                        "line": {
                          "colorbar": {
                            "outlinewidth": 0,
                            "ticks": ""
                          }
                        },
                        "type": "parcoords"
                      }
                    ],
                    "pie": [
                      {
                        "automargin": true,
                        "type": "pie"
                      }
                    ],
                    "scatter": [
                      {
                        "fillpattern": {
                          "fillmode": "overlay",
                          "size": 10,
                          "solidity": 0.2
                        },
                        "type": "scatter"
                      }
                    ],
                    "scatter3d": [
                      {
                        "line": {
                          "colorbar": {
                            "outlinewidth": 0,
                            "ticks": ""
                          }
                        },
                        "marker": {
                          "colorbar": {
                            "outlinewidth": 0,
                            "ticks": ""
                          }
                        },
                        "type": "scatter3d"
                      }
                    ],
                    "scattercarpet": [
                      {
                        "marker": {
                          "colorbar": {
                            "outlinewidth": 0,
                            "ticks": ""
                          }
                        },
                        "type": "scattercarpet"
                      }
                    ],
                    "scattergeo": [
                      {
                        "marker": {
                          "colorbar": {
                            "outlinewidth": 0,
                            "ticks": ""
                          }
                        },
                        "type": "scattergeo"
                      }
                    ],
                    "scattergl": [
                      {
                        "marker": {
                          "colorbar": {
                            "outlinewidth": 0,
                            "ticks": ""
                          }
                        },
                        "type": "scattergl"
                      }
                    ],
                    "scattermapbox": [
                      {
                        "marker": {
                          "colorbar": {
                            "outlinewidth": 0,
                            "ticks": ""
                          }
                        },
                        "type": "scattermapbox"
                      }
                    ],
                    "scatterpolar": [
                      {
                        "marker": {
                          "colorbar": {
                            "outlinewidth": 0,
                            "ticks": ""
                          }
                        },
                        "type": "scatterpolar"
                      }
                    ],
                    "scatterpolargl": [
                      {
                        "marker": {
                          "colorbar": {
                            "outlinewidth": 0,
                            "ticks": ""
                          }
                        },
                        "type": "scatterpolargl"
                      }
                    ],
                    "scatterternary": [
                      {
                        "marker": {
                          "colorbar": {
                            "outlinewidth": 0,
                            "ticks": ""
                          }
                        },
                        "type": "scatterternary"
                      }
                    ],
                    "surface": [
                      {
                        "colorbar": {
                          "outlinewidth": 0,
                          "ticks": ""
                        },
                        "colorscale": [
                          [
                            0,
                            "#0d0887"
                          ],
                          [
                            0.1111111111111111,
                            "#46039f"
                          ],
                          [
                            0.2222222222222222,
                            "#7201a8"
                          ],
                          [
                            0.3333333333333333,
                            "#9c179e"
                          ],
                          [
                            0.4444444444444444,
                            "#bd3786"
                          ],
                          [
                            0.5555555555555556,
                            "#d8576b"
                          ],
                          [
                            0.6666666666666666,
                            "#ed7953"
                          ],
                          [
                            0.7777777777777778,
                            "#fb9f3a"
                          ],
                          [
                            0.8888888888888888,
                            "#fdca26"
                          ],
                          [
                            1,
                            "#f0f921"
                          ]
                        ],
                        "type": "surface"
                      }
                    ],
                    "table": [
                      {
                        "cells": {
                          "fill": {
                            "color": "#EBF0F8"
                          },
                          "line": {
                            "color": "white"
                          }
                        },
                        "header": {
                          "fill": {
                            "color": "#C8D4E3"
                          },
                          "line": {
                            "color": "white"
                          }
                        },
                        "type": "table"
                      }
                    ]
                  },
                  "layout": {
                    "annotationdefaults": {
                      "arrowcolor": "#2a3f5f",
                      "arrowhead": 0,
                      "arrowwidth": 1
                    },
                    "autotypenumbers": "strict",
                    "coloraxis": {
                      "colorbar": {
                        "outlinewidth": 0,
                        "ticks": ""
                      }
                    },
                    "colorscale": {
                      "diverging": [
                        [
                          0,
                          "#8e0152"
                        ],
                        [
                          0.1,
                          "#c51b7d"
                        ],
                        [
                          0.2,
                          "#de77ae"
                        ],
                        [
                          0.3,
                          "#f1b6da"
                        ],
                        [
                          0.4,
                          "#fde0ef"
                        ],
                        [
                          0.5,
                          "#f7f7f7"
                        ],
                        [
                          0.6,
                          "#e6f5d0"
                        ],
                        [
                          0.7,
                          "#b8e186"
                        ],
                        [
                          0.8,
                          "#7fbc41"
                        ],
                        [
                          0.9,
                          "#4d9221"
                        ],
                        [
                          1,
                          "#276419"
                        ]
                      ],
                      "sequential": [
                        [
                          0,
                          "#0d0887"
                        ],
                        [
                          0.1111111111111111,
                          "#46039f"
                        ],
                        [
                          0.2222222222222222,
                          "#7201a8"
                        ],
                        [
                          0.3333333333333333,
                          "#9c179e"
                        ],
                        [
                          0.4444444444444444,
                          "#bd3786"
                        ],
                        [
                          0.5555555555555556,
                          "#d8576b"
                        ],
                        [
                          0.6666666666666666,
                          "#ed7953"
                        ],
                        [
                          0.7777777777777778,
                          "#fb9f3a"
                        ],
                        [
                          0.8888888888888888,
                          "#fdca26"
                        ],
                        [
                          1,
                          "#f0f921"
                        ]
                      ],
                      "sequentialminus": [
                        [
                          0,
                          "#0d0887"
                        ],
                        [
                          0.1111111111111111,
                          "#46039f"
                        ],
                        [
                          0.2222222222222222,
                          "#7201a8"
                        ],
                        [
                          0.3333333333333333,
                          "#9c179e"
                        ],
                        [
                          0.4444444444444444,
                          "#bd3786"
                        ],
                        [
                          0.5555555555555556,
                          "#d8576b"
                        ],
                        [
                          0.6666666666666666,
                          "#ed7953"
                        ],
                        [
                          0.7777777777777778,
                          "#fb9f3a"
                        ],
                        [
                          0.8888888888888888,
                          "#fdca26"
                        ],
                        [
                          1,
                          "#f0f921"
                        ]
                      ]
                    },
                    "colorway": [
                      "#636efa",
                      "#EF553B",
                      "#00cc96",
                      "#ab63fa",
                      "#FFA15A",
                      "#19d3f3",
                      "#FF6692",
                      "#B6E880",
                      "#FF97FF",
                      "#FECB52"
                    ],
                    "font": {
                      "color": "#2a3f5f"
                    },
                    "geo": {
                      "bgcolor": "white",
                      "lakecolor": "white",
                      "landcolor": "#E5ECF6",
                      "showlakes": true,
                      "showland": true,
                      "subunitcolor": "white"
                    },
                    "hoverlabel": {
                      "align": "left"
                    },
                    "hovermode": "closest",
                    "mapbox": {
                      "style": "light"
                    },
                    "paper_bgcolor": "white",
                    "plot_bgcolor": "#E5ECF6",
                    "polar": {
                      "angularaxis": {
                        "gridcolor": "white",
                        "linecolor": "white",
                        "ticks": ""
                      },
                      "bgcolor": "#E5ECF6",
                      "radialaxis": {
                        "gridcolor": "white",
                        "linecolor": "white",
                        "ticks": ""
                      }
                    },
                    "scene": {
                      "xaxis": {
                        "backgroundcolor": "#E5ECF6",
                        "gridcolor": "white",
                        "gridwidth": 2,
                        "linecolor": "white",
                        "showbackground": true,
                        "ticks": "",
                        "zerolinecolor": "white"
                      },
                      "yaxis": {
                        "backgroundcolor": "#E5ECF6",
                        "gridcolor": "white",
                        "gridwidth": 2,
                        "linecolor": "white",
                        "showbackground": true,
                        "ticks": "",
                        "zerolinecolor": "white"
                      },
                      "zaxis": {
                        "backgroundcolor": "#E5ECF6",
                        "gridcolor": "white",
                        "gridwidth": 2,
                        "linecolor": "white",
                        "showbackground": true,
                        "ticks": "",
                        "zerolinecolor": "white"
                      }
                    },
                    "shapedefaults": {
                      "line": {
                        "color": "#2a3f5f"
                      }
                    },
                    "ternary": {
                      "aaxis": {
                        "gridcolor": "white",
                        "linecolor": "white",
                        "ticks": ""
                      },
                      "baxis": {
                        "gridcolor": "white",
                        "linecolor": "white",
                        "ticks": ""
                      },
                      "bgcolor": "#E5ECF6",
                      "caxis": {
                        "gridcolor": "white",
                        "linecolor": "white",
                        "ticks": ""
                      }
                    },
                    "title": {
                      "x": 0.05
                    },
                    "xaxis": {
                      "automargin": true,
                      "gridcolor": "white",
                      "linecolor": "white",
                      "ticks": "",
                      "title": {
                        "standoff": 15
                      },
                      "zerolinecolor": "white",
                      "zerolinewidth": 2
                    },
                    "yaxis": {
                      "automargin": true,
                      "gridcolor": "white",
                      "linecolor": "white",
                      "ticks": "",
                      "title": {
                        "standoff": 15
                      },
                      "zerolinecolor": "white",
                      "zerolinewidth": 2
                    }
                  }
                },
                "title": {
                  "text": "Hyperparameter Importances"
                },
                "xaxis": {
                  "title": {
                    "text": "Importance for Objective Value"
                  }
                },
                "yaxis": {
                  "title": {
                    "text": "Hyperparameter"
                  }
                }
              }
            }
          },
          "metadata": {},
          "output_type": "display_data"
        }
      ],
      "source": [
        "optuna.visualization.plot_param_importances(study_1)"
      ]
    },
    {
      "cell_type": "code",
      "execution_count": 46,
      "metadata": {
        "colab": {
          "base_uri": "https://localhost:8080/"
        },
        "id": "j0zas9VDwGSo",
        "outputId": "bb1ed6fd-c563-4f72-91fd-6525b8dda1d4"
      },
      "outputs": [
        {
          "data": {
            "text/plain": [
              "{'max_depth': 9,\n",
              " 'criterion': 'entropy',\n",
              " 'n_estimators': 25,\n",
              " 'min_samples_leaf': 6,\n",
              " 'min_samples_split': 7}"
            ]
          },
          "execution_count": 46,
          "metadata": {},
          "output_type": "execute_result"
        }
      ],
      "source": [
        "study_1.best_params"
      ]
    },
    {
      "cell_type": "code",
      "execution_count": 47,
      "metadata": {
        "id": "6GmauXJFwWXs"
      },
      "outputs": [],
      "source": [
        "rf_classifier = RandomForestClassifier(n_estimators=26,\n",
        "                                       max_depth=16,\n",
        "                                       min_samples_leaf=4,\n",
        "                                       min_samples_split=7,\n",
        "                                       max_features='sqrt',\n",
        "                                       criterion='gini')\n",
        "rf_history = rf_classifier.fit(x_train.to_numpy(), y_train2.to_numpy().ravel())"
      ]
    },
    {
      "cell_type": "code",
      "execution_count": 48,
      "metadata": {
        "colab": {
          "base_uri": "https://localhost:8080/",
          "height": 852
        },
        "id": "MHhRT-kQwgmv",
        "outputId": "946e5bd7-82af-4e35-932c-e7ba77c71141"
      },
      "outputs": [
        {
          "name": "stdout",
          "output_type": "stream",
          "text": [
            "              precision    recall  f1-score   support\n",
            "\n",
            "           0       0.48      0.64      0.54     33525\n",
            "           1       0.77      0.63      0.69     63775\n",
            "\n",
            "    accuracy                           0.63     97300\n",
            "   macro avg       0.62      0.63      0.62     97300\n",
            "weighted avg       0.67      0.63      0.64     97300\n",
            "\n",
            "Erro quadrático médio:  0.3672250770811922\n",
            "Auroc: 0.6337810178693212\n",
            "Precisão média:  0.7262196195446999\n",
            "\n"
          ]
        },
        {
          "name": "stderr",
          "output_type": "stream",
          "text": [
            "/home/pedro-milet/.local/lib/python3.8/site-packages/sklearn/base.py:432: UserWarning:\n",
            "\n",
            "X has feature names, but RandomForestClassifier was fitted without feature names\n",
            "\n"
          ]
        },
        {
          "data": {
            "image/png": "[encoded data removed]",
            "text/plain": [
              "<Figure size 640x480 with 2 Axes>"
            ]
          },
          "metadata": {},
          "output_type": "display_data"
        },
        {
          "data": {
            "image/png": "[encoded data removed]",
            "text/plain": [
              "<Figure size 640x480 with 1 Axes>"
            ]
          },
          "metadata": {},
          "output_type": "display_data"
        }
      ],
      "source": [
        "rf_pred_class_test = rf_classifier.predict(x_test.to_numpy())\n",
        "y_pred_rf_test = pred_name_columns(rf_pred_class_test)\n",
        "my_metrics(y_test2,y_pred_rf_test)\n",
        "\n",
        "\n",
        "rf_prb_test = rf_classifier.predict_proba(x_test)\n",
        "skplt.metrics.plot_ks_statistic(y_test2.to_numpy().ravel(), rf_prb_test)\n",
        "plt.show()"
      ]
    },
    {
      "cell_type": "markdown",
      "metadata": {
        "id": "eTAlDBOexydw"
      },
      "source": [
        "Comparando o modelo feito manualmente pela equipe com o os melhores parâmetros apresentados pelo optuna, o modelo do estudo do optuna apresentou resultados melhores, com 63% de acurácia e ks de 0.272, além disso o estudo do optuna mostrou que o hiper-parâmetro que possuiu a maior relevância para o classificador foi o de max_depth com 97% de importância."
      ]
    },
    {
      "cell_type": "markdown",
      "metadata": {
        "id": "qByWJpMNN-od"
      },
      "source": [
        "## Gradient Boost"
      ]
    },
    {
      "cell_type": "markdown",
      "metadata": {
        "id": "dgKtaZYE8yye"
      },
      "source": [
        "Para o gradient boost foi feito do uso do optuna para achar os melhores hiper-parâmetros do classificador"
      ]
    },
    {
      "cell_type": "code",
      "execution_count": 49,
      "metadata": {
        "id": "_m2GjkxhPQmT"
      },
      "outputs": [],
      "source": [
        "from sklearn.ensemble import GradientBoostingClassifier"
      ]
    },
    {
      "cell_type": "code",
      "execution_count": 50,
      "metadata": {
        "colab": {
          "base_uri": "https://localhost:8080/",
          "height": 574
        },
        "id": "4jLie5jCOBu9",
        "outputId": "7fd56d52-23fb-419e-f730-c928e1ab5015"
      },
      "outputs": [
        {
          "name": "stderr",
          "output_type": "stream",
          "text": [
            "\u001b[32m[I 2023-04-09 20:02:04,095]\u001b[0m A new study created in memory with name: no-name-7e3b5dea-b8f9-464a-b68a-6953be40cb51\u001b[0m\n",
            "\u001b[32m[I 2023-04-09 20:18:44,237]\u001b[0m Trial 0 finished with value: 0.638622816032888 and parameters: {'loss': 'exponential', 'max_depth': 31, 'subsample': 0.6317063132305145, 'n_estimators': 30, 'learning_rate': 0.6578167870263975, 'min_samples_leaf': 7}. Best is trial 0 with value: 0.638622816032888.\u001b[0m\n",
            "/home/pedro-milet/.local/lib/python3.8/site-packages/sklearn/ensemble/_gb.py:280: FutureWarning:\n",
            "\n",
            "The loss parameter name 'deviance' was deprecated in v1.1 and will be removed in version 1.3. Use the new parameter name 'log_loss' which is equivalent.\n",
            "\n",
            "\u001b[32m[I 2023-04-09 20:19:07,760]\u001b[0m Trial 1 finished with value: 0.5252826310380267 and parameters: {'loss': 'deviance', 'max_depth': 48, 'subsample': 0.030503570532195136, 'n_estimators': 23, 'learning_rate': 0.5110344355251687, 'min_samples_leaf': 5}. Best is trial 0 with value: 0.638622816032888.\u001b[0m\n"
          ]
        }
      ],
      "source": [
        "def gb(trial):\n",
        "    loss                = trial.suggest_categorical(\"loss\", [\"deviance\", \"exponential\"])\n",
        "    max_depth           = trial.suggest_int(\"max_depth\", 16, 64)\n",
        "    subsample           = trial.suggest_float(\"subsample\", 0.01, 0.7)\n",
        "    n_estimators        = trial.suggest_int(\"n_estimators\", 8, 32)\n",
        "    learning_rate       = trial.suggest_float(\"learning_rate\", 0.01, 0.7)\n",
        "    min_samples_leaf    = trial.suggest_int(\"min_samples_leaf\", 2, 8)\n",
        "    \n",
        "    gradient_boost = GradientBoostingClassifier(n_estimators = n_estimators, \n",
        "                                            max_depth = max_depth, \n",
        "                                            min_samples_leaf = min_samples_leaf, \n",
        "                                            learning_rate = learning_rate, \n",
        "                                            loss = loss, \n",
        "                                            subsample = subsample).fit(x_train.to_numpy(), y_train2.to_numpy().ravel())\n",
        "\n",
        "    gb_pred_class_test = gradient_boost.predict(x_test.to_numpy())\n",
        "\n",
        "    y_pred_gb_test = pred_name_columns(gb_pred_class_test)\n",
        "\n",
        "    acc = accuracy_score(y_test2,y_pred_gb_test)\n",
        "    return acc\n",
        "\n",
        "study_2 = optuna.create_study(direction=\"maximize\")\n",
        "study_2.optimize(gb, n_trials=2)"
      ]
    },
    {
      "cell_type": "code",
      "execution_count": 51,
      "metadata": {
        "id": "NAqbKkXp6mw5"
      },
      "outputs": [
        {
          "name": "stderr",
          "output_type": "stream",
          "text": [
            "/home/pedro-milet/.local/lib/python3.8/site-packages/sklearn/ensemble/_gb.py:280: FutureWarning:\n",
            "\n",
            "The loss parameter name 'deviance' was deprecated in v1.1 and will be removed in version 1.3. Use the new parameter name 'log_loss' which is equivalent.\n",
            "\n"
          ]
        }
      ],
      "source": [
        "gradient_boost = GradientBoostingClassifier(n_estimators = 28, \n",
        "                                            max_depth = 62, \n",
        "                                            min_samples_leaf = 7, \n",
        "                                            learning_rate = 0.49109966110029046, \n",
        "                                            loss = 'deviance', \n",
        "                                            subsample = 0.6811509590280894).fit(x_train.to_numpy(), y_train2.to_numpy().ravel())"
      ]
    },
    {
      "cell_type": "code",
      "execution_count": 52,
      "metadata": {
        "colab": {
          "base_uri": "https://localhost:8080/",
          "height": 852
        },
        "id": "1zD2Fm818Efd",
        "outputId": "bd5bff81-06d0-49e9-901e-4264a7138c27"
      },
      "outputs": [
        {
          "name": "stdout",
          "output_type": "stream",
          "text": [
            "              precision    recall  f1-score   support\n",
            "\n",
            "           0       0.49      0.39      0.43     33525\n",
            "           1       0.71      0.79      0.75     63775\n",
            "\n",
            "    accuracy                           0.65     97300\n",
            "   macro avg       0.60      0.59      0.59     97300\n",
            "weighted avg       0.63      0.65      0.64     97300\n",
            "\n",
            "Erro quadrático médio:  0.3495066803699897\n",
            "Auroc: 0.5882137314518352\n",
            "Precisão média:  0.6986189090854569\n",
            "\n"
          ]
        },
        {
          "name": "stderr",
          "output_type": "stream",
          "text": [
            "/home/pedro-milet/.local/lib/python3.8/site-packages/sklearn/base.py:432: UserWarning:\n",
            "\n",
            "X has feature names, but GradientBoostingClassifier was fitted without feature names\n",
            "\n"
          ]
        },
        {
          "data": {
            "image/png": "[encoded data removed]",
            "text/plain": [
              "<Figure size 640x480 with 2 Axes>"
            ]
          },
          "metadata": {},
          "output_type": "display_data"
        },
        {
          "data": {
            "image/png": "[encoded data removed]",
            "text/plain": [
              "<Figure size 640x480 with 1 Axes>"
            ]
          },
          "metadata": {},
          "output_type": "display_data"
        }
      ],
      "source": [
        "gb_pred_class_test = gradient_boost.predict(x_test.to_numpy())\n",
        "y_pred_gb_test = pred_name_columns(gb_pred_class_test)\n",
        "my_metrics(y_test2,y_pred_gb_test)\n",
        "\n",
        "\n",
        "gb_prb_test = gradient_boost.predict_proba(x_test)\n",
        "skplt.metrics.plot_ks_statistic(y_test2.to_numpy().ravel(), gb_prb_test)\n",
        "plt.show()"
      ]
    },
    {
      "cell_type": "markdown",
      "metadata": {
        "id": "-U3BdO6987-a"
      },
      "source": [
        "Como é possível perceber, o gradient-boost gerou:\n",
        "\n",
        "acurácia de 65%,\n",
        "\n",
        "Erro quadrático médio:  0.3520760534429599,\n",
        "\n",
        "Auroc: 0.5852774788790406,\n",
        "\n",
        "Precisão média:  0.6970736725790391,\n",
        "\n",
        "KS: 0.214"
      ]
    },
    {
      "cell_type": "markdown",
      "metadata": {},
      "source": []
    },
    {
      "cell_type": "markdown",
      "metadata": {
        "id": "qdaAbfVw5PXP"
      },
      "source": [
        "##Ensemble"
      ]
    },
    {
      "cell_type": "code",
      "execution_count": 53,
      "metadata": {
        "id": "zICcWSZ_5ZG7"
      },
      "outputs": [],
      "source": [
        "from keras.models import Sequential\n",
        "from keras.layers import Dense\n",
        "from keras.callbacks import EarlyStopping\n",
        "from tensorflow import keras\n",
        "from keras.models import Model\n",
        "from keras import layers, optimizers, losses\n",
        "# from tensorflow.keras import layers, optimizers, losses\n",
        "from sklearn.neural_network import MLPClassifier\n",
        "from scipy import stats"
      ]
    },
    {
      "cell_type": "code",
      "execution_count": 54,
      "metadata": {
        "colab": {
          "base_uri": "https://localhost:8080/",
          "height": 279
        },
        "id": "S-MCN5JN3b9z",
        "outputId": "b4a8bd2a-0666-45eb-a29e-c339256453a2"
      },
      "outputs": [
        {
          "data": {
            "text/html": [
              "<div>\n",
              "<style scoped>\n",
              "    .dataframe tbody tr th:only-of-type {\n",
              "        vertical-align: middle;\n",
              "    }\n",
              "\n",
              "    .dataframe tbody tr th {\n",
              "        vertical-align: top;\n",
              "    }\n",
              "\n",
              "    .dataframe thead th {\n",
              "        text-align: right;\n",
              "    }\n",
              "</style>\n",
              "<table border=\"1\" class=\"dataframe\">\n",
              "  <thead>\n",
              "    <tr style=\"text-align: right;\">\n",
              "      <th></th>\n",
              "      <th>IND_BOM_1_1</th>\n",
              "    </tr>\n",
              "  </thead>\n",
              "  <tbody>\n",
              "    <tr>\n",
              "      <th>count</th>\n",
              "      <td>255098.000000</td>\n",
              "    </tr>\n",
              "    <tr>\n",
              "      <th>mean</th>\n",
              "      <td>0.500000</td>\n",
              "    </tr>\n",
              "    <tr>\n",
              "      <th>std</th>\n",
              "      <td>0.500001</td>\n",
              "    </tr>\n",
              "    <tr>\n",
              "      <th>min</th>\n",
              "      <td>0.000000</td>\n",
              "    </tr>\n",
              "    <tr>\n",
              "      <th>25%</th>\n",
              "      <td>0.000000</td>\n",
              "    </tr>\n",
              "    <tr>\n",
              "      <th>50%</th>\n",
              "      <td>0.500000</td>\n",
              "    </tr>\n",
              "    <tr>\n",
              "      <th>75%</th>\n",
              "      <td>1.000000</td>\n",
              "    </tr>\n",
              "    <tr>\n",
              "      <th>max</th>\n",
              "      <td>1.000000</td>\n",
              "    </tr>\n",
              "  </tbody>\n",
              "</table>\n",
              "</div>"
            ],
            "text/plain": [
              "         IND_BOM_1_1\n",
              "count  255098.000000\n",
              "mean        0.500000\n",
              "std         0.500001\n",
              "min         0.000000\n",
              "25%         0.000000\n",
              "50%         0.500000\n",
              "75%         1.000000\n",
              "max         1.000000"
            ]
          },
          "execution_count": 54,
          "metadata": {},
          "output_type": "execute_result"
        }
      ],
      "source": [
        "y_train2.describe()"
      ]
    },
    {
      "cell_type": "code",
      "execution_count": 55,
      "metadata": {
        "colab": {
          "base_uri": "https://localhost:8080/"
        },
        "id": "zBHD5qCb3rDh",
        "outputId": "bb41392e-b297-4b64-f949-349d8fb626b4"
      },
      "outputs": [
        {
          "name": "stdout",
          "output_type": "stream",
          "text": [
            "        IND_BOM_1_1  IND_BOM_1_2\n",
            "196914            1            0\n",
            "85826             1            0\n",
            "93607             0            1\n",
            "239811            1            0\n",
            "10249             1            0\n",
            "...             ...          ...\n",
            "116630            0            1\n",
            "93619             0            1\n",
            "15099             0            1\n",
            "367163            1            0\n",
            "337439            1            0\n",
            "\n",
            "[255098 rows x 2 columns]\n",
            "        IND_BOM_1_1\n",
            "196914            1\n",
            "85826             1\n",
            "93607             0\n",
            "239811            1\n",
            "10249             1\n",
            "...             ...\n",
            "116630            0\n",
            "93619             0\n",
            "15099             0\n",
            "367163            1\n",
            "337439            1\n",
            "\n",
            "[255098 rows x 1 columns]\n"
          ]
        }
      ],
      "source": [
        "print(y_train)\n",
        "print(y_train2)"
      ]
    },
    {
      "cell_type": "markdown",
      "metadata": {
        "id": "pxCgsGYp6IWU"
      },
      "source": [
        "Criamos um classificador de Ensemble por votação, usando 3 classificadores diferentes encontrados anteriormente em ordem de performance pela estatística KS, escolhemos os modelos 8 e 9 do MLP e a última Random Forest executada que anteriormente tiveram resultados de 0.274, 0.281 e 0.265."
      ]
    },
    {
      "cell_type": "code",
      "execution_count": 56,
      "metadata": {
        "colab": {
          "base_uri": "https://localhost:8080/",
          "height": 713
        },
        "id": "wSugtrb43vd6",
        "outputId": "c4a96cf2-2030-4e93-981e-7c309a2a23a5"
      },
      "outputs": [
        {
          "name": "stderr",
          "output_type": "stream",
          "text": [
            "/home/pedro-milet/.local/lib/python3.8/site-packages/sklearn/base.py:432: UserWarning:\n",
            "\n",
            "X has feature names, but MLPClassifier was fitted without feature names\n",
            "\n",
            "/home/pedro-milet/.local/lib/python3.8/site-packages/sklearn/base.py:432: UserWarning:\n",
            "\n",
            "X has feature names, but RandomForestClassifier was fitted without feature names\n",
            "\n",
            "/home/pedro-milet/.local/lib/python3.8/site-packages/sklearn/base.py:432: UserWarning:\n",
            "\n",
            "X has feature names, but MLPClassifier was fitted without feature names\n",
            "\n"
          ]
        },
        {
          "name": "stdout",
          "output_type": "stream",
          "text": [
            "              precision    recall  f1-score   support\n",
            "\n",
            "           0       0.63      0.69      0.66     63774\n",
            "           1       0.66      0.59      0.62     63774\n",
            "\n",
            "    accuracy                           0.64    127548\n",
            "   macro avg       0.64      0.64      0.64    127548\n",
            "weighted avg       0.64      0.64      0.64    127548\n",
            "\n",
            "Erro quadrático médio:  0.3575281462665036\n",
            "Auroc: 0.6424718537334965\n",
            "Precisão média:  0.5937991853033122\n",
            "\n"
          ]
        },
        {
          "data": {
            "image/png": "[encoded data removed]",
            "text/plain": [
              "<Figure size 640x480 with 2 Axes>"
            ]
          },
          "metadata": {},
          "output_type": "display_data"
        }
      ],
      "source": [
        "from sklearn.ensemble import StackingClassifier, RandomForestClassifier, BaggingClassifier, VotingClassifier\n",
        "\n",
        "rf_classifier = RandomForestClassifier(n_estimators=100,max_depth=8,min_samples_leaf=2,min_samples_split=4,max_features='sqrt')\n",
        "mlp8 = MLPClassifier(hidden_layer_sizes=(50,50), solver='adam', activation='relu', learning_rate_init=0.005, max_iter=10000, \n",
        "                    early_stopping=True, n_iter_no_change=20, validation_fraction=0.1)\n",
        "mlp9 = MLPClassifier(hidden_layer_sizes=(100,50,25), solver='adam', activation='relu', learning_rate_init=0.005, max_iter=10000, \n",
        "                    early_stopping=True, n_iter_no_change=20, validation_fraction=0.1)\n",
        "\n",
        "ensemble_classifier = VotingClassifier(\n",
        "            estimators=[('mlp1', mlp8), ('rf', rf_classifier), ('mlp2', mlp9)], \n",
        "            voting='soft')\n",
        "\n",
        "mlp8.fit(x_train.to_numpy(), y_train2.to_numpy().ravel())\n",
        "rf_classifier.fit(x_train.to_numpy(), y_train2.to_numpy().ravel())\n",
        "mlp9.fit(x_train.to_numpy(), y_train2.to_numpy().ravel())\n",
        "ensemble_classifier.fit(x_train.to_numpy(), y_train2.to_numpy().ravel())\n",
        "\n",
        "ensemble_pred_class_val = ensemble_classifier.predict(x_validate)\n",
        "y_pred_ensemble_val = pred_name_columns(ensemble_pred_class_val)\n",
        "my_metrics(y_validate,y_pred_ensemble_val)"
      ]
    },
    {
      "cell_type": "code",
      "execution_count": 57,
      "metadata": {
        "colab": {
          "base_uri": "https://localhost:8080/",
          "height": 1000
        },
        "id": "YGeHTxOC-rZs",
        "outputId": "2c9c7a7b-6b07-4fa8-bb05-e0b75fe0cccf"
      },
      "outputs": [
        {
          "name": "stderr",
          "output_type": "stream",
          "text": [
            "/home/pedro-milet/.local/lib/python3.8/site-packages/sklearn/base.py:432: UserWarning:\n",
            "\n",
            "X has feature names, but MLPClassifier was fitted without feature names\n",
            "\n",
            "/home/pedro-milet/.local/lib/python3.8/site-packages/sklearn/base.py:432: UserWarning:\n",
            "\n",
            "X has feature names, but RandomForestClassifier was fitted without feature names\n",
            "\n",
            "/home/pedro-milet/.local/lib/python3.8/site-packages/sklearn/base.py:432: UserWarning:\n",
            "\n",
            "X has feature names, but MLPClassifier was fitted without feature names\n",
            "\n"
          ]
        },
        {
          "data": {
            "image/png": "[encoded data removed]",
            "text/plain": [
              "<Figure size 640x480 with 1 Axes>"
            ]
          },
          "metadata": {},
          "output_type": "display_data"
        },
        {
          "name": "stderr",
          "output_type": "stream",
          "text": [
            "/home/pedro-milet/.local/lib/python3.8/site-packages/sklearn/base.py:432: UserWarning:\n",
            "\n",
            "X has feature names, but MLPClassifier was fitted without feature names\n",
            "\n",
            "/home/pedro-milet/.local/lib/python3.8/site-packages/sklearn/base.py:432: UserWarning:\n",
            "\n",
            "X has feature names, but RandomForestClassifier was fitted without feature names\n",
            "\n",
            "/home/pedro-milet/.local/lib/python3.8/site-packages/sklearn/base.py:432: UserWarning:\n",
            "\n",
            "X has feature names, but MLPClassifier was fitted without feature names\n",
            "\n"
          ]
        },
        {
          "name": "stdout",
          "output_type": "stream",
          "text": [
            "              precision    recall  f1-score   support\n",
            "\n",
            "           0       0.47      0.70      0.56     33525\n",
            "           1       0.79      0.59      0.67     63775\n",
            "\n",
            "    accuracy                           0.63     97300\n",
            "   macro avg       0.63      0.64      0.62     97300\n",
            "weighted avg       0.68      0.63      0.64     97300\n",
            "\n",
            "Erro quadrático médio:  0.37369989722507707\n",
            "Auroc: 0.6426364300996437\n",
            "Precisão média:  0.7327480774896693\n",
            "\n"
          ]
        },
        {
          "name": "stderr",
          "output_type": "stream",
          "text": [
            "/home/pedro-milet/.local/lib/python3.8/site-packages/sklearn/base.py:432: UserWarning:\n",
            "\n",
            "X has feature names, but MLPClassifier was fitted without feature names\n",
            "\n",
            "/home/pedro-milet/.local/lib/python3.8/site-packages/sklearn/base.py:432: UserWarning:\n",
            "\n",
            "X has feature names, but RandomForestClassifier was fitted without feature names\n",
            "\n",
            "/home/pedro-milet/.local/lib/python3.8/site-packages/sklearn/base.py:432: UserWarning:\n",
            "\n",
            "X has feature names, but MLPClassifier was fitted without feature names\n",
            "\n"
          ]
        },
        {
          "data": {
            "image/png": "[encoded data removed]",
            "text/plain": [
              "<Figure size 640x480 with 2 Axes>"
            ]
          },
          "metadata": {},
          "output_type": "display_data"
        },
        {
          "data": {
            "image/png": "[encoded data removed]",
            "text/plain": [
              "<Figure size 640x480 with 1 Axes>"
            ]
          },
          "metadata": {},
          "output_type": "display_data"
        }
      ],
      "source": [
        "ensemble_prb_val = ensemble_classifier.predict_proba(x_validate)\n",
        "skplt.metrics.plot_ks_statistic(y_validate['IND_BOM_1_1'], ensemble_prb_val)\n",
        "plt.show()\n",
        "\n",
        "ensemble_pred_class_test = ensemble_classifier.predict(x_test)\n",
        "y_pred_ensemble_test = pred_name_columns(ensemble_pred_class_test)\n",
        "my_metrics(y_test,y_pred_ensemble_test)\n",
        "\n",
        "ensemble_prb_test = ensemble_classifier.predict_proba(x_test)\n",
        "skplt.metrics.plot_ks_statistic(y_test['IND_BOM_1_1'], ensemble_prb_test)\n",
        "plt.show()"
      ]
    },
    {
      "cell_type": "markdown",
      "metadata": {
        "id": "-OvczofD6IWW"
      },
      "source": [
        "Assim obtemos uma melhora do KS para 0.287 e uma leve redução de 0.007 no MSE."
      ]
    },
    {
      "cell_type": "markdown",
      "metadata": {
        "id": "6nqLBh2Z5RaB"
      },
      "source": [
        "##SVC"
      ]
    },
    {
      "cell_type": "code",
      "execution_count": 61,
      "metadata": {
        "id": "S5cLUrBnA7kk"
      },
      "outputs": [],
      "source": [
        "from sklearn.svm import LinearSVC, SVC\n",
        "from sklearn.linear_model import SGDClassifier\n",
        "from sklearn.calibration import CalibratedClassifierCV"
      ]
    },
    {
      "cell_type": "markdown",
      "metadata": {
        "id": "o-Pq4DgfM4mi"
      },
      "source": [
        "### Modelo 1"
      ]
    },
    {
      "cell_type": "code",
      "execution_count": 62,
      "metadata": {
        "id": "KQTc1Mnf5Z9X"
      },
      "outputs": [
        {
          "name": "stderr",
          "output_type": "stream",
          "text": [
            "/home/pedro-milet/.local/lib/python3.8/site-packages/sklearn/svm/_base.py:1244: ConvergenceWarning:\n",
            "\n",
            "Liblinear failed to converge, increase the number of iterations.\n",
            "\n",
            "/home/pedro-milet/.local/lib/python3.8/site-packages/sklearn/svm/_base.py:1244: ConvergenceWarning:\n",
            "\n",
            "Liblinear failed to converge, increase the number of iterations.\n",
            "\n",
            "/home/pedro-milet/.local/lib/python3.8/site-packages/sklearn/svm/_base.py:1244: ConvergenceWarning:\n",
            "\n",
            "Liblinear failed to converge, increase the number of iterations.\n",
            "\n",
            "/home/pedro-milet/.local/lib/python3.8/site-packages/sklearn/svm/_base.py:1244: ConvergenceWarning:\n",
            "\n",
            "Liblinear failed to converge, increase the number of iterations.\n",
            "\n",
            "/home/pedro-milet/.local/lib/python3.8/site-packages/sklearn/svm/_base.py:1244: ConvergenceWarning:\n",
            "\n",
            "Liblinear failed to converge, increase the number of iterations.\n",
            "\n"
          ]
        }
      ],
      "source": [
        "clf = LinearSVC(C=1.3, max_iter=10)\n",
        "clf = CalibratedClassifierCV(clf)\n",
        "clf.fit(x_train.to_numpy(), y_train2.to_numpy().ravel())\n",
        "y_pred = clf.predict(x_test.to_numpy())\n"
      ]
    },
    {
      "cell_type": "code",
      "execution_count": 64,
      "metadata": {
        "id": "uf2mb_2gHe7W"
      },
      "outputs": [
        {
          "name": "stdout",
          "output_type": "stream",
          "text": [
            "              precision    recall  f1-score   support\n",
            "\n",
            "           0       0.44      0.62      0.52     33525\n",
            "           1       0.75      0.59      0.66     63775\n",
            "\n",
            "    accuracy                           0.60     97300\n",
            "   macro avg       0.60      0.61      0.59     97300\n",
            "weighted avg       0.64      0.60      0.61     97300\n",
            "\n",
            "Erro quadrático médio:  0.39894141829393626\n",
            "Auroc: 0.6062546453540906\n",
            "Precisão média:  0.7102452679943057\n",
            "\n"
          ]
        },
        {
          "name": "stderr",
          "output_type": "stream",
          "text": [
            "/home/pedro-milet/.local/lib/python3.8/site-packages/sklearn/base.py:432: UserWarning:\n",
            "\n",
            "X has feature names, but LinearSVC was fitted without feature names\n",
            "\n",
            "/home/pedro-milet/.local/lib/python3.8/site-packages/sklearn/base.py:432: UserWarning:\n",
            "\n",
            "X has feature names, but LinearSVC was fitted without feature names\n",
            "\n",
            "/home/pedro-milet/.local/lib/python3.8/site-packages/sklearn/base.py:432: UserWarning:\n",
            "\n",
            "X has feature names, but LinearSVC was fitted without feature names\n",
            "\n",
            "/home/pedro-milet/.local/lib/python3.8/site-packages/sklearn/base.py:432: UserWarning:\n",
            "\n",
            "X has feature names, but LinearSVC was fitted without feature names\n",
            "\n",
            "/home/pedro-milet/.local/lib/python3.8/site-packages/sklearn/base.py:432: UserWarning:\n",
            "\n",
            "X has feature names, but LinearSVC was fitted without feature names\n",
            "\n"
          ]
        },
        {
          "data": {
            "image/png": "[encoded data removed]",
            "text/plain": [
              "<Figure size 640x480 with 2 Axes>"
            ]
          },
          "metadata": {},
          "output_type": "display_data"
        },
        {
          "data": {
            "image/png": "[encoded data removed]",
            "text/plain": [
              "<Figure size 640x480 with 1 Axes>"
            ]
          },
          "metadata": {},
          "output_type": "display_data"
        }
      ],
      "source": [
        "svm_pred_class_test = clf.predict(x_test.to_numpy())\n",
        "y_pred_svm_test = pred_name_columns(svm_pred_class_test)\n",
        "my_metrics(y_test2,y_pred_svm_test)\n",
        "\n",
        "\n",
        "svm_prb_test = clf.predict_proba(x_test)\n",
        "skplt.metrics.plot_ks_statistic(y_test2.to_numpy().ravel(), svm_prb_test)\n",
        "plt.show()"
      ]
    },
    {
      "cell_type": "code",
      "execution_count": 65,
      "metadata": {
        "colab": {
          "base_uri": "https://localhost:8080/"
        },
        "id": "IQlCHBQfKbQW",
        "outputId": "f4b65347-e26f-4925-f8de-70059de13519"
      },
      "outputs": [
        {
          "name": "stdout",
          "output_type": "stream",
          "text": [
            "              precision    recall  f1-score   support\n",
            "\n",
            "           0       0.44      0.62      0.52     33525\n",
            "           1       0.75      0.59      0.66     63775\n",
            "\n",
            "    accuracy                           0.60     97300\n",
            "   macro avg       0.60      0.61      0.59     97300\n",
            "weighted avg       0.64      0.60      0.61     97300\n",
            "\n"
          ]
        }
      ],
      "source": [
        "print(classification_report(y_test['IND_BOM_1_1'], y_pred))"
      ]
    },
    {
      "cell_type": "code",
      "execution_count": 66,
      "metadata": {
        "colab": {
          "base_uri": "https://localhost:8080/"
        },
        "id": "Is6PnYjgLFdl",
        "outputId": "3298e62a-cf39-4698-d2c2-128120a9930c"
      },
      "outputs": [
        {
          "data": {
            "image/png": "[encoded data removed]",
            "text/plain": [
              "<Figure size 640x480 with 2 Axes>"
            ]
          },
          "metadata": {},
          "output_type": "display_data"
        }
      ],
      "source": [
        "ConfusionMatrixDisplay.from_predictions(y_test['IND_BOM_1_1'], y_pred);"
      ]
    },
    {
      "cell_type": "markdown",
      "metadata": {
        "id": "K9MflqNLNBb6"
      },
      "source": [
        "### Modelo 2"
      ]
    },
    {
      "cell_type": "code",
      "execution_count": 67,
      "metadata": {
        "id": "Bfo9WT6cNBb6"
      },
      "outputs": [
        {
          "name": "stderr",
          "output_type": "stream",
          "text": [
            "/home/pedro-milet/.local/lib/python3.8/site-packages/sklearn/svm/_base.py:1244: ConvergenceWarning:\n",
            "\n",
            "Liblinear failed to converge, increase the number of iterations.\n",
            "\n",
            "/home/pedro-milet/.local/lib/python3.8/site-packages/sklearn/svm/_base.py:1244: ConvergenceWarning:\n",
            "\n",
            "Liblinear failed to converge, increase the number of iterations.\n",
            "\n",
            "/home/pedro-milet/.local/lib/python3.8/site-packages/sklearn/svm/_base.py:1244: ConvergenceWarning:\n",
            "\n",
            "Liblinear failed to converge, increase the number of iterations.\n",
            "\n",
            "/home/pedro-milet/.local/lib/python3.8/site-packages/sklearn/svm/_base.py:1244: ConvergenceWarning:\n",
            "\n",
            "Liblinear failed to converge, increase the number of iterations.\n",
            "\n",
            "/home/pedro-milet/.local/lib/python3.8/site-packages/sklearn/svm/_base.py:1244: ConvergenceWarning:\n",
            "\n",
            "Liblinear failed to converge, increase the number of iterations.\n",
            "\n"
          ]
        }
      ],
      "source": [
        "clf = LinearSVC(max_iter=10)\n",
        "clf = CalibratedClassifierCV(clf)\n",
        "clf.fit(x_train,y_train['IND_BOM_1_1'])\n",
        "y_pred = clf.predict(x_test)\n",
        "\n"
      ]
    },
    {
      "cell_type": "code",
      "execution_count": 68,
      "metadata": {
        "colab": {
          "base_uri": "https://localhost:8080/"
        },
        "id": "DPs1W8giNBb8",
        "outputId": "a861b1f3-6af5-43d2-b767-cdaf8dad4021"
      },
      "outputs": [
        {
          "name": "stdout",
          "output_type": "stream",
          "text": [
            "              precision    recall  f1-score   support\n",
            "\n",
            "           0       0.44      0.60      0.51     33525\n",
            "           1       0.74      0.59      0.66     63775\n",
            "\n",
            "    accuracy                           0.59     97300\n",
            "   macro avg       0.59      0.60      0.58     97300\n",
            "weighted avg       0.63      0.59      0.60     97300\n",
            "\n"
          ]
        }
      ],
      "source": [
        "print(classification_report(y_test['IND_BOM_1_1'], y_pred))"
      ]
    },
    {
      "cell_type": "code",
      "execution_count": 69,
      "metadata": {
        "colab": {
          "base_uri": "https://localhost:8080/"
        },
        "id": "_x-2JWXJNBb9",
        "outputId": "cdbceb3c-8e90-4c82-a17a-f3d5bf4bafbc"
      },
      "outputs": [
        {
          "data": {
            "image/png": "[encoded data removed]",
            "text/plain": [
              "<Figure size 640x480 with 2 Axes>"
            ]
          },
          "metadata": {},
          "output_type": "display_data"
        }
      ],
      "source": [
        "ConfusionMatrixDisplay.from_predictions(y_test['IND_BOM_1_1'], y_pred);"
      ]
    },
    {
      "cell_type": "markdown",
      "metadata": {
        "id": "Tv99lk5qQYh7"
      },
      "source": [
        "### Modelo 3"
      ]
    },
    {
      "cell_type": "code",
      "execution_count": 70,
      "metadata": {
        "id": "sai20JIlQYiT"
      },
      "outputs": [
        {
          "name": "stderr",
          "output_type": "stream",
          "text": [
            "/home/pedro-milet/.local/lib/python3.8/site-packages/sklearn/linear_model/_stochastic_gradient.py:702: ConvergenceWarning:\n",
            "\n",
            "Maximum number of iteration reached before convergence. Consider increasing max_iter to improve the fit.\n",
            "\n",
            "/home/pedro-milet/.local/lib/python3.8/site-packages/sklearn/linear_model/_stochastic_gradient.py:702: ConvergenceWarning:\n",
            "\n",
            "Maximum number of iteration reached before convergence. Consider increasing max_iter to improve the fit.\n",
            "\n",
            "/home/pedro-milet/.local/lib/python3.8/site-packages/sklearn/linear_model/_stochastic_gradient.py:702: ConvergenceWarning:\n",
            "\n",
            "Maximum number of iteration reached before convergence. Consider increasing max_iter to improve the fit.\n",
            "\n",
            "/home/pedro-milet/.local/lib/python3.8/site-packages/sklearn/linear_model/_stochastic_gradient.py:702: ConvergenceWarning:\n",
            "\n",
            "Maximum number of iteration reached before convergence. Consider increasing max_iter to improve the fit.\n",
            "\n",
            "/home/pedro-milet/.local/lib/python3.8/site-packages/sklearn/linear_model/_stochastic_gradient.py:702: ConvergenceWarning:\n",
            "\n",
            "Maximum number of iteration reached before convergence. Consider increasing max_iter to improve the fit.\n",
            "\n"
          ]
        }
      ],
      "source": [
        "clf = SGDClassifier(max_iter=10)\n",
        "clf = CalibratedClassifierCV(clf)\n",
        "clf.fit(x_train,y_train['IND_BOM_1_1'])\n",
        "y_pred = clf.predict(x_test)"
      ]
    },
    {
      "cell_type": "code",
      "execution_count": 71,
      "metadata": {
        "colab": {
          "base_uri": "https://localhost:8080/"
        },
        "id": "pbxLcbdEQYiT",
        "outputId": "abd65a0e-c211-4224-e6b5-d853f9de6442"
      },
      "outputs": [
        {
          "name": "stdout",
          "output_type": "stream",
          "text": [
            "              precision    recall  f1-score   support\n",
            "\n",
            "           0       0.46      0.66      0.54     33525\n",
            "           1       0.77      0.60      0.67     63775\n",
            "\n",
            "    accuracy                           0.62     97300\n",
            "   macro avg       0.62      0.63      0.61     97300\n",
            "weighted avg       0.66      0.62      0.63     97300\n",
            "\n"
          ]
        }
      ],
      "source": [
        "print(classification_report(y_test['IND_BOM_1_1'], y_pred))"
      ]
    },
    {
      "cell_type": "code",
      "execution_count": 72,
      "metadata": {
        "colab": {
          "base_uri": "https://localhost:8080/"
        },
        "id": "yOzy5azVQYiU",
        "outputId": "e1dd737d-1d6e-448d-aa19-a55f2462acb1"
      },
      "outputs": [
        {
          "data": {
            "image/png": "[encoded data removed]",
            "text/plain": [
              "<Figure size 640x480 with 2 Axes>"
            ]
          },
          "metadata": {},
          "output_type": "display_data"
        }
      ],
      "source": [
        "ConfusionMatrixDisplay.from_predictions(y_test['IND_BOM_1_1'], y_pred);"
      ]
    },
    {
      "cell_type": "markdown",
      "metadata": {
        "id": "jB2NiEQu5Sxf"
      },
      "source": [
        "##Meta Classificador"
      ]
    },
    {
      "cell_type": "code",
      "execution_count": 73,
      "metadata": {
        "id": "_btEHL4C5a9H"
      },
      "outputs": [],
      "source": [
        "#Random Forest\n",
        "rf_classifier = RandomForestClassifier(n_estimators=100,max_depth=8,min_samples_leaf=2,min_samples_split=4,max_features='sqrt')\n",
        "rf_history = rf_classifier.fit(x_train.to_numpy(), y_train2.to_numpy().ravel())\n",
        "rf_pred_class_test = rf_classifier.predict(x_test.to_numpy())\n",
        "y_pred_rf_test = pred_name_columns(rf_pred_class_test)"
      ]
    },
    {
      "cell_type": "code",
      "execution_count": 74,
      "metadata": {
        "colab": {
          "base_uri": "https://localhost:8080/",
          "height": 363
        },
        "id": "aD2VQ-zEd3Hj",
        "outputId": "5595e727-1615-4fed-df40-df9a1f1be9c2"
      },
      "outputs": [
        {
          "data": {
            "text/html": [
              "<div>\n",
              "<style scoped>\n",
              "    .dataframe tbody tr th:only-of-type {\n",
              "        vertical-align: middle;\n",
              "    }\n",
              "\n",
              "    .dataframe tbody tr th {\n",
              "        vertical-align: top;\n",
              "    }\n",
              "\n",
              "    .dataframe thead th {\n",
              "        text-align: right;\n",
              "    }\n",
              "</style>\n",
              "<table border=\"1\" class=\"dataframe\">\n",
              "  <thead>\n",
              "    <tr style=\"text-align: right;\">\n",
              "      <th></th>\n",
              "      <th>IND_BOM_1_1</th>\n",
              "    </tr>\n",
              "  </thead>\n",
              "  <tbody>\n",
              "    <tr>\n",
              "      <th>0</th>\n",
              "      <td>0</td>\n",
              "    </tr>\n",
              "    <tr>\n",
              "      <th>1</th>\n",
              "      <td>1</td>\n",
              "    </tr>\n",
              "    <tr>\n",
              "      <th>2</th>\n",
              "      <td>0</td>\n",
              "    </tr>\n",
              "    <tr>\n",
              "      <th>3</th>\n",
              "      <td>0</td>\n",
              "    </tr>\n",
              "    <tr>\n",
              "      <th>4</th>\n",
              "      <td>0</td>\n",
              "    </tr>\n",
              "    <tr>\n",
              "      <th>5</th>\n",
              "      <td>1</td>\n",
              "    </tr>\n",
              "    <tr>\n",
              "      <th>6</th>\n",
              "      <td>0</td>\n",
              "    </tr>\n",
              "    <tr>\n",
              "      <th>7</th>\n",
              "      <td>1</td>\n",
              "    </tr>\n",
              "    <tr>\n",
              "      <th>8</th>\n",
              "      <td>1</td>\n",
              "    </tr>\n",
              "    <tr>\n",
              "      <th>9</th>\n",
              "      <td>1</td>\n",
              "    </tr>\n",
              "  </tbody>\n",
              "</table>\n",
              "</div>"
            ],
            "text/plain": [
              "   IND_BOM_1_1\n",
              "0            0\n",
              "1            1\n",
              "2            0\n",
              "3            0\n",
              "4            0\n",
              "5            1\n",
              "6            0\n",
              "7            1\n",
              "8            1\n",
              "9            1"
            ]
          },
          "execution_count": 74,
          "metadata": {},
          "output_type": "execute_result"
        }
      ],
      "source": [
        "y_pred_rf_test.head(10)"
      ]
    },
    {
      "cell_type": "code",
      "execution_count": 77,
      "metadata": {
        "colab": {
          "base_uri": "https://localhost:8080/"
        },
        "id": "oEqbUXeJcrdt",
        "outputId": "712c5a8a-17a3-4c65-f54a-c2f502e97317"
      },
      "outputs": [
        {
          "name": "stderr",
          "output_type": "stream",
          "text": [
            "/home/pedro-milet/.local/lib/python3.8/site-packages/sklearn/neural_network/_multilayer_perceptron.py:541: ConvergenceWarning:\n",
            "\n",
            "lbfgs failed to converge (status=1):\n",
            "STOP: TOTAL NO. of ITERATIONS REACHED LIMIT.\n",
            "\n",
            "Increase the number of iterations (max_iter) or scale the data as shown in:\n",
            "    https://scikit-learn.org/stable/modules/preprocessing.html\n",
            "\n",
            "/home/pedro-milet/.local/lib/python3.8/site-packages/sklearn/base.py:432: UserWarning:\n",
            "\n",
            "X has feature names, but MLPClassifier was fitted without feature names\n",
            "\n"
          ]
        }
      ],
      "source": [
        "#MLP\n",
        "mlp_opt = MLPClassifier(random_state=1, \n",
        "                    max_iter=3,\n",
        "                    solver='lbfgs',\n",
        "                    activation='identity',\n",
        "                    learning_rate= 'adaptive',\n",
        "                    learning_rate_init=0.047,\n",
        "                    hidden_layer_sizes=(11,2),\n",
        "                    early_stopping=True).fit(x_train.to_numpy(), y_train2.to_numpy().ravel())\n",
        "\n",
        "mlp_pred_class_test = mlp_opt.predict(x_test.to_numpy())\n",
        "mlp_prb_test = mlp_opt.predict_proba(x_test)\n",
        "y_pred_mlp_test = pred_name_columns(mlp_pred_class_test)"
      ]
    },
    {
      "cell_type": "code",
      "execution_count": 78,
      "metadata": {
        "colab": {
          "base_uri": "https://localhost:8080/",
          "height": 363
        },
        "id": "vVUXBpG1dgfO",
        "outputId": "bef10a1b-10a5-4596-8fc7-d805bf16ad0f"
      },
      "outputs": [
        {
          "data": {
            "text/html": [
              "<div>\n",
              "<style scoped>\n",
              "    .dataframe tbody tr th:only-of-type {\n",
              "        vertical-align: middle;\n",
              "    }\n",
              "\n",
              "    .dataframe tbody tr th {\n",
              "        vertical-align: top;\n",
              "    }\n",
              "\n",
              "    .dataframe thead th {\n",
              "        text-align: right;\n",
              "    }\n",
              "</style>\n",
              "<table border=\"1\" class=\"dataframe\">\n",
              "  <thead>\n",
              "    <tr style=\"text-align: right;\">\n",
              "      <th></th>\n",
              "      <th>IND_BOM_1_1</th>\n",
              "    </tr>\n",
              "  </thead>\n",
              "  <tbody>\n",
              "    <tr>\n",
              "      <th>0</th>\n",
              "      <td>1</td>\n",
              "    </tr>\n",
              "    <tr>\n",
              "      <th>1</th>\n",
              "      <td>0</td>\n",
              "    </tr>\n",
              "    <tr>\n",
              "      <th>2</th>\n",
              "      <td>1</td>\n",
              "    </tr>\n",
              "    <tr>\n",
              "      <th>3</th>\n",
              "      <td>0</td>\n",
              "    </tr>\n",
              "    <tr>\n",
              "      <th>4</th>\n",
              "      <td>0</td>\n",
              "    </tr>\n",
              "    <tr>\n",
              "      <th>5</th>\n",
              "      <td>0</td>\n",
              "    </tr>\n",
              "    <tr>\n",
              "      <th>6</th>\n",
              "      <td>1</td>\n",
              "    </tr>\n",
              "    <tr>\n",
              "      <th>7</th>\n",
              "      <td>0</td>\n",
              "    </tr>\n",
              "    <tr>\n",
              "      <th>8</th>\n",
              "      <td>1</td>\n",
              "    </tr>\n",
              "    <tr>\n",
              "      <th>9</th>\n",
              "      <td>1</td>\n",
              "    </tr>\n",
              "  </tbody>\n",
              "</table>\n",
              "</div>"
            ],
            "text/plain": [
              "   IND_BOM_1_1\n",
              "0            1\n",
              "1            0\n",
              "2            1\n",
              "3            0\n",
              "4            0\n",
              "5            0\n",
              "6            1\n",
              "7            0\n",
              "8            1\n",
              "9            1"
            ]
          },
          "execution_count": 78,
          "metadata": {},
          "output_type": "execute_result"
        }
      ],
      "source": [
        "y_pred_mlp_test.head(10)"
      ]
    },
    {
      "cell_type": "code",
      "execution_count": 79,
      "metadata": {
        "id": "hEWVCtj2di82"
      },
      "outputs": [
        {
          "name": "stderr",
          "output_type": "stream",
          "text": [
            "/home/pedro-milet/.local/lib/python3.8/site-packages/sklearn/linear_model/_stochastic_gradient.py:702: ConvergenceWarning:\n",
            "\n",
            "Maximum number of iteration reached before convergence. Consider increasing max_iter to improve the fit.\n",
            "\n"
          ]
        }
      ],
      "source": [
        "#SVM\n",
        "svm_clf = SGDClassifier(max_iter=10)\n",
        "\n",
        "svm_clf.fit(x_train,y_train['IND_BOM_1_1'])\n",
        "y_pred = svm_clf.predict(x_test)\n",
        "y_pred_svm_test = pred_name_columns(y_pred)"
      ]
    },
    {
      "cell_type": "code",
      "execution_count": 80,
      "metadata": {
        "colab": {
          "base_uri": "https://localhost:8080/",
          "height": 363
        },
        "id": "vOntKkOGd-es",
        "outputId": "95384453-cf76-40c7-ce72-f8941b95323a"
      },
      "outputs": [
        {
          "data": {
            "text/html": [
              "<div>\n",
              "<style scoped>\n",
              "    .dataframe tbody tr th:only-of-type {\n",
              "        vertical-align: middle;\n",
              "    }\n",
              "\n",
              "    .dataframe tbody tr th {\n",
              "        vertical-align: top;\n",
              "    }\n",
              "\n",
              "    .dataframe thead th {\n",
              "        text-align: right;\n",
              "    }\n",
              "</style>\n",
              "<table border=\"1\" class=\"dataframe\">\n",
              "  <thead>\n",
              "    <tr style=\"text-align: right;\">\n",
              "      <th></th>\n",
              "      <th>IND_BOM_1_1</th>\n",
              "    </tr>\n",
              "  </thead>\n",
              "  <tbody>\n",
              "    <tr>\n",
              "      <th>0</th>\n",
              "      <td>0</td>\n",
              "    </tr>\n",
              "    <tr>\n",
              "      <th>1</th>\n",
              "      <td>1</td>\n",
              "    </tr>\n",
              "    <tr>\n",
              "      <th>2</th>\n",
              "      <td>0</td>\n",
              "    </tr>\n",
              "    <tr>\n",
              "      <th>3</th>\n",
              "      <td>0</td>\n",
              "    </tr>\n",
              "    <tr>\n",
              "      <th>4</th>\n",
              "      <td>0</td>\n",
              "    </tr>\n",
              "    <tr>\n",
              "      <th>5</th>\n",
              "      <td>1</td>\n",
              "    </tr>\n",
              "    <tr>\n",
              "      <th>6</th>\n",
              "      <td>0</td>\n",
              "    </tr>\n",
              "    <tr>\n",
              "      <th>7</th>\n",
              "      <td>1</td>\n",
              "    </tr>\n",
              "    <tr>\n",
              "      <th>8</th>\n",
              "      <td>1</td>\n",
              "    </tr>\n",
              "    <tr>\n",
              "      <th>9</th>\n",
              "      <td>1</td>\n",
              "    </tr>\n",
              "  </tbody>\n",
              "</table>\n",
              "</div>"
            ],
            "text/plain": [
              "   IND_BOM_1_1\n",
              "0            0\n",
              "1            1\n",
              "2            0\n",
              "3            0\n",
              "4            0\n",
              "5            1\n",
              "6            0\n",
              "7            1\n",
              "8            1\n",
              "9            1"
            ]
          },
          "execution_count": 80,
          "metadata": {},
          "output_type": "execute_result"
        }
      ],
      "source": [
        "y_pred_svm_test.head(10)"
      ]
    },
    {
      "cell_type": "code",
      "execution_count": 81,
      "metadata": {
        "id": "h2vx0M-8evJ9"
      },
      "outputs": [],
      "source": [
        "meta_dataset = pd.concat([y_pred_rf_test.rename(columns={'IND_BOM_1_1': 'rf'}), y_pred_mlp_test.rename(columns={'IND_BOM_1_1': 'mlp'}), y_pred_svm_test.rename(columns={'IND_BOM_1_1': 'svm'})], axis=1)"
      ]
    },
    {
      "cell_type": "code",
      "execution_count": 82,
      "metadata": {
        "colab": {
          "base_uri": "https://localhost:8080/"
        },
        "id": "6eHq2rWyZO3B",
        "outputId": "39ea4060-1ab9-457f-c6e1-b40f3fbb23fb"
      },
      "outputs": [
        {
          "data": {
            "text/plain": [
              "<bound method NDFrame.describe of        rf  mlp  svm\n",
              "0       0    1    0\n",
              "1       1    0    1\n",
              "2       0    1    0\n",
              "3       0    0    0\n",
              "4       0    0    0\n",
              "...    ..  ...  ...\n",
              "97295   0    0    1\n",
              "97296   1    0    1\n",
              "97297   1    0    1\n",
              "97298   0    1    1\n",
              "97299   1    1    1\n",
              "\n",
              "[97300 rows x 3 columns]>"
            ]
          },
          "execution_count": 82,
          "metadata": {},
          "output_type": "execute_result"
        }
      ],
      "source": [
        "meta_dataset.describe"
      ]
    },
    {
      "cell_type": "code",
      "execution_count": 83,
      "metadata": {
        "colab": {
          "base_uri": "https://localhost:8080/"
        },
        "id": "GNIReBsggmpn",
        "outputId": "2906b6ad-4af8-4d5a-b32f-8190aba9f186"
      },
      "outputs": [
        {
          "data": {
            "text/plain": [
              "<bound method NDFrame.describe of 73336     0\n",
              "103222    1\n",
              "160865    1\n",
              "10445     1\n",
              "15464     0\n",
              "         ..\n",
              "77024     1\n",
              "210499    0\n",
              "179508    1\n",
              "295729    0\n",
              "295893    1\n",
              "Name: IND_BOM_1_1, Length: 97300, dtype: int64>"
            ]
          },
          "execution_count": 83,
          "metadata": {},
          "output_type": "execute_result"
        }
      ],
      "source": [
        "y_test['IND_BOM_1_1'].describe"
      ]
    },
    {
      "cell_type": "code",
      "execution_count": 84,
      "metadata": {
        "id": "3q3LStPOlRYS"
      },
      "outputs": [],
      "source": [
        "#Para testar o meta classificador:\n",
        "rf_pred_class_valid = rf_classifier.predict(x_validate.to_numpy())\n",
        "y_pred_rf_valid = pred_name_columns(rf_pred_class_valid)\n",
        "\n",
        "mlp_pred_class_valid = mlp_opt.predict(x_validate.to_numpy())\n",
        "y_pred_mlp_valid = pred_name_columns(mlp_pred_class_valid)\n",
        "\n",
        "y_pred_svm = svm_clf.predict(x_validate)\n",
        "y_pred_svm_valid = pred_name_columns(y_pred_svm)\n",
        "\n",
        "meta_dataset_valid = pd.concat([y_pred_rf_valid.rename(columns={'IND_BOM_1_1': 'rf'}), y_pred_mlp_valid.rename(columns={'IND_BOM_1_1': 'mlp'}), y_pred_svm_valid.rename(columns={'IND_BOM_1_1': 'svm'})], axis=1)"
      ]
    },
    {
      "cell_type": "code",
      "execution_count": 85,
      "metadata": {
        "id": "yw1rZFUWg6AO"
      },
      "outputs": [
        {
          "name": "stderr",
          "output_type": "stream",
          "text": [
            "/home/pedro-milet/.local/lib/python3.8/site-packages/sklearn/ensemble/_gb.py:280: FutureWarning:\n",
            "\n",
            "The loss parameter name 'deviance' was deprecated in v1.1 and will be removed in version 1.3. Use the new parameter name 'log_loss' which is equivalent.\n",
            "\n"
          ]
        }
      ],
      "source": [
        "#Meta Classificador GB\n",
        "gradient_boost = GradientBoostingClassifier(n_estimators = 28, \n",
        "                                            max_depth = 62, \n",
        "                                            min_samples_leaf = 7, \n",
        "                                            learning_rate = 0.49109966110029046, \n",
        "                                            loss = 'deviance', \n",
        "                                            subsample = 0.6811509590280894).fit(meta_dataset.to_numpy(), y_test2.to_numpy().ravel())"
      ]
    },
    {
      "cell_type": "code",
      "execution_count": 86,
      "metadata": {
        "colab": {
          "base_uri": "https://localhost:8080/",
          "height": 946
        },
        "id": "DQK61rH7jR-g",
        "outputId": "4889539e-1148-4305-9e0a-74163c7a8086"
      },
      "outputs": [
        {
          "name": "stdout",
          "output_type": "stream",
          "text": [
            "              precision    recall  f1-score   support\n",
            "\n",
            "           0       0.66      0.26      0.37     63774\n",
            "           1       0.54      0.87      0.66     63774\n",
            "\n",
            "    accuracy                           0.56    127548\n",
            "   macro avg       0.60      0.56      0.52    127548\n",
            "weighted avg       0.60      0.56      0.52    127548\n",
            "\n",
            "Erro quadrático médio:  0.43946592655314076\n",
            "Auroc: 0.5605340734468591\n",
            "Precisão média:  0.5325434254525385\n",
            "\n"
          ]
        },
        {
          "name": "stderr",
          "output_type": "stream",
          "text": [
            "/home/pedro-milet/.local/lib/python3.8/site-packages/sklearn/base.py:432: UserWarning:\n",
            "\n",
            "X has feature names, but GradientBoostingClassifier was fitted without feature names\n",
            "\n"
          ]
        },
        {
          "data": {
            "image/png": "[encoded data removed]",
            "text/plain": [
              "<Figure size 640x480 with 2 Axes>"
            ]
          },
          "metadata": {},
          "output_type": "display_data"
        },
        {
          "data": {
            "image/png": "[encoded data removed]",
            "text/plain": [
              "<Figure size 640x480 with 1 Axes>"
            ]
          },
          "metadata": {},
          "output_type": "display_data"
        }
      ],
      "source": [
        "#Testando o meta classificador\n",
        "gb_pred_class_validate = gradient_boost.predict(meta_dataset_valid.to_numpy())\n",
        "y_pred_gb_valid = pred_name_columns(gb_pred_class_validate)\n",
        "my_metrics(y_validate2,y_pred_gb_valid)\n",
        "\n",
        "\n",
        "gb_prb_valid = gradient_boost.predict_proba(meta_dataset_valid)\n",
        "skplt.metrics.plot_ks_statistic(y_validate2.to_numpy().ravel(), gb_prb_valid)\n",
        "plt.show()"
      ]
    },
    {
      "cell_type": "markdown",
      "metadata": {
        "id": "nnIS7eFP9MsA"
      },
      "source": [
        "# Conclusões\n"
      ]
    },
    {
      "cell_type": "markdown",
      "metadata": {
        "id": "9TrVL6Zi9PcK"
      },
      "source": [
        "Nosso melhor modelo gerado foi o Ensemble com acurácia de aproximadamente 64%, Auroc de 0.64, MSE de (0.36) e KS de 0.288"
      ]
    },
    {
      "cell_type": "markdown",
      "metadata": {
        "id": "z6NDwdvC95w7"
      },
      "source": [
        "Com isso nós finalizamos o nosso projeto que gerou as mais diversas experiências e aprendizados na área, entendemos bem o desafio que é lidar com um grande dataset e quão dificil é treina-lo e molda-lo corretamente e acreditamos que foram gerados resultados satisfatórios em relação ao problema apresentado."
      ]
    }
  ],
  "metadata": {
    "colab": {
      "collapsed_sections": [
        "qdaAbfVw5PXP",
        "6nqLBh2Z5RaB",
        "jB2NiEQu5Sxf"
      ],
      "include_colab_link": true,
      "name": "Cópia de Projeto.ipynb",
      "provenance": []
    },
    "kernelspec": {
      "display_name": "Python 3",
      "name": "python3"
    },
    "language_info": {
      "codemirror_mode": {
        "name": "ipython",
        "version": 3
      },
      "file_extension": ".py",
      "mimetype": "text/x-python",
      "name": "python",
      "nbconvert_exporter": "python",
      "pygments_lexer": "ipython3",
      "version": "3.8.10"
    }
  },
  "nbformat": 4,
  "nbformat_minor": 0
}
