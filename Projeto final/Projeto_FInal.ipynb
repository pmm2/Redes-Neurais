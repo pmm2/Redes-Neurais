{
 "cells": [
  {
   "cell_type": "markdown",
   "metadata": {
    "id": "xYHc0St5G1A-"
   },
   "source": [
    "O seguinte Projeto tem como objetivo praticar os conceitos e teorias aprendidas na disciplina de Redes Neurais a respeito"
   ]
  },
  {
   "cell_type": "markdown",
   "metadata": {},
   "source": [
    "TODO\n",
    "1. Melhorar comentarios para que projeto sirva de entrega\n",
    "2. Implementar early stopping no svc\n",
    "3. Rodar projeto com numero alto de trials e interacoes, esta primeira rodada eh so para testar se nada quebra"
   ]
  },
  {
   "cell_type": "markdown",
   "metadata": {
    "id": "g8A22cU9ytOD"
   },
   "source": [
    "#Organização e separação dos dados"
   ]
  },
  {
   "cell_type": "markdown",
   "metadata": {
    "id": "Q1jW3YsW6MRp"
   },
   "source": [
    "Nesse passo do projeto, fizemos a coleta do dataset e logo após os dividimos em 3 conjuntos distintos, dataset para treinamento, validação e testes"
   ]
  },
  {
   "cell_type": "code",
   "execution_count": 1,
   "metadata": {
    "id": "E8wBwn4XUnvd"
   },
   "outputs": [
    {
     "name": "stderr",
     "output_type": "stream",
     "text": [
      "2023-04-23 12:40:20.056233: I tensorflow/core/util/port.cc:110] oneDNN custom operations are on. You may see slightly different numerical results due to floating-point round-off errors from different computation orders. To turn them off, set the environment variable `TF_ENABLE_ONEDNN_OPTS=0`.\n",
      "2023-04-23 12:40:20.097115: I tensorflow/tsl/cuda/cudart_stub.cc:28] Could not find cuda drivers on your machine, GPU will not be used.\n",
      "2023-04-23 12:40:20.332184: I tensorflow/tsl/cuda/cudart_stub.cc:28] Could not find cuda drivers on your machine, GPU will not be used.\n",
      "2023-04-23 12:40:20.334011: I tensorflow/core/platform/cpu_feature_guard.cc:182] This TensorFlow binary is optimized to use available CPU instructions in performance-critical operations.\n",
      "To enable the following instructions: AVX2 AVX_VNNI FMA, in other operations, rebuild TensorFlow with the appropriate compiler flags.\n",
      "2023-04-23 12:40:20.989895: W tensorflow/compiler/tf2tensorrt/utils/py_utils.cc:38] TF-TRT Warning: Could not find TensorRT\n"
     ]
    }
   ],
   "source": [
    "\n",
    "import numpy as np\n",
    "import pandas as pd\n",
    "import sys\n",
    "import os\n",
    "import optuna\n",
    "from keras.models import Sequential\n",
    "from keras.layers import Dense\n",
    "from keras.callbacks import EarlyStopping\n",
    "from tensorflow.keras import layers, optimizers, losses\n",
    "from sklearn.neural_network import MLPClassifier\n",
    "from scipy import stats\n",
    "from sklearn.ensemble import RandomForestClassifier\n",
    "from sklearn.ensemble import GradientBoostingClassifier\n",
    "from keras.models import Sequential\n",
    "from keras.layers import Dense\n",
    "from keras.callbacks import EarlyStopping\n",
    "from tensorflow import keras\n",
    "from keras.models import Model\n",
    "from keras import layers, optimizers, losses\n",
    "# from tensorflow.keras import layers, optimizers, losses\n",
    "from sklearn.neural_network import MLPClassifier\n",
    "from scipy import stats\n",
    "from sklearn.ensemble import StackingClassifier, RandomForestClassifier, BaggingClassifier, VotingClassifier\n",
    "from sklearn.svm import LinearSVC, SVC\n",
    "from sklearn.linear_model import SGDClassifier\n",
    "from sklearn.calibration import CalibratedClassifierCV"
   ]
  },
  {
   "cell_type": "code",
   "execution_count": 2,
   "metadata": {
    "colab": {
     "base_uri": "https://localhost:8080/",
     "height": 0
    },
    "id": "Ea6fanOoY2Mo",
    "outputId": "07a9765d-ec9e-4bde-815c-24d50dec3327"
   },
   "outputs": [],
   "source": [
    "\n",
    "dataset = pd.read_csv('TRNcod.xls', delimiter = \"\\t\")"
   ]
  },
  {
   "cell_type": "markdown",
   "metadata": {},
   "source": [
    "Abaixo pre processamos os dados\n",
    "1. Separamos duas classes\n",
    "2. Damos shuffle\n",
    "3. Fazemos a divisao 50/25/25"
   ]
  },
  {
   "cell_type": "code",
   "execution_count": 3,
   "metadata": {
    "colab": {
     "base_uri": "https://localhost:8080/",
     "height": 488
    },
    "id": "NvIEGqgrogOe",
    "outputId": "87c2b3c2-af44-4a22-aac3-ee9bed556813"
   },
   "outputs": [
    {
     "data": {
      "text/html": [
       "<div>\n",
       "<style scoped>\n",
       "    .dataframe tbody tr th:only-of-type {\n",
       "        vertical-align: middle;\n",
       "    }\n",
       "\n",
       "    .dataframe tbody tr th {\n",
       "        vertical-align: top;\n",
       "    }\n",
       "\n",
       "    .dataframe thead th {\n",
       "        text-align: right;\n",
       "    }\n",
       "</style>\n",
       "<table border=\"1\" class=\"dataframe\">\n",
       "  <thead>\n",
       "    <tr style=\"text-align: right;\">\n",
       "      <th></th>\n",
       "      <th>INDEX</th>\n",
       "      <th>UF_1</th>\n",
       "      <th>UF_2</th>\n",
       "      <th>UF_3</th>\n",
       "      <th>UF_4</th>\n",
       "      <th>UF_5</th>\n",
       "      <th>UF_6</th>\n",
       "      <th>UF_7</th>\n",
       "      <th>IDADE</th>\n",
       "      <th>SEXO_1</th>\n",
       "      <th>...</th>\n",
       "      <th>CEP4_7</th>\n",
       "      <th>CEP4_8</th>\n",
       "      <th>CEP4_9</th>\n",
       "      <th>CEP4_10</th>\n",
       "      <th>CEP4_11</th>\n",
       "      <th>CEP4_12</th>\n",
       "      <th>CEP4_13</th>\n",
       "      <th>CEP4_14</th>\n",
       "      <th>IND_BOM_1_1</th>\n",
       "      <th>IND_BOM_1_2</th>\n",
       "    </tr>\n",
       "  </thead>\n",
       "  <tbody>\n",
       "    <tr>\n",
       "      <th>0</th>\n",
       "      <td>0</td>\n",
       "      <td>1</td>\n",
       "      <td>1</td>\n",
       "      <td>1</td>\n",
       "      <td>0</td>\n",
       "      <td>0</td>\n",
       "      <td>0</td>\n",
       "      <td>0</td>\n",
       "      <td>0.135098</td>\n",
       "      <td>1</td>\n",
       "      <td>...</td>\n",
       "      <td>0</td>\n",
       "      <td>0</td>\n",
       "      <td>1</td>\n",
       "      <td>1</td>\n",
       "      <td>0</td>\n",
       "      <td>1</td>\n",
       "      <td>1</td>\n",
       "      <td>1</td>\n",
       "      <td>0</td>\n",
       "      <td>1</td>\n",
       "    </tr>\n",
       "    <tr>\n",
       "      <th>1</th>\n",
       "      <td>1</td>\n",
       "      <td>1</td>\n",
       "      <td>0</td>\n",
       "      <td>1</td>\n",
       "      <td>0</td>\n",
       "      <td>0</td>\n",
       "      <td>1</td>\n",
       "      <td>0</td>\n",
       "      <td>0.273504</td>\n",
       "      <td>1</td>\n",
       "      <td>...</td>\n",
       "      <td>0</td>\n",
       "      <td>1</td>\n",
       "      <td>0</td>\n",
       "      <td>1</td>\n",
       "      <td>1</td>\n",
       "      <td>0</td>\n",
       "      <td>0</td>\n",
       "      <td>0</td>\n",
       "      <td>1</td>\n",
       "      <td>0</td>\n",
       "    </tr>\n",
       "    <tr>\n",
       "      <th>2</th>\n",
       "      <td>2</td>\n",
       "      <td>1</td>\n",
       "      <td>0</td>\n",
       "      <td>1</td>\n",
       "      <td>0</td>\n",
       "      <td>0</td>\n",
       "      <td>1</td>\n",
       "      <td>0</td>\n",
       "      <td>0.281910</td>\n",
       "      <td>0</td>\n",
       "      <td>...</td>\n",
       "      <td>1</td>\n",
       "      <td>1</td>\n",
       "      <td>0</td>\n",
       "      <td>0</td>\n",
       "      <td>0</td>\n",
       "      <td>0</td>\n",
       "      <td>1</td>\n",
       "      <td>0</td>\n",
       "      <td>1</td>\n",
       "      <td>0</td>\n",
       "    </tr>\n",
       "    <tr>\n",
       "      <th>3</th>\n",
       "      <td>3</td>\n",
       "      <td>1</td>\n",
       "      <td>1</td>\n",
       "      <td>1</td>\n",
       "      <td>0</td>\n",
       "      <td>0</td>\n",
       "      <td>0</td>\n",
       "      <td>0</td>\n",
       "      <td>0.225741</td>\n",
       "      <td>0</td>\n",
       "      <td>...</td>\n",
       "      <td>1</td>\n",
       "      <td>1</td>\n",
       "      <td>0</td>\n",
       "      <td>1</td>\n",
       "      <td>1</td>\n",
       "      <td>0</td>\n",
       "      <td>1</td>\n",
       "      <td>0</td>\n",
       "      <td>1</td>\n",
       "      <td>0</td>\n",
       "    </tr>\n",
       "    <tr>\n",
       "      <th>4</th>\n",
       "      <td>4</td>\n",
       "      <td>1</td>\n",
       "      <td>1</td>\n",
       "      <td>0</td>\n",
       "      <td>0</td>\n",
       "      <td>0</td>\n",
       "      <td>1</td>\n",
       "      <td>0</td>\n",
       "      <td>0.480403</td>\n",
       "      <td>0</td>\n",
       "      <td>...</td>\n",
       "      <td>1</td>\n",
       "      <td>1</td>\n",
       "      <td>1</td>\n",
       "      <td>0</td>\n",
       "      <td>0</td>\n",
       "      <td>1</td>\n",
       "      <td>0</td>\n",
       "      <td>1</td>\n",
       "      <td>1</td>\n",
       "      <td>0</td>\n",
       "    </tr>\n",
       "    <tr>\n",
       "      <th>...</th>\n",
       "      <td>...</td>\n",
       "      <td>...</td>\n",
       "      <td>...</td>\n",
       "      <td>...</td>\n",
       "      <td>...</td>\n",
       "      <td>...</td>\n",
       "      <td>...</td>\n",
       "      <td>...</td>\n",
       "      <td>...</td>\n",
       "      <td>...</td>\n",
       "      <td>...</td>\n",
       "      <td>...</td>\n",
       "      <td>...</td>\n",
       "      <td>...</td>\n",
       "      <td>...</td>\n",
       "      <td>...</td>\n",
       "      <td>...</td>\n",
       "      <td>...</td>\n",
       "      <td>...</td>\n",
       "      <td>...</td>\n",
       "      <td>...</td>\n",
       "    </tr>\n",
       "    <tr>\n",
       "      <th>389191</th>\n",
       "      <td>389191</td>\n",
       "      <td>1</td>\n",
       "      <td>1</td>\n",
       "      <td>0</td>\n",
       "      <td>0</td>\n",
       "      <td>0</td>\n",
       "      <td>0</td>\n",
       "      <td>1</td>\n",
       "      <td>0.787827</td>\n",
       "      <td>1</td>\n",
       "      <td>...</td>\n",
       "      <td>0</td>\n",
       "      <td>1</td>\n",
       "      <td>1</td>\n",
       "      <td>1</td>\n",
       "      <td>1</td>\n",
       "      <td>1</td>\n",
       "      <td>0</td>\n",
       "      <td>1</td>\n",
       "      <td>0</td>\n",
       "      <td>1</td>\n",
       "    </tr>\n",
       "    <tr>\n",
       "      <th>389192</th>\n",
       "      <td>389192</td>\n",
       "      <td>1</td>\n",
       "      <td>0</td>\n",
       "      <td>1</td>\n",
       "      <td>0</td>\n",
       "      <td>0</td>\n",
       "      <td>0</td>\n",
       "      <td>1</td>\n",
       "      <td>0.470010</td>\n",
       "      <td>1</td>\n",
       "      <td>...</td>\n",
       "      <td>1</td>\n",
       "      <td>0</td>\n",
       "      <td>1</td>\n",
       "      <td>0</td>\n",
       "      <td>1</td>\n",
       "      <td>0</td>\n",
       "      <td>1</td>\n",
       "      <td>1</td>\n",
       "      <td>1</td>\n",
       "      <td>0</td>\n",
       "    </tr>\n",
       "    <tr>\n",
       "      <th>389193</th>\n",
       "      <td>389193</td>\n",
       "      <td>0</td>\n",
       "      <td>1</td>\n",
       "      <td>0</td>\n",
       "      <td>1</td>\n",
       "      <td>0</td>\n",
       "      <td>0</td>\n",
       "      <td>1</td>\n",
       "      <td>0.436048</td>\n",
       "      <td>0</td>\n",
       "      <td>...</td>\n",
       "      <td>1</td>\n",
       "      <td>0</td>\n",
       "      <td>0</td>\n",
       "      <td>1</td>\n",
       "      <td>0</td>\n",
       "      <td>1</td>\n",
       "      <td>1</td>\n",
       "      <td>0</td>\n",
       "      <td>0</td>\n",
       "      <td>1</td>\n",
       "    </tr>\n",
       "    <tr>\n",
       "      <th>389194</th>\n",
       "      <td>389194</td>\n",
       "      <td>1</td>\n",
       "      <td>0</td>\n",
       "      <td>1</td>\n",
       "      <td>0</td>\n",
       "      <td>1</td>\n",
       "      <td>0</td>\n",
       "      <td>0</td>\n",
       "      <td>0.677875</td>\n",
       "      <td>0</td>\n",
       "      <td>...</td>\n",
       "      <td>0</td>\n",
       "      <td>1</td>\n",
       "      <td>0</td>\n",
       "      <td>0</td>\n",
       "      <td>0</td>\n",
       "      <td>1</td>\n",
       "      <td>1</td>\n",
       "      <td>1</td>\n",
       "      <td>1</td>\n",
       "      <td>0</td>\n",
       "    </tr>\n",
       "    <tr>\n",
       "      <th>389195</th>\n",
       "      <td>389195</td>\n",
       "      <td>1</td>\n",
       "      <td>1</td>\n",
       "      <td>0</td>\n",
       "      <td>0</td>\n",
       "      <td>1</td>\n",
       "      <td>0</td>\n",
       "      <td>0</td>\n",
       "      <td>0.690540</td>\n",
       "      <td>0</td>\n",
       "      <td>...</td>\n",
       "      <td>1</td>\n",
       "      <td>1</td>\n",
       "      <td>0</td>\n",
       "      <td>0</td>\n",
       "      <td>0</td>\n",
       "      <td>1</td>\n",
       "      <td>1</td>\n",
       "      <td>0</td>\n",
       "      <td>1</td>\n",
       "      <td>0</td>\n",
       "    </tr>\n",
       "  </tbody>\n",
       "</table>\n",
       "<p>389196 rows × 246 columns</p>\n",
       "</div>"
      ],
      "text/plain": [
       "         INDEX  UF_1  UF_2  UF_3  UF_4  UF_5  UF_6  UF_7     IDADE  SEXO_1   \n",
       "0            0     1     1     1     0     0     0     0  0.135098       1  \\\n",
       "1            1     1     0     1     0     0     1     0  0.273504       1   \n",
       "2            2     1     0     1     0     0     1     0  0.281910       0   \n",
       "3            3     1     1     1     0     0     0     0  0.225741       0   \n",
       "4            4     1     1     0     0     0     1     0  0.480403       0   \n",
       "...        ...   ...   ...   ...   ...   ...   ...   ...       ...     ...   \n",
       "389191  389191     1     1     0     0     0     0     1  0.787827       1   \n",
       "389192  389192     1     0     1     0     0     0     1  0.470010       1   \n",
       "389193  389193     0     1     0     1     0     0     1  0.436048       0   \n",
       "389194  389194     1     0     1     0     1     0     0  0.677875       0   \n",
       "389195  389195     1     1     0     0     1     0     0  0.690540       0   \n",
       "\n",
       "        ...  CEP4_7  CEP4_8  CEP4_9  CEP4_10  CEP4_11  CEP4_12  CEP4_13   \n",
       "0       ...       0       0       1        1        0        1        1  \\\n",
       "1       ...       0       1       0        1        1        0        0   \n",
       "2       ...       1       1       0        0        0        0        1   \n",
       "3       ...       1       1       0        1        1        0        1   \n",
       "4       ...       1       1       1        0        0        1        0   \n",
       "...     ...     ...     ...     ...      ...      ...      ...      ...   \n",
       "389191  ...       0       1       1        1        1        1        0   \n",
       "389192  ...       1       0       1        0        1        0        1   \n",
       "389193  ...       1       0       0        1        0        1        1   \n",
       "389194  ...       0       1       0        0        0        1        1   \n",
       "389195  ...       1       1       0        0        0        1        1   \n",
       "\n",
       "        CEP4_14  IND_BOM_1_1  IND_BOM_1_2  \n",
       "0             1            0            1  \n",
       "1             0            1            0  \n",
       "2             0            1            0  \n",
       "3             0            1            0  \n",
       "4             1            1            0  \n",
       "...         ...          ...          ...  \n",
       "389191        1            0            1  \n",
       "389192        1            1            0  \n",
       "389193        0            0            1  \n",
       "389194        1            1            0  \n",
       "389195        0            1            0  \n",
       "\n",
       "[389196 rows x 246 columns]"
      ]
     },
     "execution_count": 3,
     "metadata": {},
     "output_type": "execute_result"
    }
   ],
   "source": [
    "dataset "
   ]
  },
  {
   "cell_type": "code",
   "execution_count": 4,
   "metadata": {
    "colab": {
     "base_uri": "https://localhost:8080/",
     "height": 143
    },
    "id": "KhZVeahOolQI",
    "outputId": "2d02bca4-1758-4362-aec3-a52d05f9b5ad"
   },
   "outputs": [
    {
     "data": {
      "text/html": [
       "<div>\n",
       "<style scoped>\n",
       "    .dataframe tbody tr th:only-of-type {\n",
       "        vertical-align: middle;\n",
       "    }\n",
       "\n",
       "    .dataframe tbody tr th {\n",
       "        vertical-align: top;\n",
       "    }\n",
       "\n",
       "    .dataframe thead th {\n",
       "        text-align: right;\n",
       "    }\n",
       "</style>\n",
       "<table border=\"1\" class=\"dataframe\">\n",
       "  <thead>\n",
       "    <tr style=\"text-align: right;\">\n",
       "      <th></th>\n",
       "      <th>INDEX</th>\n",
       "      <th>UF_1</th>\n",
       "      <th>UF_2</th>\n",
       "      <th>UF_3</th>\n",
       "      <th>UF_4</th>\n",
       "      <th>UF_5</th>\n",
       "      <th>UF_6</th>\n",
       "      <th>UF_7</th>\n",
       "      <th>IDADE</th>\n",
       "      <th>SEXO_1</th>\n",
       "      <th>...</th>\n",
       "      <th>CEP4_7</th>\n",
       "      <th>CEP4_8</th>\n",
       "      <th>CEP4_9</th>\n",
       "      <th>CEP4_10</th>\n",
       "      <th>CEP4_11</th>\n",
       "      <th>CEP4_12</th>\n",
       "      <th>CEP4_13</th>\n",
       "      <th>CEP4_14</th>\n",
       "      <th>IND_BOM_1_1</th>\n",
       "      <th>IND_BOM_1_2</th>\n",
       "    </tr>\n",
       "  </thead>\n",
       "  <tbody>\n",
       "  </tbody>\n",
       "</table>\n",
       "<p>0 rows × 246 columns</p>\n",
       "</div>"
      ],
      "text/plain": [
       "Empty DataFrame\n",
       "Columns: [INDEX, UF_1, UF_2, UF_3, UF_4, UF_5, UF_6, UF_7, IDADE, SEXO_1, NIVEL_RELACIONAMENTO_CREDITO01, NIVEL_RELACIONAMENTO_CREDITO02, BANCO_REST_IRPF_ULTIMA_1, BANCO_REST_IRPF_ULTIMA_2, BANCO_REST_IRPF_ULTIMA_3, BANCO_REST_IRPF_ULTIMA_4, BANCO_REST_IRPF_ULTIMA_5, BANCO_REST_IRPF_ULTIMA_6, BANCO_REST_IRPF_ULTIMA_7, ATIVIDADE_EMAIL, EXPOSICAO_ENDERECO, EXPOSICAO_EMAIL, EXPOSICAO_TELEFONE, ATIVIDADE_ENDERECO, ATUALIZACAO_ENDERECO, ATUALIZACAO_EMAIL, EXPOSICAO_CONSUMIDOR_EMAILS, EXPOSICAO_CONSUMIDOR_TELEFONES, ATIVIDADE_TELEFONE, VALOR_PARCELA_BOLSA_FAMILIA, FLAG_BOLSA_FAMILIA_1, SIGLA_PARTIDO_FILIADO_1, SIGLA_PARTIDO_FILIADO_2, SIGLA_PARTIDO_FILIADO_3, SIGLA_PARTIDO_FILIADO_4, SIGLA_PARTIDO_FILIADO_5, SIGLA_PARTIDO_FILIADO_6, SIGLA_PARTIDO_FILIADO_7, FLAG_FILIADO_PARTIDO_POLITICO_1, FLAG_PROUNI_1, RENDA_VIZINHANCA_1, RENDA_VIZINHANCA_2, RENDA_VIZINHANCA_3, RENDA_VIZINHANCA_4, QUANTIDADE_VIZINHANCA, COMPARATIVO_RENDA_CEP_1, COMPARATIVO_RENDA_CEP_2, COMPARATIVO_RENDA_CEP_3, COMPARATIVO_RENDA_CEP_4, COMPARATIVO_RENDA_CEP_5, CLASSE_SOCIAL_CONSUMIDOR_1, CLASSE_SOCIAL_CONSUMIDOR_2, CLASSE_SOCIAL_CONSUMIDOR_3, CLASSE_SOCIAL_CONSUMIDOR_4, ATIVIDADE_CONSUMIDOR_MERCADO_FINANCEIRO, ATUALIZACAO_CONSUMIDOR_MERCADO_FINANCEIRO, FLAG_PROGRAMAS_SOCIAIS_1, CAD_DEMOGRAFICO_VAR_0, CAD_DEMOGRAFICO_VAR_1, CAD_DEMOGRAFICO_VAR_2, CAD_DEMOGRAFICO_VAR_3, CAD_DEMOGRAFICO_VAR_4, CAD_DEMOGRAFICO_VAR_5, CAD_DEMOGRAFICO_VAR_6, CAD_DEMOGRAFICO_VAR_7, CAD_DEMOGRAFICO_VAR_8, CAD_DEMOGRAFICO_VAR_10, CAD_DEMOGRAFICO_VAR_11, CAD_DEMOGRAFICO_VAR_13, CAD_DEMOGRAFICO_VAR_14, CAD_DEMOGRAFICO_VAR_15, CAD_DEMOGRAFICO_VAR_16, CAD_DEMOGRAFICO_VAR_17, CAD_DEMOGRAFICO_VAR_19, CAD_DEMOGRAFICO_VAR_21, CAD_DEMOGRAFICO_VAR_22, CAD_DEMOGRAFICO_VAR_23, CAD_DEMOGRAFICO_VAR_24, CAD_DEMOGRAFICO_VAR_25, CAD_DEMOGRAFICO_VAR_26, CAD_DEMOGRAFICO_VAR_27, CAD_DEMOGRAFICO_VAR_28, CAD_DEMOGRAFICO_VAR_30, CAD_DEMOGRAFICO_VAR_31, CAD_DEMOGRAFICO_VAR_33, CAD_DEMOGRAFICO_VAR_34, CAD_DEMOGRAFICO_VAR_35, CAD_DEMOGRAFICO_VAR_36, CAD_DEMOGRAFICO_VAR_37, CAD_DEMOGRAFICO_VAR_38, CAD_DEMOGRAFICO_VAR_39, CAD_DEMOGRAFICO_VAR_40, CAD_DEMOGRAFICO_VAR_41, CAD_DEMOGRAFICO_VAR_42, CAD_DEMOGRAFICO_VAR_43, CAD_DEMOGRAFICO_VAR_44, CAD_DEMOGRAFICO_VAR_45, CAD_DEMOGRAFICO_VAR_46, CAD_DEMOGRAFICO_VAR_47, CAD_DEMOGRAFICO_VAR_50, ...]\n",
       "Index: []\n",
       "\n",
       "[0 rows x 246 columns]"
      ]
     },
     "execution_count": 4,
     "metadata": {},
     "output_type": "execute_result"
    }
   ],
   "source": [
    "dataset[(dataset['IND_BOM_1_1']==1) & (dataset['IND_BOM_1_2']==1)]"
   ]
  },
  {
   "cell_type": "code",
   "execution_count": 5,
   "metadata": {
    "colab": {
     "base_uri": "https://localhost:8080/",
     "height": 205
    },
    "id": "IBE7LXVtomBm",
    "outputId": "d5accaea-c756-431a-ad8e-fc67865c1a3b"
   },
   "outputs": [
    {
     "data": {
      "text/html": [
       "<div>\n",
       "<style scoped>\n",
       "    .dataframe tbody tr th:only-of-type {\n",
       "        vertical-align: middle;\n",
       "    }\n",
       "\n",
       "    .dataframe tbody tr th {\n",
       "        vertical-align: top;\n",
       "    }\n",
       "\n",
       "    .dataframe thead th {\n",
       "        text-align: right;\n",
       "    }\n",
       "</style>\n",
       "<table border=\"1\" class=\"dataframe\">\n",
       "  <thead>\n",
       "    <tr style=\"text-align: right;\">\n",
       "      <th></th>\n",
       "      <th>INDEX</th>\n",
       "      <th>UF_1</th>\n",
       "      <th>UF_2</th>\n",
       "      <th>UF_3</th>\n",
       "      <th>UF_4</th>\n",
       "      <th>UF_5</th>\n",
       "      <th>UF_6</th>\n",
       "      <th>UF_7</th>\n",
       "      <th>IDADE</th>\n",
       "      <th>SEXO_1</th>\n",
       "      <th>...</th>\n",
       "      <th>CEP4_6</th>\n",
       "      <th>CEP4_7</th>\n",
       "      <th>CEP4_8</th>\n",
       "      <th>CEP4_9</th>\n",
       "      <th>CEP4_10</th>\n",
       "      <th>CEP4_11</th>\n",
       "      <th>CEP4_12</th>\n",
       "      <th>CEP4_13</th>\n",
       "      <th>CEP4_14</th>\n",
       "      <th>IND_BOM_1_1</th>\n",
       "    </tr>\n",
       "    <tr>\n",
       "      <th>IND_BOM_1_2</th>\n",
       "      <th></th>\n",
       "      <th></th>\n",
       "      <th></th>\n",
       "      <th></th>\n",
       "      <th></th>\n",
       "      <th></th>\n",
       "      <th></th>\n",
       "      <th></th>\n",
       "      <th></th>\n",
       "      <th></th>\n",
       "      <th></th>\n",
       "      <th></th>\n",
       "      <th></th>\n",
       "      <th></th>\n",
       "      <th></th>\n",
       "      <th></th>\n",
       "      <th></th>\n",
       "      <th></th>\n",
       "      <th></th>\n",
       "      <th></th>\n",
       "      <th></th>\n",
       "    </tr>\n",
       "  </thead>\n",
       "  <tbody>\n",
       "    <tr>\n",
       "      <th>0</th>\n",
       "      <td>255098</td>\n",
       "      <td>255098</td>\n",
       "      <td>255098</td>\n",
       "      <td>255098</td>\n",
       "      <td>255098</td>\n",
       "      <td>255098</td>\n",
       "      <td>255098</td>\n",
       "      <td>255098</td>\n",
       "      <td>255098</td>\n",
       "      <td>255098</td>\n",
       "      <td>...</td>\n",
       "      <td>255098</td>\n",
       "      <td>255098</td>\n",
       "      <td>255098</td>\n",
       "      <td>255098</td>\n",
       "      <td>255098</td>\n",
       "      <td>255098</td>\n",
       "      <td>255098</td>\n",
       "      <td>255098</td>\n",
       "      <td>255098</td>\n",
       "      <td>255098</td>\n",
       "    </tr>\n",
       "  </tbody>\n",
       "</table>\n",
       "<p>1 rows × 245 columns</p>\n",
       "</div>"
      ],
      "text/plain": [
       "              INDEX    UF_1    UF_2    UF_3    UF_4    UF_5    UF_6    UF_7   \n",
       "IND_BOM_1_2                                                                   \n",
       "0            255098  255098  255098  255098  255098  255098  255098  255098  \\\n",
       "\n",
       "              IDADE  SEXO_1  ...  CEP4_6  CEP4_7  CEP4_8  CEP4_9  CEP4_10   \n",
       "IND_BOM_1_2                  ...                                            \n",
       "0            255098  255098  ...  255098  255098  255098  255098   255098  \\\n",
       "\n",
       "             CEP4_11  CEP4_12  CEP4_13  CEP4_14  IND_BOM_1_1  \n",
       "IND_BOM_1_2                                                   \n",
       "0             255098   255098   255098   255098       255098  \n",
       "\n",
       "[1 rows x 245 columns]"
      ]
     },
     "execution_count": 5,
     "metadata": {},
     "output_type": "execute_result"
    }
   ],
   "source": [
    "dataset[dataset['IND_BOM_1_1']==1].groupby(\"IND_BOM_1_2\").count()"
   ]
  },
  {
   "cell_type": "code",
   "execution_count": 6,
   "metadata": {
    "colab": {
     "base_uri": "https://localhost:8080/",
     "height": 205
    },
    "id": "emNRwG5XpKwn",
    "outputId": "c7fa5779-179f-4a35-f7e4-23983d160f7b"
   },
   "outputs": [
    {
     "data": {
      "text/html": [
       "<div>\n",
       "<style scoped>\n",
       "    .dataframe tbody tr th:only-of-type {\n",
       "        vertical-align: middle;\n",
       "    }\n",
       "\n",
       "    .dataframe tbody tr th {\n",
       "        vertical-align: top;\n",
       "    }\n",
       "\n",
       "    .dataframe thead th {\n",
       "        text-align: right;\n",
       "    }\n",
       "</style>\n",
       "<table border=\"1\" class=\"dataframe\">\n",
       "  <thead>\n",
       "    <tr style=\"text-align: right;\">\n",
       "      <th></th>\n",
       "      <th>INDEX</th>\n",
       "      <th>UF_1</th>\n",
       "      <th>UF_2</th>\n",
       "      <th>UF_3</th>\n",
       "      <th>UF_4</th>\n",
       "      <th>UF_5</th>\n",
       "      <th>UF_6</th>\n",
       "      <th>UF_7</th>\n",
       "      <th>IDADE</th>\n",
       "      <th>SEXO_1</th>\n",
       "      <th>...</th>\n",
       "      <th>CEP4_6</th>\n",
       "      <th>CEP4_7</th>\n",
       "      <th>CEP4_8</th>\n",
       "      <th>CEP4_9</th>\n",
       "      <th>CEP4_10</th>\n",
       "      <th>CEP4_11</th>\n",
       "      <th>CEP4_12</th>\n",
       "      <th>CEP4_13</th>\n",
       "      <th>CEP4_14</th>\n",
       "      <th>IND_BOM_1_2</th>\n",
       "    </tr>\n",
       "    <tr>\n",
       "      <th>IND_BOM_1_1</th>\n",
       "      <th></th>\n",
       "      <th></th>\n",
       "      <th></th>\n",
       "      <th></th>\n",
       "      <th></th>\n",
       "      <th></th>\n",
       "      <th></th>\n",
       "      <th></th>\n",
       "      <th></th>\n",
       "      <th></th>\n",
       "      <th></th>\n",
       "      <th></th>\n",
       "      <th></th>\n",
       "      <th></th>\n",
       "      <th></th>\n",
       "      <th></th>\n",
       "      <th></th>\n",
       "      <th></th>\n",
       "      <th></th>\n",
       "      <th></th>\n",
       "      <th></th>\n",
       "    </tr>\n",
       "  </thead>\n",
       "  <tbody>\n",
       "    <tr>\n",
       "      <th>0</th>\n",
       "      <td>134098</td>\n",
       "      <td>134098</td>\n",
       "      <td>134098</td>\n",
       "      <td>134098</td>\n",
       "      <td>134098</td>\n",
       "      <td>134098</td>\n",
       "      <td>134098</td>\n",
       "      <td>134098</td>\n",
       "      <td>134098</td>\n",
       "      <td>134098</td>\n",
       "      <td>...</td>\n",
       "      <td>134098</td>\n",
       "      <td>134098</td>\n",
       "      <td>134098</td>\n",
       "      <td>134098</td>\n",
       "      <td>134098</td>\n",
       "      <td>134098</td>\n",
       "      <td>134098</td>\n",
       "      <td>134098</td>\n",
       "      <td>134098</td>\n",
       "      <td>134098</td>\n",
       "    </tr>\n",
       "  </tbody>\n",
       "</table>\n",
       "<p>1 rows × 245 columns</p>\n",
       "</div>"
      ],
      "text/plain": [
       "              INDEX    UF_1    UF_2    UF_3    UF_4    UF_5    UF_6    UF_7   \n",
       "IND_BOM_1_1                                                                   \n",
       "0            134098  134098  134098  134098  134098  134098  134098  134098  \\\n",
       "\n",
       "              IDADE  SEXO_1  ...  CEP4_6  CEP4_7  CEP4_8  CEP4_9  CEP4_10   \n",
       "IND_BOM_1_1                  ...                                            \n",
       "0            134098  134098  ...  134098  134098  134098  134098   134098  \\\n",
       "\n",
       "             CEP4_11  CEP4_12  CEP4_13  CEP4_14  IND_BOM_1_2  \n",
       "IND_BOM_1_1                                                   \n",
       "0             134098   134098   134098   134098       134098  \n",
       "\n",
       "[1 rows x 245 columns]"
      ]
     },
     "execution_count": 6,
     "metadata": {},
     "output_type": "execute_result"
    }
   ],
   "source": [
    "dataset[dataset['IND_BOM_1_2']==1].groupby(\"IND_BOM_1_1\").count()"
   ]
  },
  {
   "cell_type": "code",
   "execution_count": 7,
   "metadata": {
    "id": "LmM84dAJW_cZ"
   },
   "outputs": [],
   "source": [
    "dataset.drop(columns=['INDEX'], inplace=True)"
   ]
  },
  {
   "cell_type": "code",
   "execution_count": 8,
   "metadata": {
    "colab": {
     "base_uri": "https://localhost:8080/",
     "height": 394
    },
    "id": "HkiGu-AExOoZ",
    "outputId": "6d2d7049-c5f7-41cb-9c60-c2eec089fe84"
   },
   "outputs": [
    {
     "data": {
      "text/html": [
       "<div>\n",
       "<style scoped>\n",
       "    .dataframe tbody tr th:only-of-type {\n",
       "        vertical-align: middle;\n",
       "    }\n",
       "\n",
       "    .dataframe tbody tr th {\n",
       "        vertical-align: top;\n",
       "    }\n",
       "\n",
       "    .dataframe thead th {\n",
       "        text-align: right;\n",
       "    }\n",
       "</style>\n",
       "<table border=\"1\" class=\"dataframe\">\n",
       "  <thead>\n",
       "    <tr style=\"text-align: right;\">\n",
       "      <th></th>\n",
       "      <th>UF_1</th>\n",
       "      <th>UF_2</th>\n",
       "      <th>UF_3</th>\n",
       "      <th>UF_4</th>\n",
       "      <th>UF_5</th>\n",
       "      <th>UF_6</th>\n",
       "      <th>UF_7</th>\n",
       "      <th>IDADE</th>\n",
       "      <th>SEXO_1</th>\n",
       "      <th>NIVEL_RELACIONAMENTO_CREDITO01</th>\n",
       "      <th>...</th>\n",
       "      <th>CEP4_7</th>\n",
       "      <th>CEP4_8</th>\n",
       "      <th>CEP4_9</th>\n",
       "      <th>CEP4_10</th>\n",
       "      <th>CEP4_11</th>\n",
       "      <th>CEP4_12</th>\n",
       "      <th>CEP4_13</th>\n",
       "      <th>CEP4_14</th>\n",
       "      <th>IND_BOM_1_1</th>\n",
       "      <th>IND_BOM_1_2</th>\n",
       "    </tr>\n",
       "  </thead>\n",
       "  <tbody>\n",
       "    <tr>\n",
       "      <th>count</th>\n",
       "      <td>389196.000000</td>\n",
       "      <td>389196.000000</td>\n",
       "      <td>389196.000000</td>\n",
       "      <td>389196.000000</td>\n",
       "      <td>389196.000000</td>\n",
       "      <td>389196.000000</td>\n",
       "      <td>389196.000000</td>\n",
       "      <td>3.891960e+05</td>\n",
       "      <td>389196.000000</td>\n",
       "      <td>389196.000000</td>\n",
       "      <td>...</td>\n",
       "      <td>389196.000000</td>\n",
       "      <td>389196.000000</td>\n",
       "      <td>389196.000000</td>\n",
       "      <td>389196.000000</td>\n",
       "      <td>389196.000000</td>\n",
       "      <td>389196.000000</td>\n",
       "      <td>389196.000000</td>\n",
       "      <td>389196.000000</td>\n",
       "      <td>389196.000000</td>\n",
       "      <td>389196.000000</td>\n",
       "    </tr>\n",
       "    <tr>\n",
       "      <th>mean</th>\n",
       "      <td>0.889274</td>\n",
       "      <td>0.691952</td>\n",
       "      <td>0.476552</td>\n",
       "      <td>0.296195</td>\n",
       "      <td>0.241179</td>\n",
       "      <td>0.218011</td>\n",
       "      <td>0.186836</td>\n",
       "      <td>4.552049e-01</td>\n",
       "      <td>0.521514</td>\n",
       "      <td>0.134915</td>\n",
       "      <td>...</td>\n",
       "      <td>0.423378</td>\n",
       "      <td>0.417540</td>\n",
       "      <td>0.425708</td>\n",
       "      <td>0.459820</td>\n",
       "      <td>0.440842</td>\n",
       "      <td>0.436896</td>\n",
       "      <td>0.433709</td>\n",
       "      <td>0.440339</td>\n",
       "      <td>0.655449</td>\n",
       "      <td>0.344551</td>\n",
       "    </tr>\n",
       "    <tr>\n",
       "      <th>std</th>\n",
       "      <td>0.313793</td>\n",
       "      <td>0.461687</td>\n",
       "      <td>0.499451</td>\n",
       "      <td>0.456579</td>\n",
       "      <td>0.427799</td>\n",
       "      <td>0.412895</td>\n",
       "      <td>0.389781</td>\n",
       "      <td>2.537459e-01</td>\n",
       "      <td>0.499538</td>\n",
       "      <td>0.133136</td>\n",
       "      <td>...</td>\n",
       "      <td>0.494095</td>\n",
       "      <td>0.493154</td>\n",
       "      <td>0.494451</td>\n",
       "      <td>0.498384</td>\n",
       "      <td>0.496489</td>\n",
       "      <td>0.496002</td>\n",
       "      <td>0.495587</td>\n",
       "      <td>0.496428</td>\n",
       "      <td>0.475222</td>\n",
       "      <td>0.475222</td>\n",
       "    </tr>\n",
       "    <tr>\n",
       "      <th>min</th>\n",
       "      <td>0.000000</td>\n",
       "      <td>0.000000</td>\n",
       "      <td>0.000000</td>\n",
       "      <td>0.000000</td>\n",
       "      <td>0.000000</td>\n",
       "      <td>0.000000</td>\n",
       "      <td>0.000000</td>\n",
       "      <td>5.506237e-16</td>\n",
       "      <td>0.000000</td>\n",
       "      <td>0.000000</td>\n",
       "      <td>...</td>\n",
       "      <td>0.000000</td>\n",
       "      <td>0.000000</td>\n",
       "      <td>0.000000</td>\n",
       "      <td>0.000000</td>\n",
       "      <td>0.000000</td>\n",
       "      <td>0.000000</td>\n",
       "      <td>0.000000</td>\n",
       "      <td>0.000000</td>\n",
       "      <td>0.000000</td>\n",
       "      <td>0.000000</td>\n",
       "    </tr>\n",
       "    <tr>\n",
       "      <th>25%</th>\n",
       "      <td>1.000000</td>\n",
       "      <td>0.000000</td>\n",
       "      <td>0.000000</td>\n",
       "      <td>0.000000</td>\n",
       "      <td>0.000000</td>\n",
       "      <td>0.000000</td>\n",
       "      <td>0.000000</td>\n",
       "      <td>2.507866e-01</td>\n",
       "      <td>0.000000</td>\n",
       "      <td>0.111111</td>\n",
       "      <td>...</td>\n",
       "      <td>0.000000</td>\n",
       "      <td>0.000000</td>\n",
       "      <td>0.000000</td>\n",
       "      <td>0.000000</td>\n",
       "      <td>0.000000</td>\n",
       "      <td>0.000000</td>\n",
       "      <td>0.000000</td>\n",
       "      <td>0.000000</td>\n",
       "      <td>0.000000</td>\n",
       "      <td>0.000000</td>\n",
       "    </tr>\n",
       "    <tr>\n",
       "      <th>50%</th>\n",
       "      <td>1.000000</td>\n",
       "      <td>1.000000</td>\n",
       "      <td>0.000000</td>\n",
       "      <td>0.000000</td>\n",
       "      <td>0.000000</td>\n",
       "      <td>0.000000</td>\n",
       "      <td>0.000000</td>\n",
       "      <td>4.375241e-01</td>\n",
       "      <td>1.000000</td>\n",
       "      <td>0.111111</td>\n",
       "      <td>...</td>\n",
       "      <td>0.000000</td>\n",
       "      <td>0.000000</td>\n",
       "      <td>0.000000</td>\n",
       "      <td>0.000000</td>\n",
       "      <td>0.000000</td>\n",
       "      <td>0.000000</td>\n",
       "      <td>0.000000</td>\n",
       "      <td>0.000000</td>\n",
       "      <td>1.000000</td>\n",
       "      <td>0.000000</td>\n",
       "    </tr>\n",
       "    <tr>\n",
       "      <th>75%</th>\n",
       "      <td>1.000000</td>\n",
       "      <td>1.000000</td>\n",
       "      <td>1.000000</td>\n",
       "      <td>1.000000</td>\n",
       "      <td>0.000000</td>\n",
       "      <td>0.000000</td>\n",
       "      <td>0.000000</td>\n",
       "      <td>6.578835e-01</td>\n",
       "      <td>1.000000</td>\n",
       "      <td>0.111111</td>\n",
       "      <td>...</td>\n",
       "      <td>1.000000</td>\n",
       "      <td>1.000000</td>\n",
       "      <td>1.000000</td>\n",
       "      <td>1.000000</td>\n",
       "      <td>1.000000</td>\n",
       "      <td>1.000000</td>\n",
       "      <td>1.000000</td>\n",
       "      <td>1.000000</td>\n",
       "      <td>1.000000</td>\n",
       "      <td>1.000000</td>\n",
       "    </tr>\n",
       "    <tr>\n",
       "      <th>max</th>\n",
       "      <td>1.000000</td>\n",
       "      <td>1.000000</td>\n",
       "      <td>1.000000</td>\n",
       "      <td>1.000000</td>\n",
       "      <td>1.000000</td>\n",
       "      <td>1.000000</td>\n",
       "      <td>1.000000</td>\n",
       "      <td>1.000000e+00</td>\n",
       "      <td>1.000000</td>\n",
       "      <td>1.000000</td>\n",
       "      <td>...</td>\n",
       "      <td>1.000000</td>\n",
       "      <td>1.000000</td>\n",
       "      <td>1.000000</td>\n",
       "      <td>1.000000</td>\n",
       "      <td>1.000000</td>\n",
       "      <td>1.000000</td>\n",
       "      <td>1.000000</td>\n",
       "      <td>1.000000</td>\n",
       "      <td>1.000000</td>\n",
       "      <td>1.000000</td>\n",
       "    </tr>\n",
       "  </tbody>\n",
       "</table>\n",
       "<p>8 rows × 245 columns</p>\n",
       "</div>"
      ],
      "text/plain": [
       "                UF_1           UF_2           UF_3           UF_4   \n",
       "count  389196.000000  389196.000000  389196.000000  389196.000000  \\\n",
       "mean        0.889274       0.691952       0.476552       0.296195   \n",
       "std         0.313793       0.461687       0.499451       0.456579   \n",
       "min         0.000000       0.000000       0.000000       0.000000   \n",
       "25%         1.000000       0.000000       0.000000       0.000000   \n",
       "50%         1.000000       1.000000       0.000000       0.000000   \n",
       "75%         1.000000       1.000000       1.000000       1.000000   \n",
       "max         1.000000       1.000000       1.000000       1.000000   \n",
       "\n",
       "                UF_5           UF_6           UF_7         IDADE   \n",
       "count  389196.000000  389196.000000  389196.000000  3.891960e+05  \\\n",
       "mean        0.241179       0.218011       0.186836  4.552049e-01   \n",
       "std         0.427799       0.412895       0.389781  2.537459e-01   \n",
       "min         0.000000       0.000000       0.000000  5.506237e-16   \n",
       "25%         0.000000       0.000000       0.000000  2.507866e-01   \n",
       "50%         0.000000       0.000000       0.000000  4.375241e-01   \n",
       "75%         0.000000       0.000000       0.000000  6.578835e-01   \n",
       "max         1.000000       1.000000       1.000000  1.000000e+00   \n",
       "\n",
       "              SEXO_1  NIVEL_RELACIONAMENTO_CREDITO01  ...         CEP4_7   \n",
       "count  389196.000000                   389196.000000  ...  389196.000000  \\\n",
       "mean        0.521514                        0.134915  ...       0.423378   \n",
       "std         0.499538                        0.133136  ...       0.494095   \n",
       "min         0.000000                        0.000000  ...       0.000000   \n",
       "25%         0.000000                        0.111111  ...       0.000000   \n",
       "50%         1.000000                        0.111111  ...       0.000000   \n",
       "75%         1.000000                        0.111111  ...       1.000000   \n",
       "max         1.000000                        1.000000  ...       1.000000   \n",
       "\n",
       "              CEP4_8         CEP4_9        CEP4_10        CEP4_11   \n",
       "count  389196.000000  389196.000000  389196.000000  389196.000000  \\\n",
       "mean        0.417540       0.425708       0.459820       0.440842   \n",
       "std         0.493154       0.494451       0.498384       0.496489   \n",
       "min         0.000000       0.000000       0.000000       0.000000   \n",
       "25%         0.000000       0.000000       0.000000       0.000000   \n",
       "50%         0.000000       0.000000       0.000000       0.000000   \n",
       "75%         1.000000       1.000000       1.000000       1.000000   \n",
       "max         1.000000       1.000000       1.000000       1.000000   \n",
       "\n",
       "             CEP4_12        CEP4_13        CEP4_14    IND_BOM_1_1   \n",
       "count  389196.000000  389196.000000  389196.000000  389196.000000  \\\n",
       "mean        0.436896       0.433709       0.440339       0.655449   \n",
       "std         0.496002       0.495587       0.496428       0.475222   \n",
       "min         0.000000       0.000000       0.000000       0.000000   \n",
       "25%         0.000000       0.000000       0.000000       0.000000   \n",
       "50%         0.000000       0.000000       0.000000       1.000000   \n",
       "75%         1.000000       1.000000       1.000000       1.000000   \n",
       "max         1.000000       1.000000       1.000000       1.000000   \n",
       "\n",
       "         IND_BOM_1_2  \n",
       "count  389196.000000  \n",
       "mean        0.344551  \n",
       "std         0.475222  \n",
       "min         0.000000  \n",
       "25%         0.000000  \n",
       "50%         0.000000  \n",
       "75%         1.000000  \n",
       "max         1.000000  \n",
       "\n",
       "[8 rows x 245 columns]"
      ]
     },
     "execution_count": 8,
     "metadata": {},
     "output_type": "execute_result"
    }
   ],
   "source": [
    "dataset.describe()"
   ]
  },
  {
   "cell_type": "code",
   "execution_count": 9,
   "metadata": {
    "colab": {
     "base_uri": "https://localhost:8080/",
     "height": 0
    },
    "id": "zeIPTBgocmXM",
    "outputId": "62404708-ed6b-4428-a39b-d368b3239a7b"
   },
   "outputs": [
    {
     "name": "stdout",
     "output_type": "stream",
     "text": [
      "Separando classes...\n"
     ]
    }
   ],
   "source": [
    "print(\"Separando classes...\")\n",
    "class_1 = dataset[dataset['IND_BOM_1_1']==1]\n",
    "class_2 = dataset[dataset['IND_BOM_1_2']==1]\n",
    "class_1 = class_1.sample(frac=1)\n",
    "class_2 = class_2.sample(frac=1)"
   ]
  },
  {
   "cell_type": "code",
   "execution_count": 10,
   "metadata": {
    "colab": {
     "base_uri": "https://localhost:8080/",
     "height": 0
    },
    "id": "hScVTZx_is-u",
    "outputId": "e5b2cb20-a78c-428c-887d-7791972b46e1"
   },
   "outputs": [
    {
     "name": "stdout",
     "output_type": "stream",
     "text": [
      "Dividindo dados em treinamento, validação e teste\n"
     ]
    }
   ],
   "source": [
    "print(\"Dividindo dados em treinamento, validação e teste\")\n",
    "class_1_train, class_1_validate, class_1_test = np.split(class_1,[int(0.5*len(class_1)),int(0.75*len(class_1))])\n",
    "class_2_train, class_2_validate, class_2_test = np.split(class_2,[int(0.5*len(class_2)),int(0.75*len(class_2))])  "
   ]
  },
  {
   "cell_type": "code",
   "execution_count": 11,
   "metadata": {
    "colab": {
     "base_uri": "https://localhost:8080/",
     "height": 0
    },
    "id": "cY-n25H0ivRd",
    "outputId": "83f0e7d8-9a0d-4b0c-fb7e-70396da5ed44"
   },
   "outputs": [
    {
     "name": "stdout",
     "output_type": "stream",
     "text": [
      "Classe 1 -  Treino: 127549 Validação: 63774 Teste: 63775\n",
      "Classe 2 -  Treino: 67049 Validação: 33524 Teste: 33525\n"
     ]
    }
   ],
   "source": [
    "print(\"Classe 1 - \",\"Treino:\",len(class_1_train),\"Validação:\",len(class_1_validate),\"Teste:\",len(class_1_test))\n",
    "print(\"Classe 2 - \",\"Treino:\",len(class_2_train),\"Validação:\",len(class_2_validate),\"Teste:\",len(class_2_test))"
   ]
  },
  {
   "cell_type": "code",
   "execution_count": 12,
   "metadata": {
    "colab": {
     "base_uri": "https://localhost:8080/",
     "height": 0
    },
    "id": "AmE6bdJyixb0",
    "outputId": "6a8556f8-9506-4f59-e32d-3dd08fc3637f"
   },
   "outputs": [
    {
     "name": "stdout",
     "output_type": "stream",
     "text": [
      "Repetindo dados de treino e validação da classe 2\n"
     ]
    }
   ],
   "source": [
    "print(\"Repetindo dados de treino e validação da classe 2\")\n",
    "while len(class_2_train) < len(class_1_train):\n",
    "  count = (len(class_1_train)-len(class_2_train)) % len(class_2_train)\n",
    "  class_2_train = pd.concat([class_2_train[:count],class_2_train])\n",
    "while len(class_2_validate) < len(class_1_validate):\n",
    "  count = (len(class_1_validate)-len(class_2_validate)) % len(class_2_validate)\n",
    "  class_2_validate = pd.concat([class_2_validate[:count],class_2_validate])\n"
   ]
  },
  {
   "cell_type": "code",
   "execution_count": 13,
   "metadata": {
    "colab": {
     "base_uri": "https://localhost:8080/",
     "height": 0
    },
    "id": "7iq7ePOoi2Ab",
    "outputId": "d921f7fa-c04a-484e-d04b-87138828412e"
   },
   "outputs": [
    {
     "name": "stdout",
     "output_type": "stream",
     "text": [
      "Classe 1 -  Treino: 127549 Validação: 63774 Teste: 63775\n",
      "Classe 2 -  Treino: 127549 Validação: 63774 Teste: 33525\n"
     ]
    }
   ],
   "source": [
    "print(\"Classe 1 - \",\"Treino:\",len(class_1_train),\"Validação:\",len(class_1_validate),\"Teste:\",len(class_1_test))\n",
    "print(\"Classe 2 - \",\"Treino:\",len(class_2_train),\"Validação:\",len(class_2_validate),\"Teste:\",len(class_2_test))"
   ]
  },
  {
   "cell_type": "code",
   "execution_count": 14,
   "metadata": {
    "colab": {
     "base_uri": "https://localhost:8080/",
     "height": 0
    },
    "id": "1v9YdXozi53b",
    "outputId": "9f188259-6308-4cc9-f81f-7ea068df8b05"
   },
   "outputs": [
    {
     "name": "stdout",
     "output_type": "stream",
     "text": [
      "Juntandos dados das classes de acordo com o tipo de separação\n"
     ]
    }
   ],
   "source": [
    "print(\"Juntandos dados das classes de acordo com o tipo de separação\")\n",
    "data_train = pd.concat([class_1_train,class_2_train])\n",
    "data_train = data_train.sample(frac=1)\n",
    "data_validate = pd.concat([class_1_validate,class_2_validate])\n",
    "data_validate = data_validate.sample(frac=1)\n",
    "data_test = pd.concat([class_1_test,class_2_test])\n",
    "data_test = data_test.sample(frac=1)"
   ]
  },
  {
   "cell_type": "code",
   "execution_count": 15,
   "metadata": {
    "colab": {
     "base_uri": "https://localhost:8080/",
     "height": 0
    },
    "id": "tUYmo3cqi8Fs",
    "outputId": "a916aae9-2877-4faf-afcd-72566fc7e8d5"
   },
   "outputs": [
    {
     "name": "stdout",
     "output_type": "stream",
     "text": [
      "Treinamento: 255098 Validação: 127548 Teste: 97300\n"
     ]
    }
   ],
   "source": [
    "print(\"Treinamento:\",len(data_train),\"Validação:\",len(data_validate),\"Teste:\",len(data_test))"
   ]
  },
  {
   "cell_type": "code",
   "execution_count": 16,
   "metadata": {
    "colab": {
     "base_uri": "https://localhost:8080/",
     "height": 0
    },
    "id": "AHNrho7w50tb",
    "outputId": "056167e8-dc77-4503-d8da-505e8907c4b7"
   },
   "outputs": [
    {
     "name": "stdout",
     "output_type": "stream",
     "text": [
      "UF_1           0.0\n",
      "UF_2           1.0\n",
      "UF_3           1.0\n",
      "UF_4           0.0\n",
      "UF_5           0.0\n",
      "              ... \n",
      "CEP4_12        1.0\n",
      "CEP4_13        0.0\n",
      "CEP4_14        1.0\n",
      "IND_BOM_1_1    0.0\n",
      "IND_BOM_1_2    1.0\n",
      "Name: 272438, Length: 245, dtype: float64\n"
     ]
    }
   ],
   "source": [
    "print(data_train.iloc[0])"
   ]
  },
  {
   "cell_type": "code",
   "execution_count": 17,
   "metadata": {
    "id": "gXHPfj0DaKWS"
   },
   "outputs": [],
   "source": [
    "x_train = data_train.iloc[:,:-2]\n",
    "y_train = data_train.iloc[:,-2:]\n",
    "x_validate = data_validate.iloc[:,:-2]\n",
    "y_validate = data_validate.iloc[:,-2:]\n",
    "x_test = data_test.iloc[:,:-2]\n",
    "y_test = data_test.iloc[:,-2:]"
   ]
  },
  {
   "cell_type": "code",
   "execution_count": 18,
   "metadata": {
    "colab": {
     "base_uri": "https://localhost:8080/",
     "height": 49
    },
    "id": "AJ7cf7_NroBE",
    "outputId": "525391a7-4041-42c2-8e21-5b1b526593a2"
   },
   "outputs": [
    {
     "data": {
      "text/html": [
       "<div>\n",
       "<style scoped>\n",
       "    .dataframe tbody tr th:only-of-type {\n",
       "        vertical-align: middle;\n",
       "    }\n",
       "\n",
       "    .dataframe tbody tr th {\n",
       "        vertical-align: top;\n",
       "    }\n",
       "\n",
       "    .dataframe thead th {\n",
       "        text-align: right;\n",
       "    }\n",
       "</style>\n",
       "<table border=\"1\" class=\"dataframe\">\n",
       "  <thead>\n",
       "    <tr style=\"text-align: right;\">\n",
       "      <th></th>\n",
       "      <th>IND_BOM_1_1</th>\n",
       "      <th>IND_BOM_1_2</th>\n",
       "    </tr>\n",
       "  </thead>\n",
       "  <tbody>\n",
       "  </tbody>\n",
       "</table>\n",
       "</div>"
      ],
      "text/plain": [
       "Empty DataFrame\n",
       "Columns: [IND_BOM_1_1, IND_BOM_1_2]\n",
       "Index: []"
      ]
     },
     "execution_count": 18,
     "metadata": {},
     "output_type": "execute_result"
    }
   ],
   "source": [
    "y_train[(y_train['IND_BOM_1_1']==1) & (y_train['IND_BOM_1_2']==1)]"
   ]
  },
  {
   "cell_type": "code",
   "execution_count": 19,
   "metadata": {
    "colab": {
     "base_uri": "https://localhost:8080/",
     "height": 49
    },
    "id": "QGjP8c1hrvWQ",
    "outputId": "c0a2b449-b04e-4adf-f705-a9ef2fff00a6"
   },
   "outputs": [
    {
     "data": {
      "text/html": [
       "<div>\n",
       "<style scoped>\n",
       "    .dataframe tbody tr th:only-of-type {\n",
       "        vertical-align: middle;\n",
       "    }\n",
       "\n",
       "    .dataframe tbody tr th {\n",
       "        vertical-align: top;\n",
       "    }\n",
       "\n",
       "    .dataframe thead th {\n",
       "        text-align: right;\n",
       "    }\n",
       "</style>\n",
       "<table border=\"1\" class=\"dataframe\">\n",
       "  <thead>\n",
       "    <tr style=\"text-align: right;\">\n",
       "      <th></th>\n",
       "      <th>IND_BOM_1_1</th>\n",
       "      <th>IND_BOM_1_2</th>\n",
       "    </tr>\n",
       "  </thead>\n",
       "  <tbody>\n",
       "  </tbody>\n",
       "</table>\n",
       "</div>"
      ],
      "text/plain": [
       "Empty DataFrame\n",
       "Columns: [IND_BOM_1_1, IND_BOM_1_2]\n",
       "Index: []"
      ]
     },
     "execution_count": 19,
     "metadata": {},
     "output_type": "execute_result"
    }
   ],
   "source": [
    "y_validate[(y_validate['IND_BOM_1_1']==1) & (y_validate['IND_BOM_1_2']==1)]"
   ]
  },
  {
   "cell_type": "code",
   "execution_count": 20,
   "metadata": {
    "colab": {
     "base_uri": "https://localhost:8080/",
     "height": 49
    },
    "id": "zbyeH3EErz2N",
    "outputId": "748bb40b-7d94-4cc2-d09f-d6bc4df7159c"
   },
   "outputs": [
    {
     "data": {
      "text/html": [
       "<div>\n",
       "<style scoped>\n",
       "    .dataframe tbody tr th:only-of-type {\n",
       "        vertical-align: middle;\n",
       "    }\n",
       "\n",
       "    .dataframe tbody tr th {\n",
       "        vertical-align: top;\n",
       "    }\n",
       "\n",
       "    .dataframe thead th {\n",
       "        text-align: right;\n",
       "    }\n",
       "</style>\n",
       "<table border=\"1\" class=\"dataframe\">\n",
       "  <thead>\n",
       "    <tr style=\"text-align: right;\">\n",
       "      <th></th>\n",
       "      <th>IND_BOM_1_1</th>\n",
       "      <th>IND_BOM_1_2</th>\n",
       "    </tr>\n",
       "  </thead>\n",
       "  <tbody>\n",
       "  </tbody>\n",
       "</table>\n",
       "</div>"
      ],
      "text/plain": [
       "Empty DataFrame\n",
       "Columns: [IND_BOM_1_1, IND_BOM_1_2]\n",
       "Index: []"
      ]
     },
     "execution_count": 20,
     "metadata": {},
     "output_type": "execute_result"
    }
   ],
   "source": [
    "y_test[(y_test['IND_BOM_1_1']==1) & (y_test['IND_BOM_1_2']==1)]"
   ]
  },
  {
   "cell_type": "code",
   "execution_count": 21,
   "metadata": {
    "id": "vN5LMYoPu3E6"
   },
   "outputs": [],
   "source": [
    "y_train2 = y_train.drop(columns=['IND_BOM_1_2'])\n",
    "y_validate2 = y_validate.drop(columns=['IND_BOM_1_2'])\n",
    "y_test2 = y_test.drop(columns=['IND_BOM_1_2'])"
   ]
  },
  {
   "cell_type": "code",
   "execution_count": 22,
   "metadata": {
    "colab": {
     "base_uri": "https://localhost:8080/",
     "height": 0
    },
    "id": "Dgv45zuPwPUI",
    "outputId": "89d01d6d-defe-41e9-a32f-b248b66e5908"
   },
   "outputs": [
    {
     "data": {
      "text/plain": [
       "IND_BOM_1_1    127549\n",
       "dtype: int64"
      ]
     },
     "execution_count": 22,
     "metadata": {},
     "output_type": "execute_result"
    }
   ],
   "source": [
    "y_train2[y_train2['IND_BOM_1_1']==1].count()"
   ]
  },
  {
   "cell_type": "code",
   "execution_count": 23,
   "metadata": {
    "colab": {
     "base_uri": "https://localhost:8080/",
     "height": 0
    },
    "id": "qTiqA8NTwUwi",
    "outputId": "ba105205-af84-4c9e-a958-79d54caabd19"
   },
   "outputs": [
    {
     "data": {
      "text/plain": [
       "IND_BOM_1_1    127549\n",
       "dtype: int64"
      ]
     },
     "execution_count": 23,
     "metadata": {},
     "output_type": "execute_result"
    }
   ],
   "source": [
    "y_train2[y_train2['IND_BOM_1_1']==0].count()"
   ]
  },
  {
   "cell_type": "code",
   "execution_count": 24,
   "metadata": {
    "colab": {
     "base_uri": "https://localhost:8080/",
     "height": 0
    },
    "id": "Nymad3iqvWka",
    "outputId": "ceba912b-a036-4419-c059-76158a8f9603"
   },
   "outputs": [
    {
     "data": {
      "text/plain": [
       "IND_BOM_1_1    63774\n",
       "dtype: int64"
      ]
     },
     "execution_count": 24,
     "metadata": {},
     "output_type": "execute_result"
    }
   ],
   "source": [
    "y_validate2[y_validate2['IND_BOM_1_1']==1].count()"
   ]
  },
  {
   "cell_type": "code",
   "execution_count": 25,
   "metadata": {
    "colab": {
     "base_uri": "https://localhost:8080/",
     "height": 0
    },
    "id": "UiIYIUhjwLpi",
    "outputId": "d87d4d00-8ec6-4330-a3f1-5255ea4da55e"
   },
   "outputs": [
    {
     "data": {
      "text/plain": [
       "IND_BOM_1_1    63774\n",
       "dtype: int64"
      ]
     },
     "execution_count": 25,
     "metadata": {},
     "output_type": "execute_result"
    }
   ],
   "source": [
    "y_validate2[y_validate2['IND_BOM_1_1']==0].count()"
   ]
  },
  {
   "cell_type": "code",
   "execution_count": 26,
   "metadata": {
    "colab": {
     "base_uri": "https://localhost:8080/",
     "height": 0
    },
    "id": "rNiwGyTJwcRE",
    "outputId": "cf47af3a-0a63-4774-9246-0d9c229504f7"
   },
   "outputs": [
    {
     "data": {
      "text/plain": [
       "IND_BOM_1_1    63775\n",
       "dtype: int64"
      ]
     },
     "execution_count": 26,
     "metadata": {},
     "output_type": "execute_result"
    }
   ],
   "source": [
    "y_test2[y_test2['IND_BOM_1_1']==1].count()"
   ]
  },
  {
   "cell_type": "code",
   "execution_count": 27,
   "metadata": {
    "colab": {
     "base_uri": "https://localhost:8080/",
     "height": 0
    },
    "id": "tXy4xM-QwgUJ",
    "outputId": "3cf58bd8-623f-4bb7-a709-938ee3841a6f"
   },
   "outputs": [
    {
     "data": {
      "text/plain": [
       "IND_BOM_1_1    33525\n",
       "dtype: int64"
      ]
     },
     "execution_count": 27,
     "metadata": {},
     "output_type": "execute_result"
    }
   ],
   "source": [
    "y_test2[y_test2['IND_BOM_1_1']==0].count()"
   ]
  },
  {
   "cell_type": "markdown",
   "metadata": {
    "id": "d16YrAWT6U1K"
   },
   "source": [
    "Com os processamentos realizados acima, obtemos os datasets mencionados e estamos prontos para iniciar as nossas análises com os classificadores."
   ]
  },
  {
   "cell_type": "markdown",
   "metadata": {
    "id": "Jh3FxY_8y1NP"
   },
   "source": [
    "#Classificadores"
   ]
  },
  {
   "cell_type": "code",
   "execution_count": 28,
   "metadata": {
    "id": "MjmzKEv3N9Pd"
   },
   "outputs": [],
   "source": [
    "\n",
    "from sklearn.metrics import confusion_matrix, classification_report, mean_squared_error, roc_curve, roc_auc_score, average_precision_score, ConfusionMatrixDisplay, auc\n",
    "from sklearn.metrics import accuracy_score\n",
    "import scikitplot as skplt\n",
    "import matplotlib.pyplot as plt\n",
    "import tensorflow as tf"
   ]
  },
  {
   "cell_type": "markdown",
   "metadata": {
    "id": "BDIsiKKG6ddX"
   },
   "source": [
    "A função abaixo será usada para geração da F1-Score, matriz de confusão, MSE (mean squared error), AUROC e precisão média"
   ]
  },
  {
   "cell_type": "code",
   "execution_count": 29,
   "metadata": {
    "id": "XqqbcUeYd_tP"
   },
   "outputs": [],
   "source": [
    "def my_metrics(y_true,y_pred):\n",
    "  y_true = y_true['IND_BOM_1_1']\n",
    "  y_pred = y_pred['IND_BOM_1_1']\n",
    "  ConfusionMatrixDisplay.from_predictions(y_true, y_pred, normalize='true')\n",
    "  print(classification_report(y_true,y_pred))\n",
    "  print(\"Erro quadrático médio: \",mean_squared_error(y_true,y_pred))\n",
    "  print(\"Auroc:\", roc_auc_score(y_true,y_pred))\n",
    "  print(\"Precisão média: \", average_precision_score(y_true, y_pred))\n",
    "  print()\n",
    "  "
   ]
  },
  {
   "cell_type": "code",
   "execution_count": 30,
   "metadata": {
    "id": "6KGZttirt0eP"
   },
   "outputs": [],
   "source": [
    "def pred_name_columns(arr):\n",
    "    result = pd.DataFrame(arr, columns = ['IND_BOM_1_1'])\n",
    "    return result"
   ]
  },
  {
   "cell_type": "code",
   "execution_count": 31,
   "metadata": {
    "id": "EIeExIjVwiWP"
   },
   "outputs": [],
   "source": [
    "def pred_scores_transf(arr):\n",
    "  pred_score = []\n",
    "  for a,b in arr:\n",
    "    if a > b:\n",
    "      pred_score.append([1,0])\n",
    "    else:\n",
    "      pred_score.append([0,1])\n",
    "  \n",
    "  return pred_name_columns(pred_score)"
   ]
  },
  {
   "cell_type": "code",
   "execution_count": 32,
   "metadata": {
    "id": "rIMEaTE3jeH0"
   },
   "outputs": [],
   "source": [
    "@tf.function\n",
    "def ks(y_true,y_pred):\n",
    "    y_true = tf.reshape(y_true,(-1,))\n",
    "    y_pred = tf.reshape(y_pred,(-1,))\n",
    "    length = tf.shape(y_true)[0]\n",
    "    t = tf.math.top_k(y_pred,k = length,sorted =False)\n",
    "    y_pred_sorted = tf.gather(y_pred,t.indices)\n",
    "    y_true_sorted = tf.gather(y_true,t.indices)\n",
    "    cum_positive_ratio = tf.truediv(\n",
    "        tf.cumsum(y_true_sorted),tf.reduce_sum(y_true_sorted))\n",
    "    cum_negative_ratio = tf.truediv(\n",
    "        tf.cumsum(1- y_true_sorted),tf.reduce_sum(1- y_true_sorted))\n",
    "    ks_value = tf.reduce_max(tf.abs(cum_positive_ratio - cum_negative_ratio))\n",
    "    return ks_value"
   ]
  },
  {
   "cell_type": "code",
   "execution_count": 33,
   "metadata": {},
   "outputs": [
    {
     "ename": "SystemExit",
     "evalue": "Execution stopped. Please run cells above this one individually.",
     "output_type": "error",
     "traceback": [
      "An exception has occurred, use %tb to see the full traceback.\n",
      "\u001b[0;31mSystemExit\u001b[0m\u001b[0;31m:\u001b[0m Execution stopped. Please run cells above this one individually.\n"
     ]
    },
    {
     "name": "stderr",
     "output_type": "stream",
     "text": [
      "/home/pedro-milet/.local/lib/python3.8/site-packages/IPython/core/interactiveshell.py:3513: UserWarning: To exit: use 'exit', 'quit', or Ctrl-D.\n",
      "  warn(\"To exit: use 'exit', 'quit', or Ctrl-D.\", stacklevel=1)\n"
     ]
    }
   ],
   "source": [
    "sys.exit(\"Execution stopped. Please run cells above this one individually.\")"
   ]
  },
  {
   "cell_type": "markdown",
   "metadata": {
    "id": "uM0lMORWy8lv"
   },
   "source": [
    "##MLP"
   ]
  },
  {
   "cell_type": "code",
   "execution_count": 33,
   "metadata": {
    "id": "URQiIPJRy-Vo"
   },
   "outputs": [],
   "source": [
    "from keras.models import Sequential\n",
    "from keras.layers import Dense\n",
    "from keras.callbacks import EarlyStopping\n",
    "from tensorflow.keras import layers, optimizers, losses\n",
    "from sklearn.neural_network import MLPClassifier\n",
    "from scipy import stats"
   ]
  },
  {
   "cell_type": "code",
   "execution_count": 34,
   "metadata": {
    "id": "WGB-OAOTllAB"
   },
   "outputs": [],
   "source": [
    "input_dim = x_train.shape[1]"
   ]
  },
  {
   "cell_type": "markdown",
   "metadata": {
    "id": "Vg9X8soL78wi"
   },
   "source": [
    "No passo abaixo utilizamos o optuna para tentar fazer a busca pelos melhores parâmetros da MLP"
   ]
  },
  {
   "cell_type": "code",
   "execution_count": 35,
   "metadata": {
    "colab": {
     "base_uri": "https://localhost:8080/"
    },
    "id": "qSsVXAvjyitQ",
    "outputId": "9e460235-89f0-4514-ca90-c5a5f3e5f3c2"
   },
   "outputs": [
    {
     "name": "stderr",
     "output_type": "stream",
     "text": [
      "\u001b[32m[I 2023-04-18 18:18:10,093]\u001b[0m A new study created in memory with name: no-name-beaa535a-cbf2-4c28-a31b-010ecb0b50dd\u001b[0m\n",
      "/home/pedro-milet/.local/lib/python3.8/site-packages/optuna/distributions.py:716: UserWarning: The distribution is specified by [1, 2] and step=3, but the range is not divisible by `step`. It will be replaced by [1, 1].\n",
      "  warnings.warn(\n",
      "/home/pedro-milet/.local/lib/python3.8/site-packages/optuna/distributions.py:716: UserWarning: The distribution is specified by [32, 50] and step=100, but the range is not divisible by `step`. It will be replaced by [32, 32].\n",
      "  warnings.warn(\n",
      "\u001b[32m[I 2023-04-18 18:19:44,221]\u001b[0m Trial 0 finished with value: 0.6282425488180884 and parameters: {'layers': 1, 'solver': 'sgd', 'neurons': 32, 'activation': 'logistic', 'learning rate': 'constant', 'initial learning rate': 0.002550509089354604}. Best is trial 0 with value: 0.6282425488180884.\u001b[0m\n",
      "/home/pedro-milet/.local/lib/python3.8/site-packages/optuna/distributions.py:716: UserWarning: The distribution is specified by [1, 2] and step=3, but the range is not divisible by `step`. It will be replaced by [1, 1].\n",
      "  warnings.warn(\n",
      "/home/pedro-milet/.local/lib/python3.8/site-packages/optuna/distributions.py:716: UserWarning: The distribution is specified by [32, 50] and step=100, but the range is not divisible by `step`. It will be replaced by [32, 32].\n",
      "  warnings.warn(\n",
      "\u001b[32m[I 2023-04-18 18:22:12,723]\u001b[0m Trial 1 finished with value: 0.6189619732785201 and parameters: {'layers': 1, 'solver': 'sgd', 'neurons': 32, 'activation': 'tanh', 'learning rate': 'adaptive', 'initial learning rate': 0.0061404896304570996}. Best is trial 0 with value: 0.6282425488180884.\u001b[0m\n",
      "/home/pedro-milet/.local/lib/python3.8/site-packages/optuna/distributions.py:716: UserWarning: The distribution is specified by [1, 2] and step=3, but the range is not divisible by `step`. It will be replaced by [1, 1].\n",
      "  warnings.warn(\n",
      "/home/pedro-milet/.local/lib/python3.8/site-packages/optuna/distributions.py:716: UserWarning: The distribution is specified by [32, 50] and step=100, but the range is not divisible by `step`. It will be replaced by [32, 32].\n",
      "  warnings.warn(\n",
      "\u001b[32m[I 2023-04-18 18:22:26,307]\u001b[0m Trial 2 finished with value: 0.6198150051387461 and parameters: {'layers': 1, 'solver': 'sgd', 'neurons': 32, 'activation': 'identity', 'learning rate': 'constant', 'initial learning rate': 0.0038437723019714627}. Best is trial 0 with value: 0.6282425488180884.\u001b[0m\n",
      "/home/pedro-milet/.local/lib/python3.8/site-packages/optuna/distributions.py:716: UserWarning: The distribution is specified by [1, 2] and step=3, but the range is not divisible by `step`. It will be replaced by [1, 1].\n",
      "  warnings.warn(\n",
      "/home/pedro-milet/.local/lib/python3.8/site-packages/optuna/distributions.py:716: UserWarning: The distribution is specified by [32, 50] and step=100, but the range is not divisible by `step`. It will be replaced by [32, 32].\n",
      "  warnings.warn(\n",
      "\u001b[32m[I 2023-04-18 18:23:52,476]\u001b[0m Trial 3 finished with value: 0.6156320657759506 and parameters: {'layers': 1, 'solver': 'sgd', 'neurons': 32, 'activation': 'identity', 'learning rate': 'adaptive', 'initial learning rate': 0.008068893605129182}. Best is trial 0 with value: 0.6282425488180884.\u001b[0m\n",
      "/home/pedro-milet/.local/lib/python3.8/site-packages/optuna/distributions.py:716: UserWarning: The distribution is specified by [1, 2] and step=3, but the range is not divisible by `step`. It will be replaced by [1, 1].\n",
      "  warnings.warn(\n",
      "/home/pedro-milet/.local/lib/python3.8/site-packages/optuna/distributions.py:716: UserWarning: The distribution is specified by [32, 50] and step=100, but the range is not divisible by `step`. It will be replaced by [32, 32].\n",
      "  warnings.warn(\n",
      "\u001b[32m[I 2023-04-18 18:24:21,302]\u001b[0m Trial 4 finished with value: 0.6173895169578623 and parameters: {'layers': 1, 'solver': 'adam', 'neurons': 32, 'activation': 'logistic', 'learning rate': 'adaptive', 'initial learning rate': 0.005108675533723265}. Best is trial 0 with value: 0.6282425488180884.\u001b[0m\n",
      "/home/pedro-milet/.local/lib/python3.8/site-packages/optuna/distributions.py:716: UserWarning: The distribution is specified by [1, 2] and step=3, but the range is not divisible by `step`. It will be replaced by [1, 1].\n",
      "  warnings.warn(\n",
      "/home/pedro-milet/.local/lib/python3.8/site-packages/optuna/distributions.py:716: UserWarning: The distribution is specified by [32, 50] and step=100, but the range is not divisible by `step`. It will be replaced by [32, 32].\n",
      "  warnings.warn(\n",
      "\u001b[32m[I 2023-04-18 18:33:21,156]\u001b[0m Trial 5 finished with value: 0.622589928057554 and parameters: {'layers': 1, 'solver': 'adam', 'neurons': 32, 'activation': 'relu', 'learning rate': 'constant', 'initial learning rate': 0.009701393219255217}. Best is trial 0 with value: 0.6282425488180884.\u001b[0m\n",
      "/home/pedro-milet/.local/lib/python3.8/site-packages/optuna/distributions.py:716: UserWarning: The distribution is specified by [1, 2] and step=3, but the range is not divisible by `step`. It will be replaced by [1, 1].\n",
      "  warnings.warn(\n",
      "/home/pedro-milet/.local/lib/python3.8/site-packages/optuna/distributions.py:716: UserWarning: The distribution is specified by [32, 50] and step=100, but the range is not divisible by `step`. It will be replaced by [32, 32].\n",
      "  warnings.warn(\n",
      "\u001b[32m[I 2023-04-18 18:34:57,857]\u001b[0m Trial 6 finished with value: 0.6199486125385406 and parameters: {'layers': 1, 'solver': 'sgd', 'neurons': 32, 'activation': 'relu', 'learning rate': 'adaptive', 'initial learning rate': 0.0014703044300896158}. Best is trial 0 with value: 0.6282425488180884.\u001b[0m\n",
      "/home/pedro-milet/.local/lib/python3.8/site-packages/optuna/distributions.py:716: UserWarning: The distribution is specified by [1, 2] and step=3, but the range is not divisible by `step`. It will be replaced by [1, 1].\n",
      "  warnings.warn(\n",
      "/home/pedro-milet/.local/lib/python3.8/site-packages/optuna/distributions.py:716: UserWarning: The distribution is specified by [32, 50] and step=100, but the range is not divisible by `step`. It will be replaced by [32, 32].\n",
      "  warnings.warn(\n",
      "\u001b[32m[I 2023-04-18 18:36:24,607]\u001b[0m Trial 7 finished with value: 0.6198047276464542 and parameters: {'layers': 1, 'solver': 'sgd', 'neurons': 32, 'activation': 'identity', 'learning rate': 'adaptive', 'initial learning rate': 0.0038814739866788995}. Best is trial 0 with value: 0.6282425488180884.\u001b[0m\n",
      "/home/pedro-milet/.local/lib/python3.8/site-packages/optuna/distributions.py:716: UserWarning: The distribution is specified by [1, 2] and step=3, but the range is not divisible by `step`. It will be replaced by [1, 1].\n",
      "  warnings.warn(\n",
      "/home/pedro-milet/.local/lib/python3.8/site-packages/optuna/distributions.py:716: UserWarning: The distribution is specified by [32, 50] and step=100, but the range is not divisible by `step`. It will be replaced by [32, 32].\n",
      "  warnings.warn(\n",
      "\u001b[32m[I 2023-04-18 18:36:49,459]\u001b[0m Trial 8 finished with value: 0.6230421377183967 and parameters: {'layers': 1, 'solver': 'adam', 'neurons': 32, 'activation': 'identity', 'learning rate': 'adaptive', 'initial learning rate': 0.001662826991794726}. Best is trial 0 with value: 0.6282425488180884.\u001b[0m\n",
      "/home/pedro-milet/.local/lib/python3.8/site-packages/optuna/distributions.py:716: UserWarning: The distribution is specified by [1, 2] and step=3, but the range is not divisible by `step`. It will be replaced by [1, 1].\n",
      "  warnings.warn(\n",
      "/home/pedro-milet/.local/lib/python3.8/site-packages/optuna/distributions.py:716: UserWarning: The distribution is specified by [32, 50] and step=100, but the range is not divisible by `step`. It will be replaced by [32, 32].\n",
      "  warnings.warn(\n",
      "\u001b[32m[I 2023-04-18 18:37:14,525]\u001b[0m Trial 9 finished with value: 0.6330626927029804 and parameters: {'layers': 1, 'solver': 'adam', 'neurons': 32, 'activation': 'tanh', 'learning rate': 'constant', 'initial learning rate': 0.0017021618338986426}. Best is trial 9 with value: 0.6330626927029804.\u001b[0m\n",
      "/home/pedro-milet/.local/lib/python3.8/site-packages/optuna/distributions.py:716: UserWarning: The distribution is specified by [1, 2] and step=3, but the range is not divisible by `step`. It will be replaced by [1, 1].\n",
      "  warnings.warn(\n",
      "/home/pedro-milet/.local/lib/python3.8/site-packages/optuna/distributions.py:716: UserWarning: The distribution is specified by [32, 50] and step=100, but the range is not divisible by `step`. It will be replaced by [32, 32].\n",
      "  warnings.warn(\n"
     ]
    },
    {
     "name": "stderr",
     "output_type": "stream",
     "text": [
      "\u001b[32m[I 2023-04-18 19:31:09,936]\u001b[0m Trial 10 finished with value: 0.6110277492291881 and parameters: {'layers': 1, 'solver': 'lbfgs', 'neurons': 32, 'activation': 'tanh', 'learning rate': 'constant', 'initial learning rate': 0.0012601935104176352}. Best is trial 9 with value: 0.6330626927029804.\u001b[0m\n",
      "/home/pedro-milet/.local/lib/python3.8/site-packages/optuna/distributions.py:716: UserWarning: The distribution is specified by [1, 2] and step=3, but the range is not divisible by `step`. It will be replaced by [1, 1].\n",
      "  warnings.warn(\n",
      "/home/pedro-milet/.local/lib/python3.8/site-packages/optuna/distributions.py:716: UserWarning: The distribution is specified by [32, 50] and step=100, but the range is not divisible by `step`. It will be replaced by [32, 32].\n",
      "  warnings.warn(\n",
      "\u001b[32m[I 2023-04-18 20:12:40,273]\u001b[0m Trial 11 finished with value: 0.6110277492291881 and parameters: {'layers': 1, 'solver': 'lbfgs', 'neurons': 32, 'activation': 'logistic', 'learning rate': 'constant', 'initial learning rate': 0.003038176209599368}. Best is trial 9 with value: 0.6330626927029804.\u001b[0m\n",
      "/home/pedro-milet/.local/lib/python3.8/site-packages/optuna/distributions.py:716: UserWarning: The distribution is specified by [1, 2] and step=3, but the range is not divisible by `step`. It will be replaced by [1, 1].\n",
      "  warnings.warn(\n",
      "/home/pedro-milet/.local/lib/python3.8/site-packages/optuna/distributions.py:716: UserWarning: The distribution is specified by [32, 50] and step=100, but the range is not divisible by `step`. It will be replaced by [32, 32].\n",
      "  warnings.warn(\n",
      "\u001b[32m[I 2023-04-18 20:13:23,831]\u001b[0m Trial 12 finished with value: 0.6168242548818088 and parameters: {'layers': 1, 'solver': 'adam', 'neurons': 32, 'activation': 'logistic', 'learning rate': 'constant', 'initial learning rate': 0.0025675366371089702}. Best is trial 9 with value: 0.6330626927029804.\u001b[0m\n",
      "/home/pedro-milet/.local/lib/python3.8/site-packages/optuna/distributions.py:716: UserWarning: The distribution is specified by [1, 2] and step=3, but the range is not divisible by `step`. It will be replaced by [1, 1].\n",
      "  warnings.warn(\n",
      "/home/pedro-milet/.local/lib/python3.8/site-packages/optuna/distributions.py:716: UserWarning: The distribution is specified by [32, 50] and step=100, but the range is not divisible by `step`. It will be replaced by [32, 32].\n",
      "  warnings.warn(\n",
      "\u001b[32m[I 2023-04-18 20:13:41,468]\u001b[0m Trial 13 finished with value: 0.6321788283658787 and parameters: {'layers': 1, 'solver': 'adam', 'neurons': 32, 'activation': 'tanh', 'learning rate': 'constant', 'initial learning rate': 0.0011809229637118877}. Best is trial 9 with value: 0.6330626927029804.\u001b[0m\n",
      "/home/pedro-milet/.local/lib/python3.8/site-packages/optuna/distributions.py:716: UserWarning: The distribution is specified by [1, 2] and step=3, but the range is not divisible by `step`. It will be replaced by [1, 1].\n",
      "  warnings.warn(\n",
      "/home/pedro-milet/.local/lib/python3.8/site-packages/optuna/distributions.py:716: UserWarning: The distribution is specified by [32, 50] and step=100, but the range is not divisible by `step`. It will be replaced by [32, 32].\n",
      "  warnings.warn(\n",
      "\u001b[32m[I 2023-04-18 20:14:09,304]\u001b[0m Trial 14 finished with value: 0.6318807810894141 and parameters: {'layers': 1, 'solver': 'adam', 'neurons': 32, 'activation': 'tanh', 'learning rate': 'constant', 'initial learning rate': 0.001408349626615308}. Best is trial 9 with value: 0.6330626927029804.\u001b[0m\n",
      "/home/pedro-milet/.local/lib/python3.8/site-packages/optuna/distributions.py:716: UserWarning: The distribution is specified by [1, 2] and step=3, but the range is not divisible by `step`. It will be replaced by [1, 1].\n",
      "  warnings.warn(\n",
      "/home/pedro-milet/.local/lib/python3.8/site-packages/optuna/distributions.py:716: UserWarning: The distribution is specified by [32, 50] and step=100, but the range is not divisible by `step`. It will be replaced by [32, 32].\n",
      "  warnings.warn(\n",
      "\u001b[32m[I 2023-04-18 20:15:58,047]\u001b[0m Trial 15 finished with value: 0.6214080164439877 and parameters: {'layers': 1, 'solver': 'adam', 'neurons': 32, 'activation': 'tanh', 'learning rate': 'constant', 'initial learning rate': 0.0010582911906563757}. Best is trial 9 with value: 0.6330626927029804.\u001b[0m\n",
      "/home/pedro-milet/.local/lib/python3.8/site-packages/optuna/distributions.py:716: UserWarning: The distribution is specified by [1, 2] and step=3, but the range is not divisible by `step`. It will be replaced by [1, 1].\n",
      "  warnings.warn(\n",
      "/home/pedro-milet/.local/lib/python3.8/site-packages/optuna/distributions.py:716: UserWarning: The distribution is specified by [32, 50] and step=100, but the range is not divisible by `step`. It will be replaced by [32, 32].\n",
      "  warnings.warn(\n",
      "\u001b[32m[I 2023-04-18 20:16:27,661]\u001b[0m Trial 16 finished with value: 0.615179856115108 and parameters: {'layers': 1, 'solver': 'adam', 'neurons': 32, 'activation': 'tanh', 'learning rate': 'constant', 'initial learning rate': 0.002521413954893512}. Best is trial 9 with value: 0.6330626927029804.\u001b[0m\n",
      "/home/pedro-milet/.local/lib/python3.8/site-packages/optuna/distributions.py:716: UserWarning: The distribution is specified by [1, 2] and step=3, but the range is not divisible by `step`. It will be replaced by [1, 1].\n",
      "  warnings.warn(\n",
      "/home/pedro-milet/.local/lib/python3.8/site-packages/optuna/distributions.py:716: UserWarning: The distribution is specified by [32, 50] and step=100, but the range is not divisible by `step`. It will be replaced by [32, 32].\n",
      "  warnings.warn(\n",
      "\u001b[32m[I 2023-04-18 20:17:03,962]\u001b[0m Trial 17 finished with value: 0.6230421377183967 and parameters: {'layers': 1, 'solver': 'adam', 'neurons': 32, 'activation': 'tanh', 'learning rate': 'constant', 'initial learning rate': 0.0038052188398610253}. Best is trial 9 with value: 0.6330626927029804.\u001b[0m\n",
      "/home/pedro-milet/.local/lib/python3.8/site-packages/optuna/distributions.py:716: UserWarning: The distribution is specified by [1, 2] and step=3, but the range is not divisible by `step`. It will be replaced by [1, 1].\n",
      "  warnings.warn(\n",
      "/home/pedro-milet/.local/lib/python3.8/site-packages/optuna/distributions.py:716: UserWarning: The distribution is specified by [32, 50] and step=100, but the range is not divisible by `step`. It will be replaced by [32, 32].\n",
      "  warnings.warn(\n",
      "\u001b[32m[I 2023-04-18 21:10:52,022]\u001b[0m Trial 18 finished with value: 0.6110277492291881 and parameters: {'layers': 1, 'solver': 'lbfgs', 'neurons': 32, 'activation': 'tanh', 'learning rate': 'constant', 'initial learning rate': 0.005079342395391039}. Best is trial 9 with value: 0.6330626927029804.\u001b[0m\n",
      "/home/pedro-milet/.local/lib/python3.8/site-packages/optuna/distributions.py:716: UserWarning: The distribution is specified by [1, 2] and step=3, but the range is not divisible by `step`. It will be replaced by [1, 1].\n",
      "  warnings.warn(\n",
      "/home/pedro-milet/.local/lib/python3.8/site-packages/optuna/distributions.py:716: UserWarning: The distribution is specified by [32, 50] and step=100, but the range is not divisible by `step`. It will be replaced by [32, 32].\n",
      "  warnings.warn(\n",
      "\u001b[32m[I 2023-04-18 21:11:20,610]\u001b[0m Trial 19 finished with value: 0.6357965056526208 and parameters: {'layers': 1, 'solver': 'adam', 'neurons': 32, 'activation': 'tanh', 'learning rate': 'constant', 'initial learning rate': 0.0020309459418264213}. Best is trial 19 with value: 0.6357965056526208.\u001b[0m\n",
      "/home/pedro-milet/.local/lib/python3.8/site-packages/optuna/distributions.py:716: UserWarning: The distribution is specified by [1, 2] and step=3, but the range is not divisible by `step`. It will be replaced by [1, 1].\n",
      "  warnings.warn(\n",
      "/home/pedro-milet/.local/lib/python3.8/site-packages/optuna/distributions.py:716: UserWarning: The distribution is specified by [32, 50] and step=100, but the range is not divisible by `step`. It will be replaced by [32, 32].\n",
      "  warnings.warn(\n",
      "\u001b[32m[I 2023-04-18 21:17:43,336]\u001b[0m Trial 20 finished with value: 0.6224049331963001 and parameters: {'layers': 1, 'solver': 'adam', 'neurons': 32, 'activation': 'relu', 'learning rate': 'constant', 'initial learning rate': 0.002361870277486479}. Best is trial 19 with value: 0.6357965056526208.\u001b[0m\n",
      "/home/pedro-milet/.local/lib/python3.8/site-packages/optuna/distributions.py:716: UserWarning: The distribution is specified by [1, 2] and step=3, but the range is not divisible by `step`. It will be replaced by [1, 1].\n",
      "  warnings.warn(\n",
      "/home/pedro-milet/.local/lib/python3.8/site-packages/optuna/distributions.py:716: UserWarning: The distribution is specified by [32, 50] and step=100, but the range is not divisible by `step`. It will be replaced by [32, 32].\n",
      "  warnings.warn(\n"
     ]
    },
    {
     "name": "stderr",
     "output_type": "stream",
     "text": [
      "\u001b[32m[I 2023-04-18 21:18:05,317]\u001b[0m Trial 21 finished with value: 0.6343371017471737 and parameters: {'layers': 1, 'solver': 'adam', 'neurons': 32, 'activation': 'tanh', 'learning rate': 'constant', 'initial learning rate': 0.001883412046609875}. Best is trial 19 with value: 0.6357965056526208.\u001b[0m\n",
      "/home/pedro-milet/.local/lib/python3.8/site-packages/optuna/distributions.py:716: UserWarning: The distribution is specified by [1, 2] and step=3, but the range is not divisible by `step`. It will be replaced by [1, 1].\n",
      "  warnings.warn(\n",
      "/home/pedro-milet/.local/lib/python3.8/site-packages/optuna/distributions.py:716: UserWarning: The distribution is specified by [32, 50] and step=100, but the range is not divisible by `step`. It will be replaced by [32, 32].\n",
      "  warnings.warn(\n",
      "\u001b[32m[I 2023-04-18 21:18:27,456]\u001b[0m Trial 22 finished with value: 0.6357245632065776 and parameters: {'layers': 1, 'solver': 'adam', 'neurons': 32, 'activation': 'tanh', 'learning rate': 'constant', 'initial learning rate': 0.0020054619296569847}. Best is trial 19 with value: 0.6357965056526208.\u001b[0m\n",
      "/home/pedro-milet/.local/lib/python3.8/site-packages/optuna/distributions.py:716: UserWarning: The distribution is specified by [1, 2] and step=3, but the range is not divisible by `step`. It will be replaced by [1, 1].\n",
      "  warnings.warn(\n",
      "/home/pedro-milet/.local/lib/python3.8/site-packages/optuna/distributions.py:716: UserWarning: The distribution is specified by [32, 50] and step=100, but the range is not divisible by `step`. It will be replaced by [32, 32].\n",
      "  warnings.warn(\n",
      "\u001b[32m[I 2023-04-18 21:18:51,980]\u001b[0m Trial 23 finished with value: 0.619311408016444 and parameters: {'layers': 1, 'solver': 'adam', 'neurons': 32, 'activation': 'tanh', 'learning rate': 'constant', 'initial learning rate': 0.0032629003987283164}. Best is trial 19 with value: 0.6357965056526208.\u001b[0m\n",
      "/home/pedro-milet/.local/lib/python3.8/site-packages/optuna/distributions.py:716: UserWarning: The distribution is specified by [1, 2] and step=3, but the range is not divisible by `step`. It will be replaced by [1, 1].\n",
      "  warnings.warn(\n",
      "/home/pedro-milet/.local/lib/python3.8/site-packages/optuna/distributions.py:716: UserWarning: The distribution is specified by [32, 50] and step=100, but the range is not divisible by `step`. It will be replaced by [32, 32].\n",
      "  warnings.warn(\n",
      "\u001b[32m[I 2023-04-18 21:19:15,281]\u001b[0m Trial 24 finished with value: 0.6350256937307297 and parameters: {'layers': 1, 'solver': 'adam', 'neurons': 32, 'activation': 'tanh', 'learning rate': 'constant', 'initial learning rate': 0.0021473674591201025}. Best is trial 19 with value: 0.6357965056526208.\u001b[0m\n",
      "/home/pedro-milet/.local/lib/python3.8/site-packages/optuna/distributions.py:716: UserWarning: The distribution is specified by [1, 2] and step=3, but the range is not divisible by `step`. It will be replaced by [1, 1].\n",
      "  warnings.warn(\n",
      "/home/pedro-milet/.local/lib/python3.8/site-packages/optuna/distributions.py:716: UserWarning: The distribution is specified by [32, 50] and step=100, but the range is not divisible by `step`. It will be replaced by [32, 32].\n",
      "  warnings.warn(\n",
      "\u001b[32m[I 2023-04-18 22:15:38,809]\u001b[0m Trial 25 finished with value: 0.6110277492291881 and parameters: {'layers': 1, 'solver': 'lbfgs', 'neurons': 32, 'activation': 'tanh', 'learning rate': 'constant', 'initial learning rate': 0.002186305878075201}. Best is trial 19 with value: 0.6357965056526208.\u001b[0m\n",
      "/home/pedro-milet/.local/lib/python3.8/site-packages/optuna/distributions.py:716: UserWarning: The distribution is specified by [1, 2] and step=3, but the range is not divisible by `step`. It will be replaced by [1, 1].\n",
      "  warnings.warn(\n",
      "/home/pedro-milet/.local/lib/python3.8/site-packages/optuna/distributions.py:716: UserWarning: The distribution is specified by [32, 50] and step=100, but the range is not divisible by `step`. It will be replaced by [32, 32].\n",
      "  warnings.warn(\n",
      "\u001b[32m[I 2023-04-18 22:16:03,882]\u001b[0m Trial 26 finished with value: 0.6191675231243576 and parameters: {'layers': 1, 'solver': 'adam', 'neurons': 32, 'activation': 'tanh', 'learning rate': 'constant', 'initial learning rate': 0.003108890349688475}. Best is trial 19 with value: 0.6357965056526208.\u001b[0m\n",
      "/home/pedro-milet/.local/lib/python3.8/site-packages/optuna/distributions.py:716: UserWarning: The distribution is specified by [1, 2] and step=3, but the range is not divisible by `step`. It will be replaced by [1, 1].\n",
      "  warnings.warn(\n",
      "/home/pedro-milet/.local/lib/python3.8/site-packages/optuna/distributions.py:716: UserWarning: The distribution is specified by [32, 50] and step=100, but the range is not divisible by `step`. It will be replaced by [32, 32].\n",
      "  warnings.warn(\n",
      "\u001b[32m[I 2023-04-18 22:16:32,593]\u001b[0m Trial 27 finished with value: 0.6354984583761563 and parameters: {'layers': 1, 'solver': 'adam', 'neurons': 32, 'activation': 'tanh', 'learning rate': 'constant', 'initial learning rate': 0.0019928735690240046}. Best is trial 19 with value: 0.6357965056526208.\u001b[0m\n",
      "/home/pedro-milet/.local/lib/python3.8/site-packages/optuna/distributions.py:716: UserWarning: The distribution is specified by [1, 2] and step=3, but the range is not divisible by `step`. It will be replaced by [1, 1].\n",
      "  warnings.warn(\n",
      "/home/pedro-milet/.local/lib/python3.8/site-packages/optuna/distributions.py:716: UserWarning: The distribution is specified by [32, 50] and step=100, but the range is not divisible by `step`. It will be replaced by [32, 32].\n",
      "  warnings.warn(\n",
      "\u001b[32m[I 2023-04-18 22:17:16,840]\u001b[0m Trial 28 finished with value: 0.6216546762589928 and parameters: {'layers': 1, 'solver': 'adam', 'neurons': 32, 'activation': 'relu', 'learning rate': 'constant', 'initial learning rate': 0.001041073454849148}. Best is trial 19 with value: 0.6357965056526208.\u001b[0m\n",
      "/home/pedro-milet/.local/lib/python3.8/site-packages/optuna/distributions.py:716: UserWarning: The distribution is specified by [1, 2] and step=3, but the range is not divisible by `step`. It will be replaced by [1, 1].\n",
      "  warnings.warn(\n",
      "/home/pedro-milet/.local/lib/python3.8/site-packages/optuna/distributions.py:716: UserWarning: The distribution is specified by [32, 50] and step=100, but the range is not divisible by `step`. It will be replaced by [32, 32].\n",
      "  warnings.warn(\n",
      "\u001b[32m[I 2023-04-18 22:58:32,399]\u001b[0m Trial 29 finished with value: 0.6110277492291881 and parameters: {'layers': 1, 'solver': 'lbfgs', 'neurons': 32, 'activation': 'logistic', 'learning rate': 'constant', 'initial learning rate': 0.0028548261186350722}. Best is trial 19 with value: 0.6357965056526208.\u001b[0m\n",
      "/home/pedro-milet/.local/lib/python3.8/site-packages/optuna/distributions.py:716: UserWarning: The distribution is specified by [1, 2] and step=3, but the range is not divisible by `step`. It will be replaced by [1, 1].\n",
      "  warnings.warn(\n",
      "/home/pedro-milet/.local/lib/python3.8/site-packages/optuna/distributions.py:716: UserWarning: The distribution is specified by [32, 50] and step=100, but the range is not divisible by `step`. It will be replaced by [32, 32].\n",
      "  warnings.warn(\n",
      "\u001b[32m[I 2023-04-18 22:58:53,765]\u001b[0m Trial 30 finished with value: 0.635775950668037 and parameters: {'layers': 1, 'solver': 'adam', 'neurons': 32, 'activation': 'tanh', 'learning rate': 'constant', 'initial learning rate': 0.0020096633546326944}. Best is trial 19 with value: 0.6357965056526208.\u001b[0m\n",
      "/home/pedro-milet/.local/lib/python3.8/site-packages/optuna/distributions.py:716: UserWarning: The distribution is specified by [1, 2] and step=3, but the range is not divisible by `step`. It will be replaced by [1, 1].\n",
      "  warnings.warn(\n",
      "/home/pedro-milet/.local/lib/python3.8/site-packages/optuna/distributions.py:716: UserWarning: The distribution is specified by [32, 50] and step=100, but the range is not divisible by `step`. It will be replaced by [32, 32].\n",
      "  warnings.warn(\n",
      "\u001b[32m[I 2023-04-18 22:59:12,061]\u001b[0m Trial 31 finished with value: 0.6353956834532374 and parameters: {'layers': 1, 'solver': 'adam', 'neurons': 32, 'activation': 'tanh', 'learning rate': 'constant', 'initial learning rate': 0.0021827823865173904}. Best is trial 19 with value: 0.6357965056526208.\u001b[0m\n"
     ]
    }
   ],
   "source": [
    "def mlp(trial):\n",
    "    layers              = trial.suggest_int('layers', 1, 2, 3)\n",
    "    solver              = trial.suggest_categorical('solver', ['lbfgs', 'sgd', 'adam'])\n",
    "    neurons             = trial.suggest_int('neurons', 32, 50, 100)\n",
    "    activation          = trial.suggest_categorical('activation', ['identity', 'logistic', 'tanh', 'relu'])\n",
    "    learning_rate       = trial.suggest_categorical('learning rate', ['constant', 'adaptive'])\n",
    "    learning_rate_init  = trial.suggest_float('initial learning rate', 0.001, 0.01)\n",
    "    mlp = MLPClassifier(random_state=1, \n",
    "                    max_iter=10000,\n",
    "                    solver=solver,\n",
    "                    activation=activation,\n",
    "                    learning_rate=learning_rate,\n",
    "                    hidden_layer_sizes=(neurons,) if layers==1 else (neurons, neurons),\n",
    "                    learning_rate_init=learning_rate_init, \n",
    "                    early_stopping=True).fit(x_train.to_numpy(), y_train2.to_numpy().ravel())\n",
    "\n",
    "    mlp_pred_class_test = mlp.predict(x_test.to_numpy())\n",
    "\n",
    "    y_pred_mlp_test = pred_name_columns(mlp_pred_class_test)\n",
    "\n",
    "    acc = accuracy_score(y_test2,y_pred_mlp_test)\n",
    "    return acc\n",
    "\n",
    "study_0 = optuna.create_study(direction=\"maximize\")\n",
    "study_0.optimize(mlp, n_trials=32)"
   ]
  },
  {
   "cell_type": "code",
   "execution_count": 36,
   "metadata": {
    "colab": {
     "base_uri": "https://localhost:8080/"
    },
    "id": "EdVu9x-TMjig",
    "outputId": "521a13ed-f88d-4f8c-f199-d8c1e625dafa"
   },
   "outputs": [
    {
     "data": {
      "text/plain": [
       "{'layers': 1,\n",
       " 'solver': 'adam',\n",
       " 'neurons': 32,\n",
       " 'activation': 'tanh',\n",
       " 'learning rate': 'constant',\n",
       " 'initial learning rate': 0.0020309459418264213}"
      ]
     },
     "execution_count": 36,
     "metadata": {},
     "output_type": "execute_result"
    }
   ],
   "source": [
    "study_0.best_params"
   ]
  },
  {
   "cell_type": "markdown",
   "metadata": {},
   "source": [
    "Melhor resultado 1 {'layers': 1,\n",
    " 'solver': 'sgd',\n",
    " 'neurons': 13,\n",
    " 'activation': 'logistic',\n",
    " 'learning rate': 'adaptive',\n",
    " 'initial learning rate': 0.0856084197423055}"
   ]
  },
  {
   "cell_type": "markdown",
   "metadata": {},
   "source": [
    "Melhor resultado 2 {'layers': 1,\n",
    " 'solver': 'adam',\n",
    " 'neurons': 32,\n",
    " 'activation': 'tanh',\n",
    " 'learning rate': 'constant',\n",
    " 'initial learning rate': 0.0020309459418264213}"
   ]
  },
  {
   "cell_type": "code",
   "execution_count": null,
   "metadata": {},
   "outputs": [],
   "source": [
    "sys.exit(\"Execution stopped. Please run cells above this one individually.\")"
   ]
  },
  {
   "cell_type": "code",
   "execution_count": 35,
   "metadata": {
    "id": "ls_P4xzeSlVa"
   },
   "outputs": [],
   "source": [
    "mlp_opt = MLPClassifier(random_state=1, \n",
    "                    max_iter=10000,\n",
    "                    solver='sgd',\n",
    "                    activation='logistic',\n",
    "                    learning_rate= 'adaptive',\n",
    "                    learning_rate_init=0.0856084197423055,\n",
    "                    hidden_layer_sizes=(13),\n",
    "                    early_stopping=True).fit(x_train.to_numpy(), y_train2.to_numpy().ravel())"
   ]
  },
  {
   "cell_type": "code",
   "execution_count": 36,
   "metadata": {
    "colab": {
     "base_uri": "https://localhost:8080/",
     "height": 852
    },
    "id": "PHCI6Rj6S_X8",
    "outputId": "28fe6000-9cab-4d40-9019-ac2ec1dcaed1"
   },
   "outputs": [
    {
     "name": "stderr",
     "output_type": "stream",
     "text": [
      "/home/pedro-milet/.local/lib/python3.8/site-packages/sklearn/base.py:432: UserWarning: X has feature names, but MLPClassifier was fitted without feature names\n",
      "  warnings.warn(\n"
     ]
    },
    {
     "name": "stdout",
     "output_type": "stream",
     "text": [
      "              precision    recall  f1-score   support\n",
      "\n",
      "           0       0.48      0.65      0.55     33525\n",
      "           1       0.77      0.62      0.69     63775\n",
      "\n",
      "    accuracy                           0.63     97300\n",
      "   macro avg       0.62      0.64      0.62     97300\n",
      "weighted avg       0.67      0.63      0.64     97300\n",
      "\n",
      "Erro quadrático médio:  0.3668550873586845\n",
      "Auroc: 0.6376003503180896\n",
      "Precisão média:  0.7287491864489613\n",
      "\n"
     ]
    },
    {
     "data": {
      "image/png": "[encoded data removed]",
      "text/plain": [
       "<Figure size 640x480 with 2 Axes>"
      ]
     },
     "metadata": {},
     "output_type": "display_data"
    },
    {
     "data": {
      "image/png": "[encoded data removed]",
      "text/plain": [
       "<Figure size 640x480 with 1 Axes>"
      ]
     },
     "metadata": {},
     "output_type": "display_data"
    }
   ],
   "source": [
    "mlp_pred_class_test = mlp_opt.predict(x_test.to_numpy())\n",
    "mlp_prb_test = mlp_opt.predict_proba(x_test)\n",
    "y_pred_mlp_test = pred_name_columns(mlp_pred_class_test)\n",
    "my_metrics(y_test2,y_pred_mlp_test)\n",
    "skplt.metrics.plot_ks_statistic(y_test2.to_numpy().ravel(), mlp_prb_test)\n",
    "plt.show()"
   ]
  },
  {
   "cell_type": "markdown",
   "metadata": {},
   "source": [
    "KS de 0.277 , auroc 0.63 , precisao 0.72\n",
    "Podemos melhorar."
   ]
  },
  {
   "cell_type": "code",
   "execution_count": 37,
   "metadata": {},
   "outputs": [],
   "source": [
    "mlp_opt2 = MLPClassifier(random_state=1, \n",
    "                    max_iter=10000,\n",
    "                    solver='sgd',\n",
    "                    activation='logistic',\n",
    "                    learning_rate= 'adaptive',\n",
    "                    learning_rate_init=0.0856084197423055,\n",
    "                    hidden_layer_sizes=(32),\n",
    "                    early_stopping=True).fit(x_train.to_numpy(), y_train2.to_numpy().ravel())"
   ]
  },
  {
   "cell_type": "code",
   "execution_count": 38,
   "metadata": {},
   "outputs": [
    {
     "name": "stderr",
     "output_type": "stream",
     "text": [
      "/home/pedro-milet/.local/lib/python3.8/site-packages/sklearn/base.py:432: UserWarning: X has feature names, but MLPClassifier was fitted without feature names\n",
      "  warnings.warn(\n"
     ]
    },
    {
     "name": "stdout",
     "output_type": "stream",
     "text": [
      "              precision    recall  f1-score   support\n",
      "\n",
      "           0       0.47      0.68      0.56     33525\n",
      "           1       0.78      0.60      0.68     63775\n",
      "\n",
      "    accuracy                           0.63     97300\n",
      "   macro avg       0.63      0.64      0.62     97300\n",
      "weighted avg       0.67      0.63      0.63     97300\n",
      "\n",
      "Erro quadrático médio:  0.37440904419321686\n",
      "Auroc: 0.6389191587805634\n",
      "Precisão média:  0.7301987137103825\n",
      "\n"
     ]
    },
    {
     "data": {
      "image/png": "[encoded data removed]",
      "text/plain": [
       "<Figure size 640x480 with 2 Axes>"
      ]
     },
     "metadata": {},
     "output_type": "display_data"
    },
    {
     "data": {
      "image/png": "[encoded data removed]",
      "text/plain": [
       "<Figure size 640x480 with 1 Axes>"
      ]
     },
     "metadata": {},
     "output_type": "display_data"
    }
   ],
   "source": [
    "mlp_pred_class_test = mlp_opt2.predict(x_test.to_numpy())\n",
    "mlp_prb_test = mlp_opt2.predict_proba(x_test)\n",
    "y_pred_mlp_test = pred_name_columns(mlp_pred_class_test)\n",
    "my_metrics(y_test2,y_pred_mlp_test)\n",
    "skplt.metrics.plot_ks_statistic(y_test2.to_numpy().ravel(), mlp_prb_test)\n",
    "plt.show()"
   ]
  },
  {
   "cell_type": "markdown",
   "metadata": {},
   "source": [
    "KS de 0.279 , auroc 0.638 , precisao 0.730\n",
    "Resultados melhoraram principalmente pois aumentamos o numero de neuronios, mas a primeira rede custa muito menos."
   ]
  },
  {
   "cell_type": "code",
   "execution_count": null,
   "metadata": {},
   "outputs": [],
   "source": [
    "sys.exit(\"Execution stopped. Please run cells above this one individually.\")"
   ]
  },
  {
   "cell_type": "markdown",
   "metadata": {
    "id": "0_vJ1ReU2IkL"
   },
   "source": [
    "##Random Forest"
   ]
  },
  {
   "cell_type": "code",
   "execution_count": 40,
   "metadata": {
    "id": "XH-7EWLZ2McW"
   },
   "outputs": [],
   "source": [
    "from sklearn.ensemble import RandomForestClassifier"
   ]
  },
  {
   "cell_type": "code",
   "execution_count": null,
   "metadata": {
    "colab": {
     "base_uri": "https://localhost:8080/"
    },
    "id": "_I0x3N7FZqJ7",
    "outputId": "d0465b18-33fb-4451-8231-fa8352c79331"
   },
   "outputs": [
    {
     "name": "stderr",
     "output_type": "stream",
     "text": [
      "\u001b[32m[I 2023-04-11 02:30:24,801]\u001b[0m A new study created in memory with name: no-name-2747b1b4-57dd-4a8c-af6b-76ac761a1344\u001b[0m\n",
      "\u001b[32m[I 2023-04-11 02:30:34,309]\u001b[0m Trial 0 finished with value: 0.6126824254881809 and parameters: {'max_depth': 9, 'criterion': 'entropy', 'n_estimators': 12, 'min_samples_leaf': 6, 'min_samples_split': 7}. Best is trial 0 with value: 0.6126824254881809.\u001b[0m\n",
      "\u001b[32m[I 2023-04-11 02:30:41,742]\u001b[0m Trial 1 finished with value: 0.579393627954779 and parameters: {'max_depth': 3, 'criterion': 'entropy', 'n_estimators': 28, 'min_samples_leaf': 5, 'min_samples_split': 3}. Best is trial 0 with value: 0.6126824254881809.\u001b[0m\n",
      "\u001b[32m[I 2023-04-11 02:30:49,796]\u001b[0m Trial 2 finished with value: 0.6095477903391573 and parameters: {'max_depth': 12, 'criterion': 'entropy', 'n_estimators': 8, 'min_samples_leaf': 2, 'min_samples_split': 5}. Best is trial 0 with value: 0.6126824254881809.\u001b[0m\n",
      "\u001b[32m[I 2023-04-11 02:31:10,082]\u001b[0m Trial 3 finished with value: 0.6256628982528263 and parameters: {'max_depth': 15, 'criterion': 'entropy', 'n_estimators': 17, 'min_samples_leaf': 5, 'min_samples_split': 3}. Best is trial 3 with value: 0.6256628982528263.\u001b[0m\n",
      "\u001b[32m[I 2023-04-11 02:31:40,350]\u001b[0m Trial 4 finished with value: 0.625601233299075 and parameters: {'max_depth': 12, 'criterion': 'entropy', 'n_estimators': 31, 'min_samples_leaf': 2, 'min_samples_split': 4}. Best is trial 3 with value: 0.6256628982528263.\u001b[0m\n",
      "\u001b[32m[I 2023-04-11 02:31:50,638]\u001b[0m Trial 5 finished with value: 0.5914799588900308 and parameters: {'max_depth': 4, 'criterion': 'entropy', 'n_estimators': 31, 'min_samples_leaf': 5, 'min_samples_split': 2}. Best is trial 3 with value: 0.6256628982528263.\u001b[0m\n",
      "\u001b[32m[I 2023-04-11 02:31:55,682]\u001b[0m Trial 6 finished with value: 0.6006063720452209 and parameters: {'max_depth': 8, 'criterion': 'gini', 'n_estimators': 8, 'min_samples_leaf': 2, 'min_samples_split': 2}. Best is trial 3 with value: 0.6256628982528263.\u001b[0m\n",
      "\u001b[32m[I 2023-04-11 02:32:05,563]\u001b[0m Trial 7 finished with value: 0.6035971223021582 and parameters: {'max_depth': 7, 'criterion': 'entropy', 'n_estimators': 17, 'min_samples_leaf': 4, 'min_samples_split': 3}. Best is trial 3 with value: 0.6256628982528263.\u001b[0m\n",
      "\u001b[32m[I 2023-04-11 02:32:09,632]\u001b[0m Trial 8 finished with value: 0.5757142857142857 and parameters: {'max_depth': 4, 'criterion': 'gini', 'n_estimators': 12, 'min_samples_leaf': 7, 'min_samples_split': 2}. Best is trial 3 with value: 0.6256628982528263.\u001b[0m\n",
      "\u001b[32m[I 2023-04-11 02:32:11,960]\u001b[0m Trial 9 finished with value: 0.5644090441932168 and parameters: {'max_depth': 2, 'criterion': 'entropy', 'n_estimators': 12, 'min_samples_leaf': 5, 'min_samples_split': 4}. Best is trial 3 with value: 0.6256628982528263.\u001b[0m\n",
      "\u001b[32m[I 2023-04-11 02:32:37,774]\u001b[0m Trial 10 finished with value: 0.630524152106886 and parameters: {'max_depth': 16, 'criterion': 'gini', 'n_estimators': 23, 'min_samples_leaf': 8, 'min_samples_split': 7}. Best is trial 10 with value: 0.630524152106886.\u001b[0m\n",
      "\u001b[32m[I 2023-04-11 02:33:03,830]\u001b[0m Trial 11 finished with value: 0.628879753340185 and parameters: {'max_depth': 16, 'criterion': 'gini', 'n_estimators': 23, 'min_samples_leaf': 8, 'min_samples_split': 8}. Best is trial 10 with value: 0.630524152106886.\u001b[0m\n",
      "\u001b[32m[I 2023-04-11 02:33:31,053]\u001b[0m Trial 12 finished with value: 0.6306577595066803 and parameters: {'max_depth': 16, 'criterion': 'gini', 'n_estimators': 24, 'min_samples_leaf': 8, 'min_samples_split': 8}. Best is trial 12 with value: 0.6306577595066803.\u001b[0m\n",
      "\u001b[32m[I 2023-04-11 02:33:54,016]\u001b[0m Trial 13 finished with value: 0.623792394655704 and parameters: {'max_depth': 13, 'criterion': 'gini', 'n_estimators': 24, 'min_samples_leaf': 8, 'min_samples_split': 7}. Best is trial 12 with value: 0.6306577595066803.\u001b[0m\n",
      "\u001b[32m[I 2023-04-11 02:34:18,864]\u001b[0m Trial 14 finished with value: 0.6263103802672148 and parameters: {'max_depth': 14, 'criterion': 'gini', 'n_estimators': 24, 'min_samples_leaf': 7, 'min_samples_split': 8}. Best is trial 12 with value: 0.6306577595066803.\u001b[0m\n",
      "\u001b[32m[I 2023-04-11 02:34:41,576]\u001b[0m Trial 15 finished with value: 0.6296813977389517 and parameters: {'max_depth': 16, 'criterion': 'gini', 'n_estimators': 20, 'min_samples_leaf': 7, 'min_samples_split': 6}. Best is trial 12 with value: 0.6306577595066803.\u001b[0m\n"
     ]
    }
   ],
   "source": [
    "def rf(trial):\n",
    "    max_depth           = trial.suggest_int(\"max_depth\", 2, 16)\n",
    "    criterion           = trial.suggest_categorical(\"criterion\", [\"gini\", \"entropy\"])\n",
    "    n_estimators        = trial.suggest_int(\"n_estimators\", 8, 32)\n",
    "    min_samples_leaf    = trial.suggest_int(\"min_samples_leaf\", 2, 8)\n",
    "    min_samples_split   = trial.suggest_int(\"min_samples_split\", 2, 8)\n",
    "    random_forest = RandomForestClassifier(n_estimators=n_estimators, \n",
    "                                        max_depth=max_depth, \n",
    "                                        criterion=criterion, \n",
    "                                        bootstrap=True, \n",
    "                                        min_samples_leaf=min_samples_leaf, \n",
    "                                        min_samples_split=min_samples_split).fit(x_train.to_numpy(), y_train2.to_numpy().ravel())\n",
    "\n",
    "    rf_pred_class_test = random_forest.predict(x_test.to_numpy())\n",
    "    y_pred_rf_test = pred_name_columns(rf_pred_class_test)\n",
    "\n",
    "    acc = accuracy_score(y_test2,y_pred_rf_test)\n",
    "    return acc\n",
    "\n",
    "\n",
    "study_1 = optuna.create_study(direction=\"maximize\")\n",
    "study_1.optimize(rf, n_trials=16)"
   ]
  },
  {
   "cell_type": "code",
   "execution_count": null,
   "metadata": {
    "colab": {
     "base_uri": "https://localhost:8080/",
     "height": 542
    },
    "id": "UdeTGqQ_u_wj",
    "outputId": "5c3d1952-9024-47a7-e19f-860ad6160163"
   },
   "outputs": [
    {
     "data": {
      "application/vnd.plotly.v1+json": {
       "config": {
        "plotlyServerURL": "https://plot.ly"
       },
       "data": [
        {
         "mode": "markers",
         "name": "Objective Value",
         "type": "scatter",
         "x": [
          0,
          1,
          2,
          3,
          4,
          5,
          6,
          7,
          8,
          9,
          10,
          11,
          12,
          13,
          14,
          15
         ],
         "y": [
          0.6126824254881809,
          0.579393627954779,
          0.6095477903391573,
          0.6256628982528263,
          0.625601233299075,
          0.5914799588900308,
          0.6006063720452209,
          0.6035971223021582,
          0.5757142857142857,
          0.5644090441932168,
          0.630524152106886,
          0.628879753340185,
          0.6306577595066803,
          0.623792394655704,
          0.6263103802672148,
          0.6296813977389517
         ]
        },
        {
         "name": "Best Value",
         "type": "scatter",
         "x": [
          0,
          1,
          2,
          3,
          4,
          5,
          6,
          7,
          8,
          9,
          10,
          11,
          12,
          13,
          14,
          15
         ],
         "y": [
          0.6126824254881809,
          0.6126824254881809,
          0.6126824254881809,
          0.6256628982528263,
          0.6256628982528263,
          0.6256628982528263,
          0.6256628982528263,
          0.6256628982528263,
          0.6256628982528263,
          0.6256628982528263,
          0.630524152106886,
          0.630524152106886,
          0.6306577595066803,
          0.6306577595066803,
          0.6306577595066803,
          0.6306577595066803
         ]
        }
       ],
       "layout": {
        "template": {
         "data": {
          "bar": [
           {
            "error_x": {
             "color": "#2a3f5f"
            },
            "error_y": {
             "color": "#2a3f5f"
            },
            "marker": {
             "line": {
              "color": "#E5ECF6",
              "width": 0.5
             },
             "pattern": {
              "fillmode": "overlay",
              "size": 10,
              "solidity": 0.2
             }
            },
            "type": "bar"
           }
          ],
          "barpolar": [
           {
            "marker": {
             "line": {
              "color": "#E5ECF6",
              "width": 0.5
             },
             "pattern": {
              "fillmode": "overlay",
              "size": 10,
              "solidity": 0.2
             }
            },
            "type": "barpolar"
           }
          ],
          "carpet": [
           {
            "aaxis": {
             "endlinecolor": "#2a3f5f",
             "gridcolor": "white",
             "linecolor": "white",
             "minorgridcolor": "white",
             "startlinecolor": "#2a3f5f"
            },
            "baxis": {
             "endlinecolor": "#2a3f5f",
             "gridcolor": "white",
             "linecolor": "white",
             "minorgridcolor": "white",
             "startlinecolor": "#2a3f5f"
            },
            "type": "carpet"
           }
          ],
          "choropleth": [
           {
            "colorbar": {
             "outlinewidth": 0,
             "ticks": ""
            },
            "type": "choropleth"
           }
          ],
          "contour": [
           {
            "colorbar": {
             "outlinewidth": 0,
             "ticks": ""
            },
            "colorscale": [
             [
              0,
              "#0d0887"
             ],
             [
              0.1111111111111111,
              "#46039f"
             ],
             [
              0.2222222222222222,
              "#7201a8"
             ],
             [
              0.3333333333333333,
              "#9c179e"
             ],
             [
              0.4444444444444444,
              "#bd3786"
             ],
             [
              0.5555555555555556,
              "#d8576b"
             ],
             [
              0.6666666666666666,
              "#ed7953"
             ],
             [
              0.7777777777777778,
              "#fb9f3a"
             ],
             [
              0.8888888888888888,
              "#fdca26"
             ],
             [
              1,
              "#f0f921"
             ]
            ],
            "type": "contour"
           }
          ],
          "contourcarpet": [
           {
            "colorbar": {
             "outlinewidth": 0,
             "ticks": ""
            },
            "type": "contourcarpet"
           }
          ],
          "heatmap": [
           {
            "colorbar": {
             "outlinewidth": 0,
             "ticks": ""
            },
            "colorscale": [
             [
              0,
              "#0d0887"
             ],
             [
              0.1111111111111111,
              "#46039f"
             ],
             [
              0.2222222222222222,
              "#7201a8"
             ],
             [
              0.3333333333333333,
              "#9c179e"
             ],
             [
              0.4444444444444444,
              "#bd3786"
             ],
             [
              0.5555555555555556,
              "#d8576b"
             ],
             [
              0.6666666666666666,
              "#ed7953"
             ],
             [
              0.7777777777777778,
              "#fb9f3a"
             ],
             [
              0.8888888888888888,
              "#fdca26"
             ],
             [
              1,
              "#f0f921"
             ]
            ],
            "type": "heatmap"
           }
          ],
          "heatmapgl": [
           {
            "colorbar": {
             "outlinewidth": 0,
             "ticks": ""
            },
            "colorscale": [
             [
              0,
              "#0d0887"
             ],
             [
              0.1111111111111111,
              "#46039f"
             ],
             [
              0.2222222222222222,
              "#7201a8"
             ],
             [
              0.3333333333333333,
              "#9c179e"
             ],
             [
              0.4444444444444444,
              "#bd3786"
             ],
             [
              0.5555555555555556,
              "#d8576b"
             ],
             [
              0.6666666666666666,
              "#ed7953"
             ],
             [
              0.7777777777777778,
              "#fb9f3a"
             ],
             [
              0.8888888888888888,
              "#fdca26"
             ],
             [
              1,
              "#f0f921"
             ]
            ],
            "type": "heatmapgl"
           }
          ],
          "histogram": [
           {
            "marker": {
             "pattern": {
              "fillmode": "overlay",
              "size": 10,
              "solidity": 0.2
             }
            },
            "type": "histogram"
           }
          ],
          "histogram2d": [
           {
            "colorbar": {
             "outlinewidth": 0,
             "ticks": ""
            },
            "colorscale": [
             [
              0,
              "#0d0887"
             ],
             [
              0.1111111111111111,
              "#46039f"
             ],
             [
              0.2222222222222222,
              "#7201a8"
             ],
             [
              0.3333333333333333,
              "#9c179e"
             ],
             [
              0.4444444444444444,
              "#bd3786"
             ],
             [
              0.5555555555555556,
              "#d8576b"
             ],
             [
              0.6666666666666666,
              "#ed7953"
             ],
             [
              0.7777777777777778,
              "#fb9f3a"
             ],
             [
              0.8888888888888888,
              "#fdca26"
             ],
             [
              1,
              "#f0f921"
             ]
            ],
            "type": "histogram2d"
           }
          ],
          "histogram2dcontour": [
           {
            "colorbar": {
             "outlinewidth": 0,
             "ticks": ""
            },
            "colorscale": [
             [
              0,
              "#0d0887"
             ],
             [
              0.1111111111111111,
              "#46039f"
             ],
             [
              0.2222222222222222,
              "#7201a8"
             ],
             [
              0.3333333333333333,
              "#9c179e"
             ],
             [
              0.4444444444444444,
              "#bd3786"
             ],
             [
              0.5555555555555556,
              "#d8576b"
             ],
             [
              0.6666666666666666,
              "#ed7953"
             ],
             [
              0.7777777777777778,
              "#fb9f3a"
             ],
             [
              0.8888888888888888,
              "#fdca26"
             ],
             [
              1,
              "#f0f921"
             ]
            ],
            "type": "histogram2dcontour"
           }
          ],
          "mesh3d": [
           {
            "colorbar": {
             "outlinewidth": 0,
             "ticks": ""
            },
            "type": "mesh3d"
           }
          ],
          "parcoords": [
           {
            "line": {
             "colorbar": {
              "outlinewidth": 0,
              "ticks": ""
             }
            },
            "type": "parcoords"
           }
          ],
          "pie": [
           {
            "automargin": true,
            "type": "pie"
           }
          ],
          "scatter": [
           {
            "fillpattern": {
             "fillmode": "overlay",
             "size": 10,
             "solidity": 0.2
            },
            "type": "scatter"
           }
          ],
          "scatter3d": [
           {
            "line": {
             "colorbar": {
              "outlinewidth": 0,
              "ticks": ""
             }
            },
            "marker": {
             "colorbar": {
              "outlinewidth": 0,
              "ticks": ""
             }
            },
            "type": "scatter3d"
           }
          ],
          "scattercarpet": [
           {
            "marker": {
             "colorbar": {
              "outlinewidth": 0,
              "ticks": ""
             }
            },
            "type": "scattercarpet"
           }
          ],
          "scattergeo": [
           {
            "marker": {
             "colorbar": {
              "outlinewidth": 0,
              "ticks": ""
             }
            },
            "type": "scattergeo"
           }
          ],
          "scattergl": [
           {
            "marker": {
             "colorbar": {
              "outlinewidth": 0,
              "ticks": ""
             }
            },
            "type": "scattergl"
           }
          ],
          "scattermapbox": [
           {
            "marker": {
             "colorbar": {
              "outlinewidth": 0,
              "ticks": ""
             }
            },
            "type": "scattermapbox"
           }
          ],
          "scatterpolar": [
           {
            "marker": {
             "colorbar": {
              "outlinewidth": 0,
              "ticks": ""
             }
            },
            "type": "scatterpolar"
           }
          ],
          "scatterpolargl": [
           {
            "marker": {
             "colorbar": {
              "outlinewidth": 0,
              "ticks": ""
             }
            },
            "type": "scatterpolargl"
           }
          ],
          "scatterternary": [
           {
            "marker": {
             "colorbar": {
              "outlinewidth": 0,
              "ticks": ""
             }
            },
            "type": "scatterternary"
           }
          ],
          "surface": [
           {
            "colorbar": {
             "outlinewidth": 0,
             "ticks": ""
            },
            "colorscale": [
             [
              0,
              "#0d0887"
             ],
             [
              0.1111111111111111,
              "#46039f"
             ],
             [
              0.2222222222222222,
              "#7201a8"
             ],
             [
              0.3333333333333333,
              "#9c179e"
             ],
             [
              0.4444444444444444,
              "#bd3786"
             ],
             [
              0.5555555555555556,
              "#d8576b"
             ],
             [
              0.6666666666666666,
              "#ed7953"
             ],
             [
              0.7777777777777778,
              "#fb9f3a"
             ],
             [
              0.8888888888888888,
              "#fdca26"
             ],
             [
              1,
              "#f0f921"
             ]
            ],
            "type": "surface"
           }
          ],
          "table": [
           {
            "cells": {
             "fill": {
              "color": "#EBF0F8"
             },
             "line": {
              "color": "white"
             }
            },
            "header": {
             "fill": {
              "color": "#C8D4E3"
             },
             "line": {
              "color": "white"
             }
            },
            "type": "table"
           }
          ]
         },
         "layout": {
          "annotationdefaults": {
           "arrowcolor": "#2a3f5f",
           "arrowhead": 0,
           "arrowwidth": 1
          },
          "autotypenumbers": "strict",
          "coloraxis": {
           "colorbar": {
            "outlinewidth": 0,
            "ticks": ""
           }
          },
          "colorscale": {
           "diverging": [
            [
             0,
             "#8e0152"
            ],
            [
             0.1,
             "#c51b7d"
            ],
            [
             0.2,
             "#de77ae"
            ],
            [
             0.3,
             "#f1b6da"
            ],
            [
             0.4,
             "#fde0ef"
            ],
            [
             0.5,
             "#f7f7f7"
            ],
            [
             0.6,
             "#e6f5d0"
            ],
            [
             0.7,
             "#b8e186"
            ],
            [
             0.8,
             "#7fbc41"
            ],
            [
             0.9,
             "#4d9221"
            ],
            [
             1,
             "#276419"
            ]
           ],
           "sequential": [
            [
             0,
             "#0d0887"
            ],
            [
             0.1111111111111111,
             "#46039f"
            ],
            [
             0.2222222222222222,
             "#7201a8"
            ],
            [
             0.3333333333333333,
             "#9c179e"
            ],
            [
             0.4444444444444444,
             "#bd3786"
            ],
            [
             0.5555555555555556,
             "#d8576b"
            ],
            [
             0.6666666666666666,
             "#ed7953"
            ],
            [
             0.7777777777777778,
             "#fb9f3a"
            ],
            [
             0.8888888888888888,
             "#fdca26"
            ],
            [
             1,
             "#f0f921"
            ]
           ],
           "sequentialminus": [
            [
             0,
             "#0d0887"
            ],
            [
             0.1111111111111111,
             "#46039f"
            ],
            [
             0.2222222222222222,
             "#7201a8"
            ],
            [
             0.3333333333333333,
             "#9c179e"
            ],
            [
             0.4444444444444444,
             "#bd3786"
            ],
            [
             0.5555555555555556,
             "#d8576b"
            ],
            [
             0.6666666666666666,
             "#ed7953"
            ],
            [
             0.7777777777777778,
             "#fb9f3a"
            ],
            [
             0.8888888888888888,
             "#fdca26"
            ],
            [
             1,
             "#f0f921"
            ]
           ]
          },
          "colorway": [
           "#636efa",
           "#EF553B",
           "#00cc96",
           "#ab63fa",
           "#FFA15A",
           "#19d3f3",
           "#FF6692",
           "#B6E880",
           "#FF97FF",
           "#FECB52"
          ],
          "font": {
           "color": "#2a3f5f"
          },
          "geo": {
           "bgcolor": "white",
           "lakecolor": "white",
           "landcolor": "#E5ECF6",
           "showlakes": true,
           "showland": true,
           "subunitcolor": "white"
          },
          "hoverlabel": {
           "align": "left"
          },
          "hovermode": "closest",
          "mapbox": {
           "style": "light"
          },
          "paper_bgcolor": "white",
          "plot_bgcolor": "#E5ECF6",
          "polar": {
           "angularaxis": {
            "gridcolor": "white",
            "linecolor": "white",
            "ticks": ""
           },
           "bgcolor": "#E5ECF6",
           "radialaxis": {
            "gridcolor": "white",
            "linecolor": "white",
            "ticks": ""
           }
          },
          "scene": {
           "xaxis": {
            "backgroundcolor": "#E5ECF6",
            "gridcolor": "white",
            "gridwidth": 2,
            "linecolor": "white",
            "showbackground": true,
            "ticks": "",
            "zerolinecolor": "white"
           },
           "yaxis": {
            "backgroundcolor": "#E5ECF6",
            "gridcolor": "white",
            "gridwidth": 2,
            "linecolor": "white",
            "showbackground": true,
            "ticks": "",
            "zerolinecolor": "white"
           },
           "zaxis": {
            "backgroundcolor": "#E5ECF6",
            "gridcolor": "white",
            "gridwidth": 2,
            "linecolor": "white",
            "showbackground": true,
            "ticks": "",
            "zerolinecolor": "white"
           }
          },
          "shapedefaults": {
           "line": {
            "color": "#2a3f5f"
           }
          },
          "ternary": {
           "aaxis": {
            "gridcolor": "white",
            "linecolor": "white",
            "ticks": ""
           },
           "baxis": {
            "gridcolor": "white",
            "linecolor": "white",
            "ticks": ""
           },
           "bgcolor": "#E5ECF6",
           "caxis": {
            "gridcolor": "white",
            "linecolor": "white",
            "ticks": ""
           }
          },
          "title": {
           "x": 0.05
          },
          "xaxis": {
           "automargin": true,
           "gridcolor": "white",
           "linecolor": "white",
           "ticks": "",
           "title": {
            "standoff": 15
           },
           "zerolinecolor": "white",
           "zerolinewidth": 2
          },
          "yaxis": {
           "automargin": true,
           "gridcolor": "white",
           "linecolor": "white",
           "ticks": "",
           "title": {
            "standoff": 15
           },
           "zerolinecolor": "white",
           "zerolinewidth": 2
          }
         }
        },
        "title": {
         "text": "Optimization History Plot"
        },
        "xaxis": {
         "title": {
          "text": "Trial"
         }
        },
        "yaxis": {
         "title": {
          "text": "Objective Value"
         }
        }
       }
      },
      "text/html": [
       "<div>                            <div id=\"a90486b0-292e-4bd8-908e-21cfa894609e\" class=\"plotly-graph-div\" style=\"height:525px; width:100%;\"></div>            <script type=\"text/javascript\">                require([\"plotly\"], function(Plotly) {                    window.PLOTLYENV=window.PLOTLYENV || {};                                    if (document.getElementById(\"a90486b0-292e-4bd8-908e-21cfa894609e\")) {                    Plotly.newPlot(                        \"a90486b0-292e-4bd8-908e-21cfa894609e\",                        [{\"mode\":\"markers\",\"name\":\"Objective Value\",\"x\":[0,1,2,3,4,5,6,7,8,9,10,11,12,13,14,15],\"y\":[0.6126824254881809,0.579393627954779,0.6095477903391573,0.6256628982528263,0.625601233299075,0.5914799588900308,0.6006063720452209,0.6035971223021582,0.5757142857142857,0.5644090441932168,0.630524152106886,0.628879753340185,0.6306577595066803,0.623792394655704,0.6263103802672148,0.6296813977389517],\"type\":\"scatter\"},{\"name\":\"Best Value\",\"x\":[0,1,2,3,4,5,6,7,8,9,10,11,12,13,14,15],\"y\":[0.6126824254881809,0.6126824254881809,0.6126824254881809,0.6256628982528263,0.6256628982528263,0.6256628982528263,0.6256628982528263,0.6256628982528263,0.6256628982528263,0.6256628982528263,0.630524152106886,0.630524152106886,0.6306577595066803,0.6306577595066803,0.6306577595066803,0.6306577595066803],\"type\":\"scatter\"}],                        {\"title\":{\"text\":\"Optimization History Plot\"},\"xaxis\":{\"title\":{\"text\":\"Trial\"}},\"yaxis\":{\"title\":{\"text\":\"Objective Value\"}},\"template\":{\"data\":{\"histogram2dcontour\":[{\"type\":\"histogram2dcontour\",\"colorbar\":{\"outlinewidth\":0,\"ticks\":\"\"},\"colorscale\":[[0.0,\"#0d0887\"],[0.1111111111111111,\"#46039f\"],[0.2222222222222222,\"#7201a8\"],[0.3333333333333333,\"#9c179e\"],[0.4444444444444444,\"#bd3786\"],[0.5555555555555556,\"#d8576b\"],[0.6666666666666666,\"#ed7953\"],[0.7777777777777778,\"#fb9f3a\"],[0.8888888888888888,\"#fdca26\"],[1.0,\"#f0f921\"]]}],\"choropleth\":[{\"type\":\"choropleth\",\"colorbar\":{\"outlinewidth\":0,\"ticks\":\"\"}}],\"histogram2d\":[{\"type\":\"histogram2d\",\"colorbar\":{\"outlinewidth\":0,\"ticks\":\"\"},\"colorscale\":[[0.0,\"#0d0887\"],[0.1111111111111111,\"#46039f\"],[0.2222222222222222,\"#7201a8\"],[0.3333333333333333,\"#9c179e\"],[0.4444444444444444,\"#bd3786\"],[0.5555555555555556,\"#d8576b\"],[0.6666666666666666,\"#ed7953\"],[0.7777777777777778,\"#fb9f3a\"],[0.8888888888888888,\"#fdca26\"],[1.0,\"#f0f921\"]]}],\"heatmap\":[{\"type\":\"heatmap\",\"colorbar\":{\"outlinewidth\":0,\"ticks\":\"\"},\"colorscale\":[[0.0,\"#0d0887\"],[0.1111111111111111,\"#46039f\"],[0.2222222222222222,\"#7201a8\"],[0.3333333333333333,\"#9c179e\"],[0.4444444444444444,\"#bd3786\"],[0.5555555555555556,\"#d8576b\"],[0.6666666666666666,\"#ed7953\"],[0.7777777777777778,\"#fb9f3a\"],[0.8888888888888888,\"#fdca26\"],[1.0,\"#f0f921\"]]}],\"heatmapgl\":[{\"type\":\"heatmapgl\",\"colorbar\":{\"outlinewidth\":0,\"ticks\":\"\"},\"colorscale\":[[0.0,\"#0d0887\"],[0.1111111111111111,\"#46039f\"],[0.2222222222222222,\"#7201a8\"],[0.3333333333333333,\"#9c179e\"],[0.4444444444444444,\"#bd3786\"],[0.5555555555555556,\"#d8576b\"],[0.6666666666666666,\"#ed7953\"],[0.7777777777777778,\"#fb9f3a\"],[0.8888888888888888,\"#fdca26\"],[1.0,\"#f0f921\"]]}],\"contourcarpet\":[{\"type\":\"contourcarpet\",\"colorbar\":{\"outlinewidth\":0,\"ticks\":\"\"}}],\"contour\":[{\"type\":\"contour\",\"colorbar\":{\"outlinewidth\":0,\"ticks\":\"\"},\"colorscale\":[[0.0,\"#0d0887\"],[0.1111111111111111,\"#46039f\"],[0.2222222222222222,\"#7201a8\"],[0.3333333333333333,\"#9c179e\"],[0.4444444444444444,\"#bd3786\"],[0.5555555555555556,\"#d8576b\"],[0.6666666666666666,\"#ed7953\"],[0.7777777777777778,\"#fb9f3a\"],[0.8888888888888888,\"#fdca26\"],[1.0,\"#f0f921\"]]}],\"surface\":[{\"type\":\"surface\",\"colorbar\":{\"outlinewidth\":0,\"ticks\":\"\"},\"colorscale\":[[0.0,\"#0d0887\"],[0.1111111111111111,\"#46039f\"],[0.2222222222222222,\"#7201a8\"],[0.3333333333333333,\"#9c179e\"],[0.4444444444444444,\"#bd3786\"],[0.5555555555555556,\"#d8576b\"],[0.6666666666666666,\"#ed7953\"],[0.7777777777777778,\"#fb9f3a\"],[0.8888888888888888,\"#fdca26\"],[1.0,\"#f0f921\"]]}],\"mesh3d\":[{\"type\":\"mesh3d\",\"colorbar\":{\"outlinewidth\":0,\"ticks\":\"\"}}],\"scatter\":[{\"fillpattern\":{\"fillmode\":\"overlay\",\"size\":10,\"solidity\":0.2},\"type\":\"scatter\"}],\"parcoords\":[{\"type\":\"parcoords\",\"line\":{\"colorbar\":{\"outlinewidth\":0,\"ticks\":\"\"}}}],\"scatterpolargl\":[{\"type\":\"scatterpolargl\",\"marker\":{\"colorbar\":{\"outlinewidth\":0,\"ticks\":\"\"}}}],\"bar\":[{\"error_x\":{\"color\":\"#2a3f5f\"},\"error_y\":{\"color\":\"#2a3f5f\"},\"marker\":{\"line\":{\"color\":\"#E5ECF6\",\"width\":0.5},\"pattern\":{\"fillmode\":\"overlay\",\"size\":10,\"solidity\":0.2}},\"type\":\"bar\"}],\"scattergeo\":[{\"type\":\"scattergeo\",\"marker\":{\"colorbar\":{\"outlinewidth\":0,\"ticks\":\"\"}}}],\"scatterpolar\":[{\"type\":\"scatterpolar\",\"marker\":{\"colorbar\":{\"outlinewidth\":0,\"ticks\":\"\"}}}],\"histogram\":[{\"marker\":{\"pattern\":{\"fillmode\":\"overlay\",\"size\":10,\"solidity\":0.2}},\"type\":\"histogram\"}],\"scattergl\":[{\"type\":\"scattergl\",\"marker\":{\"colorbar\":{\"outlinewidth\":0,\"ticks\":\"\"}}}],\"scatter3d\":[{\"type\":\"scatter3d\",\"line\":{\"colorbar\":{\"outlinewidth\":0,\"ticks\":\"\"}},\"marker\":{\"colorbar\":{\"outlinewidth\":0,\"ticks\":\"\"}}}],\"scattermapbox\":[{\"type\":\"scattermapbox\",\"marker\":{\"colorbar\":{\"outlinewidth\":0,\"ticks\":\"\"}}}],\"scatterternary\":[{\"type\":\"scatterternary\",\"marker\":{\"colorbar\":{\"outlinewidth\":0,\"ticks\":\"\"}}}],\"scattercarpet\":[{\"type\":\"scattercarpet\",\"marker\":{\"colorbar\":{\"outlinewidth\":0,\"ticks\":\"\"}}}],\"carpet\":[{\"aaxis\":{\"endlinecolor\":\"#2a3f5f\",\"gridcolor\":\"white\",\"linecolor\":\"white\",\"minorgridcolor\":\"white\",\"startlinecolor\":\"#2a3f5f\"},\"baxis\":{\"endlinecolor\":\"#2a3f5f\",\"gridcolor\":\"white\",\"linecolor\":\"white\",\"minorgridcolor\":\"white\",\"startlinecolor\":\"#2a3f5f\"},\"type\":\"carpet\"}],\"table\":[{\"cells\":{\"fill\":{\"color\":\"#EBF0F8\"},\"line\":{\"color\":\"white\"}},\"header\":{\"fill\":{\"color\":\"#C8D4E3\"},\"line\":{\"color\":\"white\"}},\"type\":\"table\"}],\"barpolar\":[{\"marker\":{\"line\":{\"color\":\"#E5ECF6\",\"width\":0.5},\"pattern\":{\"fillmode\":\"overlay\",\"size\":10,\"solidity\":0.2}},\"type\":\"barpolar\"}],\"pie\":[{\"automargin\":true,\"type\":\"pie\"}]},\"layout\":{\"autotypenumbers\":\"strict\",\"colorway\":[\"#636efa\",\"#EF553B\",\"#00cc96\",\"#ab63fa\",\"#FFA15A\",\"#19d3f3\",\"#FF6692\",\"#B6E880\",\"#FF97FF\",\"#FECB52\"],\"font\":{\"color\":\"#2a3f5f\"},\"hovermode\":\"closest\",\"hoverlabel\":{\"align\":\"left\"},\"paper_bgcolor\":\"white\",\"plot_bgcolor\":\"#E5ECF6\",\"polar\":{\"bgcolor\":\"#E5ECF6\",\"angularaxis\":{\"gridcolor\":\"white\",\"linecolor\":\"white\",\"ticks\":\"\"},\"radialaxis\":{\"gridcolor\":\"white\",\"linecolor\":\"white\",\"ticks\":\"\"}},\"ternary\":{\"bgcolor\":\"#E5ECF6\",\"aaxis\":{\"gridcolor\":\"white\",\"linecolor\":\"white\",\"ticks\":\"\"},\"baxis\":{\"gridcolor\":\"white\",\"linecolor\":\"white\",\"ticks\":\"\"},\"caxis\":{\"gridcolor\":\"white\",\"linecolor\":\"white\",\"ticks\":\"\"}},\"coloraxis\":{\"colorbar\":{\"outlinewidth\":0,\"ticks\":\"\"}},\"colorscale\":{\"sequential\":[[0.0,\"#0d0887\"],[0.1111111111111111,\"#46039f\"],[0.2222222222222222,\"#7201a8\"],[0.3333333333333333,\"#9c179e\"],[0.4444444444444444,\"#bd3786\"],[0.5555555555555556,\"#d8576b\"],[0.6666666666666666,\"#ed7953\"],[0.7777777777777778,\"#fb9f3a\"],[0.8888888888888888,\"#fdca26\"],[1.0,\"#f0f921\"]],\"sequentialminus\":[[0.0,\"#0d0887\"],[0.1111111111111111,\"#46039f\"],[0.2222222222222222,\"#7201a8\"],[0.3333333333333333,\"#9c179e\"],[0.4444444444444444,\"#bd3786\"],[0.5555555555555556,\"#d8576b\"],[0.6666666666666666,\"#ed7953\"],[0.7777777777777778,\"#fb9f3a\"],[0.8888888888888888,\"#fdca26\"],[1.0,\"#f0f921\"]],\"diverging\":[[0,\"#8e0152\"],[0.1,\"#c51b7d\"],[0.2,\"#de77ae\"],[0.3,\"#f1b6da\"],[0.4,\"#fde0ef\"],[0.5,\"#f7f7f7\"],[0.6,\"#e6f5d0\"],[0.7,\"#b8e186\"],[0.8,\"#7fbc41\"],[0.9,\"#4d9221\"],[1,\"#276419\"]]},\"xaxis\":{\"gridcolor\":\"white\",\"linecolor\":\"white\",\"ticks\":\"\",\"title\":{\"standoff\":15},\"zerolinecolor\":\"white\",\"automargin\":true,\"zerolinewidth\":2},\"yaxis\":{\"gridcolor\":\"white\",\"linecolor\":\"white\",\"ticks\":\"\",\"title\":{\"standoff\":15},\"zerolinecolor\":\"white\",\"automargin\":true,\"zerolinewidth\":2},\"scene\":{\"xaxis\":{\"backgroundcolor\":\"#E5ECF6\",\"gridcolor\":\"white\",\"linecolor\":\"white\",\"showbackground\":true,\"ticks\":\"\",\"zerolinecolor\":\"white\",\"gridwidth\":2},\"yaxis\":{\"backgroundcolor\":\"#E5ECF6\",\"gridcolor\":\"white\",\"linecolor\":\"white\",\"showbackground\":true,\"ticks\":\"\",\"zerolinecolor\":\"white\",\"gridwidth\":2},\"zaxis\":{\"backgroundcolor\":\"#E5ECF6\",\"gridcolor\":\"white\",\"linecolor\":\"white\",\"showbackground\":true,\"ticks\":\"\",\"zerolinecolor\":\"white\",\"gridwidth\":2}},\"shapedefaults\":{\"line\":{\"color\":\"#2a3f5f\"}},\"annotationdefaults\":{\"arrowcolor\":\"#2a3f5f\",\"arrowhead\":0,\"arrowwidth\":1},\"geo\":{\"bgcolor\":\"white\",\"landcolor\":\"#E5ECF6\",\"subunitcolor\":\"white\",\"showland\":true,\"showlakes\":true,\"lakecolor\":\"white\"},\"title\":{\"x\":0.05},\"mapbox\":{\"style\":\"light\"}}}},                        {\"responsive\": true}                    ).then(function(){\n",
       "                            \n",
       "var gd = document.getElementById('a90486b0-292e-4bd8-908e-21cfa894609e');\n",
       "var x = new MutationObserver(function (mutations, observer) {{\n",
       "        var display = window.getComputedStyle(gd).display;\n",
       "        if (!display || display === 'none') {{\n",
       "            console.log([gd, 'removed!']);\n",
       "            Plotly.purge(gd);\n",
       "            observer.disconnect();\n",
       "        }}\n",
       "}});\n",
       "\n",
       "// Listen for the removal of the full notebook cells\n",
       "var notebookContainer = gd.closest('#notebook-container');\n",
       "if (notebookContainer) {{\n",
       "    x.observe(notebookContainer, {childList: true});\n",
       "}}\n",
       "\n",
       "// Listen for the clearing of the current output cell\n",
       "var outputEl = gd.closest('.output');\n",
       "if (outputEl) {{\n",
       "    x.observe(outputEl, {childList: true});\n",
       "}}\n",
       "\n",
       "                        })                };                });            </script>        </div>"
      ]
     },
     "metadata": {},
     "output_type": "display_data"
    }
   ],
   "source": [
    "optuna.visualization.plot_optimization_history(study_1)"
   ]
  },
  {
   "cell_type": "code",
   "execution_count": null,
   "metadata": {
    "colab": {
     "base_uri": "https://localhost:8080/",
     "height": 542
    },
    "id": "rAXxLFt5v6L3",
    "outputId": "e927ce1a-c454-4ddd-8a5b-c4c0c5b2dacf"
   },
   "outputs": [
    {
     "data": {
      "application/vnd.plotly.v1+json": {
       "config": {
        "plotlyServerURL": "https://plot.ly"
       },
       "data": [
        {
         "marker": {
          "color": [
           0,
           1,
           2,
           3,
           4,
           5,
           6,
           7,
           8,
           9,
           10,
           11,
           12,
           13,
           14,
           15
          ],
          "colorbar": {
           "title": {
            "text": "Trial"
           },
           "x": 1,
           "xpad": 40
          },
          "colorscale": [
           [
            0,
            "rgb(247,251,255)"
           ],
           [
            0.125,
            "rgb(222,235,247)"
           ],
           [
            0.25,
            "rgb(198,219,239)"
           ],
           [
            0.375,
            "rgb(158,202,225)"
           ],
           [
            0.5,
            "rgb(107,174,214)"
           ],
           [
            0.625,
            "rgb(66,146,198)"
           ],
           [
            0.75,
            "rgb(33,113,181)"
           ],
           [
            0.875,
            "rgb(8,81,156)"
           ],
           [
            1,
            "rgb(8,48,107)"
           ]
          ],
          "line": {
           "color": "Grey",
           "width": 0.5
          },
          "showscale": true
         },
         "mode": "markers",
         "showlegend": false,
         "type": "scatter",
         "x": [
          "entropy",
          "entropy",
          "entropy",
          "entropy",
          "entropy",
          "entropy",
          "gini",
          "entropy",
          "gini",
          "entropy",
          "gini",
          "gini",
          "gini",
          "gini",
          "gini",
          "gini"
         ],
         "xaxis": "x",
         "y": [
          0.6126824254881809,
          0.579393627954779,
          0.6095477903391573,
          0.6256628982528263,
          0.625601233299075,
          0.5914799588900308,
          0.6006063720452209,
          0.6035971223021582,
          0.5757142857142857,
          0.5644090441932168,
          0.630524152106886,
          0.628879753340185,
          0.6306577595066803,
          0.623792394655704,
          0.6263103802672148,
          0.6296813977389517
         ],
         "yaxis": "y"
        },
        {
         "marker": {
          "color": [
           0,
           1,
           2,
           3,
           4,
           5,
           6,
           7,
           8,
           9,
           10,
           11,
           12,
           13,
           14,
           15
          ],
          "colorbar": {
           "title": {
            "text": "Trial"
           },
           "x": 1,
           "xpad": 40
          },
          "colorscale": [
           [
            0,
            "rgb(247,251,255)"
           ],
           [
            0.125,
            "rgb(222,235,247)"
           ],
           [
            0.25,
            "rgb(198,219,239)"
           ],
           [
            0.375,
            "rgb(158,202,225)"
           ],
           [
            0.5,
            "rgb(107,174,214)"
           ],
           [
            0.625,
            "rgb(66,146,198)"
           ],
           [
            0.75,
            "rgb(33,113,181)"
           ],
           [
            0.875,
            "rgb(8,81,156)"
           ],
           [
            1,
            "rgb(8,48,107)"
           ]
          ],
          "line": {
           "color": "Grey",
           "width": 0.5
          },
          "showscale": false
         },
         "mode": "markers",
         "showlegend": false,
         "type": "scatter",
         "x": [
          9,
          3,
          12,
          15,
          12,
          4,
          8,
          7,
          4,
          2,
          16,
          16,
          16,
          13,
          14,
          16
         ],
         "xaxis": "x2",
         "y": [
          0.6126824254881809,
          0.579393627954779,
          0.6095477903391573,
          0.6256628982528263,
          0.625601233299075,
          0.5914799588900308,
          0.6006063720452209,
          0.6035971223021582,
          0.5757142857142857,
          0.5644090441932168,
          0.630524152106886,
          0.628879753340185,
          0.6306577595066803,
          0.623792394655704,
          0.6263103802672148,
          0.6296813977389517
         ],
         "yaxis": "y2"
        },
        {
         "marker": {
          "color": [
           0,
           1,
           2,
           3,
           4,
           5,
           6,
           7,
           8,
           9,
           10,
           11,
           12,
           13,
           14,
           15
          ],
          "colorbar": {
           "title": {
            "text": "Trial"
           },
           "x": 1,
           "xpad": 40
          },
          "colorscale": [
           [
            0,
            "rgb(247,251,255)"
           ],
           [
            0.125,
            "rgb(222,235,247)"
           ],
           [
            0.25,
            "rgb(198,219,239)"
           ],
           [
            0.375,
            "rgb(158,202,225)"
           ],
           [
            0.5,
            "rgb(107,174,214)"
           ],
           [
            0.625,
            "rgb(66,146,198)"
           ],
           [
            0.75,
            "rgb(33,113,181)"
           ],
           [
            0.875,
            "rgb(8,81,156)"
           ],
           [
            1,
            "rgb(8,48,107)"
           ]
          ],
          "line": {
           "color": "Grey",
           "width": 0.5
          },
          "showscale": false
         },
         "mode": "markers",
         "showlegend": false,
         "type": "scatter",
         "x": [
          6,
          5,
          2,
          5,
          2,
          5,
          2,
          4,
          7,
          5,
          8,
          8,
          8,
          8,
          7,
          7
         ],
         "xaxis": "x3",
         "y": [
          0.6126824254881809,
          0.579393627954779,
          0.6095477903391573,
          0.6256628982528263,
          0.625601233299075,
          0.5914799588900308,
          0.6006063720452209,
          0.6035971223021582,
          0.5757142857142857,
          0.5644090441932168,
          0.630524152106886,
          0.628879753340185,
          0.6306577595066803,
          0.623792394655704,
          0.6263103802672148,
          0.6296813977389517
         ],
         "yaxis": "y3"
        },
        {
         "marker": {
          "color": [
           0,
           1,
           2,
           3,
           4,
           5,
           6,
           7,
           8,
           9,
           10,
           11,
           12,
           13,
           14,
           15
          ],
          "colorbar": {
           "title": {
            "text": "Trial"
           },
           "x": 1,
           "xpad": 40
          },
          "colorscale": [
           [
            0,
            "rgb(247,251,255)"
           ],
           [
            0.125,
            "rgb(222,235,247)"
           ],
           [
            0.25,
            "rgb(198,219,239)"
           ],
           [
            0.375,
            "rgb(158,202,225)"
           ],
           [
            0.5,
            "rgb(107,174,214)"
           ],
           [
            0.625,
            "rgb(66,146,198)"
           ],
           [
            0.75,
            "rgb(33,113,181)"
           ],
           [
            0.875,
            "rgb(8,81,156)"
           ],
           [
            1,
            "rgb(8,48,107)"
           ]
          ],
          "line": {
           "color": "Grey",
           "width": 0.5
          },
          "showscale": false
         },
         "mode": "markers",
         "showlegend": false,
         "type": "scatter",
         "x": [
          7,
          3,
          5,
          3,
          4,
          2,
          2,
          3,
          2,
          4,
          7,
          8,
          8,
          7,
          8,
          6
         ],
         "xaxis": "x4",
         "y": [
          0.6126824254881809,
          0.579393627954779,
          0.6095477903391573,
          0.6256628982528263,
          0.625601233299075,
          0.5914799588900308,
          0.6006063720452209,
          0.6035971223021582,
          0.5757142857142857,
          0.5644090441932168,
          0.630524152106886,
          0.628879753340185,
          0.6306577595066803,
          0.623792394655704,
          0.6263103802672148,
          0.6296813977389517
         ],
         "yaxis": "y4"
        },
        {
         "marker": {
          "color": [
           0,
           1,
           2,
           3,
           4,
           5,
           6,
           7,
           8,
           9,
           10,
           11,
           12,
           13,
           14,
           15
          ],
          "colorbar": {
           "title": {
            "text": "Trial"
           },
           "x": 1,
           "xpad": 40
          },
          "colorscale": [
           [
            0,
            "rgb(247,251,255)"
           ],
           [
            0.125,
            "rgb(222,235,247)"
           ],
           [
            0.25,
            "rgb(198,219,239)"
           ],
           [
            0.375,
            "rgb(158,202,225)"
           ],
           [
            0.5,
            "rgb(107,174,214)"
           ],
           [
            0.625,
            "rgb(66,146,198)"
           ],
           [
            0.75,
            "rgb(33,113,181)"
           ],
           [
            0.875,
            "rgb(8,81,156)"
           ],
           [
            1,
            "rgb(8,48,107)"
           ]
          ],
          "line": {
           "color": "Grey",
           "width": 0.5
          },
          "showscale": false
         },
         "mode": "markers",
         "showlegend": false,
         "type": "scatter",
         "x": [
          12,
          28,
          8,
          17,
          31,
          31,
          8,
          17,
          12,
          12,
          23,
          23,
          24,
          24,
          24,
          20
         ],
         "xaxis": "x5",
         "y": [
          0.6126824254881809,
          0.579393627954779,
          0.6095477903391573,
          0.6256628982528263,
          0.625601233299075,
          0.5914799588900308,
          0.6006063720452209,
          0.6035971223021582,
          0.5757142857142857,
          0.5644090441932168,
          0.630524152106886,
          0.628879753340185,
          0.6306577595066803,
          0.623792394655704,
          0.6263103802672148,
          0.6296813977389517
         ],
         "yaxis": "y5"
        }
       ],
       "layout": {
        "template": {
         "data": {
          "bar": [
           {
            "error_x": {
             "color": "#2a3f5f"
            },
            "error_y": {
             "color": "#2a3f5f"
            },
            "marker": {
             "line": {
              "color": "#E5ECF6",
              "width": 0.5
             },
             "pattern": {
              "fillmode": "overlay",
              "size": 10,
              "solidity": 0.2
             }
            },
            "type": "bar"
           }
          ],
          "barpolar": [
           {
            "marker": {
             "line": {
              "color": "#E5ECF6",
              "width": 0.5
             },
             "pattern": {
              "fillmode": "overlay",
              "size": 10,
              "solidity": 0.2
             }
            },
            "type": "barpolar"
           }
          ],
          "carpet": [
           {
            "aaxis": {
             "endlinecolor": "#2a3f5f",
             "gridcolor": "white",
             "linecolor": "white",
             "minorgridcolor": "white",
             "startlinecolor": "#2a3f5f"
            },
            "baxis": {
             "endlinecolor": "#2a3f5f",
             "gridcolor": "white",
             "linecolor": "white",
             "minorgridcolor": "white",
             "startlinecolor": "#2a3f5f"
            },
            "type": "carpet"
           }
          ],
          "choropleth": [
           {
            "colorbar": {
             "outlinewidth": 0,
             "ticks": ""
            },
            "type": "choropleth"
           }
          ],
          "contour": [
           {
            "colorbar": {
             "outlinewidth": 0,
             "ticks": ""
            },
            "colorscale": [
             [
              0,
              "#0d0887"
             ],
             [
              0.1111111111111111,
              "#46039f"
             ],
             [
              0.2222222222222222,
              "#7201a8"
             ],
             [
              0.3333333333333333,
              "#9c179e"
             ],
             [
              0.4444444444444444,
              "#bd3786"
             ],
             [
              0.5555555555555556,
              "#d8576b"
             ],
             [
              0.6666666666666666,
              "#ed7953"
             ],
             [
              0.7777777777777778,
              "#fb9f3a"
             ],
             [
              0.8888888888888888,
              "#fdca26"
             ],
             [
              1,
              "#f0f921"
             ]
            ],
            "type": "contour"
           }
          ],
          "contourcarpet": [
           {
            "colorbar": {
             "outlinewidth": 0,
             "ticks": ""
            },
            "type": "contourcarpet"
           }
          ],
          "heatmap": [
           {
            "colorbar": {
             "outlinewidth": 0,
             "ticks": ""
            },
            "colorscale": [
             [
              0,
              "#0d0887"
             ],
             [
              0.1111111111111111,
              "#46039f"
             ],
             [
              0.2222222222222222,
              "#7201a8"
             ],
             [
              0.3333333333333333,
              "#9c179e"
             ],
             [
              0.4444444444444444,
              "#bd3786"
             ],
             [
              0.5555555555555556,
              "#d8576b"
             ],
             [
              0.6666666666666666,
              "#ed7953"
             ],
             [
              0.7777777777777778,
              "#fb9f3a"
             ],
             [
              0.8888888888888888,
              "#fdca26"
             ],
             [
              1,
              "#f0f921"
             ]
            ],
            "type": "heatmap"
           }
          ],
          "heatmapgl": [
           {
            "colorbar": {
             "outlinewidth": 0,
             "ticks": ""
            },
            "colorscale": [
             [
              0,
              "#0d0887"
             ],
             [
              0.1111111111111111,
              "#46039f"
             ],
             [
              0.2222222222222222,
              "#7201a8"
             ],
             [
              0.3333333333333333,
              "#9c179e"
             ],
             [
              0.4444444444444444,
              "#bd3786"
             ],
             [
              0.5555555555555556,
              "#d8576b"
             ],
             [
              0.6666666666666666,
              "#ed7953"
             ],
             [
              0.7777777777777778,
              "#fb9f3a"
             ],
             [
              0.8888888888888888,
              "#fdca26"
             ],
             [
              1,
              "#f0f921"
             ]
            ],
            "type": "heatmapgl"
           }
          ],
          "histogram": [
           {
            "marker": {
             "pattern": {
              "fillmode": "overlay",
              "size": 10,
              "solidity": 0.2
             }
            },
            "type": "histogram"
           }
          ],
          "histogram2d": [
           {
            "colorbar": {
             "outlinewidth": 0,
             "ticks": ""
            },
            "colorscale": [
             [
              0,
              "#0d0887"
             ],
             [
              0.1111111111111111,
              "#46039f"
             ],
             [
              0.2222222222222222,
              "#7201a8"
             ],
             [
              0.3333333333333333,
              "#9c179e"
             ],
             [
              0.4444444444444444,
              "#bd3786"
             ],
             [
              0.5555555555555556,
              "#d8576b"
             ],
             [
              0.6666666666666666,
              "#ed7953"
             ],
             [
              0.7777777777777778,
              "#fb9f3a"
             ],
             [
              0.8888888888888888,
              "#fdca26"
             ],
             [
              1,
              "#f0f921"
             ]
            ],
            "type": "histogram2d"
           }
          ],
          "histogram2dcontour": [
           {
            "colorbar": {
             "outlinewidth": 0,
             "ticks": ""
            },
            "colorscale": [
             [
              0,
              "#0d0887"
             ],
             [
              0.1111111111111111,
              "#46039f"
             ],
             [
              0.2222222222222222,
              "#7201a8"
             ],
             [
              0.3333333333333333,
              "#9c179e"
             ],
             [
              0.4444444444444444,
              "#bd3786"
             ],
             [
              0.5555555555555556,
              "#d8576b"
             ],
             [
              0.6666666666666666,
              "#ed7953"
             ],
             [
              0.7777777777777778,
              "#fb9f3a"
             ],
             [
              0.8888888888888888,
              "#fdca26"
             ],
             [
              1,
              "#f0f921"
             ]
            ],
            "type": "histogram2dcontour"
           }
          ],
          "mesh3d": [
           {
            "colorbar": {
             "outlinewidth": 0,
             "ticks": ""
            },
            "type": "mesh3d"
           }
          ],
          "parcoords": [
           {
            "line": {
             "colorbar": {
              "outlinewidth": 0,
              "ticks": ""
             }
            },
            "type": "parcoords"
           }
          ],
          "pie": [
           {
            "automargin": true,
            "type": "pie"
           }
          ],
          "scatter": [
           {
            "fillpattern": {
             "fillmode": "overlay",
             "size": 10,
             "solidity": 0.2
            },
            "type": "scatter"
           }
          ],
          "scatter3d": [
           {
            "line": {
             "colorbar": {
              "outlinewidth": 0,
              "ticks": ""
             }
            },
            "marker": {
             "colorbar": {
              "outlinewidth": 0,
              "ticks": ""
             }
            },
            "type": "scatter3d"
           }
          ],
          "scattercarpet": [
           {
            "marker": {
             "colorbar": {
              "outlinewidth": 0,
              "ticks": ""
             }
            },
            "type": "scattercarpet"
           }
          ],
          "scattergeo": [
           {
            "marker": {
             "colorbar": {
              "outlinewidth": 0,
              "ticks": ""
             }
            },
            "type": "scattergeo"
           }
          ],
          "scattergl": [
           {
            "marker": {
             "colorbar": {
              "outlinewidth": 0,
              "ticks": ""
             }
            },
            "type": "scattergl"
           }
          ],
          "scattermapbox": [
           {
            "marker": {
             "colorbar": {
              "outlinewidth": 0,
              "ticks": ""
             }
            },
            "type": "scattermapbox"
           }
          ],
          "scatterpolar": [
           {
            "marker": {
             "colorbar": {
              "outlinewidth": 0,
              "ticks": ""
             }
            },
            "type": "scatterpolar"
           }
          ],
          "scatterpolargl": [
           {
            "marker": {
             "colorbar": {
              "outlinewidth": 0,
              "ticks": ""
             }
            },
            "type": "scatterpolargl"
           }
          ],
          "scatterternary": [
           {
            "marker": {
             "colorbar": {
              "outlinewidth": 0,
              "ticks": ""
             }
            },
            "type": "scatterternary"
           }
          ],
          "surface": [
           {
            "colorbar": {
             "outlinewidth": 0,
             "ticks": ""
            },
            "colorscale": [
             [
              0,
              "#0d0887"
             ],
             [
              0.1111111111111111,
              "#46039f"
             ],
             [
              0.2222222222222222,
              "#7201a8"
             ],
             [
              0.3333333333333333,
              "#9c179e"
             ],
             [
              0.4444444444444444,
              "#bd3786"
             ],
             [
              0.5555555555555556,
              "#d8576b"
             ],
             [
              0.6666666666666666,
              "#ed7953"
             ],
             [
              0.7777777777777778,
              "#fb9f3a"
             ],
             [
              0.8888888888888888,
              "#fdca26"
             ],
             [
              1,
              "#f0f921"
             ]
            ],
            "type": "surface"
           }
          ],
          "table": [
           {
            "cells": {
             "fill": {
              "color": "#EBF0F8"
             },
             "line": {
              "color": "white"
             }
            },
            "header": {
             "fill": {
              "color": "#C8D4E3"
             },
             "line": {
              "color": "white"
             }
            },
            "type": "table"
           }
          ]
         },
         "layout": {
          "annotationdefaults": {
           "arrowcolor": "#2a3f5f",
           "arrowhead": 0,
           "arrowwidth": 1
          },
          "autotypenumbers": "strict",
          "coloraxis": {
           "colorbar": {
            "outlinewidth": 0,
            "ticks": ""
           }
          },
          "colorscale": {
           "diverging": [
            [
             0,
             "#8e0152"
            ],
            [
             0.1,
             "#c51b7d"
            ],
            [
             0.2,
             "#de77ae"
            ],
            [
             0.3,
             "#f1b6da"
            ],
            [
             0.4,
             "#fde0ef"
            ],
            [
             0.5,
             "#f7f7f7"
            ],
            [
             0.6,
             "#e6f5d0"
            ],
            [
             0.7,
             "#b8e186"
            ],
            [
             0.8,
             "#7fbc41"
            ],
            [
             0.9,
             "#4d9221"
            ],
            [
             1,
             "#276419"
            ]
           ],
           "sequential": [
            [
             0,
             "#0d0887"
            ],
            [
             0.1111111111111111,
             "#46039f"
            ],
            [
             0.2222222222222222,
             "#7201a8"
            ],
            [
             0.3333333333333333,
             "#9c179e"
            ],
            [
             0.4444444444444444,
             "#bd3786"
            ],
            [
             0.5555555555555556,
             "#d8576b"
            ],
            [
             0.6666666666666666,
             "#ed7953"
            ],
            [
             0.7777777777777778,
             "#fb9f3a"
            ],
            [
             0.8888888888888888,
             "#fdca26"
            ],
            [
             1,
             "#f0f921"
            ]
           ],
           "sequentialminus": [
            [
             0,
             "#0d0887"
            ],
            [
             0.1111111111111111,
             "#46039f"
            ],
            [
             0.2222222222222222,
             "#7201a8"
            ],
            [
             0.3333333333333333,
             "#9c179e"
            ],
            [
             0.4444444444444444,
             "#bd3786"
            ],
            [
             0.5555555555555556,
             "#d8576b"
            ],
            [
             0.6666666666666666,
             "#ed7953"
            ],
            [
             0.7777777777777778,
             "#fb9f3a"
            ],
            [
             0.8888888888888888,
             "#fdca26"
            ],
            [
             1,
             "#f0f921"
            ]
           ]
          },
          "colorway": [
           "#636efa",
           "#EF553B",
           "#00cc96",
           "#ab63fa",
           "#FFA15A",
           "#19d3f3",
           "#FF6692",
           "#B6E880",
           "#FF97FF",
           "#FECB52"
          ],
          "font": {
           "color": "#2a3f5f"
          },
          "geo": {
           "bgcolor": "white",
           "lakecolor": "white",
           "landcolor": "#E5ECF6",
           "showlakes": true,
           "showland": true,
           "subunitcolor": "white"
          },
          "hoverlabel": {
           "align": "left"
          },
          "hovermode": "closest",
          "mapbox": {
           "style": "light"
          },
          "paper_bgcolor": "white",
          "plot_bgcolor": "#E5ECF6",
          "polar": {
           "angularaxis": {
            "gridcolor": "white",
            "linecolor": "white",
            "ticks": ""
           },
           "bgcolor": "#E5ECF6",
           "radialaxis": {
            "gridcolor": "white",
            "linecolor": "white",
            "ticks": ""
           }
          },
          "scene": {
           "xaxis": {
            "backgroundcolor": "#E5ECF6",
            "gridcolor": "white",
            "gridwidth": 2,
            "linecolor": "white",
            "showbackground": true,
            "ticks": "",
            "zerolinecolor": "white"
           },
           "yaxis": {
            "backgroundcolor": "#E5ECF6",
            "gridcolor": "white",
            "gridwidth": 2,
            "linecolor": "white",
            "showbackground": true,
            "ticks": "",
            "zerolinecolor": "white"
           },
           "zaxis": {
            "backgroundcolor": "#E5ECF6",
            "gridcolor": "white",
            "gridwidth": 2,
            "linecolor": "white",
            "showbackground": true,
            "ticks": "",
            "zerolinecolor": "white"
           }
          },
          "shapedefaults": {
           "line": {
            "color": "#2a3f5f"
           }
          },
          "ternary": {
           "aaxis": {
            "gridcolor": "white",
            "linecolor": "white",
            "ticks": ""
           },
           "baxis": {
            "gridcolor": "white",
            "linecolor": "white",
            "ticks": ""
           },
           "bgcolor": "#E5ECF6",
           "caxis": {
            "gridcolor": "white",
            "linecolor": "white",
            "ticks": ""
           }
          },
          "title": {
           "x": 0.05
          },
          "xaxis": {
           "automargin": true,
           "gridcolor": "white",
           "linecolor": "white",
           "ticks": "",
           "title": {
            "standoff": 15
           },
           "zerolinecolor": "white",
           "zerolinewidth": 2
          },
          "yaxis": {
           "automargin": true,
           "gridcolor": "white",
           "linecolor": "white",
           "ticks": "",
           "title": {
            "standoff": 15
           },
           "zerolinecolor": "white",
           "zerolinewidth": 2
          }
         }
        },
        "title": {
         "text": "Slice Plot"
        },
        "width": 1500,
        "xaxis": {
         "anchor": "y",
         "domain": [
          0,
          0.16799999999999998
         ],
         "title": {
          "text": "criterion"
         }
        },
        "xaxis2": {
         "anchor": "y2",
         "domain": [
          0.208,
          0.376
         ],
         "title": {
          "text": "max_depth"
         }
        },
        "xaxis3": {
         "anchor": "y3",
         "domain": [
          0.416,
          0.584
         ],
         "title": {
          "text": "min_samples_leaf"
         }
        },
        "xaxis4": {
         "anchor": "y4",
         "domain": [
          0.624,
          0.792
         ],
         "title": {
          "text": "min_samples_split"
         }
        },
        "xaxis5": {
         "anchor": "y5",
         "domain": [
          0.832,
          1
         ],
         "title": {
          "text": "n_estimators"
         }
        },
        "yaxis": {
         "anchor": "x",
         "domain": [
          0,
          1
         ],
         "title": {
          "text": "Objective Value"
         }
        },
        "yaxis2": {
         "anchor": "x2",
         "domain": [
          0,
          1
         ],
         "matches": "y",
         "showticklabels": false
        },
        "yaxis3": {
         "anchor": "x3",
         "domain": [
          0,
          1
         ],
         "matches": "y",
         "showticklabels": false
        },
        "yaxis4": {
         "anchor": "x4",
         "domain": [
          0,
          1
         ],
         "matches": "y",
         "showticklabels": false
        },
        "yaxis5": {
         "anchor": "x5",
         "domain": [
          0,
          1
         ],
         "matches": "y",
         "showticklabels": false
        }
       }
      },
      "text/html": [
       "<div>                            <div id=\"0f62d98c-30c0-4f39-80c0-2ced1dc8cd47\" class=\"plotly-graph-div\" style=\"height:525px; width:1500px;\"></div>            <script type=\"text/javascript\">                require([\"plotly\"], function(Plotly) {                    window.PLOTLYENV=window.PLOTLYENV || {};                                    if (document.getElementById(\"0f62d98c-30c0-4f39-80c0-2ced1dc8cd47\")) {                    Plotly.newPlot(                        \"0f62d98c-30c0-4f39-80c0-2ced1dc8cd47\",                        [{\"marker\":{\"color\":[0,1,2,3,4,5,6,7,8,9,10,11,12,13,14,15],\"colorbar\":{\"title\":{\"text\":\"Trial\"},\"x\":1.0,\"xpad\":40},\"colorscale\":[[0.0,\"rgb(247,251,255)\"],[0.125,\"rgb(222,235,247)\"],[0.25,\"rgb(198,219,239)\"],[0.375,\"rgb(158,202,225)\"],[0.5,\"rgb(107,174,214)\"],[0.625,\"rgb(66,146,198)\"],[0.75,\"rgb(33,113,181)\"],[0.875,\"rgb(8,81,156)\"],[1.0,\"rgb(8,48,107)\"]],\"line\":{\"color\":\"Grey\",\"width\":0.5},\"showscale\":true},\"mode\":\"markers\",\"showlegend\":false,\"x\":[\"entropy\",\"entropy\",\"entropy\",\"entropy\",\"entropy\",\"entropy\",\"gini\",\"entropy\",\"gini\",\"entropy\",\"gini\",\"gini\",\"gini\",\"gini\",\"gini\",\"gini\"],\"y\":[0.6126824254881809,0.579393627954779,0.6095477903391573,0.6256628982528263,0.625601233299075,0.5914799588900308,0.6006063720452209,0.6035971223021582,0.5757142857142857,0.5644090441932168,0.630524152106886,0.628879753340185,0.6306577595066803,0.623792394655704,0.6263103802672148,0.6296813977389517],\"type\":\"scatter\",\"xaxis\":\"x\",\"yaxis\":\"y\"},{\"marker\":{\"color\":[0,1,2,3,4,5,6,7,8,9,10,11,12,13,14,15],\"colorbar\":{\"title\":{\"text\":\"Trial\"},\"x\":1.0,\"xpad\":40},\"colorscale\":[[0.0,\"rgb(247,251,255)\"],[0.125,\"rgb(222,235,247)\"],[0.25,\"rgb(198,219,239)\"],[0.375,\"rgb(158,202,225)\"],[0.5,\"rgb(107,174,214)\"],[0.625,\"rgb(66,146,198)\"],[0.75,\"rgb(33,113,181)\"],[0.875,\"rgb(8,81,156)\"],[1.0,\"rgb(8,48,107)\"]],\"line\":{\"color\":\"Grey\",\"width\":0.5},\"showscale\":false},\"mode\":\"markers\",\"showlegend\":false,\"x\":[9,3,12,15,12,4,8,7,4,2,16,16,16,13,14,16],\"y\":[0.6126824254881809,0.579393627954779,0.6095477903391573,0.6256628982528263,0.625601233299075,0.5914799588900308,0.6006063720452209,0.6035971223021582,0.5757142857142857,0.5644090441932168,0.630524152106886,0.628879753340185,0.6306577595066803,0.623792394655704,0.6263103802672148,0.6296813977389517],\"type\":\"scatter\",\"xaxis\":\"x2\",\"yaxis\":\"y2\"},{\"marker\":{\"color\":[0,1,2,3,4,5,6,7,8,9,10,11,12,13,14,15],\"colorbar\":{\"title\":{\"text\":\"Trial\"},\"x\":1.0,\"xpad\":40},\"colorscale\":[[0.0,\"rgb(247,251,255)\"],[0.125,\"rgb(222,235,247)\"],[0.25,\"rgb(198,219,239)\"],[0.375,\"rgb(158,202,225)\"],[0.5,\"rgb(107,174,214)\"],[0.625,\"rgb(66,146,198)\"],[0.75,\"rgb(33,113,181)\"],[0.875,\"rgb(8,81,156)\"],[1.0,\"rgb(8,48,107)\"]],\"line\":{\"color\":\"Grey\",\"width\":0.5},\"showscale\":false},\"mode\":\"markers\",\"showlegend\":false,\"x\":[6,5,2,5,2,5,2,4,7,5,8,8,8,8,7,7],\"y\":[0.6126824254881809,0.579393627954779,0.6095477903391573,0.6256628982528263,0.625601233299075,0.5914799588900308,0.6006063720452209,0.6035971223021582,0.5757142857142857,0.5644090441932168,0.630524152106886,0.628879753340185,0.6306577595066803,0.623792394655704,0.6263103802672148,0.6296813977389517],\"type\":\"scatter\",\"xaxis\":\"x3\",\"yaxis\":\"y3\"},{\"marker\":{\"color\":[0,1,2,3,4,5,6,7,8,9,10,11,12,13,14,15],\"colorbar\":{\"title\":{\"text\":\"Trial\"},\"x\":1.0,\"xpad\":40},\"colorscale\":[[0.0,\"rgb(247,251,255)\"],[0.125,\"rgb(222,235,247)\"],[0.25,\"rgb(198,219,239)\"],[0.375,\"rgb(158,202,225)\"],[0.5,\"rgb(107,174,214)\"],[0.625,\"rgb(66,146,198)\"],[0.75,\"rgb(33,113,181)\"],[0.875,\"rgb(8,81,156)\"],[1.0,\"rgb(8,48,107)\"]],\"line\":{\"color\":\"Grey\",\"width\":0.5},\"showscale\":false},\"mode\":\"markers\",\"showlegend\":false,\"x\":[7,3,5,3,4,2,2,3,2,4,7,8,8,7,8,6],\"y\":[0.6126824254881809,0.579393627954779,0.6095477903391573,0.6256628982528263,0.625601233299075,0.5914799588900308,0.6006063720452209,0.6035971223021582,0.5757142857142857,0.5644090441932168,0.630524152106886,0.628879753340185,0.6306577595066803,0.623792394655704,0.6263103802672148,0.6296813977389517],\"type\":\"scatter\",\"xaxis\":\"x4\",\"yaxis\":\"y4\"},{\"marker\":{\"color\":[0,1,2,3,4,5,6,7,8,9,10,11,12,13,14,15],\"colorbar\":{\"title\":{\"text\":\"Trial\"},\"x\":1.0,\"xpad\":40},\"colorscale\":[[0.0,\"rgb(247,251,255)\"],[0.125,\"rgb(222,235,247)\"],[0.25,\"rgb(198,219,239)\"],[0.375,\"rgb(158,202,225)\"],[0.5,\"rgb(107,174,214)\"],[0.625,\"rgb(66,146,198)\"],[0.75,\"rgb(33,113,181)\"],[0.875,\"rgb(8,81,156)\"],[1.0,\"rgb(8,48,107)\"]],\"line\":{\"color\":\"Grey\",\"width\":0.5},\"showscale\":false},\"mode\":\"markers\",\"showlegend\":false,\"x\":[12,28,8,17,31,31,8,17,12,12,23,23,24,24,24,20],\"y\":[0.6126824254881809,0.579393627954779,0.6095477903391573,0.6256628982528263,0.625601233299075,0.5914799588900308,0.6006063720452209,0.6035971223021582,0.5757142857142857,0.5644090441932168,0.630524152106886,0.628879753340185,0.6306577595066803,0.623792394655704,0.6263103802672148,0.6296813977389517],\"type\":\"scatter\",\"xaxis\":\"x5\",\"yaxis\":\"y5\"}],                        {\"template\":{\"data\":{\"histogram2dcontour\":[{\"type\":\"histogram2dcontour\",\"colorbar\":{\"outlinewidth\":0,\"ticks\":\"\"},\"colorscale\":[[0.0,\"#0d0887\"],[0.1111111111111111,\"#46039f\"],[0.2222222222222222,\"#7201a8\"],[0.3333333333333333,\"#9c179e\"],[0.4444444444444444,\"#bd3786\"],[0.5555555555555556,\"#d8576b\"],[0.6666666666666666,\"#ed7953\"],[0.7777777777777778,\"#fb9f3a\"],[0.8888888888888888,\"#fdca26\"],[1.0,\"#f0f921\"]]}],\"choropleth\":[{\"type\":\"choropleth\",\"colorbar\":{\"outlinewidth\":0,\"ticks\":\"\"}}],\"histogram2d\":[{\"type\":\"histogram2d\",\"colorbar\":{\"outlinewidth\":0,\"ticks\":\"\"},\"colorscale\":[[0.0,\"#0d0887\"],[0.1111111111111111,\"#46039f\"],[0.2222222222222222,\"#7201a8\"],[0.3333333333333333,\"#9c179e\"],[0.4444444444444444,\"#bd3786\"],[0.5555555555555556,\"#d8576b\"],[0.6666666666666666,\"#ed7953\"],[0.7777777777777778,\"#fb9f3a\"],[0.8888888888888888,\"#fdca26\"],[1.0,\"#f0f921\"]]}],\"heatmap\":[{\"type\":\"heatmap\",\"colorbar\":{\"outlinewidth\":0,\"ticks\":\"\"},\"colorscale\":[[0.0,\"#0d0887\"],[0.1111111111111111,\"#46039f\"],[0.2222222222222222,\"#7201a8\"],[0.3333333333333333,\"#9c179e\"],[0.4444444444444444,\"#bd3786\"],[0.5555555555555556,\"#d8576b\"],[0.6666666666666666,\"#ed7953\"],[0.7777777777777778,\"#fb9f3a\"],[0.8888888888888888,\"#fdca26\"],[1.0,\"#f0f921\"]]}],\"heatmapgl\":[{\"type\":\"heatmapgl\",\"colorbar\":{\"outlinewidth\":0,\"ticks\":\"\"},\"colorscale\":[[0.0,\"#0d0887\"],[0.1111111111111111,\"#46039f\"],[0.2222222222222222,\"#7201a8\"],[0.3333333333333333,\"#9c179e\"],[0.4444444444444444,\"#bd3786\"],[0.5555555555555556,\"#d8576b\"],[0.6666666666666666,\"#ed7953\"],[0.7777777777777778,\"#fb9f3a\"],[0.8888888888888888,\"#fdca26\"],[1.0,\"#f0f921\"]]}],\"contourcarpet\":[{\"type\":\"contourcarpet\",\"colorbar\":{\"outlinewidth\":0,\"ticks\":\"\"}}],\"contour\":[{\"type\":\"contour\",\"colorbar\":{\"outlinewidth\":0,\"ticks\":\"\"},\"colorscale\":[[0.0,\"#0d0887\"],[0.1111111111111111,\"#46039f\"],[0.2222222222222222,\"#7201a8\"],[0.3333333333333333,\"#9c179e\"],[0.4444444444444444,\"#bd3786\"],[0.5555555555555556,\"#d8576b\"],[0.6666666666666666,\"#ed7953\"],[0.7777777777777778,\"#fb9f3a\"],[0.8888888888888888,\"#fdca26\"],[1.0,\"#f0f921\"]]}],\"surface\":[{\"type\":\"surface\",\"colorbar\":{\"outlinewidth\":0,\"ticks\":\"\"},\"colorscale\":[[0.0,\"#0d0887\"],[0.1111111111111111,\"#46039f\"],[0.2222222222222222,\"#7201a8\"],[0.3333333333333333,\"#9c179e\"],[0.4444444444444444,\"#bd3786\"],[0.5555555555555556,\"#d8576b\"],[0.6666666666666666,\"#ed7953\"],[0.7777777777777778,\"#fb9f3a\"],[0.8888888888888888,\"#fdca26\"],[1.0,\"#f0f921\"]]}],\"mesh3d\":[{\"type\":\"mesh3d\",\"colorbar\":{\"outlinewidth\":0,\"ticks\":\"\"}}],\"scatter\":[{\"fillpattern\":{\"fillmode\":\"overlay\",\"size\":10,\"solidity\":0.2},\"type\":\"scatter\"}],\"parcoords\":[{\"type\":\"parcoords\",\"line\":{\"colorbar\":{\"outlinewidth\":0,\"ticks\":\"\"}}}],\"scatterpolargl\":[{\"type\":\"scatterpolargl\",\"marker\":{\"colorbar\":{\"outlinewidth\":0,\"ticks\":\"\"}}}],\"bar\":[{\"error_x\":{\"color\":\"#2a3f5f\"},\"error_y\":{\"color\":\"#2a3f5f\"},\"marker\":{\"line\":{\"color\":\"#E5ECF6\",\"width\":0.5},\"pattern\":{\"fillmode\":\"overlay\",\"size\":10,\"solidity\":0.2}},\"type\":\"bar\"}],\"scattergeo\":[{\"type\":\"scattergeo\",\"marker\":{\"colorbar\":{\"outlinewidth\":0,\"ticks\":\"\"}}}],\"scatterpolar\":[{\"type\":\"scatterpolar\",\"marker\":{\"colorbar\":{\"outlinewidth\":0,\"ticks\":\"\"}}}],\"histogram\":[{\"marker\":{\"pattern\":{\"fillmode\":\"overlay\",\"size\":10,\"solidity\":0.2}},\"type\":\"histogram\"}],\"scattergl\":[{\"type\":\"scattergl\",\"marker\":{\"colorbar\":{\"outlinewidth\":0,\"ticks\":\"\"}}}],\"scatter3d\":[{\"type\":\"scatter3d\",\"line\":{\"colorbar\":{\"outlinewidth\":0,\"ticks\":\"\"}},\"marker\":{\"colorbar\":{\"outlinewidth\":0,\"ticks\":\"\"}}}],\"scattermapbox\":[{\"type\":\"scattermapbox\",\"marker\":{\"colorbar\":{\"outlinewidth\":0,\"ticks\":\"\"}}}],\"scatterternary\":[{\"type\":\"scatterternary\",\"marker\":{\"colorbar\":{\"outlinewidth\":0,\"ticks\":\"\"}}}],\"scattercarpet\":[{\"type\":\"scattercarpet\",\"marker\":{\"colorbar\":{\"outlinewidth\":0,\"ticks\":\"\"}}}],\"carpet\":[{\"aaxis\":{\"endlinecolor\":\"#2a3f5f\",\"gridcolor\":\"white\",\"linecolor\":\"white\",\"minorgridcolor\":\"white\",\"startlinecolor\":\"#2a3f5f\"},\"baxis\":{\"endlinecolor\":\"#2a3f5f\",\"gridcolor\":\"white\",\"linecolor\":\"white\",\"minorgridcolor\":\"white\",\"startlinecolor\":\"#2a3f5f\"},\"type\":\"carpet\"}],\"table\":[{\"cells\":{\"fill\":{\"color\":\"#EBF0F8\"},\"line\":{\"color\":\"white\"}},\"header\":{\"fill\":{\"color\":\"#C8D4E3\"},\"line\":{\"color\":\"white\"}},\"type\":\"table\"}],\"barpolar\":[{\"marker\":{\"line\":{\"color\":\"#E5ECF6\",\"width\":0.5},\"pattern\":{\"fillmode\":\"overlay\",\"size\":10,\"solidity\":0.2}},\"type\":\"barpolar\"}],\"pie\":[{\"automargin\":true,\"type\":\"pie\"}]},\"layout\":{\"autotypenumbers\":\"strict\",\"colorway\":[\"#636efa\",\"#EF553B\",\"#00cc96\",\"#ab63fa\",\"#FFA15A\",\"#19d3f3\",\"#FF6692\",\"#B6E880\",\"#FF97FF\",\"#FECB52\"],\"font\":{\"color\":\"#2a3f5f\"},\"hovermode\":\"closest\",\"hoverlabel\":{\"align\":\"left\"},\"paper_bgcolor\":\"white\",\"plot_bgcolor\":\"#E5ECF6\",\"polar\":{\"bgcolor\":\"#E5ECF6\",\"angularaxis\":{\"gridcolor\":\"white\",\"linecolor\":\"white\",\"ticks\":\"\"},\"radialaxis\":{\"gridcolor\":\"white\",\"linecolor\":\"white\",\"ticks\":\"\"}},\"ternary\":{\"bgcolor\":\"#E5ECF6\",\"aaxis\":{\"gridcolor\":\"white\",\"linecolor\":\"white\",\"ticks\":\"\"},\"baxis\":{\"gridcolor\":\"white\",\"linecolor\":\"white\",\"ticks\":\"\"},\"caxis\":{\"gridcolor\":\"white\",\"linecolor\":\"white\",\"ticks\":\"\"}},\"coloraxis\":{\"colorbar\":{\"outlinewidth\":0,\"ticks\":\"\"}},\"colorscale\":{\"sequential\":[[0.0,\"#0d0887\"],[0.1111111111111111,\"#46039f\"],[0.2222222222222222,\"#7201a8\"],[0.3333333333333333,\"#9c179e\"],[0.4444444444444444,\"#bd3786\"],[0.5555555555555556,\"#d8576b\"],[0.6666666666666666,\"#ed7953\"],[0.7777777777777778,\"#fb9f3a\"],[0.8888888888888888,\"#fdca26\"],[1.0,\"#f0f921\"]],\"sequentialminus\":[[0.0,\"#0d0887\"],[0.1111111111111111,\"#46039f\"],[0.2222222222222222,\"#7201a8\"],[0.3333333333333333,\"#9c179e\"],[0.4444444444444444,\"#bd3786\"],[0.5555555555555556,\"#d8576b\"],[0.6666666666666666,\"#ed7953\"],[0.7777777777777778,\"#fb9f3a\"],[0.8888888888888888,\"#fdca26\"],[1.0,\"#f0f921\"]],\"diverging\":[[0,\"#8e0152\"],[0.1,\"#c51b7d\"],[0.2,\"#de77ae\"],[0.3,\"#f1b6da\"],[0.4,\"#fde0ef\"],[0.5,\"#f7f7f7\"],[0.6,\"#e6f5d0\"],[0.7,\"#b8e186\"],[0.8,\"#7fbc41\"],[0.9,\"#4d9221\"],[1,\"#276419\"]]},\"xaxis\":{\"gridcolor\":\"white\",\"linecolor\":\"white\",\"ticks\":\"\",\"title\":{\"standoff\":15},\"zerolinecolor\":\"white\",\"automargin\":true,\"zerolinewidth\":2},\"yaxis\":{\"gridcolor\":\"white\",\"linecolor\":\"white\",\"ticks\":\"\",\"title\":{\"standoff\":15},\"zerolinecolor\":\"white\",\"automargin\":true,\"zerolinewidth\":2},\"scene\":{\"xaxis\":{\"backgroundcolor\":\"#E5ECF6\",\"gridcolor\":\"white\",\"linecolor\":\"white\",\"showbackground\":true,\"ticks\":\"\",\"zerolinecolor\":\"white\",\"gridwidth\":2},\"yaxis\":{\"backgroundcolor\":\"#E5ECF6\",\"gridcolor\":\"white\",\"linecolor\":\"white\",\"showbackground\":true,\"ticks\":\"\",\"zerolinecolor\":\"white\",\"gridwidth\":2},\"zaxis\":{\"backgroundcolor\":\"#E5ECF6\",\"gridcolor\":\"white\",\"linecolor\":\"white\",\"showbackground\":true,\"ticks\":\"\",\"zerolinecolor\":\"white\",\"gridwidth\":2}},\"shapedefaults\":{\"line\":{\"color\":\"#2a3f5f\"}},\"annotationdefaults\":{\"arrowcolor\":\"#2a3f5f\",\"arrowhead\":0,\"arrowwidth\":1},\"geo\":{\"bgcolor\":\"white\",\"landcolor\":\"#E5ECF6\",\"subunitcolor\":\"white\",\"showland\":true,\"showlakes\":true,\"lakecolor\":\"white\"},\"title\":{\"x\":0.05},\"mapbox\":{\"style\":\"light\"}}},\"xaxis\":{\"anchor\":\"y\",\"domain\":[0.0,0.16799999999999998],\"title\":{\"text\":\"criterion\"}},\"yaxis\":{\"anchor\":\"x\",\"domain\":[0.0,1.0],\"title\":{\"text\":\"Objective Value\"}},\"xaxis2\":{\"anchor\":\"y2\",\"domain\":[0.208,0.376],\"title\":{\"text\":\"max_depth\"}},\"yaxis2\":{\"anchor\":\"x2\",\"domain\":[0.0,1.0],\"matches\":\"y\",\"showticklabels\":false},\"xaxis3\":{\"anchor\":\"y3\",\"domain\":[0.416,0.584],\"title\":{\"text\":\"min_samples_leaf\"}},\"yaxis3\":{\"anchor\":\"x3\",\"domain\":[0.0,1.0],\"matches\":\"y\",\"showticklabels\":false},\"xaxis4\":{\"anchor\":\"y4\",\"domain\":[0.624,0.792],\"title\":{\"text\":\"min_samples_split\"}},\"yaxis4\":{\"anchor\":\"x4\",\"domain\":[0.0,1.0],\"matches\":\"y\",\"showticklabels\":false},\"xaxis5\":{\"anchor\":\"y5\",\"domain\":[0.832,1.0],\"title\":{\"text\":\"n_estimators\"}},\"yaxis5\":{\"anchor\":\"x5\",\"domain\":[0.0,1.0],\"matches\":\"y\",\"showticklabels\":false},\"title\":{\"text\":\"Slice Plot\"},\"width\":1500},                        {\"responsive\": true}                    ).then(function(){\n",
       "                            \n",
       "var gd = document.getElementById('0f62d98c-30c0-4f39-80c0-2ced1dc8cd47');\n",
       "var x = new MutationObserver(function (mutations, observer) {{\n",
       "        var display = window.getComputedStyle(gd).display;\n",
       "        if (!display || display === 'none') {{\n",
       "            console.log([gd, 'removed!']);\n",
       "            Plotly.purge(gd);\n",
       "            observer.disconnect();\n",
       "        }}\n",
       "}});\n",
       "\n",
       "// Listen for the removal of the full notebook cells\n",
       "var notebookContainer = gd.closest('#notebook-container');\n",
       "if (notebookContainer) {{\n",
       "    x.observe(notebookContainer, {childList: true});\n",
       "}}\n",
       "\n",
       "// Listen for the clearing of the current output cell\n",
       "var outputEl = gd.closest('.output');\n",
       "if (outputEl) {{\n",
       "    x.observe(outputEl, {childList: true});\n",
       "}}\n",
       "\n",
       "                        })                };                });            </script>        </div>"
      ]
     },
     "metadata": {},
     "output_type": "display_data"
    }
   ],
   "source": [
    "optuna.visualization.plot_slice(study_1)"
   ]
  },
  {
   "cell_type": "code",
   "execution_count": null,
   "metadata": {
    "colab": {
     "base_uri": "https://localhost:8080/",
     "height": 542
    },
    "id": "5oNSAEGWv8dT",
    "outputId": "a938f345-866e-495c-d6db-e901973838d2"
   },
   "outputs": [
    {
     "data": {
      "application/vnd.plotly.v1+json": {
       "config": {
        "plotlyServerURL": "https://plot.ly"
       },
       "data": [
        {
         "cliponaxis": false,
         "hovertemplate": [
          "criterion (CategoricalDistribution): 0.006124321749597647<extra></extra>",
          "min_samples_leaf (IntDistribution): 0.027476495495566088<extra></extra>",
          "n_estimators (IntDistribution): 0.04071282018068212<extra></extra>",
          "min_samples_split (IntDistribution): 0.0736857905986214<extra></extra>",
          "max_depth (IntDistribution): 0.8520005719755328<extra></extra>"
         ],
         "marker": {
          "color": "rgb(66,146,198)"
         },
         "orientation": "h",
         "text": [
          "<0.01",
          "0.03",
          "0.04",
          "0.07",
          "0.85"
         ],
         "textposition": "outside",
         "type": "bar",
         "x": [
          0.006124321749597647,
          0.027476495495566088,
          0.04071282018068212,
          0.0736857905986214,
          0.8520005719755328
         ],
         "y": [
          "criterion",
          "min_samples_leaf",
          "n_estimators",
          "min_samples_split",
          "max_depth"
         ]
        }
       ],
       "layout": {
        "showlegend": false,
        "template": {
         "data": {
          "bar": [
           {
            "error_x": {
             "color": "#2a3f5f"
            },
            "error_y": {
             "color": "#2a3f5f"
            },
            "marker": {
             "line": {
              "color": "#E5ECF6",
              "width": 0.5
             },
             "pattern": {
              "fillmode": "overlay",
              "size": 10,
              "solidity": 0.2
             }
            },
            "type": "bar"
           }
          ],
          "barpolar": [
           {
            "marker": {
             "line": {
              "color": "#E5ECF6",
              "width": 0.5
             },
             "pattern": {
              "fillmode": "overlay",
              "size": 10,
              "solidity": 0.2
             }
            },
            "type": "barpolar"
           }
          ],
          "carpet": [
           {
            "aaxis": {
             "endlinecolor": "#2a3f5f",
             "gridcolor": "white",
             "linecolor": "white",
             "minorgridcolor": "white",
             "startlinecolor": "#2a3f5f"
            },
            "baxis": {
             "endlinecolor": "#2a3f5f",
             "gridcolor": "white",
             "linecolor": "white",
             "minorgridcolor": "white",
             "startlinecolor": "#2a3f5f"
            },
            "type": "carpet"
           }
          ],
          "choropleth": [
           {
            "colorbar": {
             "outlinewidth": 0,
             "ticks": ""
            },
            "type": "choropleth"
           }
          ],
          "contour": [
           {
            "colorbar": {
             "outlinewidth": 0,
             "ticks": ""
            },
            "colorscale": [
             [
              0,
              "#0d0887"
             ],
             [
              0.1111111111111111,
              "#46039f"
             ],
             [
              0.2222222222222222,
              "#7201a8"
             ],
             [
              0.3333333333333333,
              "#9c179e"
             ],
             [
              0.4444444444444444,
              "#bd3786"
             ],
             [
              0.5555555555555556,
              "#d8576b"
             ],
             [
              0.6666666666666666,
              "#ed7953"
             ],
             [
              0.7777777777777778,
              "#fb9f3a"
             ],
             [
              0.8888888888888888,
              "#fdca26"
             ],
             [
              1,
              "#f0f921"
             ]
            ],
            "type": "contour"
           }
          ],
          "contourcarpet": [
           {
            "colorbar": {
             "outlinewidth": 0,
             "ticks": ""
            },
            "type": "contourcarpet"
           }
          ],
          "heatmap": [
           {
            "colorbar": {
             "outlinewidth": 0,
             "ticks": ""
            },
            "colorscale": [
             [
              0,
              "#0d0887"
             ],
             [
              0.1111111111111111,
              "#46039f"
             ],
             [
              0.2222222222222222,
              "#7201a8"
             ],
             [
              0.3333333333333333,
              "#9c179e"
             ],
             [
              0.4444444444444444,
              "#bd3786"
             ],
             [
              0.5555555555555556,
              "#d8576b"
             ],
             [
              0.6666666666666666,
              "#ed7953"
             ],
             [
              0.7777777777777778,
              "#fb9f3a"
             ],
             [
              0.8888888888888888,
              "#fdca26"
             ],
             [
              1,
              "#f0f921"
             ]
            ],
            "type": "heatmap"
           }
          ],
          "heatmapgl": [
           {
            "colorbar": {
             "outlinewidth": 0,
             "ticks": ""
            },
            "colorscale": [
             [
              0,
              "#0d0887"
             ],
             [
              0.1111111111111111,
              "#46039f"
             ],
             [
              0.2222222222222222,
              "#7201a8"
             ],
             [
              0.3333333333333333,
              "#9c179e"
             ],
             [
              0.4444444444444444,
              "#bd3786"
             ],
             [
              0.5555555555555556,
              "#d8576b"
             ],
             [
              0.6666666666666666,
              "#ed7953"
             ],
             [
              0.7777777777777778,
              "#fb9f3a"
             ],
             [
              0.8888888888888888,
              "#fdca26"
             ],
             [
              1,
              "#f0f921"
             ]
            ],
            "type": "heatmapgl"
           }
          ],
          "histogram": [
           {
            "marker": {
             "pattern": {
              "fillmode": "overlay",
              "size": 10,
              "solidity": 0.2
             }
            },
            "type": "histogram"
           }
          ],
          "histogram2d": [
           {
            "colorbar": {
             "outlinewidth": 0,
             "ticks": ""
            },
            "colorscale": [
             [
              0,
              "#0d0887"
             ],
             [
              0.1111111111111111,
              "#46039f"
             ],
             [
              0.2222222222222222,
              "#7201a8"
             ],
             [
              0.3333333333333333,
              "#9c179e"
             ],
             [
              0.4444444444444444,
              "#bd3786"
             ],
             [
              0.5555555555555556,
              "#d8576b"
             ],
             [
              0.6666666666666666,
              "#ed7953"
             ],
             [
              0.7777777777777778,
              "#fb9f3a"
             ],
             [
              0.8888888888888888,
              "#fdca26"
             ],
             [
              1,
              "#f0f921"
             ]
            ],
            "type": "histogram2d"
           }
          ],
          "histogram2dcontour": [
           {
            "colorbar": {
             "outlinewidth": 0,
             "ticks": ""
            },
            "colorscale": [
             [
              0,
              "#0d0887"
             ],
             [
              0.1111111111111111,
              "#46039f"
             ],
             [
              0.2222222222222222,
              "#7201a8"
             ],
             [
              0.3333333333333333,
              "#9c179e"
             ],
             [
              0.4444444444444444,
              "#bd3786"
             ],
             [
              0.5555555555555556,
              "#d8576b"
             ],
             [
              0.6666666666666666,
              "#ed7953"
             ],
             [
              0.7777777777777778,
              "#fb9f3a"
             ],
             [
              0.8888888888888888,
              "#fdca26"
             ],
             [
              1,
              "#f0f921"
             ]
            ],
            "type": "histogram2dcontour"
           }
          ],
          "mesh3d": [
           {
            "colorbar": {
             "outlinewidth": 0,
             "ticks": ""
            },
            "type": "mesh3d"
           }
          ],
          "parcoords": [
           {
            "line": {
             "colorbar": {
              "outlinewidth": 0,
              "ticks": ""
             }
            },
            "type": "parcoords"
           }
          ],
          "pie": [
           {
            "automargin": true,
            "type": "pie"
           }
          ],
          "scatter": [
           {
            "fillpattern": {
             "fillmode": "overlay",
             "size": 10,
             "solidity": 0.2
            },
            "type": "scatter"
           }
          ],
          "scatter3d": [
           {
            "line": {
             "colorbar": {
              "outlinewidth": 0,
              "ticks": ""
             }
            },
            "marker": {
             "colorbar": {
              "outlinewidth": 0,
              "ticks": ""
             }
            },
            "type": "scatter3d"
           }
          ],
          "scattercarpet": [
           {
            "marker": {
             "colorbar": {
              "outlinewidth": 0,
              "ticks": ""
             }
            },
            "type": "scattercarpet"
           }
          ],
          "scattergeo": [
           {
            "marker": {
             "colorbar": {
              "outlinewidth": 0,
              "ticks": ""
             }
            },
            "type": "scattergeo"
           }
          ],
          "scattergl": [
           {
            "marker": {
             "colorbar": {
              "outlinewidth": 0,
              "ticks": ""
             }
            },
            "type": "scattergl"
           }
          ],
          "scattermapbox": [
           {
            "marker": {
             "colorbar": {
              "outlinewidth": 0,
              "ticks": ""
             }
            },
            "type": "scattermapbox"
           }
          ],
          "scatterpolar": [
           {
            "marker": {
             "colorbar": {
              "outlinewidth": 0,
              "ticks": ""
             }
            },
            "type": "scatterpolar"
           }
          ],
          "scatterpolargl": [
           {
            "marker": {
             "colorbar": {
              "outlinewidth": 0,
              "ticks": ""
             }
            },
            "type": "scatterpolargl"
           }
          ],
          "scatterternary": [
           {
            "marker": {
             "colorbar": {
              "outlinewidth": 0,
              "ticks": ""
             }
            },
            "type": "scatterternary"
           }
          ],
          "surface": [
           {
            "colorbar": {
             "outlinewidth": 0,
             "ticks": ""
            },
            "colorscale": [
             [
              0,
              "#0d0887"
             ],
             [
              0.1111111111111111,
              "#46039f"
             ],
             [
              0.2222222222222222,
              "#7201a8"
             ],
             [
              0.3333333333333333,
              "#9c179e"
             ],
             [
              0.4444444444444444,
              "#bd3786"
             ],
             [
              0.5555555555555556,
              "#d8576b"
             ],
             [
              0.6666666666666666,
              "#ed7953"
             ],
             [
              0.7777777777777778,
              "#fb9f3a"
             ],
             [
              0.8888888888888888,
              "#fdca26"
             ],
             [
              1,
              "#f0f921"
             ]
            ],
            "type": "surface"
           }
          ],
          "table": [
           {
            "cells": {
             "fill": {
              "color": "#EBF0F8"
             },
             "line": {
              "color": "white"
             }
            },
            "header": {
             "fill": {
              "color": "#C8D4E3"
             },
             "line": {
              "color": "white"
             }
            },
            "type": "table"
           }
          ]
         },
         "layout": {
          "annotationdefaults": {
           "arrowcolor": "#2a3f5f",
           "arrowhead": 0,
           "arrowwidth": 1
          },
          "autotypenumbers": "strict",
          "coloraxis": {
           "colorbar": {
            "outlinewidth": 0,
            "ticks": ""
           }
          },
          "colorscale": {
           "diverging": [
            [
             0,
             "#8e0152"
            ],
            [
             0.1,
             "#c51b7d"
            ],
            [
             0.2,
             "#de77ae"
            ],
            [
             0.3,
             "#f1b6da"
            ],
            [
             0.4,
             "#fde0ef"
            ],
            [
             0.5,
             "#f7f7f7"
            ],
            [
             0.6,
             "#e6f5d0"
            ],
            [
             0.7,
             "#b8e186"
            ],
            [
             0.8,
             "#7fbc41"
            ],
            [
             0.9,
             "#4d9221"
            ],
            [
             1,
             "#276419"
            ]
           ],
           "sequential": [
            [
             0,
             "#0d0887"
            ],
            [
             0.1111111111111111,
             "#46039f"
            ],
            [
             0.2222222222222222,
             "#7201a8"
            ],
            [
             0.3333333333333333,
             "#9c179e"
            ],
            [
             0.4444444444444444,
             "#bd3786"
            ],
            [
             0.5555555555555556,
             "#d8576b"
            ],
            [
             0.6666666666666666,
             "#ed7953"
            ],
            [
             0.7777777777777778,
             "#fb9f3a"
            ],
            [
             0.8888888888888888,
             "#fdca26"
            ],
            [
             1,
             "#f0f921"
            ]
           ],
           "sequentialminus": [
            [
             0,
             "#0d0887"
            ],
            [
             0.1111111111111111,
             "#46039f"
            ],
            [
             0.2222222222222222,
             "#7201a8"
            ],
            [
             0.3333333333333333,
             "#9c179e"
            ],
            [
             0.4444444444444444,
             "#bd3786"
            ],
            [
             0.5555555555555556,
             "#d8576b"
            ],
            [
             0.6666666666666666,
             "#ed7953"
            ],
            [
             0.7777777777777778,
             "#fb9f3a"
            ],
            [
             0.8888888888888888,
             "#fdca26"
            ],
            [
             1,
             "#f0f921"
            ]
           ]
          },
          "colorway": [
           "#636efa",
           "#EF553B",
           "#00cc96",
           "#ab63fa",
           "#FFA15A",
           "#19d3f3",
           "#FF6692",
           "#B6E880",
           "#FF97FF",
           "#FECB52"
          ],
          "font": {
           "color": "#2a3f5f"
          },
          "geo": {
           "bgcolor": "white",
           "lakecolor": "white",
           "landcolor": "#E5ECF6",
           "showlakes": true,
           "showland": true,
           "subunitcolor": "white"
          },
          "hoverlabel": {
           "align": "left"
          },
          "hovermode": "closest",
          "mapbox": {
           "style": "light"
          },
          "paper_bgcolor": "white",
          "plot_bgcolor": "#E5ECF6",
          "polar": {
           "angularaxis": {
            "gridcolor": "white",
            "linecolor": "white",
            "ticks": ""
           },
           "bgcolor": "#E5ECF6",
           "radialaxis": {
            "gridcolor": "white",
            "linecolor": "white",
            "ticks": ""
           }
          },
          "scene": {
           "xaxis": {
            "backgroundcolor": "#E5ECF6",
            "gridcolor": "white",
            "gridwidth": 2,
            "linecolor": "white",
            "showbackground": true,
            "ticks": "",
            "zerolinecolor": "white"
           },
           "yaxis": {
            "backgroundcolor": "#E5ECF6",
            "gridcolor": "white",
            "gridwidth": 2,
            "linecolor": "white",
            "showbackground": true,
            "ticks": "",
            "zerolinecolor": "white"
           },
           "zaxis": {
            "backgroundcolor": "#E5ECF6",
            "gridcolor": "white",
            "gridwidth": 2,
            "linecolor": "white",
            "showbackground": true,
            "ticks": "",
            "zerolinecolor": "white"
           }
          },
          "shapedefaults": {
           "line": {
            "color": "#2a3f5f"
           }
          },
          "ternary": {
           "aaxis": {
            "gridcolor": "white",
            "linecolor": "white",
            "ticks": ""
           },
           "baxis": {
            "gridcolor": "white",
            "linecolor": "white",
            "ticks": ""
           },
           "bgcolor": "#E5ECF6",
           "caxis": {
            "gridcolor": "white",
            "linecolor": "white",
            "ticks": ""
           }
          },
          "title": {
           "x": 0.05
          },
          "xaxis": {
           "automargin": true,
           "gridcolor": "white",
           "linecolor": "white",
           "ticks": "",
           "title": {
            "standoff": 15
           },
           "zerolinecolor": "white",
           "zerolinewidth": 2
          },
          "yaxis": {
           "automargin": true,
           "gridcolor": "white",
           "linecolor": "white",
           "ticks": "",
           "title": {
            "standoff": 15
           },
           "zerolinecolor": "white",
           "zerolinewidth": 2
          }
         }
        },
        "title": {
         "text": "Hyperparameter Importances"
        },
        "xaxis": {
         "title": {
          "text": "Importance for Objective Value"
         }
        },
        "yaxis": {
         "title": {
          "text": "Hyperparameter"
         }
        }
       }
      },
      "text/html": [
       "<div>                            <div id=\"3dc31499-bf74-439d-922d-123bc0f7a45d\" class=\"plotly-graph-div\" style=\"height:525px; width:100%;\"></div>            <script type=\"text/javascript\">                require([\"plotly\"], function(Plotly) {                    window.PLOTLYENV=window.PLOTLYENV || {};                                    if (document.getElementById(\"3dc31499-bf74-439d-922d-123bc0f7a45d\")) {                    Plotly.newPlot(                        \"3dc31499-bf74-439d-922d-123bc0f7a45d\",                        [{\"cliponaxis\":false,\"hovertemplate\":[\"criterion (CategoricalDistribution): 0.006124321749597647<extra></extra>\",\"min_samples_leaf (IntDistribution): 0.027476495495566088<extra></extra>\",\"n_estimators (IntDistribution): 0.04071282018068212<extra></extra>\",\"min_samples_split (IntDistribution): 0.0736857905986214<extra></extra>\",\"max_depth (IntDistribution): 0.8520005719755328<extra></extra>\"],\"marker\":{\"color\":\"rgb(66,146,198)\"},\"orientation\":\"h\",\"text\":[\"<0.01\",\"0.03\",\"0.04\",\"0.07\",\"0.85\"],\"textposition\":\"outside\",\"x\":[0.006124321749597647,0.027476495495566088,0.04071282018068212,0.0736857905986214,0.8520005719755328],\"y\":[\"criterion\",\"min_samples_leaf\",\"n_estimators\",\"min_samples_split\",\"max_depth\"],\"type\":\"bar\"}],                        {\"showlegend\":false,\"title\":{\"text\":\"Hyperparameter Importances\"},\"xaxis\":{\"title\":{\"text\":\"Importance for Objective Value\"}},\"yaxis\":{\"title\":{\"text\":\"Hyperparameter\"}},\"template\":{\"data\":{\"histogram2dcontour\":[{\"type\":\"histogram2dcontour\",\"colorbar\":{\"outlinewidth\":0,\"ticks\":\"\"},\"colorscale\":[[0.0,\"#0d0887\"],[0.1111111111111111,\"#46039f\"],[0.2222222222222222,\"#7201a8\"],[0.3333333333333333,\"#9c179e\"],[0.4444444444444444,\"#bd3786\"],[0.5555555555555556,\"#d8576b\"],[0.6666666666666666,\"#ed7953\"],[0.7777777777777778,\"#fb9f3a\"],[0.8888888888888888,\"#fdca26\"],[1.0,\"#f0f921\"]]}],\"choropleth\":[{\"type\":\"choropleth\",\"colorbar\":{\"outlinewidth\":0,\"ticks\":\"\"}}],\"histogram2d\":[{\"type\":\"histogram2d\",\"colorbar\":{\"outlinewidth\":0,\"ticks\":\"\"},\"colorscale\":[[0.0,\"#0d0887\"],[0.1111111111111111,\"#46039f\"],[0.2222222222222222,\"#7201a8\"],[0.3333333333333333,\"#9c179e\"],[0.4444444444444444,\"#bd3786\"],[0.5555555555555556,\"#d8576b\"],[0.6666666666666666,\"#ed7953\"],[0.7777777777777778,\"#fb9f3a\"],[0.8888888888888888,\"#fdca26\"],[1.0,\"#f0f921\"]]}],\"heatmap\":[{\"type\":\"heatmap\",\"colorbar\":{\"outlinewidth\":0,\"ticks\":\"\"},\"colorscale\":[[0.0,\"#0d0887\"],[0.1111111111111111,\"#46039f\"],[0.2222222222222222,\"#7201a8\"],[0.3333333333333333,\"#9c179e\"],[0.4444444444444444,\"#bd3786\"],[0.5555555555555556,\"#d8576b\"],[0.6666666666666666,\"#ed7953\"],[0.7777777777777778,\"#fb9f3a\"],[0.8888888888888888,\"#fdca26\"],[1.0,\"#f0f921\"]]}],\"heatmapgl\":[{\"type\":\"heatmapgl\",\"colorbar\":{\"outlinewidth\":0,\"ticks\":\"\"},\"colorscale\":[[0.0,\"#0d0887\"],[0.1111111111111111,\"#46039f\"],[0.2222222222222222,\"#7201a8\"],[0.3333333333333333,\"#9c179e\"],[0.4444444444444444,\"#bd3786\"],[0.5555555555555556,\"#d8576b\"],[0.6666666666666666,\"#ed7953\"],[0.7777777777777778,\"#fb9f3a\"],[0.8888888888888888,\"#fdca26\"],[1.0,\"#f0f921\"]]}],\"contourcarpet\":[{\"type\":\"contourcarpet\",\"colorbar\":{\"outlinewidth\":0,\"ticks\":\"\"}}],\"contour\":[{\"type\":\"contour\",\"colorbar\":{\"outlinewidth\":0,\"ticks\":\"\"},\"colorscale\":[[0.0,\"#0d0887\"],[0.1111111111111111,\"#46039f\"],[0.2222222222222222,\"#7201a8\"],[0.3333333333333333,\"#9c179e\"],[0.4444444444444444,\"#bd3786\"],[0.5555555555555556,\"#d8576b\"],[0.6666666666666666,\"#ed7953\"],[0.7777777777777778,\"#fb9f3a\"],[0.8888888888888888,\"#fdca26\"],[1.0,\"#f0f921\"]]}],\"surface\":[{\"type\":\"surface\",\"colorbar\":{\"outlinewidth\":0,\"ticks\":\"\"},\"colorscale\":[[0.0,\"#0d0887\"],[0.1111111111111111,\"#46039f\"],[0.2222222222222222,\"#7201a8\"],[0.3333333333333333,\"#9c179e\"],[0.4444444444444444,\"#bd3786\"],[0.5555555555555556,\"#d8576b\"],[0.6666666666666666,\"#ed7953\"],[0.7777777777777778,\"#fb9f3a\"],[0.8888888888888888,\"#fdca26\"],[1.0,\"#f0f921\"]]}],\"mesh3d\":[{\"type\":\"mesh3d\",\"colorbar\":{\"outlinewidth\":0,\"ticks\":\"\"}}],\"scatter\":[{\"fillpattern\":{\"fillmode\":\"overlay\",\"size\":10,\"solidity\":0.2},\"type\":\"scatter\"}],\"parcoords\":[{\"type\":\"parcoords\",\"line\":{\"colorbar\":{\"outlinewidth\":0,\"ticks\":\"\"}}}],\"scatterpolargl\":[{\"type\":\"scatterpolargl\",\"marker\":{\"colorbar\":{\"outlinewidth\":0,\"ticks\":\"\"}}}],\"bar\":[{\"error_x\":{\"color\":\"#2a3f5f\"},\"error_y\":{\"color\":\"#2a3f5f\"},\"marker\":{\"line\":{\"color\":\"#E5ECF6\",\"width\":0.5},\"pattern\":{\"fillmode\":\"overlay\",\"size\":10,\"solidity\":0.2}},\"type\":\"bar\"}],\"scattergeo\":[{\"type\":\"scattergeo\",\"marker\":{\"colorbar\":{\"outlinewidth\":0,\"ticks\":\"\"}}}],\"scatterpolar\":[{\"type\":\"scatterpolar\",\"marker\":{\"colorbar\":{\"outlinewidth\":0,\"ticks\":\"\"}}}],\"histogram\":[{\"marker\":{\"pattern\":{\"fillmode\":\"overlay\",\"size\":10,\"solidity\":0.2}},\"type\":\"histogram\"}],\"scattergl\":[{\"type\":\"scattergl\",\"marker\":{\"colorbar\":{\"outlinewidth\":0,\"ticks\":\"\"}}}],\"scatter3d\":[{\"type\":\"scatter3d\",\"line\":{\"colorbar\":{\"outlinewidth\":0,\"ticks\":\"\"}},\"marker\":{\"colorbar\":{\"outlinewidth\":0,\"ticks\":\"\"}}}],\"scattermapbox\":[{\"type\":\"scattermapbox\",\"marker\":{\"colorbar\":{\"outlinewidth\":0,\"ticks\":\"\"}}}],\"scatterternary\":[{\"type\":\"scatterternary\",\"marker\":{\"colorbar\":{\"outlinewidth\":0,\"ticks\":\"\"}}}],\"scattercarpet\":[{\"type\":\"scattercarpet\",\"marker\":{\"colorbar\":{\"outlinewidth\":0,\"ticks\":\"\"}}}],\"carpet\":[{\"aaxis\":{\"endlinecolor\":\"#2a3f5f\",\"gridcolor\":\"white\",\"linecolor\":\"white\",\"minorgridcolor\":\"white\",\"startlinecolor\":\"#2a3f5f\"},\"baxis\":{\"endlinecolor\":\"#2a3f5f\",\"gridcolor\":\"white\",\"linecolor\":\"white\",\"minorgridcolor\":\"white\",\"startlinecolor\":\"#2a3f5f\"},\"type\":\"carpet\"}],\"table\":[{\"cells\":{\"fill\":{\"color\":\"#EBF0F8\"},\"line\":{\"color\":\"white\"}},\"header\":{\"fill\":{\"color\":\"#C8D4E3\"},\"line\":{\"color\":\"white\"}},\"type\":\"table\"}],\"barpolar\":[{\"marker\":{\"line\":{\"color\":\"#E5ECF6\",\"width\":0.5},\"pattern\":{\"fillmode\":\"overlay\",\"size\":10,\"solidity\":0.2}},\"type\":\"barpolar\"}],\"pie\":[{\"automargin\":true,\"type\":\"pie\"}]},\"layout\":{\"autotypenumbers\":\"strict\",\"colorway\":[\"#636efa\",\"#EF553B\",\"#00cc96\",\"#ab63fa\",\"#FFA15A\",\"#19d3f3\",\"#FF6692\",\"#B6E880\",\"#FF97FF\",\"#FECB52\"],\"font\":{\"color\":\"#2a3f5f\"},\"hovermode\":\"closest\",\"hoverlabel\":{\"align\":\"left\"},\"paper_bgcolor\":\"white\",\"plot_bgcolor\":\"#E5ECF6\",\"polar\":{\"bgcolor\":\"#E5ECF6\",\"angularaxis\":{\"gridcolor\":\"white\",\"linecolor\":\"white\",\"ticks\":\"\"},\"radialaxis\":{\"gridcolor\":\"white\",\"linecolor\":\"white\",\"ticks\":\"\"}},\"ternary\":{\"bgcolor\":\"#E5ECF6\",\"aaxis\":{\"gridcolor\":\"white\",\"linecolor\":\"white\",\"ticks\":\"\"},\"baxis\":{\"gridcolor\":\"white\",\"linecolor\":\"white\",\"ticks\":\"\"},\"caxis\":{\"gridcolor\":\"white\",\"linecolor\":\"white\",\"ticks\":\"\"}},\"coloraxis\":{\"colorbar\":{\"outlinewidth\":0,\"ticks\":\"\"}},\"colorscale\":{\"sequential\":[[0.0,\"#0d0887\"],[0.1111111111111111,\"#46039f\"],[0.2222222222222222,\"#7201a8\"],[0.3333333333333333,\"#9c179e\"],[0.4444444444444444,\"#bd3786\"],[0.5555555555555556,\"#d8576b\"],[0.6666666666666666,\"#ed7953\"],[0.7777777777777778,\"#fb9f3a\"],[0.8888888888888888,\"#fdca26\"],[1.0,\"#f0f921\"]],\"sequentialminus\":[[0.0,\"#0d0887\"],[0.1111111111111111,\"#46039f\"],[0.2222222222222222,\"#7201a8\"],[0.3333333333333333,\"#9c179e\"],[0.4444444444444444,\"#bd3786\"],[0.5555555555555556,\"#d8576b\"],[0.6666666666666666,\"#ed7953\"],[0.7777777777777778,\"#fb9f3a\"],[0.8888888888888888,\"#fdca26\"],[1.0,\"#f0f921\"]],\"diverging\":[[0,\"#8e0152\"],[0.1,\"#c51b7d\"],[0.2,\"#de77ae\"],[0.3,\"#f1b6da\"],[0.4,\"#fde0ef\"],[0.5,\"#f7f7f7\"],[0.6,\"#e6f5d0\"],[0.7,\"#b8e186\"],[0.8,\"#7fbc41\"],[0.9,\"#4d9221\"],[1,\"#276419\"]]},\"xaxis\":{\"gridcolor\":\"white\",\"linecolor\":\"white\",\"ticks\":\"\",\"title\":{\"standoff\":15},\"zerolinecolor\":\"white\",\"automargin\":true,\"zerolinewidth\":2},\"yaxis\":{\"gridcolor\":\"white\",\"linecolor\":\"white\",\"ticks\":\"\",\"title\":{\"standoff\":15},\"zerolinecolor\":\"white\",\"automargin\":true,\"zerolinewidth\":2},\"scene\":{\"xaxis\":{\"backgroundcolor\":\"#E5ECF6\",\"gridcolor\":\"white\",\"linecolor\":\"white\",\"showbackground\":true,\"ticks\":\"\",\"zerolinecolor\":\"white\",\"gridwidth\":2},\"yaxis\":{\"backgroundcolor\":\"#E5ECF6\",\"gridcolor\":\"white\",\"linecolor\":\"white\",\"showbackground\":true,\"ticks\":\"\",\"zerolinecolor\":\"white\",\"gridwidth\":2},\"zaxis\":{\"backgroundcolor\":\"#E5ECF6\",\"gridcolor\":\"white\",\"linecolor\":\"white\",\"showbackground\":true,\"ticks\":\"\",\"zerolinecolor\":\"white\",\"gridwidth\":2}},\"shapedefaults\":{\"line\":{\"color\":\"#2a3f5f\"}},\"annotationdefaults\":{\"arrowcolor\":\"#2a3f5f\",\"arrowhead\":0,\"arrowwidth\":1},\"geo\":{\"bgcolor\":\"white\",\"landcolor\":\"#E5ECF6\",\"subunitcolor\":\"white\",\"showland\":true,\"showlakes\":true,\"lakecolor\":\"white\"},\"title\":{\"x\":0.05},\"mapbox\":{\"style\":\"light\"}}}},                        {\"responsive\": true}                    ).then(function(){\n",
       "                            \n",
       "var gd = document.getElementById('3dc31499-bf74-439d-922d-123bc0f7a45d');\n",
       "var x = new MutationObserver(function (mutations, observer) {{\n",
       "        var display = window.getComputedStyle(gd).display;\n",
       "        if (!display || display === 'none') {{\n",
       "            console.log([gd, 'removed!']);\n",
       "            Plotly.purge(gd);\n",
       "            observer.disconnect();\n",
       "        }}\n",
       "}});\n",
       "\n",
       "// Listen for the removal of the full notebook cells\n",
       "var notebookContainer = gd.closest('#notebook-container');\n",
       "if (notebookContainer) {{\n",
       "    x.observe(notebookContainer, {childList: true});\n",
       "}}\n",
       "\n",
       "// Listen for the clearing of the current output cell\n",
       "var outputEl = gd.closest('.output');\n",
       "if (outputEl) {{\n",
       "    x.observe(outputEl, {childList: true});\n",
       "}}\n",
       "\n",
       "                        })                };                });            </script>        </div>"
      ]
     },
     "metadata": {},
     "output_type": "display_data"
    }
   ],
   "source": [
    "optuna.visualization.plot_param_importances(study_1)"
   ]
  },
  {
   "cell_type": "code",
   "execution_count": null,
   "metadata": {
    "colab": {
     "base_uri": "https://localhost:8080/"
    },
    "id": "j0zas9VDwGSo",
    "outputId": "bb1ed6fd-c563-4f72-91fd-6525b8dda1d4"
   },
   "outputs": [
    {
     "data": {
      "text/plain": [
       "{'max_depth': 16,\n",
       " 'criterion': 'gini',\n",
       " 'n_estimators': 24,\n",
       " 'min_samples_leaf': 8,\n",
       " 'min_samples_split': 8}"
      ]
     },
     "execution_count": 46,
     "metadata": {},
     "output_type": "execute_result"
    }
   ],
   "source": [
    "study_1.best_params"
   ]
  },
  {
   "cell_type": "markdown",
   "metadata": {},
   "source": [
    "Melhor resultado com parametros :\n",
    "{'max_depth': 16,\n",
    " 'criterion': 'gini',\n",
    " 'n_estimators': 24,\n",
    " 'min_samples_leaf': 8,\n",
    " 'min_samples_split': 8}"
   ]
  },
  {
   "cell_type": "code",
   "execution_count": null,
   "metadata": {
    "id": "6GmauXJFwWXs"
   },
   "outputs": [],
   "source": [
    "rf_classifier = RandomForestClassifier(n_estimators=24,\n",
    "                                       max_depth=16,\n",
    "                                       min_samples_leaf=8,\n",
    "                                       min_samples_split=8,\n",
    "                                       max_features='sqrt',\n",
    "                                       criterion='gini')\n",
    "rf_history = rf_classifier.fit(x_train.to_numpy(), y_train2.to_numpy().ravel())"
   ]
  },
  {
   "cell_type": "code",
   "execution_count": null,
   "metadata": {
    "colab": {
     "base_uri": "https://localhost:8080/",
     "height": 852
    },
    "id": "MHhRT-kQwgmv",
    "outputId": "946e5bd7-82af-4e35-932c-e7ba77c71141"
   },
   "outputs": [
    {
     "name": "stdout",
     "output_type": "stream",
     "text": [
      "              precision    recall  f1-score   support\n",
      "\n",
      "           0       0.48      0.64      0.54     33525\n",
      "           1       0.77      0.63      0.69     63775\n",
      "\n",
      "    accuracy                           0.63     97300\n",
      "   macro avg       0.62      0.63      0.62     97300\n",
      "weighted avg       0.67      0.63      0.64     97300\n",
      "\n",
      "Erro quadrático médio:  0.3660431654676259\n",
      "Auroc: 0.6344774738511108\n",
      "Precisão média:  0.7266077884615435\n",
      "\n"
     ]
    },
    {
     "name": "stderr",
     "output_type": "stream",
     "text": [
      "/home/pedro-milet/.local/lib/python3.8/site-packages/sklearn/base.py:432: UserWarning:\n",
      "\n",
      "X has feature names, but RandomForestClassifier was fitted without feature names\n",
      "\n"
     ]
    },
    {
     "data": {
      "image/png": "[encoded data removed]",
      "text/plain": [
       "<Figure size 640x480 with 2 Axes>"
      ]
     },
     "metadata": {},
     "output_type": "display_data"
    },
    {
     "data": {
      "image/png": "[encoded data removed]",
      "text/plain": [
       "<Figure size 640x480 with 1 Axes>"
      ]
     },
     "metadata": {},
     "output_type": "display_data"
    }
   ],
   "source": [
    "rf_pred_class_test = rf_classifier.predict(x_test.to_numpy())\n",
    "y_pred_rf_test = pred_name_columns(rf_pred_class_test)\n",
    "my_metrics(y_test2,y_pred_rf_test)\n",
    "\n",
    "\n",
    "rf_prb_test = rf_classifier.predict_proba(x_test)\n",
    "skplt.metrics.plot_ks_statistic(y_test2.to_numpy().ravel(), rf_prb_test)\n",
    "plt.show()"
   ]
  },
  {
   "cell_type": "markdown",
   "metadata": {},
   "source": [
    "KS de 0.270 ,Auroc de 0.63 , precisao de 0.72\n",
    "da pra melhorar"
   ]
  },
  {
   "cell_type": "code",
   "execution_count": 41,
   "metadata": {},
   "outputs": [],
   "source": [
    "\n",
    "rf_classifier2 = RandomForestClassifier(n_estimators=100,\n",
    "                                       max_depth=16,\n",
    "                                       min_samples_leaf=8,\n",
    "                                       min_samples_split=8,\n",
    "                                       max_features='sqrt',\n",
    "                                       criterion='gini')\n",
    "\n",
    "rf_history = rf_classifier2.fit(x_train.to_numpy(), y_train2.to_numpy().ravel())"
   ]
  },
  {
   "cell_type": "code",
   "execution_count": 43,
   "metadata": {},
   "outputs": [
    {
     "name": "stdout",
     "output_type": "stream",
     "text": [
      "              precision    recall  f1-score   support\n",
      "\n",
      "           0       0.48      0.65      0.55     33525\n",
      "           1       0.77      0.63      0.70     63775\n",
      "\n",
      "    accuracy                           0.64     97300\n",
      "   macro avg       0.63      0.64      0.62     97300\n",
      "weighted avg       0.67      0.64      0.65     97300\n",
      "\n",
      "Erro quadrático médio:  0.3618705035971223\n",
      "Auroc: 0.6408580688481451\n",
      "Precisão média:  0.7306114557237124\n",
      "\n"
     ]
    },
    {
     "name": "stderr",
     "output_type": "stream",
     "text": [
      "/home/pedro-milet/.local/lib/python3.8/site-packages/sklearn/base.py:432: UserWarning: X has feature names, but RandomForestClassifier was fitted without feature names\n",
      "  warnings.warn(\n"
     ]
    },
    {
     "data": {
      "image/png": "[encoded data removed]",
      "text/plain": [
       "<Figure size 640x480 with 2 Axes>"
      ]
     },
     "metadata": {},
     "output_type": "display_data"
    },
    {
     "data": {
      "image/png": "[encoded data removed]",
      "text/plain": [
       "<Figure size 640x480 with 1 Axes>"
      ]
     },
     "metadata": {},
     "output_type": "display_data"
    }
   ],
   "source": [
    "rf_pred_class_test = rf_classifier2.predict(x_test.to_numpy())\n",
    "y_pred_rf_test = pred_name_columns(rf_pred_class_test)\n",
    "my_metrics(y_test2,y_pred_rf_test)\n",
    "\n",
    "\n",
    "rf_prb_test = rf_classifier2.predict_proba(x_test)\n",
    "skplt.metrics.plot_ks_statistic(y_test2.to_numpy().ravel(), rf_prb_test)\n",
    "plt.show()"
   ]
  },
  {
   "cell_type": "markdown",
   "metadata": {},
   "source": [
    "Conseguimos melhorar KS 0.283 , auroc 0.640 , precisao 0.730"
   ]
  },
  {
   "cell_type": "code",
   "execution_count": null,
   "metadata": {},
   "outputs": [],
   "source": [
    "sys.exit(\"Execution stopped. Please run cells above this one individually.\")"
   ]
  },
  {
   "cell_type": "markdown",
   "metadata": {
    "id": "qByWJpMNN-od"
   },
   "source": [
    "## Gradient Boost"
   ]
  },
  {
   "cell_type": "markdown",
   "metadata": {
    "id": "dgKtaZYE8yye"
   },
   "source": [
    "Para o gradient boost foi feito do uso do optuna para achar os melhores hiper-parâmetros do classificador"
   ]
  },
  {
   "cell_type": "code",
   "execution_count": 37,
   "metadata": {
    "id": "_m2GjkxhPQmT"
   },
   "outputs": [],
   "source": [
    "from sklearn.ensemble import GradientBoostingClassifier"
   ]
  },
  {
   "cell_type": "code",
   "execution_count": 39,
   "metadata": {
    "colab": {
     "base_uri": "https://localhost:8080/",
     "height": 574
    },
    "id": "4jLie5jCOBu9",
    "outputId": "7fd56d52-23fb-419e-f730-c928e1ab5015"
   },
   "outputs": [
    {
     "name": "stderr",
     "output_type": "stream",
     "text": [
      "\u001b[32m[I 2023-04-19 12:10:25,815]\u001b[0m A new study created in memory with name: no-name-31a34f57-0031-428d-998f-a9d13169afe3\u001b[0m\n",
      "\u001b[32m[I 2023-04-19 12:11:44,142]\u001b[0m Trial 0 finished with value: 0.6177595066803699 and parameters: {'loss': 'exponential', 'max_depth': 125, 'subsample': 0.07072894079063337, 'n_estimators': 27, 'learning_rate': 0.07445285935552863, 'min_samples_leaf': 3}. Best is trial 0 with value: 0.6177595066803699.\u001b[0m\n",
      "\u001b[32m[I 2023-04-19 12:15:35,172]\u001b[0m Trial 1 finished with value: 0.6310791366906475 and parameters: {'loss': 'exponential', 'max_depth': 85, 'subsample': 0.06324711195828359, 'n_estimators': 99, 'learning_rate': 0.033441738037814805, 'min_samples_leaf': 5}. Best is trial 1 with value: 0.6310791366906475.\u001b[0m\n",
      "/home/pedro-milet/.local/lib/python3.8/site-packages/sklearn/ensemble/_gb.py:280: FutureWarning: The loss parameter name 'deviance' was deprecated in v1.1 and will be removed in version 1.3. Use the new parameter name 'log_loss' which is equivalent.\n",
      "  warnings.warn(\n",
      "\u001b[32m[I 2023-04-19 12:19:36,394]\u001b[0m Trial 2 finished with value: 0.6094861253854059 and parameters: {'loss': 'deviance', 'max_depth': 82, 'subsample': 0.06663067573190148, 'n_estimators': 89, 'learning_rate': 0.09395725599560707, 'min_samples_leaf': 5}. Best is trial 1 with value: 0.6310791366906475.\u001b[0m\n",
      "/home/pedro-milet/.local/lib/python3.8/site-packages/sklearn/ensemble/_gb.py:280: FutureWarning: The loss parameter name 'deviance' was deprecated in v1.1 and will be removed in version 1.3. Use the new parameter name 'log_loss' which is equivalent.\n",
      "  warnings.warn(\n",
      "\u001b[32m[I 2023-04-19 12:19:57,610]\u001b[0m Trial 3 finished with value: 0.604737923946557 and parameters: {'loss': 'deviance', 'max_depth': 76, 'subsample': 0.020982159606297617, 'n_estimators': 25, 'learning_rate': 0.006033903876558847, 'min_samples_leaf': 2}. Best is trial 1 with value: 0.6310791366906475.\u001b[0m\n",
      "/home/pedro-milet/.local/lib/python3.8/site-packages/sklearn/ensemble/_gb.py:280: FutureWarning: The loss parameter name 'deviance' was deprecated in v1.1 and will be removed in version 1.3. Use the new parameter name 'log_loss' which is equivalent.\n",
      "  warnings.warn(\n",
      "\u001b[32m[I 2023-04-19 12:22:02,297]\u001b[0m Trial 4 finished with value: 0.6220143884892086 and parameters: {'loss': 'deviance', 'max_depth': 84, 'subsample': 0.046358722030970634, 'n_estimators': 68, 'learning_rate': 0.042100182604071154, 'min_samples_leaf': 3}. Best is trial 1 with value: 0.6310791366906475.\u001b[0m\n",
      "\u001b[32m[I 2023-04-19 12:22:36,973]\u001b[0m Trial 5 finished with value: 0.6137615621788284 and parameters: {'loss': 'exponential', 'max_depth': 83, 'subsample': 0.018554409190494853, 'n_estimators': 58, 'learning_rate': 0.015511596453501378, 'min_samples_leaf': 4}. Best is trial 1 with value: 0.6310791366906475.\u001b[0m\n",
      "\u001b[32m[I 2023-04-19 12:23:44,740]\u001b[0m Trial 6 finished with value: 0.6198972250770812 and parameters: {'loss': 'exponential', 'max_depth': 101, 'subsample': 0.05167180698625913, 'n_estimators': 37, 'learning_rate': 0.018596617365181308, 'min_samples_leaf': 4}. Best is trial 1 with value: 0.6310791366906475.\u001b[0m\n",
      "\u001b[32m[I 2023-04-19 12:28:39,167]\u001b[0m Trial 7 finished with value: 0.6232168550873587 and parameters: {'loss': 'exponential', 'max_depth': 122, 'subsample': 0.09872008929977494, 'n_estimators': 63, 'learning_rate': 0.06442535946858496, 'min_samples_leaf': 2}. Best is trial 1 with value: 0.6310791366906475.\u001b[0m\n",
      "\u001b[32m[I 2023-04-19 12:29:25,396]\u001b[0m Trial 8 finished with value: 0.61551901336074 and parameters: {'loss': 'exponential', 'max_depth': 95, 'subsample': 0.03091598607665034, 'n_estimators': 44, 'learning_rate': 0.049993974455329944, 'min_samples_leaf': 5}. Best is trial 1 with value: 0.6310791366906475.\u001b[0m\n",
      "/home/pedro-milet/.local/lib/python3.8/site-packages/sklearn/ensemble/_gb.py:280: FutureWarning: The loss parameter name 'deviance' was deprecated in v1.1 and will be removed in version 1.3. Use the new parameter name 'log_loss' which is equivalent.\n",
      "  warnings.warn(\n",
      "\u001b[32m[I 2023-04-19 12:30:30,460]\u001b[0m Trial 9 finished with value: 0.6162589928057554 and parameters: {'loss': 'deviance', 'max_depth': 126, 'subsample': 0.0798248459644877, 'n_estimators': 23, 'learning_rate': 0.06470097147787206, 'min_samples_leaf': 5}. Best is trial 1 with value: 0.6310791366906475.\u001b[0m\n",
      "\u001b[32m[I 2023-04-19 12:30:53,136]\u001b[0m Trial 10 finished with value: 0.6104522096608428 and parameters: {'loss': 'exponential', 'max_depth': 106, 'subsample': 0.007855798951387563, 'n_estimators': 91, 'learning_rate': 0.033621779892103985, 'min_samples_leaf': 4}. Best is trial 1 with value: 0.6310791366906475.\u001b[0m\n",
      "\u001b[32m[I 2023-04-19 12:36:39,864]\u001b[0m Trial 11 finished with value: 0.6228160328879754 and parameters: {'loss': 'exponential', 'max_depth': 66, 'subsample': 0.09972641592679858, 'n_estimators': 72, 'learning_rate': 0.05976850624263012, 'min_samples_leaf': 2}. Best is trial 1 with value: 0.6310791366906475.\u001b[0m\n",
      "\u001b[32m[I 2023-04-19 12:43:04,579]\u001b[0m Trial 12 finished with value: 0.6318499486125385 and parameters: {'loss': 'exponential', 'max_depth': 114, 'subsample': 0.09239751561803003, 'n_estimators': 99, 'learning_rate': 0.03240284497849221, 'min_samples_leaf': 3}. Best is trial 12 with value: 0.6318499486125385.\u001b[0m\n",
      "\u001b[32m[I 2023-04-19 12:48:59,914]\u001b[0m Trial 13 finished with value: 0.6320041109969168 and parameters: {'loss': 'exponential', 'max_depth': 113, 'subsample': 0.08696380225600203, 'n_estimators': 98, 'learning_rate': 0.03033006387291278, 'min_samples_leaf': 3}. Best is trial 13 with value: 0.6320041109969168.\u001b[0m\n",
      "\u001b[32m[I 2023-04-19 12:53:41,885]\u001b[0m Trial 14 finished with value: 0.6374820143884892 and parameters: {'loss': 'exponential', 'max_depth': 111, 'subsample': 0.08409605161349137, 'n_estimators': 81, 'learning_rate': 0.025125624938201023, 'min_samples_leaf': 3}. Best is trial 14 with value: 0.6374820143884892.\u001b[0m\n",
      "\u001b[32m[I 2023-04-19 12:58:10,030]\u001b[0m Trial 15 finished with value: 0.6323741007194245 and parameters: {'loss': 'exponential', 'max_depth': 112, 'subsample': 0.08471657914098495, 'n_estimators': 82, 'learning_rate': 0.0017685026964620494, 'min_samples_leaf': 3}. Best is trial 14 with value: 0.6374820143884892.\u001b[0m\n",
      "\u001b[32m[I 2023-04-19 13:02:19,147]\u001b[0m Trial 16 finished with value: 0.6302774922918808 and parameters: {'loss': 'exponential', 'max_depth': 113, 'subsample': 0.08071341612978733, 'n_estimators': 79, 'learning_rate': 0.006284889714460867, 'min_samples_leaf': 3}. Best is trial 14 with value: 0.6374820143884892.\u001b[0m\n",
      "\u001b[32m[I 2023-04-19 13:06:12,848]\u001b[0m Trial 17 finished with value: 0.632415210688592 and parameters: {'loss': 'exponential', 'max_depth': 96, 'subsample': 0.0807115492250926, 'n_estimators': 80, 'learning_rate': 0.0038613666382017325, 'min_samples_leaf': 4}. Best is trial 14 with value: 0.6374820143884892.\u001b[0m\n",
      "/home/pedro-milet/.local/lib/python3.8/site-packages/sklearn/ensemble/_gb.py:280: FutureWarning: The loss parameter name 'deviance' was deprecated in v1.1 and will be removed in version 1.3. Use the new parameter name 'log_loss' which is equivalent.\n",
      "  warnings.warn(\n",
      "\u001b[32m[I 2023-04-19 13:08:57,631]\u001b[0m Trial 18 finished with value: 0.6308016443987667 and parameters: {'loss': 'deviance', 'max_depth': 94, 'subsample': 0.07674756947946973, 'n_estimators': 59, 'learning_rate': 0.017721720282533895, 'min_samples_leaf': 4}. Best is trial 14 with value: 0.6374820143884892.\u001b[0m\n",
      "\u001b[32m[I 2023-04-19 13:11:48,793]\u001b[0m Trial 19 finished with value: 0.6310174717368962 and parameters: {'loss': 'exponential', 'max_depth': 105, 'subsample': 0.0911034875452053, 'n_estimators': 50, 'learning_rate': 0.022406344884911226, 'min_samples_leaf': 4}. Best is trial 14 with value: 0.6374820143884892.\u001b[0m\n",
      "\u001b[32m[I 2023-04-19 13:15:08,863]\u001b[0m Trial 20 finished with value: 0.6305447070914697 and parameters: {'loss': 'exponential', 'max_depth': 99, 'subsample': 0.0722465698390255, 'n_estimators': 78, 'learning_rate': 0.0010040077989371538, 'min_samples_leaf': 4}. Best is trial 14 with value: 0.6374820143884892.\u001b[0m\n",
      "\u001b[32m[I 2023-04-19 13:19:48,509]\u001b[0m Trial 21 finished with value: 0.6345426515930113 and parameters: {'loss': 'exponential', 'max_depth': 118, 'subsample': 0.08550483449226999, 'n_estimators': 83, 'learning_rate': 0.009510709481677688, 'min_samples_leaf': 3}. Best is trial 14 with value: 0.6374820143884892.\u001b[0m\n"
     ]
    },
    {
     "name": "stderr",
     "output_type": "stream",
     "text": [
      "\u001b[32m[I 2023-04-19 13:24:45,093]\u001b[0m Trial 22 finished with value: 0.6362487153134635 and parameters: {'loss': 'exponential', 'max_depth': 118, 'subsample': 0.08603079462018967, 'n_estimators': 87, 'learning_rate': 0.011378443432405218, 'min_samples_leaf': 3}. Best is trial 14 with value: 0.6374820143884892.\u001b[0m\n",
      "\u001b[32m[I 2023-04-19 13:30:54,147]\u001b[0m Trial 23 finished with value: 0.6362795477903391 and parameters: {'loss': 'exponential', 'max_depth': 120, 'subsample': 0.0915958039548111, 'n_estimators': 89, 'learning_rate': 0.014504284284913339, 'min_samples_leaf': 2}. Best is trial 14 with value: 0.6374820143884892.\u001b[0m\n",
      "\u001b[32m[I 2023-04-19 13:37:55,205]\u001b[0m Trial 24 finished with value: 0.6365262076053443 and parameters: {'loss': 'exponential', 'max_depth': 120, 'subsample': 0.09323307096321706, 'n_estimators': 90, 'learning_rate': 0.023874717269751128, 'min_samples_leaf': 2}. Best is trial 14 with value: 0.6374820143884892.\u001b[0m\n",
      "\u001b[32m[I 2023-04-19 13:43:33,330]\u001b[0m Trial 25 finished with value: 0.6385200411099692 and parameters: {'loss': 'exponential', 'max_depth': 128, 'subsample': 0.09535438593341383, 'n_estimators': 72, 'learning_rate': 0.025512741532390557, 'min_samples_leaf': 2}. Best is trial 25 with value: 0.6385200411099692.\u001b[0m\n",
      "/home/pedro-milet/.local/lib/python3.8/site-packages/sklearn/ensemble/_gb.py:280: FutureWarning: The loss parameter name 'deviance' was deprecated in v1.1 and will be removed in version 1.3. Use the new parameter name 'log_loss' which is equivalent.\n",
      "  warnings.warn(\n",
      "\u001b[32m[I 2023-04-19 13:49:07,320]\u001b[0m Trial 26 finished with value: 0.6347173689619733 and parameters: {'loss': 'deviance', 'max_depth': 108, 'subsample': 0.09942496697399952, 'n_estimators': 73, 'learning_rate': 0.024869849815408983, 'min_samples_leaf': 2}. Best is trial 25 with value: 0.6385200411099692.\u001b[0m\n",
      "\u001b[32m[I 2023-04-19 13:53:59,681]\u001b[0m Trial 27 finished with value: 0.6349743062692703 and parameters: {'loss': 'exponential', 'max_depth': 127, 'subsample': 0.09461921606655647, 'n_estimators': 67, 'learning_rate': 0.025534543132043945, 'min_samples_leaf': 2}. Best is trial 25 with value: 0.6385200411099692.\u001b[0m\n",
      "\u001b[32m[I 2023-04-19 13:57:36,716]\u001b[0m Trial 28 finished with value: 0.6301233299075025 and parameters: {'loss': 'exponential', 'max_depth': 128, 'subsample': 0.09234310962614478, 'n_estimators': 51, 'learning_rate': 0.03932758851701601, 'min_samples_leaf': 2}. Best is trial 25 with value: 0.6385200411099692.\u001b[0m\n",
      "\u001b[32m[I 2023-04-19 14:02:52,521]\u001b[0m Trial 29 finished with value: 0.6222302158273382 and parameters: {'loss': 'exponential', 'max_depth': 124, 'subsample': 0.07318569139307306, 'n_estimators': 94, 'learning_rate': 0.0425107783495679, 'min_samples_leaf': 2}. Best is trial 25 with value: 0.6385200411099692.\u001b[0m\n",
      "\u001b[32m[I 2023-04-19 14:06:30,422]\u001b[0m Trial 30 finished with value: 0.6323843782117163 and parameters: {'loss': 'exponential', 'max_depth': 117, 'subsample': 0.06613165514872692, 'n_estimators': 73, 'learning_rate': 0.024092779134225643, 'min_samples_leaf': 2}. Best is trial 25 with value: 0.6385200411099692.\u001b[0m\n",
      "\u001b[32m[I 2023-04-19 14:12:29,269]\u001b[0m Trial 31 finished with value: 0.6365056526207605 and parameters: {'loss': 'exponential', 'max_depth': 121, 'subsample': 0.09110933965831619, 'n_estimators': 85, 'learning_rate': 0.014791918091689818, 'min_samples_leaf': 2}. Best is trial 25 with value: 0.6385200411099692.\u001b[0m\n",
      "\u001b[32m[I 2023-04-19 14:17:19,939]\u001b[0m Trial 32 finished with value: 0.6318602261048304 and parameters: {'loss': 'exponential', 'max_depth': 121, 'subsample': 0.07497234941847984, 'n_estimators': 85, 'learning_rate': 0.01118716550199154, 'min_samples_leaf': 2}. Best is trial 25 with value: 0.6385200411099692.\u001b[0m\n",
      "\u001b[32m[I 2023-04-19 14:23:47,215]\u001b[0m Trial 33 finished with value: 0.6365056526207605 and parameters: {'loss': 'exponential', 'max_depth': 123, 'subsample': 0.08797414019729452, 'n_estimators': 95, 'learning_rate': 0.019956621721329094, 'min_samples_leaf': 2}. Best is trial 25 with value: 0.6385200411099692.\u001b[0m\n",
      "\u001b[32m[I 2023-04-19 14:29:26,482]\u001b[0m Trial 34 finished with value: 0.63327852004111 and parameters: {'loss': 'exponential', 'max_depth': 128, 'subsample': 0.08058929693309348, 'n_estimators': 91, 'learning_rate': 0.02611860823389916, 'min_samples_leaf': 2}. Best is trial 25 with value: 0.6385200411099692.\u001b[0m\n",
      "/home/pedro-milet/.local/lib/python3.8/site-packages/sklearn/ensemble/_gb.py:280: FutureWarning: The loss parameter name 'deviance' was deprecated in v1.1 and will be removed in version 1.3. Use the new parameter name 'log_loss' which is equivalent.\n",
      "  warnings.warn(\n",
      "\u001b[32m[I 2023-04-19 14:30:33,010]\u001b[0m Trial 35 finished with value: 0.6146145940390545 and parameters: {'loss': 'deviance', 'max_depth': 110, 'subsample': 0.09581604276903347, 'n_estimators': 16, 'learning_rate': 0.016167563552967838, 'min_samples_leaf': 2}. Best is trial 25 with value: 0.6385200411099692.\u001b[0m\n",
      "\u001b[32m[I 2023-04-19 14:35:34,216]\u001b[0m Trial 36 finished with value: 0.6332682425488181 and parameters: {'loss': 'exponential', 'max_depth': 90, 'subsample': 0.09555070478939542, 'n_estimators': 75, 'learning_rate': 0.036515596189540214, 'min_samples_leaf': 3}. Best is trial 25 with value: 0.6385200411099692.\u001b[0m\n",
      "/home/pedro-milet/.local/lib/python3.8/site-packages/sklearn/ensemble/_gb.py:280: FutureWarning: The loss parameter name 'deviance' was deprecated in v1.1 and will be removed in version 1.3. Use the new parameter name 'log_loss' which is equivalent.\n",
      "  warnings.warn(\n",
      "\u001b[32m[I 2023-04-19 14:38:43,073]\u001b[0m Trial 37 finished with value: 0.6298561151079136 and parameters: {'loss': 'deviance', 'max_depth': 116, 'subsample': 0.06943608900143838, 'n_estimators': 69, 'learning_rate': 0.027604388980090634, 'min_samples_leaf': 3}. Best is trial 25 with value: 0.6385200411099692.\u001b[0m\n",
      "\u001b[32m[I 2023-04-19 14:41:44,910]\u001b[0m Trial 38 finished with value: 0.6282528263103803 and parameters: {'loss': 'exponential', 'max_depth': 102, 'subsample': 0.061022172562192584, 'n_estimators': 66, 'learning_rate': 0.030198361261371234, 'min_samples_leaf': 2}. Best is trial 25 with value: 0.6385200411099692.\u001b[0m\n",
      "\u001b[32m[I 2023-04-19 14:47:29,077]\u001b[0m Trial 39 finished with value: 0.6367420349434738 and parameters: {'loss': 'exponential', 'max_depth': 124, 'subsample': 0.0893391610986826, 'n_estimators': 84, 'learning_rate': 0.020800965017619896, 'min_samples_leaf': 2}. Best is trial 25 with value: 0.6385200411099692.\u001b[0m\n",
      "\u001b[32m[I 2023-04-19 14:50:37,286]\u001b[0m Trial 40 finished with value: 0.6303288797533402 and parameters: {'loss': 'exponential', 'max_depth': 123, 'subsample': 0.06181922114217015, 'n_estimators': 77, 'learning_rate': 0.019991986318835767, 'min_samples_leaf': 3}. Best is trial 25 with value: 0.6385200411099692.\u001b[0m\n",
      "\u001b[32m[I 2023-04-19 14:56:13,124]\u001b[0m Trial 41 finished with value: 0.6345529290853031 and parameters: {'loss': 'exponential', 'max_depth': 120, 'subsample': 0.08855331137302655, 'n_estimators': 85, 'learning_rate': 0.014445466501700373, 'min_samples_leaf': 2}. Best is trial 25 with value: 0.6385200411099692.\u001b[0m\n",
      "\u001b[32m[I 2023-04-19 15:04:04,962]\u001b[0m Trial 42 finished with value: 0.639825282631038 and parameters: {'loss': 'exponential', 'max_depth': 124, 'subsample': 0.0952255963415358, 'n_estimators': 95, 'learning_rate': 0.021322285491065487, 'min_samples_leaf': 2}. Best is trial 42 with value: 0.639825282631038.\u001b[0m\n",
      "\u001b[32m[I 2023-04-19 15:11:31,944]\u001b[0m Trial 43 finished with value: 0.6363514902363824 and parameters: {'loss': 'exponential', 'max_depth': 125, 'subsample': 0.0974333957746238, 'n_estimators': 94, 'learning_rate': 0.021754207234775037, 'min_samples_leaf': 2}. Best is trial 42 with value: 0.639825282631038.\u001b[0m\n",
      "\u001b[32m[I 2023-04-19 15:19:21,919]\u001b[0m Trial 44 finished with value: 0.6308838643371018 and parameters: {'loss': 'exponential', 'max_depth': 125, 'subsample': 0.09965235003769916, 'n_estimators': 100, 'learning_rate': 0.036552903270075064, 'min_samples_leaf': 2}. Best is trial 42 with value: 0.639825282631038.\u001b[0m\n",
      "\u001b[32m[I 2023-04-19 15:25:06,896]\u001b[0m Trial 45 finished with value: 0.6314285714285715 and parameters: {'loss': 'exponential', 'max_depth': 115, 'subsample': 0.08283047458256022, 'n_estimators': 90, 'learning_rate': 0.028706630308613052, 'min_samples_leaf': 2}. Best is trial 42 with value: 0.639825282631038.\u001b[0m\n"
     ]
    },
    {
     "name": "stderr",
     "output_type": "stream",
     "text": [
      "/home/pedro-milet/.local/lib/python3.8/site-packages/sklearn/ensemble/_gb.py:280: FutureWarning: The loss parameter name 'deviance' was deprecated in v1.1 and will be removed in version 1.3. Use the new parameter name 'log_loss' which is equivalent.\n",
      "  warnings.warn(\n",
      "\u001b[32m[I 2023-04-19 15:30:59,342]\u001b[0m Trial 46 finished with value: 0.6371223021582734 and parameters: {'loss': 'deviance', 'max_depth': 64, 'subsample': 0.08896476136744262, 'n_estimators': 95, 'learning_rate': 0.03268801993499566, 'min_samples_leaf': 3}. Best is trial 42 with value: 0.639825282631038.\u001b[0m\n",
      "/home/pedro-milet/.local/lib/python3.8/site-packages/sklearn/ensemble/_gb.py:280: FutureWarning: The loss parameter name 'deviance' was deprecated in v1.1 and will be removed in version 1.3. Use the new parameter name 'log_loss' which is equivalent.\n",
      "  warnings.warn(\n",
      "\u001b[32m[I 2023-04-19 15:36:10,058]\u001b[0m Trial 47 finished with value: 0.6307913669064749 and parameters: {'loss': 'deviance', 'max_depth': 77, 'subsample': 0.07684019401292026, 'n_estimators': 95, 'learning_rate': 0.045062116787846995, 'min_samples_leaf': 3}. Best is trial 42 with value: 0.639825282631038.\u001b[0m\n",
      "/home/pedro-milet/.local/lib/python3.8/site-packages/sklearn/ensemble/_gb.py:280: FutureWarning: The loss parameter name 'deviance' was deprecated in v1.1 and will be removed in version 1.3. Use the new parameter name 'log_loss' which is equivalent.\n",
      "  warnings.warn(\n",
      "\u001b[32m[I 2023-04-19 15:37:53,012]\u001b[0m Trial 48 finished with value: 0.6209866392600205 and parameters: {'loss': 'deviance', 'max_depth': 89, 'subsample': 0.08482344887762974, 'n_estimators': 31, 'learning_rate': 0.03385512078570746, 'min_samples_leaf': 3}. Best is trial 42 with value: 0.639825282631038.\u001b[0m\n",
      "/home/pedro-milet/.local/lib/python3.8/site-packages/sklearn/ensemble/_gb.py:280: FutureWarning: The loss parameter name 'deviance' was deprecated in v1.1 and will be removed in version 1.3. Use the new parameter name 'log_loss' which is equivalent.\n",
      "  warnings.warn(\n",
      "\u001b[32m[I 2023-04-19 15:41:38,384]\u001b[0m Trial 49 finished with value: 0.6318191161356629 and parameters: {'loss': 'deviance', 'max_depth': 66, 'subsample': 0.0883408875579295, 'n_estimators': 63, 'learning_rate': 0.03268405989541863, 'min_samples_leaf': 3}. Best is trial 42 with value: 0.639825282631038.\u001b[0m\n",
      "/home/pedro-milet/.local/lib/python3.8/site-packages/sklearn/ensemble/_gb.py:280: FutureWarning: The loss parameter name 'deviance' was deprecated in v1.1 and will be removed in version 1.3. Use the new parameter name 'log_loss' which is equivalent.\n",
      "  warnings.warn(\n",
      "\u001b[32m[I 2023-04-19 15:45:31,862]\u001b[0m Trial 50 finished with value: 0.6356423432682425 and parameters: {'loss': 'deviance', 'max_depth': 70, 'subsample': 0.07851579528436173, 'n_estimators': 82, 'learning_rate': 0.0292601543080943, 'min_samples_leaf': 5}. Best is trial 42 with value: 0.639825282631038.\u001b[0m\n",
      "/home/pedro-milet/.local/lib/python3.8/site-packages/sklearn/ensemble/_gb.py:280: FutureWarning: The loss parameter name 'deviance' was deprecated in v1.1 and will be removed in version 1.3. Use the new parameter name 'log_loss' which is equivalent.\n",
      "  warnings.warn(\n",
      "\u001b[32m[I 2023-04-19 15:51:50,538]\u001b[0m Trial 51 finished with value: 0.6396813977389517 and parameters: {'loss': 'deviance', 'max_depth': 79, 'subsample': 0.08971756768326064, 'n_estimators': 92, 'learning_rate': 0.018966652385116415, 'min_samples_leaf': 2}. Best is trial 42 with value: 0.639825282631038.\u001b[0m\n",
      "/home/pedro-milet/.local/lib/python3.8/site-packages/sklearn/ensemble/_gb.py:280: FutureWarning: The loss parameter name 'deviance' was deprecated in v1.1 and will be removed in version 1.3. Use the new parameter name 'log_loss' which is equivalent.\n",
      "  warnings.warn(\n",
      "\u001b[32m[I 2023-04-19 15:57:05,096]\u001b[0m Trial 52 finished with value: 0.6381397738951696 and parameters: {'loss': 'deviance', 'max_depth': 79, 'subsample': 0.08289343752374072, 'n_estimators': 94, 'learning_rate': 0.019712004830861912, 'min_samples_leaf': 3}. Best is trial 42 with value: 0.639825282631038.\u001b[0m\n",
      "/home/pedro-milet/.local/lib/python3.8/site-packages/sklearn/ensemble/_gb.py:280: FutureWarning: The loss parameter name 'deviance' was deprecated in v1.1 and will be removed in version 1.3. Use the new parameter name 'log_loss' which is equivalent.\n",
      "  warnings.warn(\n",
      "\u001b[32m[I 2023-04-19 16:02:30,529]\u001b[0m Trial 53 finished with value: 0.6393525179856115 and parameters: {'loss': 'deviance', 'max_depth': 79, 'subsample': 0.08389924628884221, 'n_estimators': 97, 'learning_rate': 0.01867101988182794, 'min_samples_leaf': 3}. Best is trial 42 with value: 0.639825282631038.\u001b[0m\n",
      "/home/pedro-milet/.local/lib/python3.8/site-packages/sklearn/ensemble/_gb.py:280: FutureWarning: The loss parameter name 'deviance' was deprecated in v1.1 and will be removed in version 1.3. Use the new parameter name 'log_loss' which is equivalent.\n",
      "  warnings.warn(\n",
      "\u001b[32m[I 2023-04-19 16:07:52,947]\u001b[0m Trial 54 finished with value: 0.640524152106886 and parameters: {'loss': 'deviance', 'max_depth': 80, 'subsample': 0.08255639270193413, 'n_estimators': 98, 'learning_rate': 0.01808208510466513, 'min_samples_leaf': 3}. Best is trial 54 with value: 0.640524152106886.\u001b[0m\n",
      "/home/pedro-milet/.local/lib/python3.8/site-packages/sklearn/ensemble/_gb.py:280: FutureWarning: The loss parameter name 'deviance' was deprecated in v1.1 and will be removed in version 1.3. Use the new parameter name 'log_loss' which is equivalent.\n",
      "  warnings.warn(\n",
      "\u001b[32m[I 2023-04-19 16:13:05,598]\u001b[0m Trial 55 finished with value: 0.636382322713258 and parameters: {'loss': 'deviance', 'max_depth': 78, 'subsample': 0.08165444136985647, 'n_estimators': 98, 'learning_rate': 0.007454293602592645, 'min_samples_leaf': 3}. Best is trial 54 with value: 0.640524152106886.\u001b[0m\n",
      "/home/pedro-milet/.local/lib/python3.8/site-packages/sklearn/ensemble/_gb.py:280: FutureWarning: The loss parameter name 'deviance' was deprecated in v1.1 and will be removed in version 1.3. Use the new parameter name 'log_loss' which is equivalent.\n",
      "  warnings.warn(\n",
      "\u001b[32m[I 2023-04-19 16:19:26,571]\u001b[0m Trial 56 finished with value: 0.6430113052415211 and parameters: {'loss': 'deviance', 'max_depth': 80, 'subsample': 0.09440391156675204, 'n_estimators': 100, 'learning_rate': 0.017155254760404283, 'min_samples_leaf': 3}. Best is trial 56 with value: 0.6430113052415211.\u001b[0m\n",
      "/home/pedro-milet/.local/lib/python3.8/site-packages/sklearn/ensemble/_gb.py:280: FutureWarning: The loss parameter name 'deviance' was deprecated in v1.1 and will be removed in version 1.3. Use the new parameter name 'log_loss' which is equivalent.\n",
      "  warnings.warn(\n",
      "\u001b[32m[I 2023-04-19 16:25:28,683]\u001b[0m Trial 57 finished with value: 0.6406577595066804 and parameters: {'loss': 'deviance', 'max_depth': 73, 'subsample': 0.09669708105102083, 'n_estimators': 100, 'learning_rate': 0.011704562439892204, 'min_samples_leaf': 4}. Best is trial 56 with value: 0.6430113052415211.\u001b[0m\n",
      "/home/pedro-milet/.local/lib/python3.8/site-packages/sklearn/ensemble/_gb.py:280: FutureWarning: The loss parameter name 'deviance' was deprecated in v1.1 and will be removed in version 1.3. Use the new parameter name 'log_loss' which is equivalent.\n",
      "  warnings.warn(\n",
      "\u001b[32m[I 2023-04-19 16:31:26,372]\u001b[0m Trial 58 finished with value: 0.6395477903391572 and parameters: {'loss': 'deviance', 'max_depth': 74, 'subsample': 0.09659657100744869, 'n_estimators': 100, 'learning_rate': 0.008001112879360568, 'min_samples_leaf': 4}. Best is trial 56 with value: 0.6430113052415211.\u001b[0m\n",
      "/home/pedro-milet/.local/lib/python3.8/site-packages/sklearn/ensemble/_gb.py:280: FutureWarning: The loss parameter name 'deviance' was deprecated in v1.1 and will be removed in version 1.3. Use the new parameter name 'log_loss' which is equivalent.\n",
      "  warnings.warn(\n",
      "\u001b[32m[I 2023-04-19 16:37:22,775]\u001b[0m Trial 59 finished with value: 0.6378006166495375 and parameters: {'loss': 'deviance', 'max_depth': 73, 'subsample': 0.09676033298961856, 'n_estimators': 100, 'learning_rate': 0.004766241182416756, 'min_samples_leaf': 4}. Best is trial 56 with value: 0.6430113052415211.\u001b[0m\n",
      "/home/pedro-milet/.local/lib/python3.8/site-packages/sklearn/ensemble/_gb.py:280: FutureWarning: The loss parameter name 'deviance' was deprecated in v1.1 and will be removed in version 1.3. Use the new parameter name 'log_loss' which is equivalent.\n",
      "  warnings.warn(\n"
     ]
    },
    {
     "name": "stderr",
     "output_type": "stream",
     "text": [
      "\u001b[32m[I 2023-04-19 16:43:06,091]\u001b[0m Trial 60 finished with value: 0.6402261048304214 and parameters: {'loss': 'deviance', 'max_depth': 85, 'subsample': 0.09979717919389981, 'n_estimators': 92, 'learning_rate': 0.012222444345513374, 'min_samples_leaf': 4}. Best is trial 56 with value: 0.6430113052415211.\u001b[0m\n",
      "/home/pedro-milet/.local/lib/python3.8/site-packages/sklearn/ensemble/_gb.py:280: FutureWarning: The loss parameter name 'deviance' was deprecated in v1.1 and will be removed in version 1.3. Use the new parameter name 'log_loss' which is equivalent.\n",
      "  warnings.warn(\n",
      "\u001b[32m[I 2023-04-19 16:48:46,052]\u001b[0m Trial 61 finished with value: 0.637934224049332 and parameters: {'loss': 'deviance', 'max_depth': 85, 'subsample': 0.09941696761037465, 'n_estimators': 92, 'learning_rate': 0.00878585907919182, 'min_samples_leaf': 4}. Best is trial 56 with value: 0.6430113052415211.\u001b[0m\n",
      "/home/pedro-milet/.local/lib/python3.8/site-packages/sklearn/ensemble/_gb.py:280: FutureWarning: The loss parameter name 'deviance' was deprecated in v1.1 and will be removed in version 1.3. Use the new parameter name 'log_loss' which is equivalent.\n",
      "  warnings.warn(\n",
      "\u001b[32m[I 2023-04-19 16:53:52,318]\u001b[0m Trial 62 finished with value: 0.6406680369989722 and parameters: {'loss': 'deviance', 'max_depth': 74, 'subsample': 0.09366069706682884, 'n_estimators': 88, 'learning_rate': 0.011633866049515017, 'min_samples_leaf': 4}. Best is trial 56 with value: 0.6430113052415211.\u001b[0m\n",
      "/home/pedro-milet/.local/lib/python3.8/site-packages/sklearn/ensemble/_gb.py:280: FutureWarning: The loss parameter name 'deviance' was deprecated in v1.1 and will be removed in version 1.3. Use the new parameter name 'log_loss' which is equivalent.\n",
      "  warnings.warn(\n",
      "\u001b[32m[I 2023-04-19 16:58:56,650]\u001b[0m Trial 63 finished with value: 0.6401130524152107 and parameters: {'loss': 'deviance', 'max_depth': 82, 'subsample': 0.09223555835830743, 'n_estimators': 89, 'learning_rate': 0.01141107148730341, 'min_samples_leaf': 4}. Best is trial 56 with value: 0.6430113052415211.\u001b[0m\n"
     ]
    }
   ],
   "source": [
    "def gb(trial):\n",
    "    loss                = trial.suggest_categorical(\"loss\", [\"deviance\", \"exponential\"])\n",
    "    max_depth           = trial.suggest_int(\"max_depth\", 64, 128)\n",
    "    subsample           = trial.suggest_float(\"subsample\", 0.001, 0.1)\n",
    "    n_estimators        = trial.suggest_int(\"n_estimators\", 16, 100)\n",
    "    learning_rate       = trial.suggest_float(\"learning_rate\", 0.001, 0.1)\n",
    "    min_samples_leaf    = trial.suggest_int(\"min_samples_leaf\", 2, 5)\n",
    "    \n",
    "    gradient_boost = GradientBoostingClassifier(n_estimators = n_estimators, \n",
    "                                            max_depth = max_depth, \n",
    "                                            min_samples_leaf = min_samples_leaf, \n",
    "                                            learning_rate = learning_rate, \n",
    "                                            loss = loss, \n",
    "                                            subsample = subsample).fit(x_train.to_numpy(), y_train2.to_numpy().ravel())\n",
    "\n",
    "    gb_pred_class_test = gradient_boost.predict(x_test.to_numpy())\n",
    "\n",
    "    y_pred_gb_test = pred_name_columns(gb_pred_class_test)\n",
    "\n",
    "    acc = accuracy_score(y_test2,y_pred_gb_test)\n",
    "    return acc\n",
    "\n",
    "study_2 = optuna.create_study(direction=\"maximize\")\n",
    "study_2.optimize(gb, n_trials=64)"
   ]
  },
  {
   "cell_type": "code",
   "execution_count": null,
   "metadata": {},
   "outputs": [],
   "source": [
    "optuna.visualization.plot_optimization_history(study_2)"
   ]
  },
  {
   "cell_type": "code",
   "execution_count": 41,
   "metadata": {},
   "outputs": [
    {
     "data": {
      "application/vnd.plotly.v1+json": {
       "config": {
        "plotlyServerURL": "https://plot.ly"
       },
       "data": [
        {
         "marker": {
          "color": [
           0,
           1,
           2,
           3,
           4,
           5,
           6,
           7,
           8,
           9,
           10,
           11,
           12,
           13,
           14,
           15,
           16,
           17,
           18,
           19,
           20,
           21,
           22,
           23,
           24,
           25,
           26,
           27,
           28,
           29,
           30,
           31,
           32,
           33,
           34,
           35,
           36,
           37,
           38,
           39,
           40,
           41,
           42,
           43,
           44,
           45,
           46,
           47,
           48,
           49,
           50,
           51,
           52,
           53,
           54,
           55,
           56,
           57,
           58,
           59,
           60,
           61,
           62,
           63
          ],
          "colorbar": {
           "title": {
            "text": "Trial"
           },
           "x": 1,
           "xpad": 40
          },
          "colorscale": [
           [
            0,
            "rgb(247,251,255)"
           ],
           [
            0.125,
            "rgb(222,235,247)"
           ],
           [
            0.25,
            "rgb(198,219,239)"
           ],
           [
            0.375,
            "rgb(158,202,225)"
           ],
           [
            0.5,
            "rgb(107,174,214)"
           ],
           [
            0.625,
            "rgb(66,146,198)"
           ],
           [
            0.75,
            "rgb(33,113,181)"
           ],
           [
            0.875,
            "rgb(8,81,156)"
           ],
           [
            1,
            "rgb(8,48,107)"
           ]
          ],
          "line": {
           "color": "Grey",
           "width": 0.5
          },
          "showscale": true
         },
         "mode": "markers",
         "showlegend": false,
         "type": "scatter",
         "x": [
          0.07445285935552863,
          0.033441738037814805,
          0.09395725599560707,
          0.006033903876558847,
          0.042100182604071154,
          0.015511596453501378,
          0.018596617365181308,
          0.06442535946858496,
          0.049993974455329944,
          0.06470097147787206,
          0.033621779892103985,
          0.05976850624263012,
          0.03240284497849221,
          0.03033006387291278,
          0.025125624938201023,
          0.0017685026964620494,
          0.006284889714460867,
          0.0038613666382017325,
          0.017721720282533895,
          0.022406344884911226,
          0.0010040077989371538,
          0.009510709481677688,
          0.011378443432405218,
          0.014504284284913339,
          0.023874717269751128,
          0.025512741532390557,
          0.024869849815408983,
          0.025534543132043945,
          0.03932758851701601,
          0.0425107783495679,
          0.024092779134225643,
          0.014791918091689818,
          0.01118716550199154,
          0.019956621721329094,
          0.02611860823389916,
          0.016167563552967838,
          0.036515596189540214,
          0.027604388980090634,
          0.030198361261371234,
          0.020800965017619896,
          0.019991986318835767,
          0.014445466501700373,
          0.021322285491065487,
          0.021754207234775037,
          0.036552903270075064,
          0.028706630308613052,
          0.03268801993499566,
          0.045062116787846995,
          0.03385512078570746,
          0.03268405989541863,
          0.0292601543080943,
          0.018966652385116415,
          0.019712004830861912,
          0.01867101988182794,
          0.01808208510466513,
          0.007454293602592645,
          0.017155254760404283,
          0.011704562439892204,
          0.008001112879360568,
          0.004766241182416756,
          0.012222444345513374,
          0.00878585907919182,
          0.011633866049515017,
          0.01141107148730341
         ],
         "xaxis": "x",
         "y": [
          0.6177595066803699,
          0.6310791366906475,
          0.6094861253854059,
          0.604737923946557,
          0.6220143884892086,
          0.6137615621788284,
          0.6198972250770812,
          0.6232168550873587,
          0.61551901336074,
          0.6162589928057554,
          0.6104522096608428,
          0.6228160328879754,
          0.6318499486125385,
          0.6320041109969168,
          0.6374820143884892,
          0.6323741007194245,
          0.6302774922918808,
          0.632415210688592,
          0.6308016443987667,
          0.6310174717368962,
          0.6305447070914697,
          0.6345426515930113,
          0.6362487153134635,
          0.6362795477903391,
          0.6365262076053443,
          0.6385200411099692,
          0.6347173689619733,
          0.6349743062692703,
          0.6301233299075025,
          0.6222302158273382,
          0.6323843782117163,
          0.6365056526207605,
          0.6318602261048304,
          0.6365056526207605,
          0.63327852004111,
          0.6146145940390545,
          0.6332682425488181,
          0.6298561151079136,
          0.6282528263103803,
          0.6367420349434738,
          0.6303288797533402,
          0.6345529290853031,
          0.639825282631038,
          0.6363514902363824,
          0.6308838643371018,
          0.6314285714285715,
          0.6371223021582734,
          0.6307913669064749,
          0.6209866392600205,
          0.6318191161356629,
          0.6356423432682425,
          0.6396813977389517,
          0.6381397738951696,
          0.6393525179856115,
          0.640524152106886,
          0.636382322713258,
          0.6430113052415211,
          0.6406577595066804,
          0.6395477903391572,
          0.6378006166495375,
          0.6402261048304214,
          0.637934224049332,
          0.6406680369989722,
          0.6401130524152107
         ],
         "yaxis": "y"
        },
        {
         "marker": {
          "color": [
           0,
           1,
           2,
           3,
           4,
           5,
           6,
           7,
           8,
           9,
           10,
           11,
           12,
           13,
           14,
           15,
           16,
           17,
           18,
           19,
           20,
           21,
           22,
           23,
           24,
           25,
           26,
           27,
           28,
           29,
           30,
           31,
           32,
           33,
           34,
           35,
           36,
           37,
           38,
           39,
           40,
           41,
           42,
           43,
           44,
           45,
           46,
           47,
           48,
           49,
           50,
           51,
           52,
           53,
           54,
           55,
           56,
           57,
           58,
           59,
           60,
           61,
           62,
           63
          ],
          "colorbar": {
           "title": {
            "text": "Trial"
           },
           "x": 1,
           "xpad": 40
          },
          "colorscale": [
           [
            0,
            "rgb(247,251,255)"
           ],
           [
            0.125,
            "rgb(222,235,247)"
           ],
           [
            0.25,
            "rgb(198,219,239)"
           ],
           [
            0.375,
            "rgb(158,202,225)"
           ],
           [
            0.5,
            "rgb(107,174,214)"
           ],
           [
            0.625,
            "rgb(66,146,198)"
           ],
           [
            0.75,
            "rgb(33,113,181)"
           ],
           [
            0.875,
            "rgb(8,81,156)"
           ],
           [
            1,
            "rgb(8,48,107)"
           ]
          ],
          "line": {
           "color": "Grey",
           "width": 0.5
          },
          "showscale": false
         },
         "mode": "markers",
         "showlegend": false,
         "type": "scatter",
         "x": [
          "exponential",
          "exponential",
          "deviance",
          "deviance",
          "deviance",
          "exponential",
          "exponential",
          "exponential",
          "exponential",
          "deviance",
          "exponential",
          "exponential",
          "exponential",
          "exponential",
          "exponential",
          "exponential",
          "exponential",
          "exponential",
          "deviance",
          "exponential",
          "exponential",
          "exponential",
          "exponential",
          "exponential",
          "exponential",
          "exponential",
          "deviance",
          "exponential",
          "exponential",
          "exponential",
          "exponential",
          "exponential",
          "exponential",
          "exponential",
          "exponential",
          "deviance",
          "exponential",
          "deviance",
          "exponential",
          "exponential",
          "exponential",
          "exponential",
          "exponential",
          "exponential",
          "exponential",
          "exponential",
          "deviance",
          "deviance",
          "deviance",
          "deviance",
          "deviance",
          "deviance",
          "deviance",
          "deviance",
          "deviance",
          "deviance",
          "deviance",
          "deviance",
          "deviance",
          "deviance",
          "deviance",
          "deviance",
          "deviance",
          "deviance"
         ],
         "xaxis": "x2",
         "y": [
          0.6177595066803699,
          0.6310791366906475,
          0.6094861253854059,
          0.604737923946557,
          0.6220143884892086,
          0.6137615621788284,
          0.6198972250770812,
          0.6232168550873587,
          0.61551901336074,
          0.6162589928057554,
          0.6104522096608428,
          0.6228160328879754,
          0.6318499486125385,
          0.6320041109969168,
          0.6374820143884892,
          0.6323741007194245,
          0.6302774922918808,
          0.632415210688592,
          0.6308016443987667,
          0.6310174717368962,
          0.6305447070914697,
          0.6345426515930113,
          0.6362487153134635,
          0.6362795477903391,
          0.6365262076053443,
          0.6385200411099692,
          0.6347173689619733,
          0.6349743062692703,
          0.6301233299075025,
          0.6222302158273382,
          0.6323843782117163,
          0.6365056526207605,
          0.6318602261048304,
          0.6365056526207605,
          0.63327852004111,
          0.6146145940390545,
          0.6332682425488181,
          0.6298561151079136,
          0.6282528263103803,
          0.6367420349434738,
          0.6303288797533402,
          0.6345529290853031,
          0.639825282631038,
          0.6363514902363824,
          0.6308838643371018,
          0.6314285714285715,
          0.6371223021582734,
          0.6307913669064749,
          0.6209866392600205,
          0.6318191161356629,
          0.6356423432682425,
          0.6396813977389517,
          0.6381397738951696,
          0.6393525179856115,
          0.640524152106886,
          0.636382322713258,
          0.6430113052415211,
          0.6406577595066804,
          0.6395477903391572,
          0.6378006166495375,
          0.6402261048304214,
          0.637934224049332,
          0.6406680369989722,
          0.6401130524152107
         ],
         "yaxis": "y2"
        },
        {
         "marker": {
          "color": [
           0,
           1,
           2,
           3,
           4,
           5,
           6,
           7,
           8,
           9,
           10,
           11,
           12,
           13,
           14,
           15,
           16,
           17,
           18,
           19,
           20,
           21,
           22,
           23,
           24,
           25,
           26,
           27,
           28,
           29,
           30,
           31,
           32,
           33,
           34,
           35,
           36,
           37,
           38,
           39,
           40,
           41,
           42,
           43,
           44,
           45,
           46,
           47,
           48,
           49,
           50,
           51,
           52,
           53,
           54,
           55,
           56,
           57,
           58,
           59,
           60,
           61,
           62,
           63
          ],
          "colorbar": {
           "title": {
            "text": "Trial"
           },
           "x": 1,
           "xpad": 40
          },
          "colorscale": [
           [
            0,
            "rgb(247,251,255)"
           ],
           [
            0.125,
            "rgb(222,235,247)"
           ],
           [
            0.25,
            "rgb(198,219,239)"
           ],
           [
            0.375,
            "rgb(158,202,225)"
           ],
           [
            0.5,
            "rgb(107,174,214)"
           ],
           [
            0.625,
            "rgb(66,146,198)"
           ],
           [
            0.75,
            "rgb(33,113,181)"
           ],
           [
            0.875,
            "rgb(8,81,156)"
           ],
           [
            1,
            "rgb(8,48,107)"
           ]
          ],
          "line": {
           "color": "Grey",
           "width": 0.5
          },
          "showscale": false
         },
         "mode": "markers",
         "showlegend": false,
         "type": "scatter",
         "x": [
          125,
          85,
          82,
          76,
          84,
          83,
          101,
          122,
          95,
          126,
          106,
          66,
          114,
          113,
          111,
          112,
          113,
          96,
          94,
          105,
          99,
          118,
          118,
          120,
          120,
          128,
          108,
          127,
          128,
          124,
          117,
          121,
          121,
          123,
          128,
          110,
          90,
          116,
          102,
          124,
          123,
          120,
          124,
          125,
          125,
          115,
          64,
          77,
          89,
          66,
          70,
          79,
          79,
          79,
          80,
          78,
          80,
          73,
          74,
          73,
          85,
          85,
          74,
          82
         ],
         "xaxis": "x3",
         "y": [
          0.6177595066803699,
          0.6310791366906475,
          0.6094861253854059,
          0.604737923946557,
          0.6220143884892086,
          0.6137615621788284,
          0.6198972250770812,
          0.6232168550873587,
          0.61551901336074,
          0.6162589928057554,
          0.6104522096608428,
          0.6228160328879754,
          0.6318499486125385,
          0.6320041109969168,
          0.6374820143884892,
          0.6323741007194245,
          0.6302774922918808,
          0.632415210688592,
          0.6308016443987667,
          0.6310174717368962,
          0.6305447070914697,
          0.6345426515930113,
          0.6362487153134635,
          0.6362795477903391,
          0.6365262076053443,
          0.6385200411099692,
          0.6347173689619733,
          0.6349743062692703,
          0.6301233299075025,
          0.6222302158273382,
          0.6323843782117163,
          0.6365056526207605,
          0.6318602261048304,
          0.6365056526207605,
          0.63327852004111,
          0.6146145940390545,
          0.6332682425488181,
          0.6298561151079136,
          0.6282528263103803,
          0.6367420349434738,
          0.6303288797533402,
          0.6345529290853031,
          0.639825282631038,
          0.6363514902363824,
          0.6308838643371018,
          0.6314285714285715,
          0.6371223021582734,
          0.6307913669064749,
          0.6209866392600205,
          0.6318191161356629,
          0.6356423432682425,
          0.6396813977389517,
          0.6381397738951696,
          0.6393525179856115,
          0.640524152106886,
          0.636382322713258,
          0.6430113052415211,
          0.6406577595066804,
          0.6395477903391572,
          0.6378006166495375,
          0.6402261048304214,
          0.637934224049332,
          0.6406680369989722,
          0.6401130524152107
         ],
         "yaxis": "y3"
        },
        {
         "marker": {
          "color": [
           0,
           1,
           2,
           3,
           4,
           5,
           6,
           7,
           8,
           9,
           10,
           11,
           12,
           13,
           14,
           15,
           16,
           17,
           18,
           19,
           20,
           21,
           22,
           23,
           24,
           25,
           26,
           27,
           28,
           29,
           30,
           31,
           32,
           33,
           34,
           35,
           36,
           37,
           38,
           39,
           40,
           41,
           42,
           43,
           44,
           45,
           46,
           47,
           48,
           49,
           50,
           51,
           52,
           53,
           54,
           55,
           56,
           57,
           58,
           59,
           60,
           61,
           62,
           63
          ],
          "colorbar": {
           "title": {
            "text": "Trial"
           },
           "x": 1,
           "xpad": 40
          },
          "colorscale": [
           [
            0,
            "rgb(247,251,255)"
           ],
           [
            0.125,
            "rgb(222,235,247)"
           ],
           [
            0.25,
            "rgb(198,219,239)"
           ],
           [
            0.375,
            "rgb(158,202,225)"
           ],
           [
            0.5,
            "rgb(107,174,214)"
           ],
           [
            0.625,
            "rgb(66,146,198)"
           ],
           [
            0.75,
            "rgb(33,113,181)"
           ],
           [
            0.875,
            "rgb(8,81,156)"
           ],
           [
            1,
            "rgb(8,48,107)"
           ]
          ],
          "line": {
           "color": "Grey",
           "width": 0.5
          },
          "showscale": false
         },
         "mode": "markers",
         "showlegend": false,
         "type": "scatter",
         "x": [
          3,
          5,
          5,
          2,
          3,
          4,
          4,
          2,
          5,
          5,
          4,
          2,
          3,
          3,
          3,
          3,
          3,
          4,
          4,
          4,
          4,
          3,
          3,
          2,
          2,
          2,
          2,
          2,
          2,
          2,
          2,
          2,
          2,
          2,
          2,
          2,
          3,
          3,
          2,
          2,
          3,
          2,
          2,
          2,
          2,
          2,
          3,
          3,
          3,
          3,
          5,
          2,
          3,
          3,
          3,
          3,
          3,
          4,
          4,
          4,
          4,
          4,
          4,
          4
         ],
         "xaxis": "x4",
         "y": [
          0.6177595066803699,
          0.6310791366906475,
          0.6094861253854059,
          0.604737923946557,
          0.6220143884892086,
          0.6137615621788284,
          0.6198972250770812,
          0.6232168550873587,
          0.61551901336074,
          0.6162589928057554,
          0.6104522096608428,
          0.6228160328879754,
          0.6318499486125385,
          0.6320041109969168,
          0.6374820143884892,
          0.6323741007194245,
          0.6302774922918808,
          0.632415210688592,
          0.6308016443987667,
          0.6310174717368962,
          0.6305447070914697,
          0.6345426515930113,
          0.6362487153134635,
          0.6362795477903391,
          0.6365262076053443,
          0.6385200411099692,
          0.6347173689619733,
          0.6349743062692703,
          0.6301233299075025,
          0.6222302158273382,
          0.6323843782117163,
          0.6365056526207605,
          0.6318602261048304,
          0.6365056526207605,
          0.63327852004111,
          0.6146145940390545,
          0.6332682425488181,
          0.6298561151079136,
          0.6282528263103803,
          0.6367420349434738,
          0.6303288797533402,
          0.6345529290853031,
          0.639825282631038,
          0.6363514902363824,
          0.6308838643371018,
          0.6314285714285715,
          0.6371223021582734,
          0.6307913669064749,
          0.6209866392600205,
          0.6318191161356629,
          0.6356423432682425,
          0.6396813977389517,
          0.6381397738951696,
          0.6393525179856115,
          0.640524152106886,
          0.636382322713258,
          0.6430113052415211,
          0.6406577595066804,
          0.6395477903391572,
          0.6378006166495375,
          0.6402261048304214,
          0.637934224049332,
          0.6406680369989722,
          0.6401130524152107
         ],
         "yaxis": "y4"
        },
        {
         "marker": {
          "color": [
           0,
           1,
           2,
           3,
           4,
           5,
           6,
           7,
           8,
           9,
           10,
           11,
           12,
           13,
           14,
           15,
           16,
           17,
           18,
           19,
           20,
           21,
           22,
           23,
           24,
           25,
           26,
           27,
           28,
           29,
           30,
           31,
           32,
           33,
           34,
           35,
           36,
           37,
           38,
           39,
           40,
           41,
           42,
           43,
           44,
           45,
           46,
           47,
           48,
           49,
           50,
           51,
           52,
           53,
           54,
           55,
           56,
           57,
           58,
           59,
           60,
           61,
           62,
           63
          ],
          "colorbar": {
           "title": {
            "text": "Trial"
           },
           "x": 1,
           "xpad": 40
          },
          "colorscale": [
           [
            0,
            "rgb(247,251,255)"
           ],
           [
            0.125,
            "rgb(222,235,247)"
           ],
           [
            0.25,
            "rgb(198,219,239)"
           ],
           [
            0.375,
            "rgb(158,202,225)"
           ],
           [
            0.5,
            "rgb(107,174,214)"
           ],
           [
            0.625,
            "rgb(66,146,198)"
           ],
           [
            0.75,
            "rgb(33,113,181)"
           ],
           [
            0.875,
            "rgb(8,81,156)"
           ],
           [
            1,
            "rgb(8,48,107)"
           ]
          ],
          "line": {
           "color": "Grey",
           "width": 0.5
          },
          "showscale": false
         },
         "mode": "markers",
         "showlegend": false,
         "type": "scatter",
         "x": [
          27,
          99,
          89,
          25,
          68,
          58,
          37,
          63,
          44,
          23,
          91,
          72,
          99,
          98,
          81,
          82,
          79,
          80,
          59,
          50,
          78,
          83,
          87,
          89,
          90,
          72,
          73,
          67,
          51,
          94,
          73,
          85,
          85,
          95,
          91,
          16,
          75,
          69,
          66,
          84,
          77,
          85,
          95,
          94,
          100,
          90,
          95,
          95,
          31,
          63,
          82,
          92,
          94,
          97,
          98,
          98,
          100,
          100,
          100,
          100,
          92,
          92,
          88,
          89
         ],
         "xaxis": "x5",
         "y": [
          0.6177595066803699,
          0.6310791366906475,
          0.6094861253854059,
          0.604737923946557,
          0.6220143884892086,
          0.6137615621788284,
          0.6198972250770812,
          0.6232168550873587,
          0.61551901336074,
          0.6162589928057554,
          0.6104522096608428,
          0.6228160328879754,
          0.6318499486125385,
          0.6320041109969168,
          0.6374820143884892,
          0.6323741007194245,
          0.6302774922918808,
          0.632415210688592,
          0.6308016443987667,
          0.6310174717368962,
          0.6305447070914697,
          0.6345426515930113,
          0.6362487153134635,
          0.6362795477903391,
          0.6365262076053443,
          0.6385200411099692,
          0.6347173689619733,
          0.6349743062692703,
          0.6301233299075025,
          0.6222302158273382,
          0.6323843782117163,
          0.6365056526207605,
          0.6318602261048304,
          0.6365056526207605,
          0.63327852004111,
          0.6146145940390545,
          0.6332682425488181,
          0.6298561151079136,
          0.6282528263103803,
          0.6367420349434738,
          0.6303288797533402,
          0.6345529290853031,
          0.639825282631038,
          0.6363514902363824,
          0.6308838643371018,
          0.6314285714285715,
          0.6371223021582734,
          0.6307913669064749,
          0.6209866392600205,
          0.6318191161356629,
          0.6356423432682425,
          0.6396813977389517,
          0.6381397738951696,
          0.6393525179856115,
          0.640524152106886,
          0.636382322713258,
          0.6430113052415211,
          0.6406577595066804,
          0.6395477903391572,
          0.6378006166495375,
          0.6402261048304214,
          0.637934224049332,
          0.6406680369989722,
          0.6401130524152107
         ],
         "yaxis": "y5"
        },
        {
         "marker": {
          "color": [
           0,
           1,
           2,
           3,
           4,
           5,
           6,
           7,
           8,
           9,
           10,
           11,
           12,
           13,
           14,
           15,
           16,
           17,
           18,
           19,
           20,
           21,
           22,
           23,
           24,
           25,
           26,
           27,
           28,
           29,
           30,
           31,
           32,
           33,
           34,
           35,
           36,
           37,
           38,
           39,
           40,
           41,
           42,
           43,
           44,
           45,
           46,
           47,
           48,
           49,
           50,
           51,
           52,
           53,
           54,
           55,
           56,
           57,
           58,
           59,
           60,
           61,
           62,
           63
          ],
          "colorbar": {
           "title": {
            "text": "Trial"
           },
           "x": 1,
           "xpad": 40
          },
          "colorscale": [
           [
            0,
            "rgb(247,251,255)"
           ],
           [
            0.125,
            "rgb(222,235,247)"
           ],
           [
            0.25,
            "rgb(198,219,239)"
           ],
           [
            0.375,
            "rgb(158,202,225)"
           ],
           [
            0.5,
            "rgb(107,174,214)"
           ],
           [
            0.625,
            "rgb(66,146,198)"
           ],
           [
            0.75,
            "rgb(33,113,181)"
           ],
           [
            0.875,
            "rgb(8,81,156)"
           ],
           [
            1,
            "rgb(8,48,107)"
           ]
          ],
          "line": {
           "color": "Grey",
           "width": 0.5
          },
          "showscale": false
         },
         "mode": "markers",
         "showlegend": false,
         "type": "scatter",
         "x": [
          0.07072894079063337,
          0.06324711195828359,
          0.06663067573190148,
          0.020982159606297617,
          0.046358722030970634,
          0.018554409190494853,
          0.05167180698625913,
          0.09872008929977494,
          0.03091598607665034,
          0.0798248459644877,
          0.007855798951387563,
          0.09972641592679858,
          0.09239751561803003,
          0.08696380225600203,
          0.08409605161349137,
          0.08471657914098495,
          0.08071341612978733,
          0.0807115492250926,
          0.07674756947946973,
          0.0911034875452053,
          0.0722465698390255,
          0.08550483449226999,
          0.08603079462018967,
          0.0915958039548111,
          0.09323307096321706,
          0.09535438593341383,
          0.09942496697399952,
          0.09461921606655647,
          0.09234310962614478,
          0.07318569139307306,
          0.06613165514872692,
          0.09110933965831619,
          0.07497234941847984,
          0.08797414019729452,
          0.08058929693309348,
          0.09581604276903347,
          0.09555070478939542,
          0.06943608900143838,
          0.061022172562192584,
          0.0893391610986826,
          0.06181922114217015,
          0.08855331137302655,
          0.0952255963415358,
          0.0974333957746238,
          0.09965235003769916,
          0.08283047458256022,
          0.08896476136744262,
          0.07684019401292026,
          0.08482344887762974,
          0.0883408875579295,
          0.07851579528436173,
          0.08971756768326064,
          0.08289343752374072,
          0.08389924628884221,
          0.08255639270193413,
          0.08165444136985647,
          0.09440391156675204,
          0.09669708105102083,
          0.09659657100744869,
          0.09676033298961856,
          0.09979717919389981,
          0.09941696761037465,
          0.09366069706682884,
          0.09223555835830743
         ],
         "xaxis": "x6",
         "y": [
          0.6177595066803699,
          0.6310791366906475,
          0.6094861253854059,
          0.604737923946557,
          0.6220143884892086,
          0.6137615621788284,
          0.6198972250770812,
          0.6232168550873587,
          0.61551901336074,
          0.6162589928057554,
          0.6104522096608428,
          0.6228160328879754,
          0.6318499486125385,
          0.6320041109969168,
          0.6374820143884892,
          0.6323741007194245,
          0.6302774922918808,
          0.632415210688592,
          0.6308016443987667,
          0.6310174717368962,
          0.6305447070914697,
          0.6345426515930113,
          0.6362487153134635,
          0.6362795477903391,
          0.6365262076053443,
          0.6385200411099692,
          0.6347173689619733,
          0.6349743062692703,
          0.6301233299075025,
          0.6222302158273382,
          0.6323843782117163,
          0.6365056526207605,
          0.6318602261048304,
          0.6365056526207605,
          0.63327852004111,
          0.6146145940390545,
          0.6332682425488181,
          0.6298561151079136,
          0.6282528263103803,
          0.6367420349434738,
          0.6303288797533402,
          0.6345529290853031,
          0.639825282631038,
          0.6363514902363824,
          0.6308838643371018,
          0.6314285714285715,
          0.6371223021582734,
          0.6307913669064749,
          0.6209866392600205,
          0.6318191161356629,
          0.6356423432682425,
          0.6396813977389517,
          0.6381397738951696,
          0.6393525179856115,
          0.640524152106886,
          0.636382322713258,
          0.6430113052415211,
          0.6406577595066804,
          0.6395477903391572,
          0.6378006166495375,
          0.6402261048304214,
          0.637934224049332,
          0.6406680369989722,
          0.6401130524152107
         ],
         "yaxis": "y6"
        }
       ],
       "layout": {
        "template": {
         "data": {
          "bar": [
           {
            "error_x": {
             "color": "#2a3f5f"
            },
            "error_y": {
             "color": "#2a3f5f"
            },
            "marker": {
             "line": {
              "color": "#E5ECF6",
              "width": 0.5
             },
             "pattern": {
              "fillmode": "overlay",
              "size": 10,
              "solidity": 0.2
             }
            },
            "type": "bar"
           }
          ],
          "barpolar": [
           {
            "marker": {
             "line": {
              "color": "#E5ECF6",
              "width": 0.5
             },
             "pattern": {
              "fillmode": "overlay",
              "size": 10,
              "solidity": 0.2
             }
            },
            "type": "barpolar"
           }
          ],
          "carpet": [
           {
            "aaxis": {
             "endlinecolor": "#2a3f5f",
             "gridcolor": "white",
             "linecolor": "white",
             "minorgridcolor": "white",
             "startlinecolor": "#2a3f5f"
            },
            "baxis": {
             "endlinecolor": "#2a3f5f",
             "gridcolor": "white",
             "linecolor": "white",
             "minorgridcolor": "white",
             "startlinecolor": "#2a3f5f"
            },
            "type": "carpet"
           }
          ],
          "choropleth": [
           {
            "colorbar": {
             "outlinewidth": 0,
             "ticks": ""
            },
            "type": "choropleth"
           }
          ],
          "contour": [
           {
            "colorbar": {
             "outlinewidth": 0,
             "ticks": ""
            },
            "colorscale": [
             [
              0,
              "#0d0887"
             ],
             [
              0.1111111111111111,
              "#46039f"
             ],
             [
              0.2222222222222222,
              "#7201a8"
             ],
             [
              0.3333333333333333,
              "#9c179e"
             ],
             [
              0.4444444444444444,
              "#bd3786"
             ],
             [
              0.5555555555555556,
              "#d8576b"
             ],
             [
              0.6666666666666666,
              "#ed7953"
             ],
             [
              0.7777777777777778,
              "#fb9f3a"
             ],
             [
              0.8888888888888888,
              "#fdca26"
             ],
             [
              1,
              "#f0f921"
             ]
            ],
            "type": "contour"
           }
          ],
          "contourcarpet": [
           {
            "colorbar": {
             "outlinewidth": 0,
             "ticks": ""
            },
            "type": "contourcarpet"
           }
          ],
          "heatmap": [
           {
            "colorbar": {
             "outlinewidth": 0,
             "ticks": ""
            },
            "colorscale": [
             [
              0,
              "#0d0887"
             ],
             [
              0.1111111111111111,
              "#46039f"
             ],
             [
              0.2222222222222222,
              "#7201a8"
             ],
             [
              0.3333333333333333,
              "#9c179e"
             ],
             [
              0.4444444444444444,
              "#bd3786"
             ],
             [
              0.5555555555555556,
              "#d8576b"
             ],
             [
              0.6666666666666666,
              "#ed7953"
             ],
             [
              0.7777777777777778,
              "#fb9f3a"
             ],
             [
              0.8888888888888888,
              "#fdca26"
             ],
             [
              1,
              "#f0f921"
             ]
            ],
            "type": "heatmap"
           }
          ],
          "heatmapgl": [
           {
            "colorbar": {
             "outlinewidth": 0,
             "ticks": ""
            },
            "colorscale": [
             [
              0,
              "#0d0887"
             ],
             [
              0.1111111111111111,
              "#46039f"
             ],
             [
              0.2222222222222222,
              "#7201a8"
             ],
             [
              0.3333333333333333,
              "#9c179e"
             ],
             [
              0.4444444444444444,
              "#bd3786"
             ],
             [
              0.5555555555555556,
              "#d8576b"
             ],
             [
              0.6666666666666666,
              "#ed7953"
             ],
             [
              0.7777777777777778,
              "#fb9f3a"
             ],
             [
              0.8888888888888888,
              "#fdca26"
             ],
             [
              1,
              "#f0f921"
             ]
            ],
            "type": "heatmapgl"
           }
          ],
          "histogram": [
           {
            "marker": {
             "pattern": {
              "fillmode": "overlay",
              "size": 10,
              "solidity": 0.2
             }
            },
            "type": "histogram"
           }
          ],
          "histogram2d": [
           {
            "colorbar": {
             "outlinewidth": 0,
             "ticks": ""
            },
            "colorscale": [
             [
              0,
              "#0d0887"
             ],
             [
              0.1111111111111111,
              "#46039f"
             ],
             [
              0.2222222222222222,
              "#7201a8"
             ],
             [
              0.3333333333333333,
              "#9c179e"
             ],
             [
              0.4444444444444444,
              "#bd3786"
             ],
             [
              0.5555555555555556,
              "#d8576b"
             ],
             [
              0.6666666666666666,
              "#ed7953"
             ],
             [
              0.7777777777777778,
              "#fb9f3a"
             ],
             [
              0.8888888888888888,
              "#fdca26"
             ],
             [
              1,
              "#f0f921"
             ]
            ],
            "type": "histogram2d"
           }
          ],
          "histogram2dcontour": [
           {
            "colorbar": {
             "outlinewidth": 0,
             "ticks": ""
            },
            "colorscale": [
             [
              0,
              "#0d0887"
             ],
             [
              0.1111111111111111,
              "#46039f"
             ],
             [
              0.2222222222222222,
              "#7201a8"
             ],
             [
              0.3333333333333333,
              "#9c179e"
             ],
             [
              0.4444444444444444,
              "#bd3786"
             ],
             [
              0.5555555555555556,
              "#d8576b"
             ],
             [
              0.6666666666666666,
              "#ed7953"
             ],
             [
              0.7777777777777778,
              "#fb9f3a"
             ],
             [
              0.8888888888888888,
              "#fdca26"
             ],
             [
              1,
              "#f0f921"
             ]
            ],
            "type": "histogram2dcontour"
           }
          ],
          "mesh3d": [
           {
            "colorbar": {
             "outlinewidth": 0,
             "ticks": ""
            },
            "type": "mesh3d"
           }
          ],
          "parcoords": [
           {
            "line": {
             "colorbar": {
              "outlinewidth": 0,
              "ticks": ""
             }
            },
            "type": "parcoords"
           }
          ],
          "pie": [
           {
            "automargin": true,
            "type": "pie"
           }
          ],
          "scatter": [
           {
            "fillpattern": {
             "fillmode": "overlay",
             "size": 10,
             "solidity": 0.2
            },
            "type": "scatter"
           }
          ],
          "scatter3d": [
           {
            "line": {
             "colorbar": {
              "outlinewidth": 0,
              "ticks": ""
             }
            },
            "marker": {
             "colorbar": {
              "outlinewidth": 0,
              "ticks": ""
             }
            },
            "type": "scatter3d"
           }
          ],
          "scattercarpet": [
           {
            "marker": {
             "colorbar": {
              "outlinewidth": 0,
              "ticks": ""
             }
            },
            "type": "scattercarpet"
           }
          ],
          "scattergeo": [
           {
            "marker": {
             "colorbar": {
              "outlinewidth": 0,
              "ticks": ""
             }
            },
            "type": "scattergeo"
           }
          ],
          "scattergl": [
           {
            "marker": {
             "colorbar": {
              "outlinewidth": 0,
              "ticks": ""
             }
            },
            "type": "scattergl"
           }
          ],
          "scattermapbox": [
           {
            "marker": {
             "colorbar": {
              "outlinewidth": 0,
              "ticks": ""
             }
            },
            "type": "scattermapbox"
           }
          ],
          "scatterpolar": [
           {
            "marker": {
             "colorbar": {
              "outlinewidth": 0,
              "ticks": ""
             }
            },
            "type": "scatterpolar"
           }
          ],
          "scatterpolargl": [
           {
            "marker": {
             "colorbar": {
              "outlinewidth": 0,
              "ticks": ""
             }
            },
            "type": "scatterpolargl"
           }
          ],
          "scatterternary": [
           {
            "marker": {
             "colorbar": {
              "outlinewidth": 0,
              "ticks": ""
             }
            },
            "type": "scatterternary"
           }
          ],
          "surface": [
           {
            "colorbar": {
             "outlinewidth": 0,
             "ticks": ""
            },
            "colorscale": [
             [
              0,
              "#0d0887"
             ],
             [
              0.1111111111111111,
              "#46039f"
             ],
             [
              0.2222222222222222,
              "#7201a8"
             ],
             [
              0.3333333333333333,
              "#9c179e"
             ],
             [
              0.4444444444444444,
              "#bd3786"
             ],
             [
              0.5555555555555556,
              "#d8576b"
             ],
             [
              0.6666666666666666,
              "#ed7953"
             ],
             [
              0.7777777777777778,
              "#fb9f3a"
             ],
             [
              0.8888888888888888,
              "#fdca26"
             ],
             [
              1,
              "#f0f921"
             ]
            ],
            "type": "surface"
           }
          ],
          "table": [
           {
            "cells": {
             "fill": {
              "color": "#EBF0F8"
             },
             "line": {
              "color": "white"
             }
            },
            "header": {
             "fill": {
              "color": "#C8D4E3"
             },
             "line": {
              "color": "white"
             }
            },
            "type": "table"
           }
          ]
         },
         "layout": {
          "annotationdefaults": {
           "arrowcolor": "#2a3f5f",
           "arrowhead": 0,
           "arrowwidth": 1
          },
          "autotypenumbers": "strict",
          "coloraxis": {
           "colorbar": {
            "outlinewidth": 0,
            "ticks": ""
           }
          },
          "colorscale": {
           "diverging": [
            [
             0,
             "#8e0152"
            ],
            [
             0.1,
             "#c51b7d"
            ],
            [
             0.2,
             "#de77ae"
            ],
            [
             0.3,
             "#f1b6da"
            ],
            [
             0.4,
             "#fde0ef"
            ],
            [
             0.5,
             "#f7f7f7"
            ],
            [
             0.6,
             "#e6f5d0"
            ],
            [
             0.7,
             "#b8e186"
            ],
            [
             0.8,
             "#7fbc41"
            ],
            [
             0.9,
             "#4d9221"
            ],
            [
             1,
             "#276419"
            ]
           ],
           "sequential": [
            [
             0,
             "#0d0887"
            ],
            [
             0.1111111111111111,
             "#46039f"
            ],
            [
             0.2222222222222222,
             "#7201a8"
            ],
            [
             0.3333333333333333,
             "#9c179e"
            ],
            [
             0.4444444444444444,
             "#bd3786"
            ],
            [
             0.5555555555555556,
             "#d8576b"
            ],
            [
             0.6666666666666666,
             "#ed7953"
            ],
            [
             0.7777777777777778,
             "#fb9f3a"
            ],
            [
             0.8888888888888888,
             "#fdca26"
            ],
            [
             1,
             "#f0f921"
            ]
           ],
           "sequentialminus": [
            [
             0,
             "#0d0887"
            ],
            [
             0.1111111111111111,
             "#46039f"
            ],
            [
             0.2222222222222222,
             "#7201a8"
            ],
            [
             0.3333333333333333,
             "#9c179e"
            ],
            [
             0.4444444444444444,
             "#bd3786"
            ],
            [
             0.5555555555555556,
             "#d8576b"
            ],
            [
             0.6666666666666666,
             "#ed7953"
            ],
            [
             0.7777777777777778,
             "#fb9f3a"
            ],
            [
             0.8888888888888888,
             "#fdca26"
            ],
            [
             1,
             "#f0f921"
            ]
           ]
          },
          "colorway": [
           "#636efa",
           "#EF553B",
           "#00cc96",
           "#ab63fa",
           "#FFA15A",
           "#19d3f3",
           "#FF6692",
           "#B6E880",
           "#FF97FF",
           "#FECB52"
          ],
          "font": {
           "color": "#2a3f5f"
          },
          "geo": {
           "bgcolor": "white",
           "lakecolor": "white",
           "landcolor": "#E5ECF6",
           "showlakes": true,
           "showland": true,
           "subunitcolor": "white"
          },
          "hoverlabel": {
           "align": "left"
          },
          "hovermode": "closest",
          "mapbox": {
           "style": "light"
          },
          "paper_bgcolor": "white",
          "plot_bgcolor": "#E5ECF6",
          "polar": {
           "angularaxis": {
            "gridcolor": "white",
            "linecolor": "white",
            "ticks": ""
           },
           "bgcolor": "#E5ECF6",
           "radialaxis": {
            "gridcolor": "white",
            "linecolor": "white",
            "ticks": ""
           }
          },
          "scene": {
           "xaxis": {
            "backgroundcolor": "#E5ECF6",
            "gridcolor": "white",
            "gridwidth": 2,
            "linecolor": "white",
            "showbackground": true,
            "ticks": "",
            "zerolinecolor": "white"
           },
           "yaxis": {
            "backgroundcolor": "#E5ECF6",
            "gridcolor": "white",
            "gridwidth": 2,
            "linecolor": "white",
            "showbackground": true,
            "ticks": "",
            "zerolinecolor": "white"
           },
           "zaxis": {
            "backgroundcolor": "#E5ECF6",
            "gridcolor": "white",
            "gridwidth": 2,
            "linecolor": "white",
            "showbackground": true,
            "ticks": "",
            "zerolinecolor": "white"
           }
          },
          "shapedefaults": {
           "line": {
            "color": "#2a3f5f"
           }
          },
          "ternary": {
           "aaxis": {
            "gridcolor": "white",
            "linecolor": "white",
            "ticks": ""
           },
           "baxis": {
            "gridcolor": "white",
            "linecolor": "white",
            "ticks": ""
           },
           "bgcolor": "#E5ECF6",
           "caxis": {
            "gridcolor": "white",
            "linecolor": "white",
            "ticks": ""
           }
          },
          "title": {
           "x": 0.05
          },
          "xaxis": {
           "automargin": true,
           "gridcolor": "white",
           "linecolor": "white",
           "ticks": "",
           "title": {
            "standoff": 15
           },
           "zerolinecolor": "white",
           "zerolinewidth": 2
          },
          "yaxis": {
           "automargin": true,
           "gridcolor": "white",
           "linecolor": "white",
           "ticks": "",
           "title": {
            "standoff": 15
           },
           "zerolinecolor": "white",
           "zerolinewidth": 2
          }
         }
        },
        "title": {
         "text": "Slice Plot"
        },
        "width": 1800,
        "xaxis": {
         "anchor": "y",
         "domain": [
          0,
          0.1388888888888889
         ],
         "title": {
          "text": "learning_rate"
         }
        },
        "xaxis2": {
         "anchor": "y2",
         "domain": [
          0.17222222222222222,
          0.3111111111111111
         ],
         "title": {
          "text": "loss"
         }
        },
        "xaxis3": {
         "anchor": "y3",
         "domain": [
          0.34444444444444444,
          0.48333333333333334
         ],
         "title": {
          "text": "max_depth"
         }
        },
        "xaxis4": {
         "anchor": "y4",
         "domain": [
          0.5166666666666667,
          0.6555555555555557
         ],
         "title": {
          "text": "min_samples_leaf"
         }
        },
        "xaxis5": {
         "anchor": "y5",
         "domain": [
          0.6888888888888889,
          0.8277777777777777
         ],
         "title": {
          "text": "n_estimators"
         }
        },
        "xaxis6": {
         "anchor": "y6",
         "domain": [
          0.861111111111111,
          1
         ],
         "title": {
          "text": "subsample"
         }
        },
        "yaxis": {
         "anchor": "x",
         "domain": [
          0,
          1
         ],
         "title": {
          "text": "Objective Value"
         }
        },
        "yaxis2": {
         "anchor": "x2",
         "domain": [
          0,
          1
         ],
         "matches": "y",
         "showticklabels": false
        },
        "yaxis3": {
         "anchor": "x3",
         "domain": [
          0,
          1
         ],
         "matches": "y",
         "showticklabels": false
        },
        "yaxis4": {
         "anchor": "x4",
         "domain": [
          0,
          1
         ],
         "matches": "y",
         "showticklabels": false
        },
        "yaxis5": {
         "anchor": "x5",
         "domain": [
          0,
          1
         ],
         "matches": "y",
         "showticklabels": false
        },
        "yaxis6": {
         "anchor": "x6",
         "domain": [
          0,
          1
         ],
         "matches": "y",
         "showticklabels": false
        }
       }
      },
      "text/html": [
       "<div>                            <div id=\"bb5db80d-cead-4d71-98cd-c681ccd59770\" class=\"plotly-graph-div\" style=\"height:525px; width:1800px;\"></div>            <script type=\"text/javascript\">                require([\"plotly\"], function(Plotly) {                    window.PLOTLYENV=window.PLOTLYENV || {};                                    if (document.getElementById(\"bb5db80d-cead-4d71-98cd-c681ccd59770\")) {                    Plotly.newPlot(                        \"bb5db80d-cead-4d71-98cd-c681ccd59770\",                        [{\"marker\":{\"color\":[0,1,2,3,4,5,6,7,8,9,10,11,12,13,14,15,16,17,18,19,20,21,22,23,24,25,26,27,28,29,30,31,32,33,34,35,36,37,38,39,40,41,42,43,44,45,46,47,48,49,50,51,52,53,54,55,56,57,58,59,60,61,62,63],\"colorbar\":{\"title\":{\"text\":\"Trial\"},\"x\":1.0,\"xpad\":40},\"colorscale\":[[0.0,\"rgb(247,251,255)\"],[0.125,\"rgb(222,235,247)\"],[0.25,\"rgb(198,219,239)\"],[0.375,\"rgb(158,202,225)\"],[0.5,\"rgb(107,174,214)\"],[0.625,\"rgb(66,146,198)\"],[0.75,\"rgb(33,113,181)\"],[0.875,\"rgb(8,81,156)\"],[1.0,\"rgb(8,48,107)\"]],\"line\":{\"color\":\"Grey\",\"width\":0.5},\"showscale\":true},\"mode\":\"markers\",\"showlegend\":false,\"x\":[0.07445285935552863,0.033441738037814805,0.09395725599560707,0.006033903876558847,0.042100182604071154,0.015511596453501378,0.018596617365181308,0.06442535946858496,0.049993974455329944,0.06470097147787206,0.033621779892103985,0.05976850624263012,0.03240284497849221,0.03033006387291278,0.025125624938201023,0.0017685026964620494,0.006284889714460867,0.0038613666382017325,0.017721720282533895,0.022406344884911226,0.0010040077989371538,0.009510709481677688,0.011378443432405218,0.014504284284913339,0.023874717269751128,0.025512741532390557,0.024869849815408983,0.025534543132043945,0.03932758851701601,0.0425107783495679,0.024092779134225643,0.014791918091689818,0.01118716550199154,0.019956621721329094,0.02611860823389916,0.016167563552967838,0.036515596189540214,0.027604388980090634,0.030198361261371234,0.020800965017619896,0.019991986318835767,0.014445466501700373,0.021322285491065487,0.021754207234775037,0.036552903270075064,0.028706630308613052,0.03268801993499566,0.045062116787846995,0.03385512078570746,0.03268405989541863,0.0292601543080943,0.018966652385116415,0.019712004830861912,0.01867101988182794,0.01808208510466513,0.007454293602592645,0.017155254760404283,0.011704562439892204,0.008001112879360568,0.004766241182416756,0.012222444345513374,0.00878585907919182,0.011633866049515017,0.01141107148730341],\"y\":[0.6177595066803699,0.6310791366906475,0.6094861253854059,0.604737923946557,0.6220143884892086,0.6137615621788284,0.6198972250770812,0.6232168550873587,0.61551901336074,0.6162589928057554,0.6104522096608428,0.6228160328879754,0.6318499486125385,0.6320041109969168,0.6374820143884892,0.6323741007194245,0.6302774922918808,0.632415210688592,0.6308016443987667,0.6310174717368962,0.6305447070914697,0.6345426515930113,0.6362487153134635,0.6362795477903391,0.6365262076053443,0.6385200411099692,0.6347173689619733,0.6349743062692703,0.6301233299075025,0.6222302158273382,0.6323843782117163,0.6365056526207605,0.6318602261048304,0.6365056526207605,0.63327852004111,0.6146145940390545,0.6332682425488181,0.6298561151079136,0.6282528263103803,0.6367420349434738,0.6303288797533402,0.6345529290853031,0.639825282631038,0.6363514902363824,0.6308838643371018,0.6314285714285715,0.6371223021582734,0.6307913669064749,0.6209866392600205,0.6318191161356629,0.6356423432682425,0.6396813977389517,0.6381397738951696,0.6393525179856115,0.640524152106886,0.636382322713258,0.6430113052415211,0.6406577595066804,0.6395477903391572,0.6378006166495375,0.6402261048304214,0.637934224049332,0.6406680369989722,0.6401130524152107],\"type\":\"scatter\",\"xaxis\":\"x\",\"yaxis\":\"y\"},{\"marker\":{\"color\":[0,1,2,3,4,5,6,7,8,9,10,11,12,13,14,15,16,17,18,19,20,21,22,23,24,25,26,27,28,29,30,31,32,33,34,35,36,37,38,39,40,41,42,43,44,45,46,47,48,49,50,51,52,53,54,55,56,57,58,59,60,61,62,63],\"colorbar\":{\"title\":{\"text\":\"Trial\"},\"x\":1.0,\"xpad\":40},\"colorscale\":[[0.0,\"rgb(247,251,255)\"],[0.125,\"rgb(222,235,247)\"],[0.25,\"rgb(198,219,239)\"],[0.375,\"rgb(158,202,225)\"],[0.5,\"rgb(107,174,214)\"],[0.625,\"rgb(66,146,198)\"],[0.75,\"rgb(33,113,181)\"],[0.875,\"rgb(8,81,156)\"],[1.0,\"rgb(8,48,107)\"]],\"line\":{\"color\":\"Grey\",\"width\":0.5},\"showscale\":false},\"mode\":\"markers\",\"showlegend\":false,\"x\":[\"exponential\",\"exponential\",\"deviance\",\"deviance\",\"deviance\",\"exponential\",\"exponential\",\"exponential\",\"exponential\",\"deviance\",\"exponential\",\"exponential\",\"exponential\",\"exponential\",\"exponential\",\"exponential\",\"exponential\",\"exponential\",\"deviance\",\"exponential\",\"exponential\",\"exponential\",\"exponential\",\"exponential\",\"exponential\",\"exponential\",\"deviance\",\"exponential\",\"exponential\",\"exponential\",\"exponential\",\"exponential\",\"exponential\",\"exponential\",\"exponential\",\"deviance\",\"exponential\",\"deviance\",\"exponential\",\"exponential\",\"exponential\",\"exponential\",\"exponential\",\"exponential\",\"exponential\",\"exponential\",\"deviance\",\"deviance\",\"deviance\",\"deviance\",\"deviance\",\"deviance\",\"deviance\",\"deviance\",\"deviance\",\"deviance\",\"deviance\",\"deviance\",\"deviance\",\"deviance\",\"deviance\",\"deviance\",\"deviance\",\"deviance\"],\"y\":[0.6177595066803699,0.6310791366906475,0.6094861253854059,0.604737923946557,0.6220143884892086,0.6137615621788284,0.6198972250770812,0.6232168550873587,0.61551901336074,0.6162589928057554,0.6104522096608428,0.6228160328879754,0.6318499486125385,0.6320041109969168,0.6374820143884892,0.6323741007194245,0.6302774922918808,0.632415210688592,0.6308016443987667,0.6310174717368962,0.6305447070914697,0.6345426515930113,0.6362487153134635,0.6362795477903391,0.6365262076053443,0.6385200411099692,0.6347173689619733,0.6349743062692703,0.6301233299075025,0.6222302158273382,0.6323843782117163,0.6365056526207605,0.6318602261048304,0.6365056526207605,0.63327852004111,0.6146145940390545,0.6332682425488181,0.6298561151079136,0.6282528263103803,0.6367420349434738,0.6303288797533402,0.6345529290853031,0.639825282631038,0.6363514902363824,0.6308838643371018,0.6314285714285715,0.6371223021582734,0.6307913669064749,0.6209866392600205,0.6318191161356629,0.6356423432682425,0.6396813977389517,0.6381397738951696,0.6393525179856115,0.640524152106886,0.636382322713258,0.6430113052415211,0.6406577595066804,0.6395477903391572,0.6378006166495375,0.6402261048304214,0.637934224049332,0.6406680369989722,0.6401130524152107],\"type\":\"scatter\",\"xaxis\":\"x2\",\"yaxis\":\"y2\"},{\"marker\":{\"color\":[0,1,2,3,4,5,6,7,8,9,10,11,12,13,14,15,16,17,18,19,20,21,22,23,24,25,26,27,28,29,30,31,32,33,34,35,36,37,38,39,40,41,42,43,44,45,46,47,48,49,50,51,52,53,54,55,56,57,58,59,60,61,62,63],\"colorbar\":{\"title\":{\"text\":\"Trial\"},\"x\":1.0,\"xpad\":40},\"colorscale\":[[0.0,\"rgb(247,251,255)\"],[0.125,\"rgb(222,235,247)\"],[0.25,\"rgb(198,219,239)\"],[0.375,\"rgb(158,202,225)\"],[0.5,\"rgb(107,174,214)\"],[0.625,\"rgb(66,146,198)\"],[0.75,\"rgb(33,113,181)\"],[0.875,\"rgb(8,81,156)\"],[1.0,\"rgb(8,48,107)\"]],\"line\":{\"color\":\"Grey\",\"width\":0.5},\"showscale\":false},\"mode\":\"markers\",\"showlegend\":false,\"x\":[125,85,82,76,84,83,101,122,95,126,106,66,114,113,111,112,113,96,94,105,99,118,118,120,120,128,108,127,128,124,117,121,121,123,128,110,90,116,102,124,123,120,124,125,125,115,64,77,89,66,70,79,79,79,80,78,80,73,74,73,85,85,74,82],\"y\":[0.6177595066803699,0.6310791366906475,0.6094861253854059,0.604737923946557,0.6220143884892086,0.6137615621788284,0.6198972250770812,0.6232168550873587,0.61551901336074,0.6162589928057554,0.6104522096608428,0.6228160328879754,0.6318499486125385,0.6320041109969168,0.6374820143884892,0.6323741007194245,0.6302774922918808,0.632415210688592,0.6308016443987667,0.6310174717368962,0.6305447070914697,0.6345426515930113,0.6362487153134635,0.6362795477903391,0.6365262076053443,0.6385200411099692,0.6347173689619733,0.6349743062692703,0.6301233299075025,0.6222302158273382,0.6323843782117163,0.6365056526207605,0.6318602261048304,0.6365056526207605,0.63327852004111,0.6146145940390545,0.6332682425488181,0.6298561151079136,0.6282528263103803,0.6367420349434738,0.6303288797533402,0.6345529290853031,0.639825282631038,0.6363514902363824,0.6308838643371018,0.6314285714285715,0.6371223021582734,0.6307913669064749,0.6209866392600205,0.6318191161356629,0.6356423432682425,0.6396813977389517,0.6381397738951696,0.6393525179856115,0.640524152106886,0.636382322713258,0.6430113052415211,0.6406577595066804,0.6395477903391572,0.6378006166495375,0.6402261048304214,0.637934224049332,0.6406680369989722,0.6401130524152107],\"type\":\"scatter\",\"xaxis\":\"x3\",\"yaxis\":\"y3\"},{\"marker\":{\"color\":[0,1,2,3,4,5,6,7,8,9,10,11,12,13,14,15,16,17,18,19,20,21,22,23,24,25,26,27,28,29,30,31,32,33,34,35,36,37,38,39,40,41,42,43,44,45,46,47,48,49,50,51,52,53,54,55,56,57,58,59,60,61,62,63],\"colorbar\":{\"title\":{\"text\":\"Trial\"},\"x\":1.0,\"xpad\":40},\"colorscale\":[[0.0,\"rgb(247,251,255)\"],[0.125,\"rgb(222,235,247)\"],[0.25,\"rgb(198,219,239)\"],[0.375,\"rgb(158,202,225)\"],[0.5,\"rgb(107,174,214)\"],[0.625,\"rgb(66,146,198)\"],[0.75,\"rgb(33,113,181)\"],[0.875,\"rgb(8,81,156)\"],[1.0,\"rgb(8,48,107)\"]],\"line\":{\"color\":\"Grey\",\"width\":0.5},\"showscale\":false},\"mode\":\"markers\",\"showlegend\":false,\"x\":[3,5,5,2,3,4,4,2,5,5,4,2,3,3,3,3,3,4,4,4,4,3,3,2,2,2,2,2,2,2,2,2,2,2,2,2,3,3,2,2,3,2,2,2,2,2,3,3,3,3,5,2,3,3,3,3,3,4,4,4,4,4,4,4],\"y\":[0.6177595066803699,0.6310791366906475,0.6094861253854059,0.604737923946557,0.6220143884892086,0.6137615621788284,0.6198972250770812,0.6232168550873587,0.61551901336074,0.6162589928057554,0.6104522096608428,0.6228160328879754,0.6318499486125385,0.6320041109969168,0.6374820143884892,0.6323741007194245,0.6302774922918808,0.632415210688592,0.6308016443987667,0.6310174717368962,0.6305447070914697,0.6345426515930113,0.6362487153134635,0.6362795477903391,0.6365262076053443,0.6385200411099692,0.6347173689619733,0.6349743062692703,0.6301233299075025,0.6222302158273382,0.6323843782117163,0.6365056526207605,0.6318602261048304,0.6365056526207605,0.63327852004111,0.6146145940390545,0.6332682425488181,0.6298561151079136,0.6282528263103803,0.6367420349434738,0.6303288797533402,0.6345529290853031,0.639825282631038,0.6363514902363824,0.6308838643371018,0.6314285714285715,0.6371223021582734,0.6307913669064749,0.6209866392600205,0.6318191161356629,0.6356423432682425,0.6396813977389517,0.6381397738951696,0.6393525179856115,0.640524152106886,0.636382322713258,0.6430113052415211,0.6406577595066804,0.6395477903391572,0.6378006166495375,0.6402261048304214,0.637934224049332,0.6406680369989722,0.6401130524152107],\"type\":\"scatter\",\"xaxis\":\"x4\",\"yaxis\":\"y4\"},{\"marker\":{\"color\":[0,1,2,3,4,5,6,7,8,9,10,11,12,13,14,15,16,17,18,19,20,21,22,23,24,25,26,27,28,29,30,31,32,33,34,35,36,37,38,39,40,41,42,43,44,45,46,47,48,49,50,51,52,53,54,55,56,57,58,59,60,61,62,63],\"colorbar\":{\"title\":{\"text\":\"Trial\"},\"x\":1.0,\"xpad\":40},\"colorscale\":[[0.0,\"rgb(247,251,255)\"],[0.125,\"rgb(222,235,247)\"],[0.25,\"rgb(198,219,239)\"],[0.375,\"rgb(158,202,225)\"],[0.5,\"rgb(107,174,214)\"],[0.625,\"rgb(66,146,198)\"],[0.75,\"rgb(33,113,181)\"],[0.875,\"rgb(8,81,156)\"],[1.0,\"rgb(8,48,107)\"]],\"line\":{\"color\":\"Grey\",\"width\":0.5},\"showscale\":false},\"mode\":\"markers\",\"showlegend\":false,\"x\":[27,99,89,25,68,58,37,63,44,23,91,72,99,98,81,82,79,80,59,50,78,83,87,89,90,72,73,67,51,94,73,85,85,95,91,16,75,69,66,84,77,85,95,94,100,90,95,95,31,63,82,92,94,97,98,98,100,100,100,100,92,92,88,89],\"y\":[0.6177595066803699,0.6310791366906475,0.6094861253854059,0.604737923946557,0.6220143884892086,0.6137615621788284,0.6198972250770812,0.6232168550873587,0.61551901336074,0.6162589928057554,0.6104522096608428,0.6228160328879754,0.6318499486125385,0.6320041109969168,0.6374820143884892,0.6323741007194245,0.6302774922918808,0.632415210688592,0.6308016443987667,0.6310174717368962,0.6305447070914697,0.6345426515930113,0.6362487153134635,0.6362795477903391,0.6365262076053443,0.6385200411099692,0.6347173689619733,0.6349743062692703,0.6301233299075025,0.6222302158273382,0.6323843782117163,0.6365056526207605,0.6318602261048304,0.6365056526207605,0.63327852004111,0.6146145940390545,0.6332682425488181,0.6298561151079136,0.6282528263103803,0.6367420349434738,0.6303288797533402,0.6345529290853031,0.639825282631038,0.6363514902363824,0.6308838643371018,0.6314285714285715,0.6371223021582734,0.6307913669064749,0.6209866392600205,0.6318191161356629,0.6356423432682425,0.6396813977389517,0.6381397738951696,0.6393525179856115,0.640524152106886,0.636382322713258,0.6430113052415211,0.6406577595066804,0.6395477903391572,0.6378006166495375,0.6402261048304214,0.637934224049332,0.6406680369989722,0.6401130524152107],\"type\":\"scatter\",\"xaxis\":\"x5\",\"yaxis\":\"y5\"},{\"marker\":{\"color\":[0,1,2,3,4,5,6,7,8,9,10,11,12,13,14,15,16,17,18,19,20,21,22,23,24,25,26,27,28,29,30,31,32,33,34,35,36,37,38,39,40,41,42,43,44,45,46,47,48,49,50,51,52,53,54,55,56,57,58,59,60,61,62,63],\"colorbar\":{\"title\":{\"text\":\"Trial\"},\"x\":1.0,\"xpad\":40},\"colorscale\":[[0.0,\"rgb(247,251,255)\"],[0.125,\"rgb(222,235,247)\"],[0.25,\"rgb(198,219,239)\"],[0.375,\"rgb(158,202,225)\"],[0.5,\"rgb(107,174,214)\"],[0.625,\"rgb(66,146,198)\"],[0.75,\"rgb(33,113,181)\"],[0.875,\"rgb(8,81,156)\"],[1.0,\"rgb(8,48,107)\"]],\"line\":{\"color\":\"Grey\",\"width\":0.5},\"showscale\":false},\"mode\":\"markers\",\"showlegend\":false,\"x\":[0.07072894079063337,0.06324711195828359,0.06663067573190148,0.020982159606297617,0.046358722030970634,0.018554409190494853,0.05167180698625913,0.09872008929977494,0.03091598607665034,0.0798248459644877,0.007855798951387563,0.09972641592679858,0.09239751561803003,0.08696380225600203,0.08409605161349137,0.08471657914098495,0.08071341612978733,0.0807115492250926,0.07674756947946973,0.0911034875452053,0.0722465698390255,0.08550483449226999,0.08603079462018967,0.0915958039548111,0.09323307096321706,0.09535438593341383,0.09942496697399952,0.09461921606655647,0.09234310962614478,0.07318569139307306,0.06613165514872692,0.09110933965831619,0.07497234941847984,0.08797414019729452,0.08058929693309348,0.09581604276903347,0.09555070478939542,0.06943608900143838,0.061022172562192584,0.0893391610986826,0.06181922114217015,0.08855331137302655,0.0952255963415358,0.0974333957746238,0.09965235003769916,0.08283047458256022,0.08896476136744262,0.07684019401292026,0.08482344887762974,0.0883408875579295,0.07851579528436173,0.08971756768326064,0.08289343752374072,0.08389924628884221,0.08255639270193413,0.08165444136985647,0.09440391156675204,0.09669708105102083,0.09659657100744869,0.09676033298961856,0.09979717919389981,0.09941696761037465,0.09366069706682884,0.09223555835830743],\"y\":[0.6177595066803699,0.6310791366906475,0.6094861253854059,0.604737923946557,0.6220143884892086,0.6137615621788284,0.6198972250770812,0.6232168550873587,0.61551901336074,0.6162589928057554,0.6104522096608428,0.6228160328879754,0.6318499486125385,0.6320041109969168,0.6374820143884892,0.6323741007194245,0.6302774922918808,0.632415210688592,0.6308016443987667,0.6310174717368962,0.6305447070914697,0.6345426515930113,0.6362487153134635,0.6362795477903391,0.6365262076053443,0.6385200411099692,0.6347173689619733,0.6349743062692703,0.6301233299075025,0.6222302158273382,0.6323843782117163,0.6365056526207605,0.6318602261048304,0.6365056526207605,0.63327852004111,0.6146145940390545,0.6332682425488181,0.6298561151079136,0.6282528263103803,0.6367420349434738,0.6303288797533402,0.6345529290853031,0.639825282631038,0.6363514902363824,0.6308838643371018,0.6314285714285715,0.6371223021582734,0.6307913669064749,0.6209866392600205,0.6318191161356629,0.6356423432682425,0.6396813977389517,0.6381397738951696,0.6393525179856115,0.640524152106886,0.636382322713258,0.6430113052415211,0.6406577595066804,0.6395477903391572,0.6378006166495375,0.6402261048304214,0.637934224049332,0.6406680369989722,0.6401130524152107],\"type\":\"scatter\",\"xaxis\":\"x6\",\"yaxis\":\"y6\"}],                        {\"template\":{\"data\":{\"histogram2dcontour\":[{\"type\":\"histogram2dcontour\",\"colorbar\":{\"outlinewidth\":0,\"ticks\":\"\"},\"colorscale\":[[0.0,\"#0d0887\"],[0.1111111111111111,\"#46039f\"],[0.2222222222222222,\"#7201a8\"],[0.3333333333333333,\"#9c179e\"],[0.4444444444444444,\"#bd3786\"],[0.5555555555555556,\"#d8576b\"],[0.6666666666666666,\"#ed7953\"],[0.7777777777777778,\"#fb9f3a\"],[0.8888888888888888,\"#fdca26\"],[1.0,\"#f0f921\"]]}],\"choropleth\":[{\"type\":\"choropleth\",\"colorbar\":{\"outlinewidth\":0,\"ticks\":\"\"}}],\"histogram2d\":[{\"type\":\"histogram2d\",\"colorbar\":{\"outlinewidth\":0,\"ticks\":\"\"},\"colorscale\":[[0.0,\"#0d0887\"],[0.1111111111111111,\"#46039f\"],[0.2222222222222222,\"#7201a8\"],[0.3333333333333333,\"#9c179e\"],[0.4444444444444444,\"#bd3786\"],[0.5555555555555556,\"#d8576b\"],[0.6666666666666666,\"#ed7953\"],[0.7777777777777778,\"#fb9f3a\"],[0.8888888888888888,\"#fdca26\"],[1.0,\"#f0f921\"]]}],\"heatmap\":[{\"type\":\"heatmap\",\"colorbar\":{\"outlinewidth\":0,\"ticks\":\"\"},\"colorscale\":[[0.0,\"#0d0887\"],[0.1111111111111111,\"#46039f\"],[0.2222222222222222,\"#7201a8\"],[0.3333333333333333,\"#9c179e\"],[0.4444444444444444,\"#bd3786\"],[0.5555555555555556,\"#d8576b\"],[0.6666666666666666,\"#ed7953\"],[0.7777777777777778,\"#fb9f3a\"],[0.8888888888888888,\"#fdca26\"],[1.0,\"#f0f921\"]]}],\"heatmapgl\":[{\"type\":\"heatmapgl\",\"colorbar\":{\"outlinewidth\":0,\"ticks\":\"\"},\"colorscale\":[[0.0,\"#0d0887\"],[0.1111111111111111,\"#46039f\"],[0.2222222222222222,\"#7201a8\"],[0.3333333333333333,\"#9c179e\"],[0.4444444444444444,\"#bd3786\"],[0.5555555555555556,\"#d8576b\"],[0.6666666666666666,\"#ed7953\"],[0.7777777777777778,\"#fb9f3a\"],[0.8888888888888888,\"#fdca26\"],[1.0,\"#f0f921\"]]}],\"contourcarpet\":[{\"type\":\"contourcarpet\",\"colorbar\":{\"outlinewidth\":0,\"ticks\":\"\"}}],\"contour\":[{\"type\":\"contour\",\"colorbar\":{\"outlinewidth\":0,\"ticks\":\"\"},\"colorscale\":[[0.0,\"#0d0887\"],[0.1111111111111111,\"#46039f\"],[0.2222222222222222,\"#7201a8\"],[0.3333333333333333,\"#9c179e\"],[0.4444444444444444,\"#bd3786\"],[0.5555555555555556,\"#d8576b\"],[0.6666666666666666,\"#ed7953\"],[0.7777777777777778,\"#fb9f3a\"],[0.8888888888888888,\"#fdca26\"],[1.0,\"#f0f921\"]]}],\"surface\":[{\"type\":\"surface\",\"colorbar\":{\"outlinewidth\":0,\"ticks\":\"\"},\"colorscale\":[[0.0,\"#0d0887\"],[0.1111111111111111,\"#46039f\"],[0.2222222222222222,\"#7201a8\"],[0.3333333333333333,\"#9c179e\"],[0.4444444444444444,\"#bd3786\"],[0.5555555555555556,\"#d8576b\"],[0.6666666666666666,\"#ed7953\"],[0.7777777777777778,\"#fb9f3a\"],[0.8888888888888888,\"#fdca26\"],[1.0,\"#f0f921\"]]}],\"mesh3d\":[{\"type\":\"mesh3d\",\"colorbar\":{\"outlinewidth\":0,\"ticks\":\"\"}}],\"scatter\":[{\"fillpattern\":{\"fillmode\":\"overlay\",\"size\":10,\"solidity\":0.2},\"type\":\"scatter\"}],\"parcoords\":[{\"type\":\"parcoords\",\"line\":{\"colorbar\":{\"outlinewidth\":0,\"ticks\":\"\"}}}],\"scatterpolargl\":[{\"type\":\"scatterpolargl\",\"marker\":{\"colorbar\":{\"outlinewidth\":0,\"ticks\":\"\"}}}],\"bar\":[{\"error_x\":{\"color\":\"#2a3f5f\"},\"error_y\":{\"color\":\"#2a3f5f\"},\"marker\":{\"line\":{\"color\":\"#E5ECF6\",\"width\":0.5},\"pattern\":{\"fillmode\":\"overlay\",\"size\":10,\"solidity\":0.2}},\"type\":\"bar\"}],\"scattergeo\":[{\"type\":\"scattergeo\",\"marker\":{\"colorbar\":{\"outlinewidth\":0,\"ticks\":\"\"}}}],\"scatterpolar\":[{\"type\":\"scatterpolar\",\"marker\":{\"colorbar\":{\"outlinewidth\":0,\"ticks\":\"\"}}}],\"histogram\":[{\"marker\":{\"pattern\":{\"fillmode\":\"overlay\",\"size\":10,\"solidity\":0.2}},\"type\":\"histogram\"}],\"scattergl\":[{\"type\":\"scattergl\",\"marker\":{\"colorbar\":{\"outlinewidth\":0,\"ticks\":\"\"}}}],\"scatter3d\":[{\"type\":\"scatter3d\",\"line\":{\"colorbar\":{\"outlinewidth\":0,\"ticks\":\"\"}},\"marker\":{\"colorbar\":{\"outlinewidth\":0,\"ticks\":\"\"}}}],\"scattermapbox\":[{\"type\":\"scattermapbox\",\"marker\":{\"colorbar\":{\"outlinewidth\":0,\"ticks\":\"\"}}}],\"scatterternary\":[{\"type\":\"scatterternary\",\"marker\":{\"colorbar\":{\"outlinewidth\":0,\"ticks\":\"\"}}}],\"scattercarpet\":[{\"type\":\"scattercarpet\",\"marker\":{\"colorbar\":{\"outlinewidth\":0,\"ticks\":\"\"}}}],\"carpet\":[{\"aaxis\":{\"endlinecolor\":\"#2a3f5f\",\"gridcolor\":\"white\",\"linecolor\":\"white\",\"minorgridcolor\":\"white\",\"startlinecolor\":\"#2a3f5f\"},\"baxis\":{\"endlinecolor\":\"#2a3f5f\",\"gridcolor\":\"white\",\"linecolor\":\"white\",\"minorgridcolor\":\"white\",\"startlinecolor\":\"#2a3f5f\"},\"type\":\"carpet\"}],\"table\":[{\"cells\":{\"fill\":{\"color\":\"#EBF0F8\"},\"line\":{\"color\":\"white\"}},\"header\":{\"fill\":{\"color\":\"#C8D4E3\"},\"line\":{\"color\":\"white\"}},\"type\":\"table\"}],\"barpolar\":[{\"marker\":{\"line\":{\"color\":\"#E5ECF6\",\"width\":0.5},\"pattern\":{\"fillmode\":\"overlay\",\"size\":10,\"solidity\":0.2}},\"type\":\"barpolar\"}],\"pie\":[{\"automargin\":true,\"type\":\"pie\"}]},\"layout\":{\"autotypenumbers\":\"strict\",\"colorway\":[\"#636efa\",\"#EF553B\",\"#00cc96\",\"#ab63fa\",\"#FFA15A\",\"#19d3f3\",\"#FF6692\",\"#B6E880\",\"#FF97FF\",\"#FECB52\"],\"font\":{\"color\":\"#2a3f5f\"},\"hovermode\":\"closest\",\"hoverlabel\":{\"align\":\"left\"},\"paper_bgcolor\":\"white\",\"plot_bgcolor\":\"#E5ECF6\",\"polar\":{\"bgcolor\":\"#E5ECF6\",\"angularaxis\":{\"gridcolor\":\"white\",\"linecolor\":\"white\",\"ticks\":\"\"},\"radialaxis\":{\"gridcolor\":\"white\",\"linecolor\":\"white\",\"ticks\":\"\"}},\"ternary\":{\"bgcolor\":\"#E5ECF6\",\"aaxis\":{\"gridcolor\":\"white\",\"linecolor\":\"white\",\"ticks\":\"\"},\"baxis\":{\"gridcolor\":\"white\",\"linecolor\":\"white\",\"ticks\":\"\"},\"caxis\":{\"gridcolor\":\"white\",\"linecolor\":\"white\",\"ticks\":\"\"}},\"coloraxis\":{\"colorbar\":{\"outlinewidth\":0,\"ticks\":\"\"}},\"colorscale\":{\"sequential\":[[0.0,\"#0d0887\"],[0.1111111111111111,\"#46039f\"],[0.2222222222222222,\"#7201a8\"],[0.3333333333333333,\"#9c179e\"],[0.4444444444444444,\"#bd3786\"],[0.5555555555555556,\"#d8576b\"],[0.6666666666666666,\"#ed7953\"],[0.7777777777777778,\"#fb9f3a\"],[0.8888888888888888,\"#fdca26\"],[1.0,\"#f0f921\"]],\"sequentialminus\":[[0.0,\"#0d0887\"],[0.1111111111111111,\"#46039f\"],[0.2222222222222222,\"#7201a8\"],[0.3333333333333333,\"#9c179e\"],[0.4444444444444444,\"#bd3786\"],[0.5555555555555556,\"#d8576b\"],[0.6666666666666666,\"#ed7953\"],[0.7777777777777778,\"#fb9f3a\"],[0.8888888888888888,\"#fdca26\"],[1.0,\"#f0f921\"]],\"diverging\":[[0,\"#8e0152\"],[0.1,\"#c51b7d\"],[0.2,\"#de77ae\"],[0.3,\"#f1b6da\"],[0.4,\"#fde0ef\"],[0.5,\"#f7f7f7\"],[0.6,\"#e6f5d0\"],[0.7,\"#b8e186\"],[0.8,\"#7fbc41\"],[0.9,\"#4d9221\"],[1,\"#276419\"]]},\"xaxis\":{\"gridcolor\":\"white\",\"linecolor\":\"white\",\"ticks\":\"\",\"title\":{\"standoff\":15},\"zerolinecolor\":\"white\",\"automargin\":true,\"zerolinewidth\":2},\"yaxis\":{\"gridcolor\":\"white\",\"linecolor\":\"white\",\"ticks\":\"\",\"title\":{\"standoff\":15},\"zerolinecolor\":\"white\",\"automargin\":true,\"zerolinewidth\":2},\"scene\":{\"xaxis\":{\"backgroundcolor\":\"#E5ECF6\",\"gridcolor\":\"white\",\"linecolor\":\"white\",\"showbackground\":true,\"ticks\":\"\",\"zerolinecolor\":\"white\",\"gridwidth\":2},\"yaxis\":{\"backgroundcolor\":\"#E5ECF6\",\"gridcolor\":\"white\",\"linecolor\":\"white\",\"showbackground\":true,\"ticks\":\"\",\"zerolinecolor\":\"white\",\"gridwidth\":2},\"zaxis\":{\"backgroundcolor\":\"#E5ECF6\",\"gridcolor\":\"white\",\"linecolor\":\"white\",\"showbackground\":true,\"ticks\":\"\",\"zerolinecolor\":\"white\",\"gridwidth\":2}},\"shapedefaults\":{\"line\":{\"color\":\"#2a3f5f\"}},\"annotationdefaults\":{\"arrowcolor\":\"#2a3f5f\",\"arrowhead\":0,\"arrowwidth\":1},\"geo\":{\"bgcolor\":\"white\",\"landcolor\":\"#E5ECF6\",\"subunitcolor\":\"white\",\"showland\":true,\"showlakes\":true,\"lakecolor\":\"white\"},\"title\":{\"x\":0.05},\"mapbox\":{\"style\":\"light\"}}},\"xaxis\":{\"anchor\":\"y\",\"domain\":[0.0,0.1388888888888889],\"title\":{\"text\":\"learning_rate\"}},\"yaxis\":{\"anchor\":\"x\",\"domain\":[0.0,1.0],\"title\":{\"text\":\"Objective Value\"}},\"xaxis2\":{\"anchor\":\"y2\",\"domain\":[0.17222222222222222,0.3111111111111111],\"title\":{\"text\":\"loss\"}},\"yaxis2\":{\"anchor\":\"x2\",\"domain\":[0.0,1.0],\"matches\":\"y\",\"showticklabels\":false},\"xaxis3\":{\"anchor\":\"y3\",\"domain\":[0.34444444444444444,0.48333333333333334],\"title\":{\"text\":\"max_depth\"}},\"yaxis3\":{\"anchor\":\"x3\",\"domain\":[0.0,1.0],\"matches\":\"y\",\"showticklabels\":false},\"xaxis4\":{\"anchor\":\"y4\",\"domain\":[0.5166666666666667,0.6555555555555557],\"title\":{\"text\":\"min_samples_leaf\"}},\"yaxis4\":{\"anchor\":\"x4\",\"domain\":[0.0,1.0],\"matches\":\"y\",\"showticklabels\":false},\"xaxis5\":{\"anchor\":\"y5\",\"domain\":[0.6888888888888889,0.8277777777777777],\"title\":{\"text\":\"n_estimators\"}},\"yaxis5\":{\"anchor\":\"x5\",\"domain\":[0.0,1.0],\"matches\":\"y\",\"showticklabels\":false},\"xaxis6\":{\"anchor\":\"y6\",\"domain\":[0.861111111111111,1.0],\"title\":{\"text\":\"subsample\"}},\"yaxis6\":{\"anchor\":\"x6\",\"domain\":[0.0,1.0],\"matches\":\"y\",\"showticklabels\":false},\"title\":{\"text\":\"Slice Plot\"},\"width\":1800},                        {\"responsive\": true}                    ).then(function(){\n",
       "                            \n",
       "var gd = document.getElementById('bb5db80d-cead-4d71-98cd-c681ccd59770');\n",
       "var x = new MutationObserver(function (mutations, observer) {{\n",
       "        var display = window.getComputedStyle(gd).display;\n",
       "        if (!display || display === 'none') {{\n",
       "            console.log([gd, 'removed!']);\n",
       "            Plotly.purge(gd);\n",
       "            observer.disconnect();\n",
       "        }}\n",
       "}});\n",
       "\n",
       "// Listen for the removal of the full notebook cells\n",
       "var notebookContainer = gd.closest('#notebook-container');\n",
       "if (notebookContainer) {{\n",
       "    x.observe(notebookContainer, {childList: true});\n",
       "}}\n",
       "\n",
       "// Listen for the clearing of the current output cell\n",
       "var outputEl = gd.closest('.output');\n",
       "if (outputEl) {{\n",
       "    x.observe(outputEl, {childList: true});\n",
       "}}\n",
       "\n",
       "                        })                };                });            </script>        </div>"
      ]
     },
     "metadata": {},
     "output_type": "display_data"
    }
   ],
   "source": [
    "optuna.visualization.plot_slice(study_2)"
   ]
  },
  {
   "cell_type": "code",
   "execution_count": 42,
   "metadata": {},
   "outputs": [
    {
     "data": {
      "application/vnd.plotly.v1+json": {
       "config": {
        "plotlyServerURL": "https://plot.ly"
       },
       "data": [
        {
         "cliponaxis": false,
         "hovertemplate": [
          "loss (CategoricalDistribution): 0.005468791579951879<extra></extra>",
          "min_samples_leaf (IntDistribution): 0.044041306080713286<extra></extra>",
          "max_depth (IntDistribution): 0.06636165761163078<extra></extra>",
          "learning_rate (FloatDistribution): 0.17489209304355766<extra></extra>",
          "n_estimators (IntDistribution): 0.22812568044968387<extra></extra>",
          "subsample (FloatDistribution): 0.4811104712344626<extra></extra>"
         ],
         "marker": {
          "color": "rgb(66,146,198)"
         },
         "orientation": "h",
         "text": [
          "<0.01",
          "0.04",
          "0.07",
          "0.17",
          "0.23",
          "0.48"
         ],
         "textposition": "outside",
         "type": "bar",
         "x": [
          0.005468791579951879,
          0.044041306080713286,
          0.06636165761163078,
          0.17489209304355766,
          0.22812568044968387,
          0.4811104712344626
         ],
         "y": [
          "loss",
          "min_samples_leaf",
          "max_depth",
          "learning_rate",
          "n_estimators",
          "subsample"
         ]
        }
       ],
       "layout": {
        "showlegend": false,
        "template": {
         "data": {
          "bar": [
           {
            "error_x": {
             "color": "#2a3f5f"
            },
            "error_y": {
             "color": "#2a3f5f"
            },
            "marker": {
             "line": {
              "color": "#E5ECF6",
              "width": 0.5
             },
             "pattern": {
              "fillmode": "overlay",
              "size": 10,
              "solidity": 0.2
             }
            },
            "type": "bar"
           }
          ],
          "barpolar": [
           {
            "marker": {
             "line": {
              "color": "#E5ECF6",
              "width": 0.5
             },
             "pattern": {
              "fillmode": "overlay",
              "size": 10,
              "solidity": 0.2
             }
            },
            "type": "barpolar"
           }
          ],
          "carpet": [
           {
            "aaxis": {
             "endlinecolor": "#2a3f5f",
             "gridcolor": "white",
             "linecolor": "white",
             "minorgridcolor": "white",
             "startlinecolor": "#2a3f5f"
            },
            "baxis": {
             "endlinecolor": "#2a3f5f",
             "gridcolor": "white",
             "linecolor": "white",
             "minorgridcolor": "white",
             "startlinecolor": "#2a3f5f"
            },
            "type": "carpet"
           }
          ],
          "choropleth": [
           {
            "colorbar": {
             "outlinewidth": 0,
             "ticks": ""
            },
            "type": "choropleth"
           }
          ],
          "contour": [
           {
            "colorbar": {
             "outlinewidth": 0,
             "ticks": ""
            },
            "colorscale": [
             [
              0,
              "#0d0887"
             ],
             [
              0.1111111111111111,
              "#46039f"
             ],
             [
              0.2222222222222222,
              "#7201a8"
             ],
             [
              0.3333333333333333,
              "#9c179e"
             ],
             [
              0.4444444444444444,
              "#bd3786"
             ],
             [
              0.5555555555555556,
              "#d8576b"
             ],
             [
              0.6666666666666666,
              "#ed7953"
             ],
             [
              0.7777777777777778,
              "#fb9f3a"
             ],
             [
              0.8888888888888888,
              "#fdca26"
             ],
             [
              1,
              "#f0f921"
             ]
            ],
            "type": "contour"
           }
          ],
          "contourcarpet": [
           {
            "colorbar": {
             "outlinewidth": 0,
             "ticks": ""
            },
            "type": "contourcarpet"
           }
          ],
          "heatmap": [
           {
            "colorbar": {
             "outlinewidth": 0,
             "ticks": ""
            },
            "colorscale": [
             [
              0,
              "#0d0887"
             ],
             [
              0.1111111111111111,
              "#46039f"
             ],
             [
              0.2222222222222222,
              "#7201a8"
             ],
             [
              0.3333333333333333,
              "#9c179e"
             ],
             [
              0.4444444444444444,
              "#bd3786"
             ],
             [
              0.5555555555555556,
              "#d8576b"
             ],
             [
              0.6666666666666666,
              "#ed7953"
             ],
             [
              0.7777777777777778,
              "#fb9f3a"
             ],
             [
              0.8888888888888888,
              "#fdca26"
             ],
             [
              1,
              "#f0f921"
             ]
            ],
            "type": "heatmap"
           }
          ],
          "heatmapgl": [
           {
            "colorbar": {
             "outlinewidth": 0,
             "ticks": ""
            },
            "colorscale": [
             [
              0,
              "#0d0887"
             ],
             [
              0.1111111111111111,
              "#46039f"
             ],
             [
              0.2222222222222222,
              "#7201a8"
             ],
             [
              0.3333333333333333,
              "#9c179e"
             ],
             [
              0.4444444444444444,
              "#bd3786"
             ],
             [
              0.5555555555555556,
              "#d8576b"
             ],
             [
              0.6666666666666666,
              "#ed7953"
             ],
             [
              0.7777777777777778,
              "#fb9f3a"
             ],
             [
              0.8888888888888888,
              "#fdca26"
             ],
             [
              1,
              "#f0f921"
             ]
            ],
            "type": "heatmapgl"
           }
          ],
          "histogram": [
           {
            "marker": {
             "pattern": {
              "fillmode": "overlay",
              "size": 10,
              "solidity": 0.2
             }
            },
            "type": "histogram"
           }
          ],
          "histogram2d": [
           {
            "colorbar": {
             "outlinewidth": 0,
             "ticks": ""
            },
            "colorscale": [
             [
              0,
              "#0d0887"
             ],
             [
              0.1111111111111111,
              "#46039f"
             ],
             [
              0.2222222222222222,
              "#7201a8"
             ],
             [
              0.3333333333333333,
              "#9c179e"
             ],
             [
              0.4444444444444444,
              "#bd3786"
             ],
             [
              0.5555555555555556,
              "#d8576b"
             ],
             [
              0.6666666666666666,
              "#ed7953"
             ],
             [
              0.7777777777777778,
              "#fb9f3a"
             ],
             [
              0.8888888888888888,
              "#fdca26"
             ],
             [
              1,
              "#f0f921"
             ]
            ],
            "type": "histogram2d"
           }
          ],
          "histogram2dcontour": [
           {
            "colorbar": {
             "outlinewidth": 0,
             "ticks": ""
            },
            "colorscale": [
             [
              0,
              "#0d0887"
             ],
             [
              0.1111111111111111,
              "#46039f"
             ],
             [
              0.2222222222222222,
              "#7201a8"
             ],
             [
              0.3333333333333333,
              "#9c179e"
             ],
             [
              0.4444444444444444,
              "#bd3786"
             ],
             [
              0.5555555555555556,
              "#d8576b"
             ],
             [
              0.6666666666666666,
              "#ed7953"
             ],
             [
              0.7777777777777778,
              "#fb9f3a"
             ],
             [
              0.8888888888888888,
              "#fdca26"
             ],
             [
              1,
              "#f0f921"
             ]
            ],
            "type": "histogram2dcontour"
           }
          ],
          "mesh3d": [
           {
            "colorbar": {
             "outlinewidth": 0,
             "ticks": ""
            },
            "type": "mesh3d"
           }
          ],
          "parcoords": [
           {
            "line": {
             "colorbar": {
              "outlinewidth": 0,
              "ticks": ""
             }
            },
            "type": "parcoords"
           }
          ],
          "pie": [
           {
            "automargin": true,
            "type": "pie"
           }
          ],
          "scatter": [
           {
            "fillpattern": {
             "fillmode": "overlay",
             "size": 10,
             "solidity": 0.2
            },
            "type": "scatter"
           }
          ],
          "scatter3d": [
           {
            "line": {
             "colorbar": {
              "outlinewidth": 0,
              "ticks": ""
             }
            },
            "marker": {
             "colorbar": {
              "outlinewidth": 0,
              "ticks": ""
             }
            },
            "type": "scatter3d"
           }
          ],
          "scattercarpet": [
           {
            "marker": {
             "colorbar": {
              "outlinewidth": 0,
              "ticks": ""
             }
            },
            "type": "scattercarpet"
           }
          ],
          "scattergeo": [
           {
            "marker": {
             "colorbar": {
              "outlinewidth": 0,
              "ticks": ""
             }
            },
            "type": "scattergeo"
           }
          ],
          "scattergl": [
           {
            "marker": {
             "colorbar": {
              "outlinewidth": 0,
              "ticks": ""
             }
            },
            "type": "scattergl"
           }
          ],
          "scattermapbox": [
           {
            "marker": {
             "colorbar": {
              "outlinewidth": 0,
              "ticks": ""
             }
            },
            "type": "scattermapbox"
           }
          ],
          "scatterpolar": [
           {
            "marker": {
             "colorbar": {
              "outlinewidth": 0,
              "ticks": ""
             }
            },
            "type": "scatterpolar"
           }
          ],
          "scatterpolargl": [
           {
            "marker": {
             "colorbar": {
              "outlinewidth": 0,
              "ticks": ""
             }
            },
            "type": "scatterpolargl"
           }
          ],
          "scatterternary": [
           {
            "marker": {
             "colorbar": {
              "outlinewidth": 0,
              "ticks": ""
             }
            },
            "type": "scatterternary"
           }
          ],
          "surface": [
           {
            "colorbar": {
             "outlinewidth": 0,
             "ticks": ""
            },
            "colorscale": [
             [
              0,
              "#0d0887"
             ],
             [
              0.1111111111111111,
              "#46039f"
             ],
             [
              0.2222222222222222,
              "#7201a8"
             ],
             [
              0.3333333333333333,
              "#9c179e"
             ],
             [
              0.4444444444444444,
              "#bd3786"
             ],
             [
              0.5555555555555556,
              "#d8576b"
             ],
             [
              0.6666666666666666,
              "#ed7953"
             ],
             [
              0.7777777777777778,
              "#fb9f3a"
             ],
             [
              0.8888888888888888,
              "#fdca26"
             ],
             [
              1,
              "#f0f921"
             ]
            ],
            "type": "surface"
           }
          ],
          "table": [
           {
            "cells": {
             "fill": {
              "color": "#EBF0F8"
             },
             "line": {
              "color": "white"
             }
            },
            "header": {
             "fill": {
              "color": "#C8D4E3"
             },
             "line": {
              "color": "white"
             }
            },
            "type": "table"
           }
          ]
         },
         "layout": {
          "annotationdefaults": {
           "arrowcolor": "#2a3f5f",
           "arrowhead": 0,
           "arrowwidth": 1
          },
          "autotypenumbers": "strict",
          "coloraxis": {
           "colorbar": {
            "outlinewidth": 0,
            "ticks": ""
           }
          },
          "colorscale": {
           "diverging": [
            [
             0,
             "#8e0152"
            ],
            [
             0.1,
             "#c51b7d"
            ],
            [
             0.2,
             "#de77ae"
            ],
            [
             0.3,
             "#f1b6da"
            ],
            [
             0.4,
             "#fde0ef"
            ],
            [
             0.5,
             "#f7f7f7"
            ],
            [
             0.6,
             "#e6f5d0"
            ],
            [
             0.7,
             "#b8e186"
            ],
            [
             0.8,
             "#7fbc41"
            ],
            [
             0.9,
             "#4d9221"
            ],
            [
             1,
             "#276419"
            ]
           ],
           "sequential": [
            [
             0,
             "#0d0887"
            ],
            [
             0.1111111111111111,
             "#46039f"
            ],
            [
             0.2222222222222222,
             "#7201a8"
            ],
            [
             0.3333333333333333,
             "#9c179e"
            ],
            [
             0.4444444444444444,
             "#bd3786"
            ],
            [
             0.5555555555555556,
             "#d8576b"
            ],
            [
             0.6666666666666666,
             "#ed7953"
            ],
            [
             0.7777777777777778,
             "#fb9f3a"
            ],
            [
             0.8888888888888888,
             "#fdca26"
            ],
            [
             1,
             "#f0f921"
            ]
           ],
           "sequentialminus": [
            [
             0,
             "#0d0887"
            ],
            [
             0.1111111111111111,
             "#46039f"
            ],
            [
             0.2222222222222222,
             "#7201a8"
            ],
            [
             0.3333333333333333,
             "#9c179e"
            ],
            [
             0.4444444444444444,
             "#bd3786"
            ],
            [
             0.5555555555555556,
             "#d8576b"
            ],
            [
             0.6666666666666666,
             "#ed7953"
            ],
            [
             0.7777777777777778,
             "#fb9f3a"
            ],
            [
             0.8888888888888888,
             "#fdca26"
            ],
            [
             1,
             "#f0f921"
            ]
           ]
          },
          "colorway": [
           "#636efa",
           "#EF553B",
           "#00cc96",
           "#ab63fa",
           "#FFA15A",
           "#19d3f3",
           "#FF6692",
           "#B6E880",
           "#FF97FF",
           "#FECB52"
          ],
          "font": {
           "color": "#2a3f5f"
          },
          "geo": {
           "bgcolor": "white",
           "lakecolor": "white",
           "landcolor": "#E5ECF6",
           "showlakes": true,
           "showland": true,
           "subunitcolor": "white"
          },
          "hoverlabel": {
           "align": "left"
          },
          "hovermode": "closest",
          "mapbox": {
           "style": "light"
          },
          "paper_bgcolor": "white",
          "plot_bgcolor": "#E5ECF6",
          "polar": {
           "angularaxis": {
            "gridcolor": "white",
            "linecolor": "white",
            "ticks": ""
           },
           "bgcolor": "#E5ECF6",
           "radialaxis": {
            "gridcolor": "white",
            "linecolor": "white",
            "ticks": ""
           }
          },
          "scene": {
           "xaxis": {
            "backgroundcolor": "#E5ECF6",
            "gridcolor": "white",
            "gridwidth": 2,
            "linecolor": "white",
            "showbackground": true,
            "ticks": "",
            "zerolinecolor": "white"
           },
           "yaxis": {
            "backgroundcolor": "#E5ECF6",
            "gridcolor": "white",
            "gridwidth": 2,
            "linecolor": "white",
            "showbackground": true,
            "ticks": "",
            "zerolinecolor": "white"
           },
           "zaxis": {
            "backgroundcolor": "#E5ECF6",
            "gridcolor": "white",
            "gridwidth": 2,
            "linecolor": "white",
            "showbackground": true,
            "ticks": "",
            "zerolinecolor": "white"
           }
          },
          "shapedefaults": {
           "line": {
            "color": "#2a3f5f"
           }
          },
          "ternary": {
           "aaxis": {
            "gridcolor": "white",
            "linecolor": "white",
            "ticks": ""
           },
           "baxis": {
            "gridcolor": "white",
            "linecolor": "white",
            "ticks": ""
           },
           "bgcolor": "#E5ECF6",
           "caxis": {
            "gridcolor": "white",
            "linecolor": "white",
            "ticks": ""
           }
          },
          "title": {
           "x": 0.05
          },
          "xaxis": {
           "automargin": true,
           "gridcolor": "white",
           "linecolor": "white",
           "ticks": "",
           "title": {
            "standoff": 15
           },
           "zerolinecolor": "white",
           "zerolinewidth": 2
          },
          "yaxis": {
           "automargin": true,
           "gridcolor": "white",
           "linecolor": "white",
           "ticks": "",
           "title": {
            "standoff": 15
           },
           "zerolinecolor": "white",
           "zerolinewidth": 2
          }
         }
        },
        "title": {
         "text": "Hyperparameter Importances"
        },
        "xaxis": {
         "title": {
          "text": "Importance for Objective Value"
         }
        },
        "yaxis": {
         "title": {
          "text": "Hyperparameter"
         }
        }
       }
      },
      "text/html": [
       "<div>                            <div id=\"a903a392-9849-4583-834d-6aa59ca1f735\" class=\"plotly-graph-div\" style=\"height:525px; width:100%;\"></div>            <script type=\"text/javascript\">                require([\"plotly\"], function(Plotly) {                    window.PLOTLYENV=window.PLOTLYENV || {};                                    if (document.getElementById(\"a903a392-9849-4583-834d-6aa59ca1f735\")) {                    Plotly.newPlot(                        \"a903a392-9849-4583-834d-6aa59ca1f735\",                        [{\"cliponaxis\":false,\"hovertemplate\":[\"loss (CategoricalDistribution): 0.005468791579951879<extra></extra>\",\"min_samples_leaf (IntDistribution): 0.044041306080713286<extra></extra>\",\"max_depth (IntDistribution): 0.06636165761163078<extra></extra>\",\"learning_rate (FloatDistribution): 0.17489209304355766<extra></extra>\",\"n_estimators (IntDistribution): 0.22812568044968387<extra></extra>\",\"subsample (FloatDistribution): 0.4811104712344626<extra></extra>\"],\"marker\":{\"color\":\"rgb(66,146,198)\"},\"orientation\":\"h\",\"text\":[\"<0.01\",\"0.04\",\"0.07\",\"0.17\",\"0.23\",\"0.48\"],\"textposition\":\"outside\",\"x\":[0.005468791579951879,0.044041306080713286,0.06636165761163078,0.17489209304355766,0.22812568044968387,0.4811104712344626],\"y\":[\"loss\",\"min_samples_leaf\",\"max_depth\",\"learning_rate\",\"n_estimators\",\"subsample\"],\"type\":\"bar\"}],                        {\"showlegend\":false,\"title\":{\"text\":\"Hyperparameter Importances\"},\"xaxis\":{\"title\":{\"text\":\"Importance for Objective Value\"}},\"yaxis\":{\"title\":{\"text\":\"Hyperparameter\"}},\"template\":{\"data\":{\"histogram2dcontour\":[{\"type\":\"histogram2dcontour\",\"colorbar\":{\"outlinewidth\":0,\"ticks\":\"\"},\"colorscale\":[[0.0,\"#0d0887\"],[0.1111111111111111,\"#46039f\"],[0.2222222222222222,\"#7201a8\"],[0.3333333333333333,\"#9c179e\"],[0.4444444444444444,\"#bd3786\"],[0.5555555555555556,\"#d8576b\"],[0.6666666666666666,\"#ed7953\"],[0.7777777777777778,\"#fb9f3a\"],[0.8888888888888888,\"#fdca26\"],[1.0,\"#f0f921\"]]}],\"choropleth\":[{\"type\":\"choropleth\",\"colorbar\":{\"outlinewidth\":0,\"ticks\":\"\"}}],\"histogram2d\":[{\"type\":\"histogram2d\",\"colorbar\":{\"outlinewidth\":0,\"ticks\":\"\"},\"colorscale\":[[0.0,\"#0d0887\"],[0.1111111111111111,\"#46039f\"],[0.2222222222222222,\"#7201a8\"],[0.3333333333333333,\"#9c179e\"],[0.4444444444444444,\"#bd3786\"],[0.5555555555555556,\"#d8576b\"],[0.6666666666666666,\"#ed7953\"],[0.7777777777777778,\"#fb9f3a\"],[0.8888888888888888,\"#fdca26\"],[1.0,\"#f0f921\"]]}],\"heatmap\":[{\"type\":\"heatmap\",\"colorbar\":{\"outlinewidth\":0,\"ticks\":\"\"},\"colorscale\":[[0.0,\"#0d0887\"],[0.1111111111111111,\"#46039f\"],[0.2222222222222222,\"#7201a8\"],[0.3333333333333333,\"#9c179e\"],[0.4444444444444444,\"#bd3786\"],[0.5555555555555556,\"#d8576b\"],[0.6666666666666666,\"#ed7953\"],[0.7777777777777778,\"#fb9f3a\"],[0.8888888888888888,\"#fdca26\"],[1.0,\"#f0f921\"]]}],\"heatmapgl\":[{\"type\":\"heatmapgl\",\"colorbar\":{\"outlinewidth\":0,\"ticks\":\"\"},\"colorscale\":[[0.0,\"#0d0887\"],[0.1111111111111111,\"#46039f\"],[0.2222222222222222,\"#7201a8\"],[0.3333333333333333,\"#9c179e\"],[0.4444444444444444,\"#bd3786\"],[0.5555555555555556,\"#d8576b\"],[0.6666666666666666,\"#ed7953\"],[0.7777777777777778,\"#fb9f3a\"],[0.8888888888888888,\"#fdca26\"],[1.0,\"#f0f921\"]]}],\"contourcarpet\":[{\"type\":\"contourcarpet\",\"colorbar\":{\"outlinewidth\":0,\"ticks\":\"\"}}],\"contour\":[{\"type\":\"contour\",\"colorbar\":{\"outlinewidth\":0,\"ticks\":\"\"},\"colorscale\":[[0.0,\"#0d0887\"],[0.1111111111111111,\"#46039f\"],[0.2222222222222222,\"#7201a8\"],[0.3333333333333333,\"#9c179e\"],[0.4444444444444444,\"#bd3786\"],[0.5555555555555556,\"#d8576b\"],[0.6666666666666666,\"#ed7953\"],[0.7777777777777778,\"#fb9f3a\"],[0.8888888888888888,\"#fdca26\"],[1.0,\"#f0f921\"]]}],\"surface\":[{\"type\":\"surface\",\"colorbar\":{\"outlinewidth\":0,\"ticks\":\"\"},\"colorscale\":[[0.0,\"#0d0887\"],[0.1111111111111111,\"#46039f\"],[0.2222222222222222,\"#7201a8\"],[0.3333333333333333,\"#9c179e\"],[0.4444444444444444,\"#bd3786\"],[0.5555555555555556,\"#d8576b\"],[0.6666666666666666,\"#ed7953\"],[0.7777777777777778,\"#fb9f3a\"],[0.8888888888888888,\"#fdca26\"],[1.0,\"#f0f921\"]]}],\"mesh3d\":[{\"type\":\"mesh3d\",\"colorbar\":{\"outlinewidth\":0,\"ticks\":\"\"}}],\"scatter\":[{\"fillpattern\":{\"fillmode\":\"overlay\",\"size\":10,\"solidity\":0.2},\"type\":\"scatter\"}],\"parcoords\":[{\"type\":\"parcoords\",\"line\":{\"colorbar\":{\"outlinewidth\":0,\"ticks\":\"\"}}}],\"scatterpolargl\":[{\"type\":\"scatterpolargl\",\"marker\":{\"colorbar\":{\"outlinewidth\":0,\"ticks\":\"\"}}}],\"bar\":[{\"error_x\":{\"color\":\"#2a3f5f\"},\"error_y\":{\"color\":\"#2a3f5f\"},\"marker\":{\"line\":{\"color\":\"#E5ECF6\",\"width\":0.5},\"pattern\":{\"fillmode\":\"overlay\",\"size\":10,\"solidity\":0.2}},\"type\":\"bar\"}],\"scattergeo\":[{\"type\":\"scattergeo\",\"marker\":{\"colorbar\":{\"outlinewidth\":0,\"ticks\":\"\"}}}],\"scatterpolar\":[{\"type\":\"scatterpolar\",\"marker\":{\"colorbar\":{\"outlinewidth\":0,\"ticks\":\"\"}}}],\"histogram\":[{\"marker\":{\"pattern\":{\"fillmode\":\"overlay\",\"size\":10,\"solidity\":0.2}},\"type\":\"histogram\"}],\"scattergl\":[{\"type\":\"scattergl\",\"marker\":{\"colorbar\":{\"outlinewidth\":0,\"ticks\":\"\"}}}],\"scatter3d\":[{\"type\":\"scatter3d\",\"line\":{\"colorbar\":{\"outlinewidth\":0,\"ticks\":\"\"}},\"marker\":{\"colorbar\":{\"outlinewidth\":0,\"ticks\":\"\"}}}],\"scattermapbox\":[{\"type\":\"scattermapbox\",\"marker\":{\"colorbar\":{\"outlinewidth\":0,\"ticks\":\"\"}}}],\"scatterternary\":[{\"type\":\"scatterternary\",\"marker\":{\"colorbar\":{\"outlinewidth\":0,\"ticks\":\"\"}}}],\"scattercarpet\":[{\"type\":\"scattercarpet\",\"marker\":{\"colorbar\":{\"outlinewidth\":0,\"ticks\":\"\"}}}],\"carpet\":[{\"aaxis\":{\"endlinecolor\":\"#2a3f5f\",\"gridcolor\":\"white\",\"linecolor\":\"white\",\"minorgridcolor\":\"white\",\"startlinecolor\":\"#2a3f5f\"},\"baxis\":{\"endlinecolor\":\"#2a3f5f\",\"gridcolor\":\"white\",\"linecolor\":\"white\",\"minorgridcolor\":\"white\",\"startlinecolor\":\"#2a3f5f\"},\"type\":\"carpet\"}],\"table\":[{\"cells\":{\"fill\":{\"color\":\"#EBF0F8\"},\"line\":{\"color\":\"white\"}},\"header\":{\"fill\":{\"color\":\"#C8D4E3\"},\"line\":{\"color\":\"white\"}},\"type\":\"table\"}],\"barpolar\":[{\"marker\":{\"line\":{\"color\":\"#E5ECF6\",\"width\":0.5},\"pattern\":{\"fillmode\":\"overlay\",\"size\":10,\"solidity\":0.2}},\"type\":\"barpolar\"}],\"pie\":[{\"automargin\":true,\"type\":\"pie\"}]},\"layout\":{\"autotypenumbers\":\"strict\",\"colorway\":[\"#636efa\",\"#EF553B\",\"#00cc96\",\"#ab63fa\",\"#FFA15A\",\"#19d3f3\",\"#FF6692\",\"#B6E880\",\"#FF97FF\",\"#FECB52\"],\"font\":{\"color\":\"#2a3f5f\"},\"hovermode\":\"closest\",\"hoverlabel\":{\"align\":\"left\"},\"paper_bgcolor\":\"white\",\"plot_bgcolor\":\"#E5ECF6\",\"polar\":{\"bgcolor\":\"#E5ECF6\",\"angularaxis\":{\"gridcolor\":\"white\",\"linecolor\":\"white\",\"ticks\":\"\"},\"radialaxis\":{\"gridcolor\":\"white\",\"linecolor\":\"white\",\"ticks\":\"\"}},\"ternary\":{\"bgcolor\":\"#E5ECF6\",\"aaxis\":{\"gridcolor\":\"white\",\"linecolor\":\"white\",\"ticks\":\"\"},\"baxis\":{\"gridcolor\":\"white\",\"linecolor\":\"white\",\"ticks\":\"\"},\"caxis\":{\"gridcolor\":\"white\",\"linecolor\":\"white\",\"ticks\":\"\"}},\"coloraxis\":{\"colorbar\":{\"outlinewidth\":0,\"ticks\":\"\"}},\"colorscale\":{\"sequential\":[[0.0,\"#0d0887\"],[0.1111111111111111,\"#46039f\"],[0.2222222222222222,\"#7201a8\"],[0.3333333333333333,\"#9c179e\"],[0.4444444444444444,\"#bd3786\"],[0.5555555555555556,\"#d8576b\"],[0.6666666666666666,\"#ed7953\"],[0.7777777777777778,\"#fb9f3a\"],[0.8888888888888888,\"#fdca26\"],[1.0,\"#f0f921\"]],\"sequentialminus\":[[0.0,\"#0d0887\"],[0.1111111111111111,\"#46039f\"],[0.2222222222222222,\"#7201a8\"],[0.3333333333333333,\"#9c179e\"],[0.4444444444444444,\"#bd3786\"],[0.5555555555555556,\"#d8576b\"],[0.6666666666666666,\"#ed7953\"],[0.7777777777777778,\"#fb9f3a\"],[0.8888888888888888,\"#fdca26\"],[1.0,\"#f0f921\"]],\"diverging\":[[0,\"#8e0152\"],[0.1,\"#c51b7d\"],[0.2,\"#de77ae\"],[0.3,\"#f1b6da\"],[0.4,\"#fde0ef\"],[0.5,\"#f7f7f7\"],[0.6,\"#e6f5d0\"],[0.7,\"#b8e186\"],[0.8,\"#7fbc41\"],[0.9,\"#4d9221\"],[1,\"#276419\"]]},\"xaxis\":{\"gridcolor\":\"white\",\"linecolor\":\"white\",\"ticks\":\"\",\"title\":{\"standoff\":15},\"zerolinecolor\":\"white\",\"automargin\":true,\"zerolinewidth\":2},\"yaxis\":{\"gridcolor\":\"white\",\"linecolor\":\"white\",\"ticks\":\"\",\"title\":{\"standoff\":15},\"zerolinecolor\":\"white\",\"automargin\":true,\"zerolinewidth\":2},\"scene\":{\"xaxis\":{\"backgroundcolor\":\"#E5ECF6\",\"gridcolor\":\"white\",\"linecolor\":\"white\",\"showbackground\":true,\"ticks\":\"\",\"zerolinecolor\":\"white\",\"gridwidth\":2},\"yaxis\":{\"backgroundcolor\":\"#E5ECF6\",\"gridcolor\":\"white\",\"linecolor\":\"white\",\"showbackground\":true,\"ticks\":\"\",\"zerolinecolor\":\"white\",\"gridwidth\":2},\"zaxis\":{\"backgroundcolor\":\"#E5ECF6\",\"gridcolor\":\"white\",\"linecolor\":\"white\",\"showbackground\":true,\"ticks\":\"\",\"zerolinecolor\":\"white\",\"gridwidth\":2}},\"shapedefaults\":{\"line\":{\"color\":\"#2a3f5f\"}},\"annotationdefaults\":{\"arrowcolor\":\"#2a3f5f\",\"arrowhead\":0,\"arrowwidth\":1},\"geo\":{\"bgcolor\":\"white\",\"landcolor\":\"#E5ECF6\",\"subunitcolor\":\"white\",\"showland\":true,\"showlakes\":true,\"lakecolor\":\"white\"},\"title\":{\"x\":0.05},\"mapbox\":{\"style\":\"light\"}}}},                        {\"responsive\": true}                    ).then(function(){\n",
       "                            \n",
       "var gd = document.getElementById('a903a392-9849-4583-834d-6aa59ca1f735');\n",
       "var x = new MutationObserver(function (mutations, observer) {{\n",
       "        var display = window.getComputedStyle(gd).display;\n",
       "        if (!display || display === 'none') {{\n",
       "            console.log([gd, 'removed!']);\n",
       "            Plotly.purge(gd);\n",
       "            observer.disconnect();\n",
       "        }}\n",
       "}});\n",
       "\n",
       "// Listen for the removal of the full notebook cells\n",
       "var notebookContainer = gd.closest('#notebook-container');\n",
       "if (notebookContainer) {{\n",
       "    x.observe(notebookContainer, {childList: true});\n",
       "}}\n",
       "\n",
       "// Listen for the clearing of the current output cell\n",
       "var outputEl = gd.closest('.output');\n",
       "if (outputEl) {{\n",
       "    x.observe(outputEl, {childList: true});\n",
       "}}\n",
       "\n",
       "                        })                };                });            </script>        </div>"
      ]
     },
     "metadata": {},
     "output_type": "display_data"
    }
   ],
   "source": [
    "optuna.visualization.plot_param_importances(study_2)"
   ]
  },
  {
   "cell_type": "code",
   "execution_count": 43,
   "metadata": {},
   "outputs": [
    {
     "data": {
      "text/plain": [
       "{'loss': 'deviance',\n",
       " 'max_depth': 80,\n",
       " 'subsample': 0.09440391156675204,\n",
       " 'n_estimators': 100,\n",
       " 'learning_rate': 0.017155254760404283,\n",
       " 'min_samples_leaf': 3}"
      ]
     },
     "execution_count": 43,
     "metadata": {},
     "output_type": "execute_result"
    }
   ],
   "source": [
    "study_2.best_params"
   ]
  },
  {
   "cell_type": "markdown",
   "metadata": {},
   "source": [
    "Vemos que o melhor resultado foi com os parametros \n",
    "{'loss': 'deviance',\n",
    " 'max_depth': 80,\n",
    " 'subsample': 0.09440391156675204,\n",
    " 'n_estimators': 100,\n",
    " 'learning_rate': 0.017155254760404283,\n",
    " 'min_samples_leaf': 3}"
   ]
  },
  {
   "cell_type": "code",
   "execution_count": 44,
   "metadata": {
    "id": "NAqbKkXp6mw5"
   },
   "outputs": [
    {
     "name": "stderr",
     "output_type": "stream",
     "text": [
      "/home/pedro-milet/.local/lib/python3.8/site-packages/sklearn/ensemble/_gb.py:280: FutureWarning:\n",
      "\n",
      "The loss parameter name 'deviance' was deprecated in v1.1 and will be removed in version 1.3. Use the new parameter name 'log_loss' which is equivalent.\n",
      "\n"
     ]
    }
   ],
   "source": [
    "gradient_boost = GradientBoostingClassifier(n_estimators = 100, \n",
    "                                            max_depth = 80, \n",
    "                                            min_samples_leaf = 3, \n",
    "                                            learning_rate = 0.017155254760404283, \n",
    "                                            loss = 'deviance', \n",
    "                                            subsample = 0.09440391156675204).fit(x_train.to_numpy(), y_train2.to_numpy().ravel())"
   ]
  },
  {
   "cell_type": "code",
   "execution_count": 45,
   "metadata": {
    "colab": {
     "base_uri": "https://localhost:8080/",
     "height": 852
    },
    "id": "1zD2Fm818Efd",
    "outputId": "bd5bff81-06d0-49e9-901e-4264a7138c27"
   },
   "outputs": [
    {
     "name": "stdout",
     "output_type": "stream",
     "text": [
      "              precision    recall  f1-score   support\n",
      "\n",
      "           0       0.48      0.61      0.54     33525\n",
      "           1       0.76      0.66      0.71     63775\n",
      "\n",
      "    accuracy                           0.64     97300\n",
      "   macro avg       0.62      0.63      0.62     97300\n",
      "weighted avg       0.67      0.64      0.65     97300\n",
      "\n",
      "Erro quadrático médio:  0.3581089414182939\n",
      "Auroc: 0.6347221001779946\n",
      "Precisão média:  0.7262969176610568\n",
      "\n"
     ]
    },
    {
     "name": "stderr",
     "output_type": "stream",
     "text": [
      "/home/pedro-milet/.local/lib/python3.8/site-packages/sklearn/base.py:432: UserWarning:\n",
      "\n",
      "X has feature names, but GradientBoostingClassifier was fitted without feature names\n",
      "\n"
     ]
    },
    {
     "data": {
      "image/png": "[encoded data removed]",
      "text/plain": [
       "<Figure size 640x480 with 2 Axes>"
      ]
     },
     "metadata": {},
     "output_type": "display_data"
    },
    {
     "data": {
      "image/png": "[encoded data removed]",
      "text/plain": [
       "<Figure size 640x480 with 1 Axes>"
      ]
     },
     "metadata": {},
     "output_type": "display_data"
    }
   ],
   "source": [
    "gb_pred_class_test = gradient_boost.predict(x_test.to_numpy())\n",
    "y_pred_gb_test = pred_name_columns(gb_pred_class_test)\n",
    "my_metrics(y_test2,y_pred_gb_test)\n",
    "\n",
    "\n",
    "gb_prb_test = gradient_boost.predict_proba(x_test)\n",
    "skplt.metrics.plot_ks_statistic(y_test2.to_numpy().ravel(), gb_prb_test)\n",
    "plt.show()"
   ]
  },
  {
   "cell_type": "markdown",
   "metadata": {},
   "source": [
    "KS de 0.272 , auroc de 0.634 ,precisao de 0.726"
   ]
  },
  {
   "cell_type": "markdown",
   "metadata": {
    "id": "qdaAbfVw5PXP"
   },
   "source": [
    "##Ensemble"
   ]
  },
  {
   "cell_type": "code",
   "execution_count": 44,
   "metadata": {
    "id": "zICcWSZ_5ZG7"
   },
   "outputs": [],
   "source": [
    "from keras.models import Sequential\n",
    "from keras.layers import Dense\n",
    "from keras.callbacks import EarlyStopping\n",
    "from tensorflow import keras\n",
    "from keras.models import Model\n",
    "from keras import layers, optimizers, losses\n",
    "# from tensorflow.keras import layers, optimizers, losses\n",
    "from sklearn.neural_network import MLPClassifier\n",
    "from scipy import stats"
   ]
  },
  {
   "cell_type": "code",
   "execution_count": 45,
   "metadata": {
    "colab": {
     "base_uri": "https://localhost:8080/",
     "height": 279
    },
    "id": "S-MCN5JN3b9z",
    "outputId": "b4a8bd2a-0666-45eb-a29e-c339256453a2"
   },
   "outputs": [
    {
     "data": {
      "text/html": [
       "<div>\n",
       "<style scoped>\n",
       "    .dataframe tbody tr th:only-of-type {\n",
       "        vertical-align: middle;\n",
       "    }\n",
       "\n",
       "    .dataframe tbody tr th {\n",
       "        vertical-align: top;\n",
       "    }\n",
       "\n",
       "    .dataframe thead th {\n",
       "        text-align: right;\n",
       "    }\n",
       "</style>\n",
       "<table border=\"1\" class=\"dataframe\">\n",
       "  <thead>\n",
       "    <tr style=\"text-align: right;\">\n",
       "      <th></th>\n",
       "      <th>IND_BOM_1_1</th>\n",
       "    </tr>\n",
       "  </thead>\n",
       "  <tbody>\n",
       "    <tr>\n",
       "      <th>count</th>\n",
       "      <td>255098.000000</td>\n",
       "    </tr>\n",
       "    <tr>\n",
       "      <th>mean</th>\n",
       "      <td>0.500000</td>\n",
       "    </tr>\n",
       "    <tr>\n",
       "      <th>std</th>\n",
       "      <td>0.500001</td>\n",
       "    </tr>\n",
       "    <tr>\n",
       "      <th>min</th>\n",
       "      <td>0.000000</td>\n",
       "    </tr>\n",
       "    <tr>\n",
       "      <th>25%</th>\n",
       "      <td>0.000000</td>\n",
       "    </tr>\n",
       "    <tr>\n",
       "      <th>50%</th>\n",
       "      <td>0.500000</td>\n",
       "    </tr>\n",
       "    <tr>\n",
       "      <th>75%</th>\n",
       "      <td>1.000000</td>\n",
       "    </tr>\n",
       "    <tr>\n",
       "      <th>max</th>\n",
       "      <td>1.000000</td>\n",
       "    </tr>\n",
       "  </tbody>\n",
       "</table>\n",
       "</div>"
      ],
      "text/plain": [
       "         IND_BOM_1_1\n",
       "count  255098.000000\n",
       "mean        0.500000\n",
       "std         0.500001\n",
       "min         0.000000\n",
       "25%         0.000000\n",
       "50%         0.500000\n",
       "75%         1.000000\n",
       "max         1.000000"
      ]
     },
     "execution_count": 45,
     "metadata": {},
     "output_type": "execute_result"
    }
   ],
   "source": [
    "y_train2.describe()"
   ]
  },
  {
   "cell_type": "code",
   "execution_count": 46,
   "metadata": {
    "colab": {
     "base_uri": "https://localhost:8080/"
    },
    "id": "zBHD5qCb3rDh",
    "outputId": "bb41392e-b297-4b64-f949-349d8fb626b4"
   },
   "outputs": [
    {
     "name": "stdout",
     "output_type": "stream",
     "text": [
      "        IND_BOM_1_1  IND_BOM_1_2\n",
      "272438            0            1\n",
      "166215            0            1\n",
      "150565            1            0\n",
      "321740            0            1\n",
      "350643            0            1\n",
      "...             ...          ...\n",
      "264992            0            1\n",
      "269389            0            1\n",
      "156630            1            0\n",
      "235033            1            0\n",
      "56724             0            1\n",
      "\n",
      "[255098 rows x 2 columns]\n",
      "        IND_BOM_1_1\n",
      "272438            0\n",
      "166215            0\n",
      "150565            1\n",
      "321740            0\n",
      "350643            0\n",
      "...             ...\n",
      "264992            0\n",
      "269389            0\n",
      "156630            1\n",
      "235033            1\n",
      "56724             0\n",
      "\n",
      "[255098 rows x 1 columns]\n"
     ]
    }
   ],
   "source": [
    "print(y_train)\n",
    "print(y_train2)"
   ]
  },
  {
   "cell_type": "markdown",
   "metadata": {
    "id": "pxCgsGYp6IWU"
   },
   "source": [
    "Criamos um classificador de Ensemble por votação, usando 3 classificadores diferentes encontrados anteriormente"
   ]
  },
  {
   "cell_type": "code",
   "execution_count": 47,
   "metadata": {
    "colab": {
     "base_uri": "https://localhost:8080/",
     "height": 713
    },
    "id": "wSugtrb43vd6",
    "outputId": "c4a96cf2-2030-4e93-981e-7c309a2a23a5"
   },
   "outputs": [
    {
     "name": "stderr",
     "output_type": "stream",
     "text": [
      "/home/pedro-milet/.local/lib/python3.8/site-packages/sklearn/base.py:432: UserWarning: X has feature names, but MLPClassifier was fitted without feature names\n",
      "  warnings.warn(\n",
      "/home/pedro-milet/.local/lib/python3.8/site-packages/sklearn/base.py:432: UserWarning: X has feature names, but RandomForestClassifier was fitted without feature names\n",
      "  warnings.warn(\n",
      "/home/pedro-milet/.local/lib/python3.8/site-packages/sklearn/base.py:432: UserWarning: X has feature names, but MLPClassifier was fitted without feature names\n",
      "  warnings.warn(\n"
     ]
    },
    {
     "name": "stdout",
     "output_type": "stream",
     "text": [
      "              precision    recall  f1-score   support\n",
      "\n",
      "           0       0.64      0.67      0.65     63774\n",
      "           1       0.65      0.62      0.64     63774\n",
      "\n",
      "    accuracy                           0.64    127548\n",
      "   macro avg       0.65      0.64      0.64    127548\n",
      "weighted avg       0.65      0.64      0.64    127548\n",
      "\n",
      "Erro quadrático médio:  0.35527017279769185\n",
      "Auroc: 0.6447298272023082\n",
      "Precisão média:  0.5944488333412319\n",
      "\n"
     ]
    },
    {
     "data": {
      "image/png": "[encoded data removed]",
      "text/plain": [
       "<Figure size 640x480 with 2 Axes>"
      ]
     },
     "metadata": {},
     "output_type": "display_data"
    }
   ],
   "source": [
    "from sklearn.ensemble import StackingClassifier, RandomForestClassifier, BaggingClassifier, VotingClassifier\n",
    "mlp1 = MLPClassifier(random_state=1, \n",
    "                    max_iter=10000,\n",
    "                    solver='sgd',\n",
    "                    activation='logistic',\n",
    "                    learning_rate= 'adaptive',\n",
    "                    learning_rate_init=0.0856084197423055,\n",
    "                    hidden_layer_sizes=(13),\n",
    "                    early_stopping=True).fit(x_train.to_numpy(), y_train2.to_numpy().ravel())\n",
    "\n",
    "mlp2 = MLPClassifier(random_state=1, \n",
    "                    max_iter=10000,\n",
    "                    solver='sgd',\n",
    "                    activation='logistic',\n",
    "                    learning_rate= 'adaptive',\n",
    "                    learning_rate_init=0.0856084197423055,\n",
    "                    hidden_layer_sizes=(32),\n",
    "                    early_stopping=True).fit(x_train.to_numpy(), y_train2.to_numpy().ravel())\n",
    "\n",
    "rf_classifier = RandomForestClassifier(n_estimators=100,\n",
    "                                       max_depth=16,\n",
    "                                       min_samples_leaf=8,\n",
    "                                       min_samples_split=8,\n",
    "                                       max_features='sqrt',\n",
    "                                       criterion='gini')\n",
    "\n",
    "\n",
    "ensemble_classifier = VotingClassifier(\n",
    "            estimators=[('mlp1', mlp1), ('rf', rf_classifier), ('mlp2', mlp2)], \n",
    "            voting='soft')\n",
    "\n",
    "mlp1.fit(x_train.to_numpy(), y_train2.to_numpy().ravel())\n",
    "rf_classifier.fit(x_train.to_numpy(), y_train2.to_numpy().ravel())\n",
    "mlp2.fit(x_train.to_numpy(), y_train2.to_numpy().ravel())\n",
    "ensemble_classifier.fit(x_train.to_numpy(), y_train2.to_numpy().ravel())\n",
    "\n",
    "ensemble_pred_class_val = ensemble_classifier.predict(x_validate)\n",
    "y_pred_ensemble_val = pred_name_columns(ensemble_pred_class_val)\n",
    "my_metrics(y_validate,y_pred_ensemble_val)"
   ]
  },
  {
   "cell_type": "code",
   "execution_count": 48,
   "metadata": {
    "colab": {
     "base_uri": "https://localhost:8080/",
     "height": 1000
    },
    "id": "YGeHTxOC-rZs",
    "outputId": "2c9c7a7b-6b07-4fa8-bb05-e0b75fe0cccf"
   },
   "outputs": [
    {
     "name": "stderr",
     "output_type": "stream",
     "text": [
      "/home/pedro-milet/.local/lib/python3.8/site-packages/sklearn/base.py:432: UserWarning: X has feature names, but MLPClassifier was fitted without feature names\n",
      "  warnings.warn(\n",
      "/home/pedro-milet/.local/lib/python3.8/site-packages/sklearn/base.py:432: UserWarning: X has feature names, but RandomForestClassifier was fitted without feature names\n",
      "  warnings.warn(\n",
      "/home/pedro-milet/.local/lib/python3.8/site-packages/sklearn/base.py:432: UserWarning: X has feature names, but MLPClassifier was fitted without feature names\n",
      "  warnings.warn(\n"
     ]
    },
    {
     "data": {
      "image/png": "[encoded data removed]",
      "text/plain": [
       "<Figure size 640x480 with 1 Axes>"
      ]
     },
     "metadata": {},
     "output_type": "display_data"
    },
    {
     "name": "stderr",
     "output_type": "stream",
     "text": [
      "/home/pedro-milet/.local/lib/python3.8/site-packages/sklearn/base.py:432: UserWarning: X has feature names, but MLPClassifier was fitted without feature names\n",
      "  warnings.warn(\n",
      "/home/pedro-milet/.local/lib/python3.8/site-packages/sklearn/base.py:432: UserWarning: X has feature names, but RandomForestClassifier was fitted without feature names\n",
      "  warnings.warn(\n",
      "/home/pedro-milet/.local/lib/python3.8/site-packages/sklearn/base.py:432: UserWarning: X has feature names, but MLPClassifier was fitted without feature names\n",
      "  warnings.warn(\n"
     ]
    },
    {
     "name": "stdout",
     "output_type": "stream",
     "text": [
      "              precision    recall  f1-score   support\n",
      "\n",
      "           0       0.48      0.67      0.56     33525\n",
      "           1       0.78      0.62      0.69     63775\n",
      "\n",
      "    accuracy                           0.64     97300\n",
      "   macro avg       0.63      0.64      0.62     97300\n",
      "weighted avg       0.68      0.64      0.64     97300\n",
      "\n",
      "Erro quadrático médio:  0.36439876670092497\n",
      "Auroc: 0.6433366277966763\n",
      "Precisão média:  0.7324934160719663\n",
      "\n"
     ]
    },
    {
     "name": "stderr",
     "output_type": "stream",
     "text": [
      "/home/pedro-milet/.local/lib/python3.8/site-packages/sklearn/base.py:432: UserWarning: X has feature names, but MLPClassifier was fitted without feature names\n",
      "  warnings.warn(\n",
      "/home/pedro-milet/.local/lib/python3.8/site-packages/sklearn/base.py:432: UserWarning: X has feature names, but RandomForestClassifier was fitted without feature names\n",
      "  warnings.warn(\n",
      "/home/pedro-milet/.local/lib/python3.8/site-packages/sklearn/base.py:432: UserWarning: X has feature names, but MLPClassifier was fitted without feature names\n",
      "  warnings.warn(\n"
     ]
    },
    {
     "data": {
      "image/png": "[encoded data removed]",
      "text/plain": [
       "<Figure size 640x480 with 2 Axes>"
      ]
     },
     "metadata": {},
     "output_type": "display_data"
    },
    {
     "data": {
      "image/png": "[encoded data removed]",
      "text/plain": [
       "<Figure size 640x480 with 1 Axes>"
      ]
     },
     "metadata": {},
     "output_type": "display_data"
    }
   ],
   "source": [
    "# Calculamos o KS do ensemble no validation\n",
    "ensemble_prb_val = ensemble_classifier.predict_proba(x_validate)\n",
    "skplt.metrics.plot_ks_statistic(y_validate['IND_BOM_1_1'], ensemble_prb_val)\n",
    "plt.show()\n",
    "\n",
    "# Pegamos auroc e precisao \n",
    "ensemble_pred_class_test = ensemble_classifier.predict(x_test)\n",
    "y_pred_ensemble_test = pred_name_columns(ensemble_pred_class_test)\n",
    "my_metrics(y_test,y_pred_ensemble_test)\n",
    "\n",
    "# Calculamos o KS do ensemble no test\n",
    "ensemble_prb_test = ensemble_classifier.predict_proba(x_test)\n",
    "skplt.metrics.plot_ks_statistic(y_test['IND_BOM_1_1'], ensemble_prb_test)\n",
    "plt.show()"
   ]
  },
  {
   "attachments": {},
   "cell_type": "markdown",
   "metadata": {
    "id": "-OvczofD6IWW"
   },
   "source": [
    "1. Auroc 0.64 precisao 0.73\n",
    "2. KS no ds de teste 0.288\n",
    "3. Ks no ds de validation 0.291"
   ]
  },
  {
   "attachments": {},
   "cell_type": "markdown",
   "metadata": {},
   "source": [
    "# Resultados finais \n",
    "## MLP 1\n",
    "1. auroc 0.63 , precisao 0.72\n",
    "2. KS no ds de teste 0.277 \n",
    "## MLP 2\n",
    "1. Auroc 0.638 , precisao 0.730\n",
    "2. KS no ds de teste 0.279\n",
    "## RF\n",
    "1. Auroc de 0.63 , precisao de 0.72\n",
    "2. KS no ds de teste 0.270\n",
    "## RF2\n",
    "1. Auroc 0.640 , precisao 0.730\n",
    "2. KS no ds de teste 0.283\n",
    "\n",
    "## GB\n",
    "1. Auroc de 0.634 ,precisao de 0.726\n",
    "2. KS no ds de teste 0.272\n",
    "\n",
    "## Ensemble\n",
    "1. Auroc 0.64 precisao 0.73\n",
    "2. KS no ds de teste 0.288\n",
    "3. Ks no ds de validation 0.291"
   ]
  },
  {
   "cell_type": "markdown",
   "metadata": {
    "id": "nnIS7eFP9MsA"
   },
   "source": [
    "# Conclusões\n"
   ]
  },
  {
   "attachments": {},
   "cell_type": "markdown",
   "metadata": {
    "id": "9TrVL6Zi9PcK"
   },
   "source": [
    "1. Nosso melhor modelo gerado foi o Ensemble \n",
    "2. O Gradient boosting poderia ser melhor tunado pois os resultados foram abaixo do esperado"
   ]
  }
 ],
 "metadata": {
  "colab": {
   "collapsed_sections": [
    "qdaAbfVw5PXP",
    "6nqLBh2Z5RaB",
    "jB2NiEQu5Sxf"
   ],
   "include_colab_link": true,
   "name": "Cópia de Projeto.ipynb",
   "provenance": []
  },
  "kernelspec": {
   "display_name": "Python 3 (ipykernel)",
   "language": "python",
   "name": "python3"
  },
  "language_info": {
   "codemirror_mode": {
    "name": "ipython",
    "version": 3
   },
   "file_extension": ".py",
   "mimetype": "text/x-python",
   "name": "python",
   "nbconvert_exporter": "python",
   "pygments_lexer": "ipython3",
   "version": "3.8.10"
  },
  "vscode": {
   "interpreter": {
    "hash": "916dbcbb3f70747c44a77c7bcd40155683ae19c65e1c03b4aa3499c5328201f1"
   }
  }
 },
 "nbformat": 4,
 "nbformat_minor": 1
}
